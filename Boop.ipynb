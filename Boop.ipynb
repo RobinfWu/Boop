{
 "cells": [
  {
   "cell_type": "code",
   "execution_count": 9,
   "metadata": {},
   "outputs": [],
   "source": [
    "class Board():\n",
    "    def __init__(self, n=6, pieces=None):\n",
    "        self.n = n\n",
    "        self.pieces = pieces if pieces else {\n",
    "            1: {1: 8, 2: 0},  # For Orange (1: Kitten, 2: Cat)\n",
    "            -1: {-1: 8, -2: 0},  # For Grey (-1: Kitten, -2: Cat)\n",
    "        }\n",
    "\n",
    "        # Create the empty board array.\n",
    "        self.board = [None]*self.n\n",
    "        for i in range(self.n):\n",
    "            self.board[i] = [0]*self.n\n",
    "\n",
    "    # add [][] indexer syntax to the Board\n",
    "    def __getitem__(self, index): \n",
    "        return self.pieces[index]\n",
    "\n",
    "    # returns a list of coordinates of playable moves.\n",
    "    def get_legal_moves(self, player):\n",
    "        \"\"\"Returns all the legal moves for the given color.\n",
    "        (2 for Orange Cat, 1 for Orange Kitten, -1 for Grey Kitten, -2 for Grey Cat)\n",
    "        \"\"\"\n",
    "        moves = []  # stores the legal moves.\n",
    "\n",
    "        # Check if player is out of pieces altogether\n",
    "        total_pieces = sum(self.pieces[player].values())\n",
    "\n",
    "        # If player has no more pieces left, remove a piece from the board\n",
    "        if total_pieces <= 0:  \n",
    "            for y in range(self.n):\n",
    "                for x in range(self.n):\n",
    "                    if self.board[x][y] == player * 1:  # If there's a kitten of the same color at (x, y)\n",
    "                        newmove = ((x, y), player*2)  # Promotion move, kitten is removed from the board\n",
    "                        moves.append(newmove)\n",
    "        else:\n",
    "            # Check which pieces are available for current player\n",
    "            available_pieces = [piece for piece, count in self.pieces[player].items() if count > 0]\n",
    "            # For each available piece, find the legal moves\n",
    "            for piece in available_pieces:\n",
    "                for y in range(self.n):\n",
    "                    for x in range(self.n):\n",
    "                        if self.board[x][y] == 0:  # ensure the cell is empty\n",
    "                            newmove = ((x, y), piece)\n",
    "                            moves.append(newmove)\n",
    "        return moves\n",
    "    \n",
    "    def execute_move(self, move, color, pieceType):\n",
    "        \"\"\"Perform the given move on the board; \n",
    "        color gives the color of the piece to play (1=orange, -1=grey)\n",
    "        type indicates type of the piece to play (1=kitten, 2=cat)\n",
    "        \"\"\"\n",
    "\n",
    "        (x,y) = move\n",
    "        \n",
    "        # If the cell is empty, add the piece to the empty square.\n",
    "        if self.board[x][y] == 0:\n",
    "            self.board[x][y] = pieceType\n",
    "            self.boop(x, y)\n",
    "            self.checkPromotion()\n",
    "            self.pieces[color][pieceType] -= 1\n",
    "            \n",
    "        # If the cell contains a kitten of the same color, promote the kitten to a cat.\n",
    "        elif self.board[x][y] == color:\n",
    "            self.board[x][y] = 0\n",
    "            self.pieces[color][2*color] += 1  # Increase cat count\n",
    "            \n",
    "    def boop(self, row, col):\n",
    "        directions = [(0, 1), (1, 0), (0, -1), (-1, 0), (1, 1), (-1, -1), (1, -1), (-1, 1)]  # 8 directions\n",
    "        current_piece = self.board[row][col]\n",
    "        for dr, dc in directions:\n",
    "            new_row, new_col = row + dr, col + dc\n",
    "            if 0 <= new_row < 6 and 0 <= new_col < 6:  # check if in bounds\n",
    "                if self.board[new_row][new_col] != 0:  # check if the spot is not empty\n",
    "                    # Do not move if the current piece is a kitten and the piece to be moved is a cat\n",
    "                    if abs(current_piece) == 1 and abs(self.board[new_row][new_col]) == 2:\n",
    "                        continue\n",
    "                    new_new_row, new_new_col = new_row + dr, new_col + dc\n",
    "                    if 0 <= new_new_row < 6 and 0 <= new_new_col < 6:  # check if new spot is in bounds\n",
    "                        if self.board[new_new_row][new_new_col] == 0:  # check if new spot is unoccupied\n",
    "                            self.board[new_new_row][new_new_col] = self.board[new_row][new_col]  # move piece\n",
    "                            self.board[new_row][new_col] = 0  # empty old spot\n",
    "                    else:\n",
    "                        # If the new spot is out of bounds, remove the piece and update the counts\n",
    "                        piece = self.board[new_row][new_col]\n",
    "                        color = piece / abs(piece)  # This will give 1 for Orange and -1 for Grey\n",
    "                        self.board[new_row][new_col] = 0\n",
    "                        if abs(piece) == 1:\n",
    "                            self.pieces[color][1 * color] += 1  # increase kitten count\n",
    "                        if abs(piece) == 2:\n",
    "                            self.pieces[color][2 * color] += 1  # increase cat count\n",
    "\n",
    "    def findThreeInRowHorizontal(self):\n",
    "        for row in self.board:\n",
    "            for i in range(4):\n",
    "                # Check if the pieces are of the same color (positive for Orange, negative for Grey)\n",
    "                if (row[i] > 0 and row[i + 1] > 0 and row[i + 2] > 0) or (row[i] < 0 and row[i + 1] < 0 and row[i + 2] < 0):\n",
    "                    # If all pieces are Cats, skip this row\n",
    "                    if abs(row[i]) == abs(row[i + 1]) == abs(row[i + 2]) == 2:\n",
    "                        continue\n",
    "                    color = 1 if row[i] > 0 else -1  # get color\n",
    "                    self.pieces[color][color * 2] += 3  # increment the cat count for this color\n",
    "                    row[i] = row[i + 1] = row[i + 2] = 0\n",
    "                    return True\n",
    "        return False\n",
    "\n",
    "    def findThreeInRowVertical(self):\n",
    "        for j in range(6):\n",
    "            for i in range(4):\n",
    "                # Check if the pieces are of the same color (positive for Orange, negative for Grey)\n",
    "                if (self.board[i][j] > 0 and self.board[i + 1][j] > 0 and self.board[i + 2][j] > 0) or \\\n",
    "                   (self.board[i][j] < 0 and self.board[i + 1][j] < 0 and self.board[i + 2][j] < 0):\n",
    "                    # If all pieces are Cats, skip this row\n",
    "                    if abs(self.board[i][j]) == abs(self.board[i + 1][j]) == abs(self.board[i + 2][j]) == 2:\n",
    "                        continue\n",
    "                    color = 1 if self.board[i][j] > 0 else -1  # get color\n",
    "                    self.pieces[color][color * 2] += 3  # increment the cat count for this color\n",
    "                    self.board[i][j] = self.board[i + 1][j] = self.board[i + 2][j] = 0\n",
    "                    return True\n",
    "        return False\n",
    "\n",
    "    def findThreeInRowMainDiagonals(self):\n",
    "        for i in range(4):\n",
    "            for j in range(4):\n",
    "                # Check if the pieces are of the same color (positive for Orange, negative for Grey)\n",
    "                if (self.board[i][j] > 0 and self.board[i + 1][j + 1] > 0 and self.board[i + 2][j + 2] > 0) or \\\n",
    "                   (self.board[i][j] < 0 and self.board[i + 1][j + 1] < 0 and self.board[i + 2][j + 2] < 0):\n",
    "                    # If all pieces are Cats, skip this row\n",
    "                    if abs(self.board[i][j]) == abs(self.board[i + 1][j + 1]) == abs(self.board[i + 2][j + 2]) == 2:\n",
    "                        continue\n",
    "                    color = 1 if self.board[i][j] > 0 else -1  # get color\n",
    "                    self.pieces[color][color * 2] += 3  # increment the cat count for this color\n",
    "                    self.board[i][j] = self.board[i + 1][j + 1] = self.board[i + 2][j + 2] = 0\n",
    "                    return True\n",
    "        return False    \n",
    "\n",
    "    def findThreeInRowMainAntiDiagonals(self):\n",
    "        for i in range(4):\n",
    "            for j in range(2, 6):\n",
    "                # Check if the pieces are of the same color (positive for Orange, negative for Grey)\n",
    "                if (self.board[i][j] > 0 and self.board[i + 1][j - 1] > 0 and self.board[i + 2][j - 2] > 0) or \\\n",
    "                   (self.board[i][j] < 0 and self.board[i + 1][j - 1] < 0 and self.board[i + 2][j - 2] < 0):\n",
    "                    # If all pieces are Cats, skip this row\n",
    "                    if abs(self.board[i][j]) == abs(self.board[i + 1][j - 1]) == abs(self.board[i + 2][j - 2]) == 2:\n",
    "                        continue\n",
    "                    color = 1 if self.board[i][j] > 0 else -1  # get color\n",
    "                    self.pieces[color][color * 2] += 3  # increment the cat count for this color\n",
    "                    self.board[i][j] = self.board[i + 1][j - 1] = self.board[i + 2][j - 2] = 0\n",
    "                    return True\n",
    "        return False    \n",
    "    \n",
    "    def checkPromotion(self):\n",
    "        if self.findThreeInRowHorizontal() or self.findThreeInRowVertical() or self.findThreeInRowMainDiagonals() or self.findThreeInRowMainAntiDiagonals():\n",
    "            return True\n",
    "        else:\n",
    "            return False\n",
    "        \n",
    "    def findThreeCatsInRowHorizontal(self, color):\n",
    "        for row in self.board:\n",
    "            for i in range(4):\n",
    "                if row[i] == row[i + 1] == row[i + 2] == color * 2:\n",
    "                    return True\n",
    "        return False\n",
    "\n",
    "    def findThreeCatsInRowVertical(self, color):\n",
    "        for j in range(6):\n",
    "            for i in range(4):\n",
    "                if self.board[i][j] == self.board[i + 1][j] == self.board[i + 2][j] == color * 2:\n",
    "                    return True\n",
    "        return False\n",
    "\n",
    "    def findThreeCatsInRowMainDiagonals(self, color):\n",
    "        for i in range(4):\n",
    "            for j in range(4):\n",
    "                if self.board[i][j] == self.board[i + 1][j + 1] == self.board[i + 2][j + 2] == color * 2:\n",
    "                    return True\n",
    "        return False    \n",
    "\n",
    "    def findThreeCatsInRowMainAntiDiagonals(self, color):\n",
    "        for i in range(4):\n",
    "            for j in range(2, 6):\n",
    "                if self.board[i][j] == self.board[i + 1][j - 1] == self.board[i + 2][j - 2] == color * 2:\n",
    "                    return True\n",
    "        return False  \n",
    "\n",
    "    def is_win(self, color):\n",
    "        # Check horizontal, vertical and both diagonal directions\n",
    "        if self.findThreeCatsInRowHorizontal(color) or \\\n",
    "            self.findThreeCatsInRowVertical(color) or \\\n",
    "            self.findThreeCatsInRowMainDiagonals(color) or \\\n",
    "            self.findThreeCatsInRowMainAntiDiagonals(color):\n",
    "            return True\n",
    "\n",
    "        # check for eight cats of the same color on the board\n",
    "        flat_board = [item for sublist in self.board for item in sublist]\n",
    "        if flat_board.count(color * 2) == 8:\n",
    "            return True\n",
    "\n",
    "        # no win condition satisfied\n",
    "        return False"
   ]
  },
  {
   "cell_type": "code",
   "execution_count": 10,
   "metadata": {},
   "outputs": [],
   "source": [
    "import numpy as np\n",
    "import copy\n",
    "\n",
    "class BoopGame():\n",
    "    def __init__(self, n=6):\n",
    "        self.n = n\n",
    "        self.pieces = {\n",
    "            1: {1: 8, 2: 0},  # For Orange (1: Kitten, 2: Cat)\n",
    "            -1: {-1: 8, -2: 0},  # For Grey (-1: Kitten, -2: Cat)\n",
    "        }\n",
    "\n",
    "    def getInitBoard(self):\n",
    "        # return initial board (numpy board)\n",
    "        b = Board(self.n)\n",
    "        return np.array(b.board)\n",
    "\n",
    "    # Add this method to your BoopGame class\n",
    "    def getInitialPieces(self):\n",
    "        return {\n",
    "            1: {1: 8, 2: 0},  # For Orange (1: Kitten, 2: Cat)\n",
    "            -1: {-1: 8, -2: 0},  # For Grey (-1: Kitten, -2: Cat)\n",
    "        }\n",
    "\n",
    "    def getBoardSize(self):\n",
    "        # (a,b) tuple\n",
    "        return (self.n, self.n)\n",
    "\n",
    "    def getActionSize(self):\n",
    "        # return number of actions: 2 actions (place kitten or cat) for each square, plus 1 for pass\n",
    "        return self.n*self.n*2\n",
    "    \n",
    "    def getNextState(self, board, player, action, pieces):\n",
    "        b = Board(self.n, copy.deepcopy(pieces))\n",
    "        b.board = np.copy(board)\n",
    "        \n",
    "        pieceType = 1 * player if action < self.n*self.n else 2 * player  # 1 for kitten, 2 for cat\n",
    "        action = action % (self.n*self.n)  # Now action is within the range of the number of board positions\n",
    "\n",
    "        move = (int(action/self.n), action%self.n)\n",
    "        b.execute_move(move, player, pieceType)\n",
    "        assert sum(value for key, value in b.pieces[player].items()) + np.count_nonzero(b.board == player * 1) + np.count_nonzero(b.board == player * 2) == 8, \"The number of pieces on the board and off the board do not sum up to 8\"\n",
    "        return (b.board, -player, b.pieces)\n",
    "\n",
    "    # 1 = Player Orange, -1 = Player Grey\n",
    "    def getValidMoves(self, board, player, pieces):\n",
    "        print(\"VALID MOVES: \" + str(player))\n",
    "        # return a fixed size binary vector\n",
    "        valids = [0]*self.getActionSize()\n",
    "        b = Board(self.n, copy.deepcopy(pieces))\n",
    "        b.board = np.copy(board)\n",
    "        legalMoves = b.get_legal_moves(player)\n",
    "        if len(legalMoves)==0:\n",
    "            return np.array(valids)\n",
    "\n",
    "        for move in legalMoves:\n",
    "            (x, y), piece = move\n",
    "\n",
    "            if piece == player * 1:  # If it's a kitten\n",
    "                index = self.n*x + y\n",
    "                valids[index] = 1\n",
    "\n",
    "            elif piece == player * 2:  # If it's a cat\n",
    "                index = self.n*self.n + self.n*x + y\n",
    "                valids[index] = 1\n",
    "\n",
    "        return np.array(valids)\n",
    "\n",
    "    def getGameEnded(self, board, player, pieces):\n",
    "        # return 0 if not ended, 1 if player 1 won, -1 if player 1 lost\n",
    "        b = Board(self.n, copy.deepcopy(pieces))\n",
    "        b.board = np.copy(board)\n",
    "\n",
    "        if b.is_win(player):\n",
    "            return 1\n",
    "        if b.is_win(-player):\n",
    "            return -1\n",
    "\n",
    "        # draw has a very little value \n",
    "        return 0\n",
    "\n",
    "    def getCanonicalForm(self, board, player):\n",
    "        # return state if player==1, else return -state if player==-1\n",
    "        return player*board\n",
    "\n",
    "    def stringRepresentation(self, board):\n",
    "        return board.tostring()\n",
    "\n",
    "    def stringRepresentationReadable(self, board):\n",
    "        board_s = \"\".join(self.square_content[square] for row in board for square in row)\n",
    "        return board_s\n",
    "\n",
    "    def getSymmetries(self, board, pi):\n",
    "        # mirror, rotational\n",
    "        assert(len(pi) == 2 * self.n**2)  # No pass action\n",
    "        mid_index = len(pi) // 2\n",
    "        pi_board_kittens = np.reshape(pi[:mid_index], (self.n, self.n))\n",
    "        pi_board_cats = np.reshape(pi[mid_index:], (self.n, self.n))\n",
    "        l = []\n",
    "\n",
    "        for i in range(1, 5):\n",
    "            for j in [True, False]:\n",
    "                newB = np.rot90(board, i)\n",
    "                newPi_kittens = np.rot90(pi_board_kittens, i)\n",
    "                newPi_cats = np.rot90(pi_board_cats, i)\n",
    "                if j:\n",
    "                    newB = np.fliplr(newB)\n",
    "                    newPi_kittens = np.fliplr(newPi_kittens)\n",
    "                    newPi_cats = np.fliplr(newPi_cats)\n",
    "                newPi = np.concatenate((newPi_kittens.ravel(), newPi_cats.ravel()))\n",
    "                l += [(newB, list(newPi))]\n",
    "        return l\n",
    "\n",
    "    @staticmethod\n",
    "    def display(board):\n",
    "        display(board)"
   ]
  },
  {
   "cell_type": "code",
   "execution_count": 11,
   "metadata": {},
   "outputs": [
    {
     "name": "stdout",
     "output_type": "stream",
     "text": [
      "___________________\n",
      "VALID MOVES: 1\n",
      "{1: {1: 7, 2: 0}, -1: {-1: 8, -2: 0}}\n"
     ]
    },
    {
     "data": {
      "text/plain": [
       "array([[0, 0, 0, 0, 0, 0],\n",
       "       [0, 0, 0, 0, 0, 0],\n",
       "       [0, 0, 0, 0, 0, 1],\n",
       "       [0, 0, 0, 0, 0, 0],\n",
       "       [0, 0, 0, 0, 0, 0],\n",
       "       [0, 0, 0, 0, 0, 0]])"
      ]
     },
     "metadata": {},
     "output_type": "display_data"
    },
    {
     "name": "stdout",
     "output_type": "stream",
     "text": [
      "___________________\n",
      "VALID MOVES: -1\n",
      "{1: {1: 7, 2: 0}, -1: {-1: 7, -2: 0}}\n"
     ]
    },
    {
     "data": {
      "text/plain": [
       "array([[ 0,  0,  0,  0,  0,  0],\n",
       "       [ 0,  0,  0,  0,  0,  0],\n",
       "       [ 0,  0,  0,  0,  0,  1],\n",
       "       [ 0,  0,  0,  0,  0,  0],\n",
       "       [ 0,  0,  0,  0, -1,  0],\n",
       "       [ 0,  0,  0,  0,  0,  0]])"
      ]
     },
     "metadata": {},
     "output_type": "display_data"
    },
    {
     "name": "stdout",
     "output_type": "stream",
     "text": [
      "___________________\n",
      "VALID MOVES: 1\n",
      "{1: {1: 7, 2: 0}, -1: {-1: 7, -2: 0}}\n"
     ]
    },
    {
     "data": {
      "text/plain": [
       "array([[ 0,  0,  0,  0,  0,  0],\n",
       "       [ 0,  0,  0,  0,  1,  0],\n",
       "       [ 0,  0,  0,  0,  0,  0],\n",
       "       [ 0,  0,  0,  0,  0,  0],\n",
       "       [ 0,  0,  0,  0, -1,  0],\n",
       "       [ 0,  0,  0,  0,  0,  0]])"
      ]
     },
     "metadata": {},
     "output_type": "display_data"
    },
    {
     "name": "stdout",
     "output_type": "stream",
     "text": [
      "___________________\n",
      "VALID MOVES: -1\n",
      "{1: {1: 7, 2: 0}, -1: {-1: 6, -2: 0}}\n"
     ]
    },
    {
     "data": {
      "text/plain": [
       "array([[ 0,  0,  0,  0,  0,  0],\n",
       "       [ 0,  0,  0,  0,  1,  0],\n",
       "       [ 0,  0,  0,  0,  0,  0],\n",
       "       [ 0,  0, -1,  0,  0,  0],\n",
       "       [ 0,  0,  0,  0, -1,  0],\n",
       "       [ 0,  0,  0,  0,  0,  0]])"
      ]
     },
     "metadata": {},
     "output_type": "display_data"
    },
    {
     "name": "stdout",
     "output_type": "stream",
     "text": [
      "___________________\n",
      "VALID MOVES: 1\n",
      "{1: {1: 6, 2: 0}, -1: {-1: 6, -2: 0}}\n"
     ]
    },
    {
     "data": {
      "text/plain": [
       "array([[ 0,  0,  0,  0,  0,  0],\n",
       "       [ 1,  0,  0,  0,  1,  0],\n",
       "       [ 0,  0,  0,  0,  0,  0],\n",
       "       [ 0,  0, -1,  0,  0,  0],\n",
       "       [ 0,  0,  0,  0, -1,  0],\n",
       "       [ 0,  0,  0,  0,  0,  0]])"
      ]
     },
     "metadata": {},
     "output_type": "display_data"
    },
    {
     "name": "stdout",
     "output_type": "stream",
     "text": [
      "___________________\n",
      "VALID MOVES: -1\n",
      "{1: {1: 6, 2: 0}, -1: {-1: 5, -2: 0}}\n"
     ]
    },
    {
     "data": {
      "text/plain": [
       "array([[ 0,  0,  0,  0,  0,  0],\n",
       "       [ 1,  0,  0,  0,  1,  0],\n",
       "       [ 0,  0,  0,  0,  0,  0],\n",
       "       [-1,  0, -1,  0,  0,  0],\n",
       "       [ 0,  0,  0,  0, -1,  0],\n",
       "       [ 0,  0,  0,  0,  0,  0]])"
      ]
     },
     "metadata": {},
     "output_type": "display_data"
    },
    {
     "name": "stdout",
     "output_type": "stream",
     "text": [
      "___________________\n",
      "VALID MOVES: 1\n",
      "{1: {1: 5, 2: 0}, -1: {-1: 5, -2: 0}}\n"
     ]
    },
    {
     "data": {
      "text/plain": [
       "array([[ 0,  0,  0,  0,  1,  0],\n",
       "       [ 1,  0,  0,  0,  0,  0],\n",
       "       [ 0,  0,  0,  0,  1,  0],\n",
       "       [-1,  0, -1,  0,  0,  0],\n",
       "       [ 0,  0,  0,  0, -1,  0],\n",
       "       [ 0,  0,  0,  0,  0,  0]])"
      ]
     },
     "metadata": {},
     "output_type": "display_data"
    },
    {
     "name": "stdout",
     "output_type": "stream",
     "text": [
      "___________________\n",
      "VALID MOVES: -1\n",
      "{1: {1: 5, 2: 0}, -1: {-1: 4, -2: 0}}\n"
     ]
    },
    {
     "data": {
      "text/plain": [
       "array([[ 0,  0,  0,  0,  1,  0],\n",
       "       [ 1,  0,  0,  0,  0,  1],\n",
       "       [ 0,  0,  0,  0,  0,  0],\n",
       "       [-1, -1,  0, -1,  0,  0],\n",
       "       [ 0,  0,  0,  0,  0,  0],\n",
       "       [ 0,  0,  0,  0,  0, -1]])"
      ]
     },
     "metadata": {},
     "output_type": "display_data"
    },
    {
     "name": "stdout",
     "output_type": "stream",
     "text": [
      "___________________\n",
      "VALID MOVES: 1\n",
      "{1: {1: 4, 2: 0}, -1: {-1: 4, -2: 0}}\n"
     ]
    },
    {
     "data": {
      "text/plain": [
       "array([[ 0,  0,  0,  0,  1,  0],\n",
       "       [ 1,  0,  0,  0,  0,  1],\n",
       "       [ 0,  0,  0,  0,  0,  0],\n",
       "       [-1, -1,  0, -1,  0,  1],\n",
       "       [ 0,  0,  0,  0,  0,  0],\n",
       "       [ 0,  0,  0,  0,  0, -1]])"
      ]
     },
     "metadata": {},
     "output_type": "display_data"
    },
    {
     "name": "stdout",
     "output_type": "stream",
     "text": [
      "___________________\n",
      "VALID MOVES: -1\n",
      "{1: {1: 4, 2: 0}, -1: {-1: 4, -2: 0}}\n"
     ]
    },
    {
     "data": {
      "text/plain": [
       "array([[ 0,  0,  0,  0,  1,  0],\n",
       "       [ 1,  0,  0,  0,  0,  1],\n",
       "       [ 0, -1,  0,  0,  0,  0],\n",
       "       [ 0,  0,  0, -1,  0,  1],\n",
       "       [ 0, -1,  0,  0,  0,  0],\n",
       "       [ 0,  0,  0,  0,  0, -1]])"
      ]
     },
     "metadata": {},
     "output_type": "display_data"
    },
    {
     "name": "stdout",
     "output_type": "stream",
     "text": [
      "___________________\n",
      "VALID MOVES: 1\n",
      "{1: {1: 5, 2: 0}, -1: {-1: 4, -2: 0}}\n"
     ]
    },
    {
     "data": {
      "text/plain": [
       "array([[ 0,  0,  0,  0,  1,  0],\n",
       "       [ 1,  0,  0,  0,  0,  0],\n",
       "       [ 0, -1,  0,  0,  1,  0],\n",
       "       [ 0,  0,  0,  0,  0,  0],\n",
       "       [ 0, -1, -1,  0,  0,  0],\n",
       "       [ 0,  0,  0,  0,  0, -1]])"
      ]
     },
     "metadata": {},
     "output_type": "display_data"
    },
    {
     "name": "stdout",
     "output_type": "stream",
     "text": [
      "___________________\n",
      "VALID MOVES: -1\n",
      "{1: {1: 5, 2: 0}, -1: {-1: 3, -2: 0}}\n"
     ]
    },
    {
     "data": {
      "text/plain": [
       "array([[ 0,  0,  0,  0,  1,  0],\n",
       "       [ 1,  0,  0,  0,  0,  0],\n",
       "       [ 0, -1,  0, -1,  0,  1],\n",
       "       [ 0,  0,  0,  0,  0,  0],\n",
       "       [ 0, -1, -1,  0,  0,  0],\n",
       "       [ 0,  0,  0,  0,  0, -1]])"
      ]
     },
     "metadata": {},
     "output_type": "display_data"
    },
    {
     "name": "stdout",
     "output_type": "stream",
     "text": [
      "___________________\n",
      "VALID MOVES: 1\n",
      "{1: {1: 4, 2: 0}, -1: {-1: 3, -2: 0}}\n"
     ]
    },
    {
     "data": {
      "text/plain": [
       "array([[ 0,  0,  0,  0,  1,  0],\n",
       "       [ 1, -1,  0,  0,  0,  0],\n",
       "       [ 0,  0,  0, -1,  0,  1],\n",
       "       [ 0,  1,  0,  0,  0,  0],\n",
       "       [ 0,  0,  0,  0,  0,  0],\n",
       "       [ 0, -1,  0, -1,  0, -1]])"
      ]
     },
     "metadata": {},
     "output_type": "display_data"
    },
    {
     "name": "stdout",
     "output_type": "stream",
     "text": [
      "___________________\n",
      "VALID MOVES: -1\n",
      "{1: {1: 4, 2: 0}, -1: {-1: 2, -2: 0}}\n"
     ]
    },
    {
     "data": {
      "text/plain": [
       "array([[ 0,  0,  0,  0,  1,  0],\n",
       "       [ 1, -1,  0,  0, -1,  0],\n",
       "       [ 0,  0,  0,  0,  0,  1],\n",
       "       [ 1,  0, -1,  0,  0,  0],\n",
       "       [ 0,  0,  0,  0,  0,  0],\n",
       "       [ 0, -1,  0, -1,  0, -1]])"
      ]
     },
     "metadata": {},
     "output_type": "display_data"
    },
    {
     "name": "stdout",
     "output_type": "stream",
     "text": [
      "___________________\n",
      "VALID MOVES: 1\n",
      "{1: {1: 3, 2: 0}, -1: {-1: 2, -2: 0}}\n"
     ]
    },
    {
     "data": {
      "text/plain": [
       "array([[ 0,  0,  0,  0,  1,  0],\n",
       "       [ 1, -1,  0,  0, -1,  0],\n",
       "       [ 0,  0,  0,  0,  0,  1],\n",
       "       [ 1,  0, -1,  0,  0,  0],\n",
       "       [ 0,  0,  0,  0,  0,  0],\n",
       "       [-1,  0,  1,  0, -1, -1]])"
      ]
     },
     "metadata": {},
     "output_type": "display_data"
    },
    {
     "name": "stdout",
     "output_type": "stream",
     "text": [
      "___________________\n",
      "VALID MOVES: -1\n",
      "{1: {1: 3, 2: 0}, -1: {-1: 1, -2: 0}}\n"
     ]
    },
    {
     "data": {
      "text/plain": [
       "array([[ 0,  0,  0,  0,  1, -1],\n",
       "       [ 1, -1,  0,  0,  0,  0],\n",
       "       [ 0,  0,  0, -1,  0,  1],\n",
       "       [ 1,  0,  0,  0,  0,  0],\n",
       "       [ 0, -1,  0,  0,  0,  0],\n",
       "       [-1,  0,  1,  0, -1, -1]])"
      ]
     },
     "metadata": {},
     "output_type": "display_data"
    },
    {
     "name": "stdout",
     "output_type": "stream",
     "text": [
      "___________________\n",
      "VALID MOVES: 1\n",
      "{1: {1: 2, 2: 0}, -1: {-1: 1, -2: 0}}\n"
     ]
    },
    {
     "data": {
      "text/plain": [
       "array([[ 0,  0,  0,  0,  1, -1],\n",
       "       [ 1, -1,  0,  0,  0,  1],\n",
       "       [ 0,  0,  0, -1,  0,  0],\n",
       "       [ 1,  0,  0,  0,  0,  1],\n",
       "       [ 0, -1,  0,  0,  0,  0],\n",
       "       [-1,  0,  1,  0, -1, -1]])"
      ]
     },
     "metadata": {},
     "output_type": "display_data"
    },
    {
     "name": "stdout",
     "output_type": "stream",
     "text": [
      "___________________\n",
      "VALID MOVES: -1\n",
      "{1: {1: 2, 2: 0}, -1: {-1: 0, -2: 0}}\n"
     ]
    },
    {
     "data": {
      "text/plain": [
       "array([[-1,  0,  0,  0,  1, -1],\n",
       "       [ 1,  0,  0,  0,  0,  1],\n",
       "       [ 0,  0, -1,  0, -1,  0],\n",
       "       [ 1,  0,  0,  0,  0,  1],\n",
       "       [ 0, -1,  0,  0,  0,  0],\n",
       "       [-1,  0,  1,  0, -1, -1]])"
      ]
     },
     "metadata": {},
     "output_type": "display_data"
    },
    {
     "name": "stdout",
     "output_type": "stream",
     "text": [
      "___________________\n",
      "VALID MOVES: 1\n",
      "{1: {1: 3, 2: 0}, -1: {-1: 0, -2: 0}}\n"
     ]
    },
    {
     "data": {
      "text/plain": [
       "array([[-1,  0,  0,  0,  1, -1],\n",
       "       [ 0,  0,  0,  0,  0,  1],\n",
       "       [ 0,  1,  0, -1, -1,  0],\n",
       "       [ 0,  0,  0,  0,  0,  1],\n",
       "       [ 0, -1,  0,  0,  0,  0],\n",
       "       [-1,  0,  1,  0, -1, -1]])"
      ]
     },
     "metadata": {},
     "output_type": "display_data"
    },
    {
     "name": "stdout",
     "output_type": "stream",
     "text": [
      "___________________\n",
      "VALID MOVES: -1\n",
      "{1: {1: 3, 2: 0}, -1: {-1: 0, -2: 1}}\n"
     ]
    },
    {
     "data": {
      "text/plain": [
       "array([[-1,  0,  0,  0,  1, -1],\n",
       "       [ 0,  0,  0,  0,  0,  1],\n",
       "       [ 0,  1,  0, -1,  0,  0],\n",
       "       [ 0,  0,  0,  0,  0,  1],\n",
       "       [ 0, -1,  0,  0,  0,  0],\n",
       "       [-1,  0,  1,  0, -1, -1]])"
      ]
     },
     "metadata": {},
     "output_type": "display_data"
    },
    {
     "name": "stdout",
     "output_type": "stream",
     "text": [
      "___________________\n",
      "VALID MOVES: 1\n",
      "{1: {1: 2, 2: 0}, -1: {-1: 2, -2: 1}}\n"
     ]
    },
    {
     "data": {
      "text/plain": [
       "array([[-1,  0,  0,  0,  1, -1],\n",
       "       [ 0,  0,  0,  0,  0,  1],\n",
       "       [ 0,  1,  0, -1,  0,  1],\n",
       "       [ 0,  0,  0,  0,  0,  0],\n",
       "       [ 0, -1,  0,  0,  0,  1],\n",
       "       [-1,  0,  1,  0,  0,  0]])"
      ]
     },
     "metadata": {},
     "output_type": "display_data"
    },
    {
     "name": "stdout",
     "output_type": "stream",
     "text": [
      "___________________\n",
      "VALID MOVES: -1\n",
      "{1: {1: 2, 2: 0}, -1: {-1: 1, -2: 4}}\n"
     ]
    },
    {
     "data": {
      "text/plain": [
       "array([[-1,  0,  0,  0,  1, -1],\n",
       "       [ 1,  0,  0,  0, -1,  1],\n",
       "       [ 0,  0,  0,  0,  0,  1],\n",
       "       [ 0,  0,  0,  0,  0,  0],\n",
       "       [ 0,  0,  0,  0,  0,  1],\n",
       "       [ 0,  0,  1,  0,  0,  0]])"
      ]
     },
     "metadata": {},
     "output_type": "display_data"
    },
    {
     "name": "stdout",
     "output_type": "stream",
     "text": [
      "___________________\n",
      "VALID MOVES: 1\n",
      "{1: {1: 1, 2: 0}, -1: {-1: 1, -2: 4}}\n"
     ]
    },
    {
     "data": {
      "text/plain": [
       "array([[-1,  0,  0,  0,  1, -1],\n",
       "       [ 1,  0,  1,  0, -1,  1],\n",
       "       [ 0,  0,  0,  0,  0,  1],\n",
       "       [ 0,  0,  0,  0,  0,  0],\n",
       "       [ 0,  0,  0,  0,  0,  1],\n",
       "       [ 0,  0,  1,  0,  0,  0]])"
      ]
     },
     "metadata": {},
     "output_type": "display_data"
    },
    {
     "name": "stdout",
     "output_type": "stream",
     "text": [
      "___________________\n",
      "VALID MOVES: -1\n",
      "{1: {1: 1, 2: 0}, -1: {-1: 0, -2: 4}}\n"
     ]
    },
    {
     "data": {
      "text/plain": [
       "array([[-1,  0,  0,  0,  1, -1],\n",
       "       [ 1,  0,  1,  0, -1,  1],\n",
       "       [ 0,  0,  0,  0,  0,  1],\n",
       "       [ 0,  0,  0, -1,  0,  0],\n",
       "       [ 0,  0,  0,  0,  0,  1],\n",
       "       [ 0,  0,  1,  0,  0,  0]])"
      ]
     },
     "metadata": {},
     "output_type": "display_data"
    },
    {
     "name": "stdout",
     "output_type": "stream",
     "text": [
      "___________________\n",
      "VALID MOVES: 1\n",
      "{1: {1: 1, 2: 0}, -1: {-1: 0, -2: 4}}\n"
     ]
    },
    {
     "data": {
      "text/plain": [
       "array([[-1,  0,  0,  0,  1, -1],\n",
       "       [ 1,  0,  1,  0, -1,  1],\n",
       "       [ 0,  0,  0,  0,  0,  1],\n",
       "       [ 0,  0,  0, -1,  0,  0],\n",
       "       [ 0,  1,  0,  0,  0,  1],\n",
       "       [ 0,  0,  0,  0,  0,  0]])"
      ]
     },
     "metadata": {},
     "output_type": "display_data"
    },
    {
     "name": "stdout",
     "output_type": "stream",
     "text": [
      "___________________\n",
      "VALID MOVES: -1\n",
      "{1: {1: 2, 2: 0}, -1: {-1: 0, -2: 3}}\n"
     ]
    },
    {
     "data": {
      "text/plain": [
       "array([[-1,  0,  0,  1,  1, -1],\n",
       "       [ 0,  0,  0,  0, -1,  1],\n",
       "       [ 0, -2,  0,  0,  0,  1],\n",
       "       [ 0,  0,  0, -1,  0,  0],\n",
       "       [ 0,  1,  0,  0,  0,  1],\n",
       "       [ 0,  0,  0,  0,  0,  0]])"
      ]
     },
     "metadata": {},
     "output_type": "display_data"
    },
    {
     "name": "stdout",
     "output_type": "stream",
     "text": [
      "___________________\n",
      "VALID MOVES: 1\n",
      "{1: {1: 1, 2: 0}, -1: {-1: 0, -2: 3}}\n"
     ]
    },
    {
     "data": {
      "text/plain": [
       "array([[-1,  0,  0,  1,  1, -1],\n",
       "       [ 0,  0,  0,  0, -1,  1],\n",
       "       [ 0, -2,  0,  0,  0,  1],\n",
       "       [ 0,  0,  0, -1,  0,  0],\n",
       "       [ 0,  1,  0,  0,  0,  1],\n",
       "       [ 0,  0,  0,  1,  0,  0]])"
      ]
     },
     "metadata": {},
     "output_type": "display_data"
    },
    {
     "name": "stdout",
     "output_type": "stream",
     "text": [
      "___________________\n",
      "VALID MOVES: -1\n",
      "{1: {1: 3, 2: 0}, -1: {-1: 0, -2: 2}}\n"
     ]
    },
    {
     "data": {
      "text/plain": [
       "array([[-1,  0,  0,  1,  1, -1],\n",
       "       [ 0,  0,  0,  0, -1,  0],\n",
       "       [ 0, -2,  0,  0, -2,  0],\n",
       "       [ 0,  0,  0,  0,  0,  0],\n",
       "       [ 0,  1, -1,  0,  0,  1],\n",
       "       [ 0,  0,  0,  1,  0,  0]])"
      ]
     },
     "metadata": {},
     "output_type": "display_data"
    },
    {
     "name": "stdout",
     "output_type": "stream",
     "text": [
      "___________________\n",
      "VALID MOVES: 1\n",
      "{1: {1: 3, 2: 0}, -1: {-1: 1, -2: 2}}\n"
     ]
    },
    {
     "data": {
      "text/plain": [
       "array([[-1,  0,  0,  1,  0,  0],\n",
       "       [ 0,  0,  0, -1,  0,  1],\n",
       "       [ 0, -2,  0,  0, -2,  0],\n",
       "       [ 0,  0,  0,  0,  0,  0],\n",
       "       [ 0,  1, -1,  0,  0,  1],\n",
       "       [ 0,  0,  0,  1,  0,  0]])"
      ]
     },
     "metadata": {},
     "output_type": "display_data"
    },
    {
     "name": "stdout",
     "output_type": "stream",
     "text": [
      "___________________\n",
      "VALID MOVES: -1\n",
      "{1: {1: 4, 2: 0}, -1: {-1: 1, -2: 1}}\n"
     ]
    },
    {
     "data": {
      "text/plain": [
       "array([[-1,  0,  0,  1,  0,  0],\n",
       "       [ 0,  0,  0, -1, -2,  1],\n",
       "       [ 0, -2,  0,  0,  0,  0],\n",
       "       [ 0,  0,  0,  0, -2,  0],\n",
       "       [ 0,  1, -1,  0,  0,  0],\n",
       "       [ 0,  0,  0,  1,  0,  0]])"
      ]
     },
     "metadata": {},
     "output_type": "display_data"
    },
    {
     "name": "stdout",
     "output_type": "stream",
     "text": [
      "___________________\n",
      "VALID MOVES: 1\n",
      "{1: {1: 3, 2: 0}, -1: {-1: 1, -2: 1}}\n"
     ]
    },
    {
     "data": {
      "text/plain": [
       "array([[-1,  0,  0,  1,  0,  0],\n",
       "       [ 0,  0,  0, -1, -2,  1],\n",
       "       [ 0, -2,  0,  0,  0,  0],\n",
       "       [ 0,  0,  0,  0, -2,  0],\n",
       "       [ 0,  1, -1,  0,  0,  0],\n",
       "       [ 0,  0,  1,  0,  1,  0]])"
      ]
     },
     "metadata": {},
     "output_type": "display_data"
    },
    {
     "name": "stdout",
     "output_type": "stream",
     "text": [
      "___________________\n",
      "VALID MOVES: -1\n",
      "{1: {1: 3, 2: 0}, -1: {-1: 0, -2: 1}}\n"
     ]
    },
    {
     "data": {
      "text/plain": [
       "array([[-1,  0,  0,  1,  0,  0],\n",
       "       [ 0,  0,  0, -1, -2,  1],\n",
       "       [ 0, -2,  0,  0,  0,  0],\n",
       "       [ 0,  0,  1,  0, -2,  0],\n",
       "       [ 0,  0, -1,  0,  0,  0],\n",
       "       [-1,  0,  1,  0,  1,  0]])"
      ]
     },
     "metadata": {},
     "output_type": "display_data"
    },
    {
     "name": "stdout",
     "output_type": "stream",
     "text": [
      "___________________\n",
      "VALID MOVES: 1\n",
      "{1: {1: 2, 2: 0}, -1: {-1: 0, -2: 1}}\n"
     ]
    },
    {
     "data": {
      "text/plain": [
       "array([[-1,  0,  0,  1,  0,  1],\n",
       "       [ 0,  0,  0, -1, -2,  0],\n",
       "       [ 0, -2,  0,  0,  0,  1],\n",
       "       [ 0,  0,  1,  0, -2,  0],\n",
       "       [ 0,  0, -1,  0,  0,  0],\n",
       "       [-1,  0,  1,  0,  1,  0]])"
      ]
     },
     "metadata": {},
     "output_type": "display_data"
    },
    {
     "name": "stdout",
     "output_type": "stream",
     "text": [
      "___________________\n",
      "VALID MOVES: -1\n",
      "{1: {1: 2, 2: 0}, -1: {-1: 0, -2: 0}}\n"
     ]
    },
    {
     "data": {
      "text/plain": [
       "array([[-1,  0,  0,  1,  0,  1],\n",
       "       [ 0,  0,  0, -1, -2,  0],\n",
       "       [ 0, -2,  0,  0,  0,  1],\n",
       "       [ 0, -1,  1,  0, -2,  0],\n",
       "       [ 0,  0,  0,  0,  0,  0],\n",
       "       [-1,  1,  0, -2,  0,  1]])"
      ]
     },
     "metadata": {},
     "output_type": "display_data"
    },
    {
     "name": "stdout",
     "output_type": "stream",
     "text": [
      "___________________\n",
      "VALID MOVES: 1\n",
      "{1: {1: 1, 2: 0}, -1: {-1: 0, -2: 0}}\n"
     ]
    },
    {
     "data": {
      "text/plain": [
       "array([[-1,  0,  0,  1,  0,  1],\n",
       "       [ 0,  0,  0, -1, -2,  0],\n",
       "       [ 0, -2,  0,  0,  0,  1],\n",
       "       [ 0, -1,  1,  0, -2,  0],\n",
       "       [ 0,  0,  0,  1,  0,  0],\n",
       "       [-1,  1,  0, -2,  0,  1]])"
      ]
     },
     "metadata": {},
     "output_type": "display_data"
    },
    {
     "name": "stdout",
     "output_type": "stream",
     "text": [
      "___________________\n",
      "VALID MOVES: -1\n",
      "{1: {1: 1, 2: 0}, -1: {-1: 0, -2: 1}}\n"
     ]
    },
    {
     "data": {
      "text/plain": [
       "array([[ 0,  0,  0,  1,  0,  1],\n",
       "       [ 0,  0,  0, -1, -2,  0],\n",
       "       [ 0, -2,  0,  0,  0,  1],\n",
       "       [ 0, -1,  1,  0, -2,  0],\n",
       "       [ 0,  0,  0,  1,  0,  0],\n",
       "       [-1,  1,  0, -2,  0,  1]])"
      ]
     },
     "metadata": {},
     "output_type": "display_data"
    },
    {
     "name": "stdout",
     "output_type": "stream",
     "text": [
      "___________________\n",
      "VALID MOVES: 1\n",
      "{1: {1: 0, 2: 0}, -1: {-1: 0, -2: 1}}\n"
     ]
    },
    {
     "data": {
      "text/plain": [
       "array([[ 0,  0,  0,  1,  0,  1],\n",
       "       [ 0,  0,  0, -1, -2,  0],\n",
       "       [ 0, -2,  0,  0,  0,  1],\n",
       "       [ 0, -1,  1,  0, -2,  0],\n",
       "       [ 0,  0,  0,  1,  0,  0],\n",
       "       [-1,  1,  1, -2,  0,  1]])"
      ]
     },
     "metadata": {},
     "output_type": "display_data"
    },
    {
     "name": "stdout",
     "output_type": "stream",
     "text": [
      "___________________\n",
      "VALID MOVES: -1\n",
      "{1: {1: 1, 2: 0}, -1: {-1: 0, -2: 0}}\n"
     ]
    },
    {
     "data": {
      "text/plain": [
       "array([[ 0,  0,  0,  1,  0,  1],\n",
       "       [ 0,  0,  0, -1, -2,  0],\n",
       "       [ 0, -2,  0, -2,  0,  1],\n",
       "       [ 0, -1,  1,  0,  0,  0],\n",
       "       [ 0,  0,  0,  1,  0, -2],\n",
       "       [-1,  1,  1, -2,  0,  0]])"
      ]
     },
     "metadata": {},
     "output_type": "display_data"
    },
    {
     "name": "stdout",
     "output_type": "stream",
     "text": [
      "___________________\n",
      "VALID MOVES: 1\n",
      "{1: {1: 0, 2: 0}, -1: {-1: 0, -2: 0}}\n"
     ]
    },
    {
     "data": {
      "text/plain": [
       "array([[ 0,  0,  0,  1,  0,  1],\n",
       "       [ 0,  1,  0, -1, -2,  0],\n",
       "       [ 0, -2,  0, -2,  0,  1],\n",
       "       [ 0, -1,  1,  0,  0,  0],\n",
       "       [ 0,  0,  0,  1,  0, -2],\n",
       "       [-1,  1,  1, -2,  0,  0]])"
      ]
     },
     "metadata": {},
     "output_type": "display_data"
    },
    {
     "name": "stdout",
     "output_type": "stream",
     "text": [
      "___________________\n",
      "VALID MOVES: -1\n",
      "{1: {1: 0, 2: 0}, -1: {-1: 0, -2: 1}}\n"
     ]
    },
    {
     "data": {
      "text/plain": [
       "array([[ 0,  0,  0,  1,  0,  1],\n",
       "       [ 0,  1,  0, -1, -2,  0],\n",
       "       [ 0, -2,  0, -2,  0,  1],\n",
       "       [ 0, -1,  1,  0,  0,  0],\n",
       "       [ 0,  0,  0,  1,  0, -2],\n",
       "       [ 0,  1,  1, -2,  0,  0]])"
      ]
     },
     "metadata": {},
     "output_type": "display_data"
    },
    {
     "name": "stdout",
     "output_type": "stream",
     "text": [
      "___________________\n",
      "VALID MOVES: 1\n",
      "{1: {1: 0, 2: 1}, -1: {-1: 0, -2: 1}}\n"
     ]
    },
    {
     "data": {
      "text/plain": [
       "array([[ 0,  0,  0,  1,  0,  1],\n",
       "       [ 0,  1,  0, -1, -2,  0],\n",
       "       [ 0, -2,  0, -2,  0,  1],\n",
       "       [ 0, -1,  1,  0,  0,  0],\n",
       "       [ 0,  0,  0,  1,  0, -2],\n",
       "       [ 0,  0,  1, -2,  0,  0]])"
      ]
     },
     "metadata": {},
     "output_type": "display_data"
    },
    {
     "name": "stdout",
     "output_type": "stream",
     "text": [
      "___________________\n",
      "VALID MOVES: -1\n",
      "{1: {1: 0, 2: 1}, -1: {-1: 0, -2: 3}}\n"
     ]
    },
    {
     "data": {
      "text/plain": [
       "array([[ 0,  0,  0,  1,  0,  1],\n",
       "       [ 0,  1,  0, -1, -2,  0],\n",
       "       [ 0,  0,  0,  0,  0,  1],\n",
       "       [ 0,  0,  1,  0,  0,  0],\n",
       "       [-2,  0,  0,  1,  0, -2],\n",
       "       [ 0,  0,  1, -2,  0,  0]])"
      ]
     },
     "metadata": {},
     "output_type": "display_data"
    },
    {
     "name": "stdout",
     "output_type": "stream",
     "text": [
      "___________________\n",
      "VALID MOVES: 1\n",
      "{1: {1: 0, 2: 0}, -1: {-1: 0, -2: 3}}\n"
     ]
    },
    {
     "data": {
      "text/plain": [
       "array([[ 0,  0,  1,  1,  0,  1],\n",
       "       [ 0,  0,  0, -1, -2,  0],\n",
       "       [ 2,  0,  0,  0,  0,  1],\n",
       "       [ 0,  0,  1,  0,  0,  0],\n",
       "       [-2,  0,  0,  1,  0, -2],\n",
       "       [ 0,  0,  1, -2,  0,  0]])"
      ]
     },
     "metadata": {},
     "output_type": "display_data"
    },
    {
     "name": "stdout",
     "output_type": "stream",
     "text": [
      "___________________\n",
      "VALID MOVES: -1\n",
      "{1: {1: 1, 2: 0}, -1: {-1: 0, -2: 3}}\n"
     ]
    },
    {
     "data": {
      "text/plain": [
       "array([[ 0,  0,  1,  1,  0,  1],\n",
       "       [ 0,  0,  0, -1, -2,  0],\n",
       "       [ 2,  0,  0,  1,  0,  1],\n",
       "       [ 0,  0,  0,  0,  0,  0],\n",
       "       [ 0, -2,  0,  1,  0, -2],\n",
       "       [ 0,  0,  0, -2,  0,  0]])"
      ]
     },
     "metadata": {},
     "output_type": "display_data"
    },
    {
     "name": "stdout",
     "output_type": "stream",
     "text": [
      "___________________\n",
      "VALID MOVES: 1\n",
      "{1: {1: 0, 2: 0}, -1: {-1: 0, -2: 3}}\n"
     ]
    },
    {
     "data": {
      "text/plain": [
       "array([[ 0,  0,  1,  1,  0,  1],\n",
       "       [ 0,  0,  0, -1, -2,  1],\n",
       "       [ 2,  0,  0,  1,  0,  0],\n",
       "       [ 0,  0,  0,  0,  0,  1],\n",
       "       [ 0, -2,  0,  1,  0, -2],\n",
       "       [ 0,  0,  0, -2,  0,  0]])"
      ]
     },
     "metadata": {},
     "output_type": "display_data"
    },
    {
     "name": "stdout",
     "output_type": "stream",
     "text": [
      "___________________\n",
      "VALID MOVES: -1\n",
      "{1: {1: 0, 2: 0}, -1: {-1: 0, -2: 2}}\n"
     ]
    },
    {
     "data": {
      "text/plain": [
       "array([[ 0,  0,  1,  1,  0,  1],\n",
       "       [ 0,  0,  0, -1, -2,  1],\n",
       "       [ 2,  0,  0,  1,  0,  0],\n",
       "       [ 0,  0, -2,  0,  0,  1],\n",
       "       [ 0,  0,  0,  0,  0, -2],\n",
       "       [-2,  0,  0, -2,  1,  0]])"
      ]
     },
     "metadata": {},
     "output_type": "display_data"
    },
    {
     "name": "stdout",
     "output_type": "stream",
     "text": [
      "___________________\n",
      "VALID MOVES: 1\n",
      "{1: {1: 0, 2: 1}, -1: {-1: 0, -2: 2}}\n"
     ]
    },
    {
     "data": {
      "text/plain": [
       "array([[ 0,  0,  1,  1,  0,  1],\n",
       "       [ 0,  0,  0, -1, -2,  0],\n",
       "       [ 2,  0,  0,  1,  0,  0],\n",
       "       [ 0,  0, -2,  0,  0,  1],\n",
       "       [ 0,  0,  0,  0,  0, -2],\n",
       "       [-2,  0,  0, -2,  1,  0]])"
      ]
     },
     "metadata": {},
     "output_type": "display_data"
    },
    {
     "name": "stdout",
     "output_type": "stream",
     "text": [
      "___________________\n",
      "VALID MOVES: -1\n",
      "{1: {1: 2, 2: 1}, -1: {-1: 0, -2: 4}}\n"
     ]
    },
    {
     "data": {
      "text/plain": [
       "array([[ 0,  0,  0,  0,  0,  1],\n",
       "       [ 0,  0,  0,  0,  0,  0],\n",
       "       [ 2,  0,  0,  0,  0,  0],\n",
       "       [ 0,  0, -2,  0,  1,  1],\n",
       "       [ 0,  0,  0,  0,  0, -2],\n",
       "       [-2,  0,  0, -2,  1,  0]])"
      ]
     },
     "metadata": {},
     "output_type": "display_data"
    },
    {
     "name": "stdout",
     "output_type": "stream",
     "text": [
      "___________________\n",
      "VALID MOVES: 1\n",
      "{1: {1: 2, 2: 1}, -1: {-1: 0, -2: 4}}\n"
     ]
    },
    {
     "data": {
      "text/plain": [
       "array([[ 0,  0,  0,  0,  0,  1],\n",
       "       [ 0,  0,  0,  0,  0,  0],\n",
       "       [ 0,  0,  0,  0,  0,  0],\n",
       "       [ 0,  2,  0, -2,  1,  1],\n",
       "       [ 0,  0,  0,  0,  0, -2],\n",
       "       [-2,  0,  0, -2,  1,  0]])"
      ]
     },
     "metadata": {},
     "output_type": "display_data"
    },
    {
     "name": "stdout",
     "output_type": "stream",
     "text": [
      "___________________\n",
      "VALID MOVES: -1\n",
      "{1: {1: 3, 2: 1}, -1: {-1: 0, -2: 4}}\n"
     ]
    },
    {
     "data": {
      "text/plain": [
       "array([[ 0,  0,  0,  0,  0,  1],\n",
       "       [ 0,  0,  0,  0,  0,  0],\n",
       "       [ 0,  0,  0, -2,  0,  1],\n",
       "       [ 0,  2,  0,  0,  0,  1],\n",
       "       [ 0,  0,  0, -2,  0, -2],\n",
       "       [-2,  0,  0,  0,  0,  0]])"
      ]
     },
     "metadata": {},
     "output_type": "display_data"
    },
    {
     "name": "stdout",
     "output_type": "stream",
     "text": [
      "___________________\n",
      "VALID MOVES: 1\n",
      "{1: {1: 3, 2: 0}, -1: {-1: 0, -2: 4}}\n"
     ]
    },
    {
     "data": {
      "text/plain": [
       "array([[ 0,  0,  0,  0,  0,  1],\n",
       "       [ 0,  0,  0,  0,  0,  0],\n",
       "       [ 2,  0,  0, -2,  0,  1],\n",
       "       [ 0,  0,  0,  0,  0,  1],\n",
       "       [ 0,  0,  2,  0, -2, -2],\n",
       "       [-2,  0,  0,  0,  0,  0]])"
      ]
     },
     "metadata": {},
     "output_type": "display_data"
    },
    {
     "name": "stdout",
     "output_type": "stream",
     "text": [
      "___________________\n",
      "VALID MOVES: -1\n",
      "{1: {1: 3, 2: 0}, -1: {-1: 0, -2: 3}}\n"
     ]
    },
    {
     "data": {
      "text/plain": [
       "array([[ 0,  0, -2,  0,  0,  1],\n",
       "       [ 0,  0,  0,  0,  0,  0],\n",
       "       [ 2,  0,  0, -2,  0,  1],\n",
       "       [ 0,  0,  0,  0,  0,  1],\n",
       "       [ 0,  0,  2,  0, -2, -2],\n",
       "       [-2,  0,  0,  0,  0,  0]])"
      ]
     },
     "metadata": {},
     "output_type": "display_data"
    },
    {
     "name": "stdout",
     "output_type": "stream",
     "text": [
      "___________________\n",
      "VALID MOVES: 1\n",
      "{1: {1: 2, 2: 0}, -1: {-1: 0, -2: 3}}\n"
     ]
    },
    {
     "data": {
      "text/plain": [
       "array([[ 0,  0, -2,  0,  0,  1],\n",
       "       [ 0,  0,  0,  0,  0,  0],\n",
       "       [ 2,  0,  0, -2,  0,  1],\n",
       "       [ 0,  0,  0,  1,  0,  1],\n",
       "       [ 0,  0,  2,  0, -2, -2],\n",
       "       [-2,  0,  0,  0,  0,  0]])"
      ]
     },
     "metadata": {},
     "output_type": "display_data"
    },
    {
     "name": "stdout",
     "output_type": "stream",
     "text": [
      "___________________\n",
      "VALID MOVES: -1\n",
      "{1: {1: 2, 2: 0}, -1: {-1: 0, -2: 2}}\n"
     ]
    },
    {
     "data": {
      "text/plain": [
       "array([[ 0,  0, -2,  0,  0,  1],\n",
       "       [ 0,  0,  0,  0,  0,  0],\n",
       "       [ 2,  0,  0, -2,  0,  1],\n",
       "       [ 0,  0,  0,  1,  0,  1],\n",
       "       [ 0,  0,  2,  0, -2, -2],\n",
       "       [-2,  0,  0,  0,  0, -2]])"
      ]
     },
     "metadata": {},
     "output_type": "display_data"
    },
    {
     "name": "stdout",
     "output_type": "stream",
     "text": [
      "___________________\n",
      "VALID MOVES: 1\n",
      "{1: {1: 1, 2: 0}, -1: {-1: 0, -2: 2}}\n"
     ]
    },
    {
     "data": {
      "text/plain": [
       "array([[ 0,  0, -2,  0,  0,  1],\n",
       "       [ 0,  0,  0,  0,  0,  0],\n",
       "       [ 2,  0,  1, -2,  0,  1],\n",
       "       [ 0,  0,  0,  1,  0,  1],\n",
       "       [ 0,  0,  2,  0, -2, -2],\n",
       "       [-2,  0,  0,  0,  0, -2]])"
      ]
     },
     "metadata": {},
     "output_type": "display_data"
    },
    {
     "name": "stdout",
     "output_type": "stream",
     "text": [
      "___________________\n",
      "VALID MOVES: -1\n",
      "{1: {1: 2, 2: 0}, -1: {-1: 0, -2: 1}}\n"
     ]
    },
    {
     "data": {
      "text/plain": [
       "array([[ 0,  0, -2,  0,  0,  0],\n",
       "       [ 0,  0,  0,  0,  0, -2],\n",
       "       [ 2,  0,  1, -2,  0,  1],\n",
       "       [ 0,  0,  0,  1,  0,  1],\n",
       "       [ 0,  0,  2,  0, -2, -2],\n",
       "       [-2,  0,  0,  0,  0, -2]])"
      ]
     },
     "metadata": {},
     "output_type": "display_data"
    },
    {
     "name": "stdout",
     "output_type": "stream",
     "text": [
      "___________________\n",
      "VALID MOVES: 1\n",
      "{1: {1: 2, 2: 0}, -1: {-1: 0, -2: 1}}\n"
     ]
    },
    {
     "data": {
      "text/plain": [
       "array([[ 0,  0, -2,  0,  0,  0],\n",
       "       [ 0,  0,  0,  0,  1, -2],\n",
       "       [ 2,  0,  1, -2,  0,  0],\n",
       "       [ 0,  0,  0,  1,  0,  1],\n",
       "       [ 0,  0,  2,  0, -2, -2],\n",
       "       [-2,  0,  0,  0,  0, -2]])"
      ]
     },
     "metadata": {},
     "output_type": "display_data"
    },
    {
     "name": "stdout",
     "output_type": "stream",
     "text": [
      "___________________\n",
      "VALID MOVES: -1\n",
      "Turn: 57\n",
      "{1: {1: 2, 2: 0}, -1: {-1: 0, -2: 0}}\n",
      "1\n"
     ]
    },
    {
     "data": {
      "text/plain": [
       "array([[ 0, -2,  0, -2,  0,  0],\n",
       "       [ 0,  0,  0,  0,  0, -2],\n",
       "       [ 2,  0,  1, -2,  0,  1],\n",
       "       [ 0,  0,  0,  1,  0,  1],\n",
       "       [ 0,  0,  2,  0, -2, -2],\n",
       "       [-2,  0,  0,  0,  0, -2]])"
      ]
     },
     "metadata": {},
     "output_type": "display_data"
    },
    {
     "name": "stdout",
     "output_type": "stream",
     "text": [
      "Wins/Losses: \n",
      "[(-1, 1)]\n"
     ]
    }
   ],
   "source": [
    "import numpy as np\n",
    "import random \n",
    "\n",
    "class RandomPlayer():\n",
    "    def __init__(self, game):\n",
    "        self.game = game\n",
    "\n",
    "    def play(self, board, player, pieces):\n",
    "        print(\"___________________\")\n",
    "        a = np.random.randint(self.game.getActionSize())\n",
    "        valids = self.game.getValidMoves(board, player, pieces)\n",
    "        while valids[a]!=1:\n",
    "            a = np.random.randint(self.game.getActionSize())\n",
    "        return a\n",
    "    \n",
    "class RandomPlayerWithCenterBias():\n",
    "    def __init__(self, game):\n",
    "        self.game = game\n",
    "\n",
    "    def play(self, board, player, pieces):\n",
    "        print(\"___________________\")\n",
    "        \n",
    "        # Define the weights for each number\n",
    "        weights = [10 if x in [14, 15, 20, 21] else 1 for x in list(range(72))]\n",
    "        a = random.choices(list(range(72)), weights, k=1)[0]\n",
    "        valids = self.game.getValidMoves(board, player, pieces)\n",
    "        while valids[a]!=1:\n",
    "            # Randomly select a number with the specified weights\n",
    "            a = random.choices(list(range(72)), weights, k=1)[0]\n",
    "        return a\n",
    "\n",
    "game = BoopGame()\n",
    "randomPlayer = RandomPlayer(game)\n",
    "randomPlayerWithCenterBias = RandomPlayerWithCenterBias(game)\n",
    "wins_and_losses = []\n",
    "\n",
    "def playGame(maxTurns = 100):\n",
    "    board = game.getInitBoard()\n",
    "    pieces = game.getInitialPieces()\n",
    "    player = 1\n",
    "    \n",
    "    for i in range(maxTurns):\n",
    "        a = 0\n",
    "        if player == 1:\n",
    "            a = randomPlayer.play(board, player, pieces)\n",
    "        if player == -1:\n",
    "            a = randomPlayerWithCenterBias.play(board, player, pieces)\n",
    "        board, nextplayer, pieces = game.getNextState(board, player, a, pieces)\n",
    "        if game.getGameEnded(board, player, pieces) != 0:\n",
    "            print(\"Turn: \" + str(i))\n",
    "            print(pieces)\n",
    "            print(game.getGameEnded(board, player, pieces))\n",
    "            wins_and_losses.append((player, game.getGameEnded(board, player, pieces)))\n",
    "            game.display(board)\n",
    "            break\n",
    "        player = nextplayer\n",
    "        print(pieces)\n",
    "        game.display(board)\n",
    "        \n",
    "for i in range(1):\n",
    "    playGame()\n",
    "    \n",
    "print(\"Wins/Losses: \")\n",
    "print(wins_and_losses)\n"
   ]
  },
  {
   "cell_type": "code",
   "execution_count": null,
   "metadata": {},
   "outputs": [],
   "source": []
  }
 ],
 "metadata": {
  "kernelspec": {
   "display_name": "Python 3",
   "language": "python",
   "name": "python3"
  },
  "language_info": {
   "codemirror_mode": {
    "name": "ipython",
    "version": 3
   },
   "file_extension": ".py",
   "mimetype": "text/x-python",
   "name": "python",
   "nbconvert_exporter": "python",
   "pygments_lexer": "ipython3",
   "version": "3.6.5"
  }
 },
 "nbformat": 4,
 "nbformat_minor": 2
}
