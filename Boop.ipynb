{
 "cells": [
  {
   "cell_type": "code",
   "execution_count": 1,
   "metadata": {},
   "outputs": [
    {
     "name": "stderr",
     "output_type": "stream",
     "text": [
      "\r",
      "Arena.playGames (1):   0%|                                                                       | 0/5 [00:00<?, ?it/s]"
     ]
    },
    {
     "name": "stdout",
     "output_type": "stream",
     "text": [
      "Turn  1 Player  1\n"
     ]
    },
    {
     "data": {
      "text/plain": [
       "array([[0, 0, 0, 0, 0, 0],\n",
       "       [0, 0, 0, 0, 0, 0],\n",
       "       [0, 0, 0, 0, 0, 0],\n",
       "       [0, 0, 0, 0, 0, 0],\n",
       "       [0, 0, 0, 0, 0, 0],\n",
       "       [0, 0, 0, 0, 0, 0]])"
      ]
     },
     "metadata": {},
     "output_type": "display_data"
    },
    {
     "name": "stdout",
     "output_type": "stream",
     "text": [
      "___________________\n",
      "Turn  2 Player  -1\n"
     ]
    },
    {
     "data": {
      "text/plain": [
       "array([[0, 0, 0, 0, 0, 0],\n",
       "       [0, 1, 0, 0, 0, 0],\n",
       "       [0, 0, 0, 0, 0, 0],\n",
       "       [0, 0, 0, 0, 0, 0],\n",
       "       [0, 0, 0, 0, 0, 0],\n",
       "       [0, 0, 0, 0, 0, 0]])"
      ]
     },
     "metadata": {},
     "output_type": "display_data"
    },
    {
     "name": "stdout",
     "output_type": "stream",
     "text": [
      "___________________\n",
      "Turn  3 Player  1\n"
     ]
    },
    {
     "data": {
      "text/plain": [
       "array([[ 0,  0,  0,  0,  0,  0],\n",
       "       [ 0,  1,  0,  0,  0,  0],\n",
       "       [ 0,  0,  0,  0,  0,  0],\n",
       "       [ 0,  0,  0,  0,  0,  0],\n",
       "       [ 0,  0,  0,  0,  0, -1],\n",
       "       [ 0,  0,  0,  0,  0,  0]])"
      ]
     },
     "metadata": {},
     "output_type": "display_data"
    },
    {
     "name": "stdout",
     "output_type": "stream",
     "text": [
      "___________________\n",
      "Turn  4 Player  -1\n"
     ]
    },
    {
     "data": {
      "text/plain": [
       "array([[ 0,  0,  0,  0,  0,  0],\n",
       "       [ 0,  1,  0,  0,  0,  0],\n",
       "       [ 0,  0,  0,  0,  0,  0],\n",
       "       [ 0,  1,  0,  0,  0,  0],\n",
       "       [ 0,  0,  0,  0,  0, -1],\n",
       "       [ 0,  0,  0,  0,  0,  0]])"
      ]
     },
     "metadata": {},
     "output_type": "display_data"
    },
    {
     "name": "stdout",
     "output_type": "stream",
     "text": [
      "___________________\n",
      "Turn  5 Player  1\n"
     ]
    },
    {
     "data": {
      "text/plain": [
       "array([[ 1,  0,  0,  0,  0,  0],\n",
       "       [ 0,  0,  0,  0,  0,  0],\n",
       "       [ 0,  0, -1,  0,  0,  0],\n",
       "       [ 0,  0,  0,  0,  0,  0],\n",
       "       [ 1,  0,  0,  0,  0, -1],\n",
       "       [ 0,  0,  0,  0,  0,  0]])"
      ]
     },
     "metadata": {},
     "output_type": "display_data"
    },
    {
     "name": "stdout",
     "output_type": "stream",
     "text": [
      "___________________\n",
      "Turn  6 Player  -1\n"
     ]
    },
    {
     "data": {
      "text/plain": [
       "array([[ 1,  0,  0,  0,  0,  0],\n",
       "       [ 0,  0, -1,  0,  0,  0],\n",
       "       [ 0,  0,  0,  0,  0,  0],\n",
       "       [ 0,  0,  1,  0,  0,  0],\n",
       "       [ 1,  0,  0,  0,  0, -1],\n",
       "       [ 0,  0,  0,  0,  0,  0]])"
      ]
     },
     "metadata": {},
     "output_type": "display_data"
    },
    {
     "name": "stdout",
     "output_type": "stream",
     "text": [
      "___________________\n",
      "Turn  7 Player  1\n"
     ]
    },
    {
     "data": {
      "text/plain": [
       "array([[ 1,  0,  0,  0,  0,  0],\n",
       "       [ 0,  0, -1,  0,  0,  0],\n",
       "       [ 0,  0,  0,  0,  0,  0],\n",
       "       [ 0, -1,  0,  1,  0,  0],\n",
       "       [ 0,  0,  0,  0,  0, -1],\n",
       "       [ 0,  0,  0,  0,  0,  0]])"
      ]
     },
     "metadata": {},
     "output_type": "display_data"
    },
    {
     "name": "stdout",
     "output_type": "stream",
     "text": [
      "___________________\n",
      "Turn  8 Player  -1\n"
     ]
    },
    {
     "data": {
      "text/plain": [
       "array([[ 1,  0,  0,  0,  0,  0],\n",
       "       [ 0,  0, -1,  0,  0,  0],\n",
       "       [ 0,  0,  0,  0,  0,  0],\n",
       "       [ 0, -1,  0,  1,  0,  0],\n",
       "       [ 0,  0,  0,  0,  0,  0],\n",
       "       [ 0,  0,  0,  0,  1,  0]])"
      ]
     },
     "metadata": {},
     "output_type": "display_data"
    },
    {
     "name": "stdout",
     "output_type": "stream",
     "text": [
      "___________________\n",
      "Turn  9 Player  1\n"
     ]
    },
    {
     "data": {
      "text/plain": [
       "array([[ 1,  0,  0,  0,  0,  0],\n",
       "       [ 0,  0, -1,  0,  0,  0],\n",
       "       [ 0,  0,  0,  0,  0,  0],\n",
       "       [ 0, -1,  0,  1,  0,  0],\n",
       "       [ 0,  0,  0,  0,  0,  0],\n",
       "       [ 0,  0,  0, -1,  0,  1]])"
      ]
     },
     "metadata": {},
     "output_type": "display_data"
    },
    {
     "name": "stdout",
     "output_type": "stream",
     "text": [
      "___________________\n",
      "Turn  10 Player  -1\n"
     ]
    },
    {
     "data": {
      "text/plain": [
       "array([[ 0,  0,  0,  0,  0,  0],\n",
       "       [ 0,  1,  0, -1,  0,  0],\n",
       "       [ 0,  0,  0,  0,  0,  0],\n",
       "       [ 0, -1,  0,  1,  0,  0],\n",
       "       [ 0,  0,  0,  0,  0,  0],\n",
       "       [ 0,  0,  0, -1,  0,  1]])"
      ]
     },
     "metadata": {},
     "output_type": "display_data"
    },
    {
     "name": "stdout",
     "output_type": "stream",
     "text": [
      "___________________\n",
      "Turn  11 Player  1\n"
     ]
    },
    {
     "data": {
      "text/plain": [
       "array([[ 0, -1,  0,  0,  0,  0],\n",
       "       [ 0,  0,  0, -1,  0,  0],\n",
       "       [ 0,  1,  0,  0,  0,  0],\n",
       "       [ 0, -1,  0,  1,  0,  0],\n",
       "       [ 0,  0,  0,  0,  0,  0],\n",
       "       [ 0,  0,  0, -1,  0,  1]])"
      ]
     },
     "metadata": {},
     "output_type": "display_data"
    },
    {
     "name": "stdout",
     "output_type": "stream",
     "text": [
      "___________________\n",
      "Turn  12 Player  -1\n"
     ]
    },
    {
     "data": {
      "text/plain": [
       "array([[ 0, -1,  0,  0,  0,  0],\n",
       "       [ 0,  0,  0, -1,  0,  0],\n",
       "       [ 0,  1,  0,  0,  0,  0],\n",
       "       [ 0, -1,  0,  1,  0,  1],\n",
       "       [ 0,  0,  0,  0,  0,  0],\n",
       "       [ 0,  0,  0, -1,  0,  1]])"
      ]
     },
     "metadata": {},
     "output_type": "display_data"
    },
    {
     "name": "stdout",
     "output_type": "stream",
     "text": [
      "___________________\n",
      "Turn  13 Player  1\n"
     ]
    },
    {
     "data": {
      "text/plain": [
       "array([[ 0, -1,  0, -1,  0,  0],\n",
       "       [ 0,  0,  0,  0,  0,  0],\n",
       "       [ 0,  1,  0, -1,  0,  0],\n",
       "       [ 0, -1,  0,  0,  0,  1],\n",
       "       [ 0,  0,  0,  1,  0,  0],\n",
       "       [ 0,  0,  0, -1,  0,  1]])"
      ]
     },
     "metadata": {},
     "output_type": "display_data"
    },
    {
     "name": "stdout",
     "output_type": "stream",
     "text": [
      "___________________\n",
      "Turn  14 Player  -1\n"
     ]
    },
    {
     "data": {
      "text/plain": [
       "array([[ 0, -1,  0, -1,  0,  0],\n",
       "       [ 0,  0,  0,  0,  0,  0],\n",
       "       [ 0,  1, -1,  0,  1,  0],\n",
       "       [ 0, -1,  0,  0,  0,  0],\n",
       "       [ 0,  0,  0,  1,  0,  0],\n",
       "       [ 0,  0,  0, -1,  0,  1]])"
      ]
     },
     "metadata": {},
     "output_type": "display_data"
    },
    {
     "name": "stdout",
     "output_type": "stream",
     "text": [
      "___________________\n",
      "Turn  15 Player  1\n"
     ]
    },
    {
     "data": {
      "text/plain": [
       "array([[ 0, -1,  0, -1,  0,  0],\n",
       "       [ 1,  0, -1,  0,  0,  0],\n",
       "       [ 0,  0,  0,  0,  1,  0],\n",
       "       [-1,  0, -1,  0,  0,  0],\n",
       "       [ 0,  0,  0,  0,  0,  0],\n",
       "       [ 0,  0,  0, -1,  1,  1]])"
      ]
     },
     "metadata": {},
     "output_type": "display_data"
    },
    {
     "name": "stdout",
     "output_type": "stream",
     "text": [
      "___________________\n",
      "Turn  16 Player  -1\n"
     ]
    },
    {
     "data": {
      "text/plain": [
       "array([[ 0, -1,  0, -1,  0,  0],\n",
       "       [ 1,  0, -1,  0,  0,  0],\n",
       "       [ 0,  0,  0,  0,  1,  0],\n",
       "       [ 0,  1,  0, -1,  0,  0],\n",
       "       [ 0,  0,  0,  0,  0,  0],\n",
       "       [ 0,  0,  0, -1,  1,  1]])"
      ]
     },
     "metadata": {},
     "output_type": "display_data"
    },
    {
     "name": "stdout",
     "output_type": "stream",
     "text": [
      "___________________\n",
      "Turn  17 Player  1\n"
     ]
    },
    {
     "data": {
      "text/plain": [
       "array([[ 0, -1,  0, -1,  0,  0],\n",
       "       [ 1,  0, -1,  0,  0,  0],\n",
       "       [ 0,  0,  0,  0,  1,  0],\n",
       "       [ 0,  1,  0, -1,  0,  0],\n",
       "       [ 0,  0,  0,  0,  0, -1],\n",
       "       [ 0,  0,  0, -1,  0,  0]])"
      ]
     },
     "metadata": {},
     "output_type": "display_data"
    },
    {
     "name": "stdout",
     "output_type": "stream",
     "text": [
      "___________________\n",
      "Turn  18 Player  -1\n"
     ]
    },
    {
     "data": {
      "text/plain": [
       "array([[ 0, -1,  0, -1,  0,  0],\n",
       "       [ 1,  0, -1,  0,  0,  0],\n",
       "       [ 0,  0,  0,  0,  1,  0],\n",
       "       [ 0,  1,  0, -1,  0,  0],\n",
       "       [ 0,  0,  0,  0,  0, -1],\n",
       "       [ 0,  1,  0, -1,  0,  0]])"
      ]
     },
     "metadata": {},
     "output_type": "display_data"
    },
    {
     "name": "stdout",
     "output_type": "stream",
     "text": [
      "___________________\n",
      "Turn  19 Player  1\n"
     ]
    },
    {
     "data": {
      "text/plain": [
       "array([[ 0, -1,  0, -1,  0,  0],\n",
       "       [ 1,  0, -1,  0,  0,  0],\n",
       "       [ 0,  0,  0,  0,  1,  0],\n",
       "       [ 1,  0, -1,  0, -1,  0],\n",
       "       [ 0,  0,  0,  0,  0, -1],\n",
       "       [ 0,  1,  0, -1,  0,  0]])"
      ]
     },
     "metadata": {},
     "output_type": "display_data"
    },
    {
     "name": "stdout",
     "output_type": "stream",
     "text": [
      "___________________\n",
      "Turn  20 Player  -1\n"
     ]
    },
    {
     "data": {
      "text/plain": [
       "array([[ 0, -1,  0, -1,  0,  0],\n",
       "       [ 1,  0, -1,  0,  0,  0],\n",
       "       [ 0,  0,  0,  1,  0,  1],\n",
       "       [ 1,  0,  0,  0, -1,  0],\n",
       "       [ 0, -1,  0,  0,  0, -1],\n",
       "       [ 0,  1,  0, -1,  0,  0]])"
      ]
     },
     "metadata": {},
     "output_type": "display_data"
    },
    {
     "name": "stdout",
     "output_type": "stream",
     "text": [
      "___________________\n",
      "Turn  21 Player  1\n"
     ]
    },
    {
     "data": {
      "text/plain": [
       "array([[ 0,  0,  0,  0,  0,  0],\n",
       "       [ 1,  0,  0,  0,  0,  0],\n",
       "       [ 0,  0, -1,  0,  1,  1],\n",
       "       [ 1,  0,  0,  0, -1,  0],\n",
       "       [ 0, -1,  0,  0,  0, -1],\n",
       "       [ 0,  1,  0, -1,  0,  0]])"
      ]
     },
     "metadata": {},
     "output_type": "display_data"
    },
    {
     "name": "stdout",
     "output_type": "stream",
     "text": [
      "___________________\n",
      "Turn  22 Player  -1\n"
     ]
    },
    {
     "data": {
      "text/plain": [
       "array([[ 0,  1,  0,  0,  0,  0],\n",
       "       [ 0,  0,  0,  0,  0,  0],\n",
       "       [ 0,  0, -1,  0,  1,  1],\n",
       "       [ 1,  0,  0,  0, -1,  0],\n",
       "       [ 0, -1,  0,  0,  0, -1],\n",
       "       [ 0,  1,  0, -1,  0,  0]])"
      ]
     },
     "metadata": {},
     "output_type": "display_data"
    },
    {
     "name": "stdout",
     "output_type": "stream",
     "text": [
      "___________________\n",
      "Turn  23 Player  1\n"
     ]
    },
    {
     "data": {
      "text/plain": [
       "array([[ 0,  1,  0,  0,  0, -2],\n",
       "       [ 0,  0,  0,  0,  0,  0],\n",
       "       [ 0,  0, -1,  0,  1,  1],\n",
       "       [ 1,  0,  0,  0, -1,  0],\n",
       "       [ 0, -1,  0,  0,  0, -1],\n",
       "       [ 0,  1,  0, -1,  0,  0]])"
      ]
     },
     "metadata": {},
     "output_type": "display_data"
    },
    {
     "name": "stdout",
     "output_type": "stream",
     "text": [
      "___________________\n",
      "Turn  24 Player  -1\n"
     ]
    },
    {
     "data": {
      "text/plain": [
       "array([[ 0,  1,  0,  0,  0, -2],\n",
       "       [ 0,  0,  0,  0,  0,  1],\n",
       "       [ 0,  0, -1,  0,  0,  0],\n",
       "       [ 1,  0,  0,  1, -1,  1],\n",
       "       [ 0, -1,  0,  0,  0, -1],\n",
       "       [ 0,  1,  0, -1,  0,  0]])"
      ]
     },
     "metadata": {},
     "output_type": "display_data"
    },
    {
     "name": "stdout",
     "output_type": "stream",
     "text": [
      "___________________\n",
      "Turn  25 Player  1\n"
     ]
    },
    {
     "data": {
      "text/plain": [
       "array([[ 0,  1,  0,  0,  0, -2],\n",
       "       [ 0,  0, -1,  0,  0,  1],\n",
       "       [ 0,  0,  0,  0,  0,  0],\n",
       "       [ 1,  0, -2,  1, -1,  1],\n",
       "       [ 0,  0,  0,  0,  0, -1],\n",
       "       [-1,  1,  0, -1,  0,  0]])"
      ]
     },
     "metadata": {},
     "output_type": "display_data"
    },
    {
     "name": "stdout",
     "output_type": "stream",
     "text": [
      "___________________\n",
      "Turn  26 Player  -1\n"
     ]
    },
    {
     "data": {
      "text/plain": [
       "array([[ 0,  1,  0,  0,  0, -2],\n",
       "       [ 0,  0, -1,  0,  0,  1],\n",
       "       [ 0,  0,  0,  0,  1,  0],\n",
       "       [ 1,  0, -2,  0, -1,  1],\n",
       "       [ 0,  0,  1,  0,  0, -1],\n",
       "       [-1,  0,  0,  0,  0,  0]])"
      ]
     },
     "metadata": {},
     "output_type": "display_data"
    },
    {
     "name": "stdout",
     "output_type": "stream",
     "text": [
      "___________________\n",
      "Turn  27 Player  1\n"
     ]
    },
    {
     "data": {
      "text/plain": [
       "array([[ 0,  1,  0,  0,  0, -2],\n",
       "       [ 0,  0, -1,  0,  0,  0],\n",
       "       [ 0,  0,  0, -1,  0,  0],\n",
       "       [ 1,  0, -2,  0, -1,  0],\n",
       "       [ 0,  0,  1,  0,  0, -1],\n",
       "       [-1,  0,  0,  0,  0,  0]])"
      ]
     },
     "metadata": {},
     "output_type": "display_data"
    },
    {
     "name": "stdout",
     "output_type": "stream",
     "text": [
      "___________________\n",
      "Turn  28 Player  -1\n"
     ]
    },
    {
     "data": {
      "text/plain": [
       "array([[ 0,  1,  0,  1,  0, -2],\n",
       "       [ 0,  0,  0,  0,  0,  0],\n",
       "       [ 0, -1,  0,  0,  0,  0],\n",
       "       [ 1,  0, -2,  0,  0,  0],\n",
       "       [ 0,  0,  1,  0,  0,  0],\n",
       "       [-1,  0,  0,  0,  0,  0]])"
      ]
     },
     "metadata": {},
     "output_type": "display_data"
    },
    {
     "name": "stdout",
     "output_type": "stream",
     "text": [
      "___________________\n",
      "Turn  29 Player  1\n"
     ]
    },
    {
     "data": {
      "text/plain": [
       "array([[ 0,  1,  0,  1,  0, -2],\n",
       "       [ 0,  0,  0,  0,  0,  0],\n",
       "       [ 0, -1,  0,  0,  0,  0],\n",
       "       [ 1,  0, -2,  0,  0,  0],\n",
       "       [ 0,  0,  1,  0, -2,  0],\n",
       "       [-1,  0,  0,  0,  0,  0]])"
      ]
     },
     "metadata": {},
     "output_type": "display_data"
    },
    {
     "name": "stdout",
     "output_type": "stream",
     "text": [
      "___________________\n",
      "Turn  30 Player  -1\n"
     ]
    },
    {
     "data": {
      "text/plain": [
       "array([[ 0,  0,  0,  1,  0, -2],\n",
       "       [ 2,  0,  0,  0,  0,  0],\n",
       "       [ 0, -1,  0,  0,  0,  0],\n",
       "       [ 1,  0, -2,  0,  0,  0],\n",
       "       [ 0,  0,  1,  0, -2,  0],\n",
       "       [-1,  0,  0,  0,  0,  0]])"
      ]
     },
     "metadata": {},
     "output_type": "display_data"
    },
    {
     "name": "stdout",
     "output_type": "stream",
     "text": [
      "___________________\n",
      "Turn  31 Player  1\n"
     ]
    },
    {
     "data": {
      "text/plain": [
       "array([[ 0,  0,  0,  1,  0, -2],\n",
       "       [ 2,  0,  0,  0,  0,  0],\n",
       "       [ 0, -1,  0,  0,  0,  0],\n",
       "       [ 1, -2,  0, -2,  0,  0],\n",
       "       [ 0,  0,  0,  0,  0,  0],\n",
       "       [-1,  1,  0,  0,  0, -2]])"
      ]
     },
     "metadata": {},
     "output_type": "display_data"
    },
    {
     "name": "stdout",
     "output_type": "stream",
     "text": [
      "___________________\n",
      "Turn  32 Player  -1\n"
     ]
    },
    {
     "data": {
      "text/plain": [
       "array([[ 0,  0,  0,  1,  0,  0],\n",
       "       [ 2,  0,  0,  0,  0,  2],\n",
       "       [ 0, -1,  0,  0,  0,  0],\n",
       "       [ 1, -2,  0, -2,  0,  0],\n",
       "       [ 0,  0,  0,  0,  0,  0],\n",
       "       [-1,  1,  0,  0,  0, -2]])"
      ]
     },
     "metadata": {},
     "output_type": "display_data"
    },
    {
     "name": "stdout",
     "output_type": "stream",
     "text": [
      "___________________\n",
      "Turn  33 Player  1\n"
     ]
    },
    {
     "data": {
      "text/plain": [
       "array([[ 0,  0,  0,  1,  0,  0],\n",
       "       [ 2,  0,  0,  0,  0,  2],\n",
       "       [ 1, -1, -2,  0,  0,  0],\n",
       "       [ 0,  0,  0, -2,  0,  0],\n",
       "       [-2,  0,  0,  0,  0,  0],\n",
       "       [ 0,  0,  0,  0,  0, -2]])"
      ]
     },
     "metadata": {},
     "output_type": "display_data"
    },
    {
     "name": "stdout",
     "output_type": "stream",
     "text": [
      "___________________\n",
      "Turn  34 Player  -1\n"
     ]
    },
    {
     "data": {
      "text/plain": [
       "array([[ 0,  0,  0,  1,  0,  0],\n",
       "       [ 2,  0,  0,  0,  0,  2],\n",
       "       [ 1, -1, -2,  0,  0,  0],\n",
       "       [ 0,  0,  0, -2,  0,  0],\n",
       "       [-2,  0,  0,  0,  0,  0],\n",
       "       [ 0,  0,  0,  0,  1, -2]])"
      ]
     },
     "metadata": {},
     "output_type": "display_data"
    },
    {
     "name": "stdout",
     "output_type": "stream",
     "text": [
      "___________________\n",
      "Turn  35 Player  1\n"
     ]
    },
    {
     "data": {
      "text/plain": [
       "array([[ 0,  0,  0,  1,  0,  0],\n",
       "       [ 2,  0,  0,  0,  0,  2],\n",
       "       [ 1, -1, -2,  0, -2,  0],\n",
       "       [ 0,  0,  0,  0,  0,  0],\n",
       "       [-2,  0, -2,  0,  0,  0],\n",
       "       [ 0,  0,  0,  0,  1, -2]])"
      ]
     },
     "metadata": {},
     "output_type": "display_data"
    },
    {
     "name": "stdout",
     "output_type": "stream",
     "text": [
      "___________________\n",
      "Turn  36 Player  -1\n"
     ]
    },
    {
     "data": {
      "text/plain": [
       "array([[ 0,  0,  0,  1,  0,  0],\n",
       "       [ 2,  0,  0,  0,  0,  2],\n",
       "       [ 1, -1, -2,  0, -2,  0],\n",
       "       [ 0,  0,  1,  0,  0,  0],\n",
       "       [-2,  0, -2,  0,  0,  0],\n",
       "       [ 0,  0,  0,  0,  1, -2]])"
      ]
     },
     "metadata": {},
     "output_type": "display_data"
    },
    {
     "name": "stdout",
     "output_type": "stream",
     "text": [
      "___________________\n",
      "Turn  37 Player  1\n"
     ]
    },
    {
     "data": {
      "text/plain": [
       "array([[ 0, -1,  0,  1,  0,  0],\n",
       "       [ 2,  0,  0,  0,  0,  2],\n",
       "       [ 1, -1, -2,  0, -2,  0],\n",
       "       [ 0,  0,  1,  0,  0,  0],\n",
       "       [-2,  0, -2,  0,  0,  0],\n",
       "       [ 0,  0,  0,  0,  1, -2]])"
      ]
     },
     "metadata": {},
     "output_type": "display_data"
    },
    {
     "name": "stdout",
     "output_type": "stream",
     "text": [
      "___________________\n",
      "Turn  38 Player  -1\n"
     ]
    },
    {
     "data": {
      "text/plain": [
       "array([[ 0, -1,  0,  0,  0,  0],\n",
       "       [ 2,  0,  0,  1,  0,  2],\n",
       "       [ 1, -1, -2,  0, -2,  0],\n",
       "       [ 0,  0,  1,  0,  0,  0],\n",
       "       [-2,  0, -2,  0,  0,  0],\n",
       "       [ 0,  0,  0,  0,  1, -2]])"
      ]
     },
     "metadata": {},
     "output_type": "display_data"
    },
    {
     "name": "stdout",
     "output_type": "stream",
     "text": [
      "___________________\n",
      "Turn  39 Player  1\n"
     ]
    },
    {
     "data": {
      "text/plain": [
       "array([[ 0, -1,  0,  0,  0,  0],\n",
       "       [ 2,  0,  0,  1,  0,  2],\n",
       "       [ 1, -1, -2,  0, -2,  0],\n",
       "       [ 0,  0,  1,  0,  0,  0],\n",
       "       [-2,  0, -2,  0, -2,  0],\n",
       "       [ 0,  0,  0,  0,  0,  0]])"
      ]
     },
     "metadata": {},
     "output_type": "display_data"
    },
    {
     "name": "stdout",
     "output_type": "stream",
     "text": [
      "___________________\n",
      "Turn  40 Player  -1\n"
     ]
    },
    {
     "data": {
      "text/plain": [
       "array([[ 0, -1,  0,  0,  0,  0],\n",
       "       [ 2,  0,  0,  1,  0,  2],\n",
       "       [ 1, -1, -2,  0, -2,  0],\n",
       "       [ 0,  0,  1,  0,  0,  0],\n",
       "       [-2, -2,  0,  2,  0, -2],\n",
       "       [ 0,  0,  0,  0,  0,  0]])"
      ]
     },
     "metadata": {},
     "output_type": "display_data"
    },
    {
     "name": "stdout",
     "output_type": "stream",
     "text": [
      "___________________\n",
      "Game over: Turn  40 Result  -1\n"
     ]
    },
    {
     "data": {
      "text/plain": [
       "array([[ 0, -1,  0,  0,  0,  0],\n",
       "       [ 2,  0,  0,  1,  0,  2],\n",
       "       [ 1, -1, -2,  0, -2,  0],\n",
       "       [ 0,  0,  1,  0,  0,  0],\n",
       "       [-2, -2, -2,  0,  2, -2],\n",
       "       [ 0,  0,  0,  0,  0,  0]])"
      ]
     },
     "metadata": {},
     "output_type": "display_data"
    },
    {
     "name": "stderr",
     "output_type": "stream",
     "text": [
      "\r",
      "Arena.playGames (1):  20%|████████████▌                                                  | 1/5 [00:00<00:01,  3.78it/s]"
     ]
    },
    {
     "name": "stdout",
     "output_type": "stream",
     "text": [
      "Turn  1 Player  1\n"
     ]
    },
    {
     "data": {
      "text/plain": [
       "array([[0, 0, 0, 0, 0, 0],\n",
       "       [0, 0, 0, 0, 0, 0],\n",
       "       [0, 0, 0, 0, 0, 0],\n",
       "       [0, 0, 0, 0, 0, 0],\n",
       "       [0, 0, 0, 0, 0, 0],\n",
       "       [0, 0, 0, 0, 0, 0]])"
      ]
     },
     "metadata": {},
     "output_type": "display_data"
    },
    {
     "name": "stdout",
     "output_type": "stream",
     "text": [
      "___________________\n",
      "Turn  2 Player  -1\n"
     ]
    },
    {
     "data": {
      "text/plain": [
       "array([[0, 0, 0, 0, 0, 0],\n",
       "       [0, 0, 0, 0, 0, 0],\n",
       "       [0, 0, 0, 0, 0, 0],\n",
       "       [0, 0, 0, 0, 0, 0],\n",
       "       [0, 1, 0, 0, 0, 0],\n",
       "       [0, 0, 0, 0, 0, 0]])"
      ]
     },
     "metadata": {},
     "output_type": "display_data"
    },
    {
     "name": "stdout",
     "output_type": "stream",
     "text": [
      "___________________\n",
      "Turn  3 Player  1\n"
     ]
    },
    {
     "data": {
      "text/plain": [
       "array([[ 0,  0,  0,  0,  0,  0],\n",
       "       [ 0,  0,  0,  0,  0,  0],\n",
       "       [ 0,  0,  0,  0,  0,  0],\n",
       "       [ 0,  0,  0, -1,  0,  0],\n",
       "       [ 0,  1,  0,  0,  0,  0],\n",
       "       [ 0,  0,  0,  0,  0,  0]])"
      ]
     },
     "metadata": {},
     "output_type": "display_data"
    },
    {
     "name": "stdout",
     "output_type": "stream",
     "text": [
      "___________________\n",
      "Turn  4 Player  -1\n"
     ]
    },
    {
     "data": {
      "text/plain": [
       "array([[ 0,  0,  0,  0,  0,  0],\n",
       "       [ 0,  0,  0,  0,  0,  0],\n",
       "       [ 0,  0,  0,  0,  0,  0],\n",
       "       [ 1,  0,  0, -1,  0,  0],\n",
       "       [ 0,  0,  0,  0,  0,  0],\n",
       "       [ 0,  0,  1,  0,  0,  0]])"
      ]
     },
     "metadata": {},
     "output_type": "display_data"
    },
    {
     "name": "stdout",
     "output_type": "stream",
     "text": [
      "___________________\n",
      "Turn  5 Player  1\n"
     ]
    },
    {
     "data": {
      "text/plain": [
       "array([[ 0,  0,  0,  0,  0,  0],\n",
       "       [ 0,  0,  0,  0,  0,  0],\n",
       "       [ 0,  0,  0,  0, -1,  0],\n",
       "       [ 1,  0,  0,  0,  0,  0],\n",
       "       [ 0,  0, -1,  0,  0,  0],\n",
       "       [ 0,  0,  0,  0,  0,  0]])"
      ]
     },
     "metadata": {},
     "output_type": "display_data"
    },
    {
     "name": "stdout",
     "output_type": "stream",
     "text": [
      "___________________\n",
      "Turn  6 Player  -1\n"
     ]
    },
    {
     "data": {
      "text/plain": [
       "array([[ 0,  0,  0,  0,  0,  0],\n",
       "       [ 0,  0,  0,  0,  0,  0],\n",
       "       [ 0,  0,  0,  0, -1,  0],\n",
       "       [ 1, -1,  0,  0,  0,  0],\n",
       "       [ 0,  0,  0,  0,  0,  0],\n",
       "       [ 0,  0,  0,  1,  0,  0]])"
      ]
     },
     "metadata": {},
     "output_type": "display_data"
    },
    {
     "name": "stdout",
     "output_type": "stream",
     "text": [
      "___________________\n",
      "Turn  7 Player  1\n"
     ]
    },
    {
     "data": {
      "text/plain": [
       "array([[ 0,  0,  0,  0,  0,  0],\n",
       "       [ 0,  0,  0,  0,  0,  0],\n",
       "       [ 0,  0,  0,  0, -1,  0],\n",
       "       [ 1, -1,  0,  0,  0,  0],\n",
       "       [ 0,  0,  0, -1,  0,  0],\n",
       "       [ 0,  0,  0,  0,  0,  0]])"
      ]
     },
     "metadata": {},
     "output_type": "display_data"
    },
    {
     "name": "stdout",
     "output_type": "stream",
     "text": [
      "___________________\n",
      "Turn  8 Player  -1\n"
     ]
    },
    {
     "data": {
      "text/plain": [
       "array([[ 0,  0,  0,  0,  0,  0],\n",
       "       [ 0,  0,  0,  0,  0,  0],\n",
       "       [ 0,  0,  0, -1,  0,  1],\n",
       "       [ 1, -1,  0,  0,  0,  0],\n",
       "       [ 0,  0,  0, -1,  0,  0],\n",
       "       [ 0,  0,  0,  0,  0,  0]])"
      ]
     },
     "metadata": {},
     "output_type": "display_data"
    },
    {
     "name": "stdout",
     "output_type": "stream",
     "text": [
      "___________________\n",
      "Turn  9 Player  1\n"
     ]
    },
    {
     "data": {
      "text/plain": [
       "array([[ 0,  0,  0,  0,  0,  0],\n",
       "       [ 0,  0,  0,  0,  0,  0],\n",
       "       [ 0,  0,  0, -1,  0,  1],\n",
       "       [ 1, -1,  0, -1,  0,  0],\n",
       "       [ 0,  0,  0,  0,  0,  0],\n",
       "       [ 0,  0,  0, -1,  0,  0]])"
      ]
     },
     "metadata": {},
     "output_type": "display_data"
    },
    {
     "name": "stdout",
     "output_type": "stream",
     "text": [
      "___________________\n",
      "Turn  10 Player  -1\n"
     ]
    },
    {
     "data": {
      "text/plain": [
       "array([[ 0,  1,  0,  0,  0,  0],\n",
       "       [ 0,  0,  0,  0,  0,  0],\n",
       "       [ 0,  0,  0, -1,  0,  1],\n",
       "       [ 1, -1,  0, -1,  0,  0],\n",
       "       [ 0,  0,  0,  0,  0,  0],\n",
       "       [ 0,  0,  0, -1,  0,  0]])"
      ]
     },
     "metadata": {},
     "output_type": "display_data"
    },
    {
     "name": "stdout",
     "output_type": "stream",
     "text": [
      "___________________\n",
      "Turn  11 Player  1\n"
     ]
    },
    {
     "data": {
      "text/plain": [
       "array([[ 0,  1,  0,  0,  0,  0],\n",
       "       [ 0,  0,  0,  0, -1,  0],\n",
       "       [ 0,  0,  0,  0,  0,  1],\n",
       "       [ 1, -1, -1,  0, -1,  0],\n",
       "       [ 0,  0,  0,  0,  0,  0],\n",
       "       [ 0,  0,  0, -1,  0,  0]])"
      ]
     },
     "metadata": {},
     "output_type": "display_data"
    },
    {
     "name": "stdout",
     "output_type": "stream",
     "text": [
      "___________________\n",
      "Turn  12 Player  -1\n"
     ]
    },
    {
     "data": {
      "text/plain": [
       "array([[ 0,  1,  0,  0,  0, -1],\n",
       "       [ 0,  0,  0,  0,  0,  0],\n",
       "       [ 0,  0,  0,  1,  0,  1],\n",
       "       [ 1, -1,  0,  0,  0,  0],\n",
       "       [ 0, -1,  0,  0,  0, -1],\n",
       "       [ 0,  0,  0, -1,  0,  0]])"
      ]
     },
     "metadata": {},
     "output_type": "display_data"
    },
    {
     "name": "stdout",
     "output_type": "stream",
     "text": [
      "___________________\n",
      "Turn  13 Player  1\n"
     ]
    },
    {
     "data": {
      "text/plain": [
       "array([[ 0,  1,  0,  0,  0, -1],\n",
       "       [ 0,  0,  0,  0,  1,  0],\n",
       "       [ 0,  0,  0,  0,  0,  1],\n",
       "       [ 1, -1, -1,  0,  0,  0],\n",
       "       [ 0,  0,  0,  0,  0, -1],\n",
       "       [-1,  0,  0, -1,  0,  0]])"
      ]
     },
     "metadata": {},
     "output_type": "display_data"
    },
    {
     "name": "stdout",
     "output_type": "stream",
     "text": [
      "___________________\n",
      "Turn  14 Player  -1\n"
     ]
    },
    {
     "data": {
      "text/plain": [
       "array([[ 0,  0,  0,  0,  0, -1],\n",
       "       [ 0,  0,  1,  0,  1,  0],\n",
       "       [ 0,  0,  0,  0,  0,  1],\n",
       "       [ 1, -1, -1,  0,  0,  0],\n",
       "       [ 0,  0,  0,  0,  0, -1],\n",
       "       [-1,  0,  0, -1,  0,  0]])"
      ]
     },
     "metadata": {},
     "output_type": "display_data"
    },
    {
     "name": "stdout",
     "output_type": "stream",
     "text": [
      "___________________\n",
      "Turn  15 Player  1\n"
     ]
    },
    {
     "data": {
      "text/plain": [
       "array([[ 0,  0,  0,  0,  0, -1],\n",
       "       [ 0,  0,  1,  0,  1,  0],\n",
       "       [-1,  0, -1,  0,  0,  1],\n",
       "       [ 1,  0,  0,  0,  0,  0],\n",
       "       [ 0,  0, -1,  0,  0, -1],\n",
       "       [-1,  0,  0,  0,  0,  0]])"
      ]
     },
     "metadata": {},
     "output_type": "display_data"
    },
    {
     "name": "stdout",
     "output_type": "stream",
     "text": [
      "___________________\n",
      "Turn  16 Player  -1\n"
     ]
    },
    {
     "data": {
      "text/plain": [
       "array([[ 0,  0,  0,  0,  0, -1],\n",
       "       [ 0, -1,  1,  0,  1,  0],\n",
       "       [-1,  0,  0,  0,  0,  1],\n",
       "       [ 1,  0,  0,  1,  0,  0],\n",
       "       [ 0,  0,  0,  0,  0, -1],\n",
       "       [-1, -1,  0,  0,  0,  0]])"
      ]
     },
     "metadata": {},
     "output_type": "display_data"
    },
    {
     "name": "stdout",
     "output_type": "stream",
     "text": [
      "___________________\n",
      "Turn  17 Player  1\n"
     ]
    },
    {
     "data": {
      "text/plain": [
       "array([[ 0,  1,  0,  0,  0, -1],\n",
       "       [ 0, -1,  0,  0,  1,  0],\n",
       "       [-1,  0,  0, -1,  0,  1],\n",
       "       [ 1,  0,  0,  0,  0,  0],\n",
       "       [ 0,  0,  0,  1,  0, -1],\n",
       "       [-1, -1,  0,  0,  0,  0]])"
      ]
     },
     "metadata": {},
     "output_type": "display_data"
    },
    {
     "name": "stdout",
     "output_type": "stream",
     "text": [
      "___________________\n",
      "Turn  18 Player  -1\n"
     ]
    },
    {
     "data": {
      "text/plain": [
       "array([[ 0,  1,  0,  0,  0, -1],\n",
       "       [ 0, -1,  0,  0,  1,  0],\n",
       "       [-1,  0,  0, -1,  0,  1],\n",
       "       [ 1,  0,  1,  0,  0,  0],\n",
       "       [ 0,  0,  0,  0,  0,  0],\n",
       "       [-1, -1,  0,  0,  1,  0]])"
      ]
     },
     "metadata": {},
     "output_type": "display_data"
    },
    {
     "name": "stdout",
     "output_type": "stream",
     "text": [
      "___________________\n",
      "Turn  19 Player  1\n"
     ]
    },
    {
     "data": {
      "text/plain": [
       "array([[ 0,  1,  0,  0,  0, -1],\n",
       "       [ 0, -1,  0, -1,  1,  0],\n",
       "       [-1,  0,  0,  0,  0,  1],\n",
       "       [ 1,  1,  0, -1,  0,  0],\n",
       "       [ 0,  0,  0,  0,  0,  0],\n",
       "       [-1, -1,  0,  0,  1,  0]])"
      ]
     },
     "metadata": {},
     "output_type": "display_data"
    },
    {
     "name": "stdout",
     "output_type": "stream",
     "text": [
      "___________________\n",
      "Turn  20 Player  -1\n"
     ]
    },
    {
     "data": {
      "text/plain": [
       "array([[ 0,  1,  0,  0,  0, -1],\n",
       "       [ 0, -1,  0, -1,  1,  0],\n",
       "       [-1,  0,  0,  0,  0,  1],\n",
       "       [ 1,  1,  0, -1,  0,  0],\n",
       "       [ 0,  0,  0,  0,  0,  0],\n",
       "       [-1, -1,  1,  0,  1,  0]])"
      ]
     },
     "metadata": {},
     "output_type": "display_data"
    },
    {
     "name": "stdout",
     "output_type": "stream",
     "text": [
      "___________________\n",
      "Turn  21 Player  1\n"
     ]
    },
    {
     "data": {
      "text/plain": [
       "array([[ 0,  0,  0,  0,  0, -1],\n",
       "       [-1,  0, -1, -1,  1,  0],\n",
       "       [-1,  0,  0,  0,  0,  1],\n",
       "       [ 1,  1,  0, -1,  0,  0],\n",
       "       [ 0,  0,  0,  0,  0,  0],\n",
       "       [-1, -1,  1,  0,  1,  0]])"
      ]
     },
     "metadata": {},
     "output_type": "display_data"
    },
    {
     "name": "stdout",
     "output_type": "stream",
     "text": [
      "___________________\n",
      "Turn  22 Player  -1\n"
     ]
    },
    {
     "data": {
      "text/plain": [
       "array([[ 0,  0,  0,  0,  0, -1],\n",
       "       [-1,  0, -1, -1,  1,  0],\n",
       "       [-1,  0,  0,  0,  0,  0],\n",
       "       [ 1,  1, -1,  0,  1,  0],\n",
       "       [ 0,  0,  0,  0,  0,  0],\n",
       "       [-1, -1,  1,  0,  1,  0]])"
      ]
     },
     "metadata": {},
     "output_type": "display_data"
    },
    {
     "name": "stdout",
     "output_type": "stream",
     "text": [
      "___________________\n",
      "Turn  23 Player  1\n"
     ]
    },
    {
     "data": {
      "text/plain": [
       "array([[ 0,  0,  0,  0,  0,  0],\n",
       "       [-1,  0, -1, -1,  1,  0],\n",
       "       [-1,  0,  0,  0,  0,  0],\n",
       "       [ 1,  1, -1,  0,  1,  0],\n",
       "       [ 0,  0,  0,  0,  0,  0],\n",
       "       [-1, -1,  1,  0,  1,  0]])"
      ]
     },
     "metadata": {},
     "output_type": "display_data"
    },
    {
     "name": "stdout",
     "output_type": "stream",
     "text": [
      "___________________\n",
      "Turn  24 Player  -1\n"
     ]
    },
    {
     "data": {
      "text/plain": [
       "array([[ 0,  0,  0,  0,  0,  0],\n",
       "       [-1,  0, -1, -1,  1,  0],\n",
       "       [-1,  0,  0,  0,  0,  0],\n",
       "       [ 1,  1, -1,  1,  0,  1],\n",
       "       [ 0,  0,  0,  0,  0,  0],\n",
       "       [-1, -1,  1,  0,  1,  0]])"
      ]
     },
     "metadata": {},
     "output_type": "display_data"
    },
    {
     "name": "stdout",
     "output_type": "stream",
     "text": [
      "___________________\n",
      "Turn  25 Player  1\n"
     ]
    },
    {
     "data": {
      "text/plain": [
       "array([[ 0,  0,  0,  0,  0,  0],\n",
       "       [ 0,  0,  0,  0,  1,  0],\n",
       "       [ 0,  0,  0,  0,  0,  0],\n",
       "       [ 1,  1, -1,  1,  0,  1],\n",
       "       [ 0,  0,  0,  0,  0,  0],\n",
       "       [-1, -1,  1,  0,  1,  0]])"
      ]
     },
     "metadata": {},
     "output_type": "display_data"
    },
    {
     "name": "stdout",
     "output_type": "stream",
     "text": [
      "___________________\n",
      "Turn  26 Player  -1\n"
     ]
    },
    {
     "data": {
      "text/plain": [
       "array([[ 0,  0,  0,  0,  0,  0],\n",
       "       [ 0,  1,  0,  0,  1,  0],\n",
       "       [ 0,  0,  0,  0,  0,  0],\n",
       "       [ 1,  1, -1,  1,  0,  1],\n",
       "       [ 0,  0,  0,  0,  0,  0],\n",
       "       [-1, -1,  1,  0,  1,  0]])"
      ]
     },
     "metadata": {},
     "output_type": "display_data"
    },
    {
     "name": "stdout",
     "output_type": "stream",
     "text": [
      "___________________\n",
      "Turn  27 Player  1\n"
     ]
    },
    {
     "data": {
      "text/plain": [
       "array([[ 0,  0,  0,  0,  0,  0],\n",
       "       [ 1,  0, -2,  0,  1,  0],\n",
       "       [ 0,  0,  0,  0,  0,  0],\n",
       "       [ 1,  1, -1,  1,  0,  1],\n",
       "       [ 0,  0,  0,  0,  0,  0],\n",
       "       [-1, -1,  1,  0,  1,  0]])"
      ]
     },
     "metadata": {},
     "output_type": "display_data"
    },
    {
     "name": "stdout",
     "output_type": "stream",
     "text": [
      "___________________\n",
      "Turn  28 Player  -1\n"
     ]
    },
    {
     "data": {
      "text/plain": [
       "array([[ 0,  0,  0,  0,  0,  0],\n",
       "       [ 1,  0, -2,  0,  0,  0],\n",
       "       [ 0,  0,  0,  0,  0,  0],\n",
       "       [ 1,  1, -1,  1,  0,  1],\n",
       "       [ 0,  0,  0,  0,  0,  0],\n",
       "       [-1, -1,  1,  0,  1,  0]])"
      ]
     },
     "metadata": {},
     "output_type": "display_data"
    },
    {
     "name": "stdout",
     "output_type": "stream",
     "text": [
      "___________________\n",
      "Turn  29 Player  1\n"
     ]
    },
    {
     "data": {
      "text/plain": [
       "array([[ 0,  0,  0,  0,  0,  0],\n",
       "       [ 1,  0, -2,  0,  0,  0],\n",
       "       [ 0,  0,  0,  0,  0,  0],\n",
       "       [ 1,  1, -1,  1,  0,  1],\n",
       "       [ 0,  0,  0,  0,  0,  0],\n",
       "       [-1, -1,  1,  1,  0, -1]])"
      ]
     },
     "metadata": {},
     "output_type": "display_data"
    },
    {
     "name": "stdout",
     "output_type": "stream",
     "text": [
      "___________________\n",
      "Turn  30 Player  -1\n"
     ]
    },
    {
     "data": {
      "text/plain": [
       "array([[ 0,  2,  0,  0,  0,  0],\n",
       "       [ 0,  0,  0,  0,  0,  0],\n",
       "       [ 0,  0,  0, -2,  0,  0],\n",
       "       [ 1,  1, -1,  1,  0,  1],\n",
       "       [ 0,  0,  0,  0,  0,  0],\n",
       "       [-1, -1,  1,  1,  0, -1]])"
      ]
     },
     "metadata": {},
     "output_type": "display_data"
    },
    {
     "name": "stdout",
     "output_type": "stream",
     "text": [
      "___________________\n",
      "Turn  31 Player  1\n"
     ]
    },
    {
     "data": {
      "text/plain": [
       "array([[ 0,  2,  0,  0,  0,  0],\n",
       "       [ 0,  0,  0,  0,  0,  0],\n",
       "       [ 0,  0, -1, -2,  0,  0],\n",
       "       [ 1,  0,  0,  0,  0,  0],\n",
       "       [ 1,  0, -1,  0,  0,  0],\n",
       "       [-1, -1,  1,  0,  0, -1]])"
      ]
     },
     "metadata": {},
     "output_type": "display_data"
    },
    {
     "name": "stdout",
     "output_type": "stream",
     "text": [
      "___________________\n",
      "Turn  32 Player  -1\n"
     ]
    },
    {
     "data": {
      "text/plain": [
       "array([[ 0,  2,  0,  0,  0,  0],\n",
       "       [ 0,  0,  0,  0,  0,  0],\n",
       "       [ 0,  1, -1, -2,  0,  0],\n",
       "       [ 0,  0,  0,  0,  0,  0],\n",
       "       [ 1,  0, -1,  0,  0,  0],\n",
       "       [-1, -1,  1,  0,  0, -1]])"
      ]
     },
     "metadata": {},
     "output_type": "display_data"
    },
    {
     "name": "stdout",
     "output_type": "stream",
     "text": [
      "___________________\n",
      "Turn  33 Player  1\n"
     ]
    },
    {
     "data": {
      "text/plain": [
       "array([[ 0,  0,  0,  0,  0,  0],\n",
       "       [ 0,  0, -2,  0,  0,  0],\n",
       "       [ 0,  0,  0,  0,  0,  0],\n",
       "       [ 1,  0, -1,  0, -2,  0],\n",
       "       [ 1,  0, -1,  0,  0,  0],\n",
       "       [-1, -1,  1,  0,  0, -1]])"
      ]
     },
     "metadata": {},
     "output_type": "display_data"
    },
    {
     "name": "stdout",
     "output_type": "stream",
     "text": [
      "___________________\n",
      "Turn  34 Player  -1\n"
     ]
    },
    {
     "data": {
      "text/plain": [
       "array([[ 0,  0,  0,  0,  2,  0],\n",
       "       [ 0,  0, -2,  0,  0,  0],\n",
       "       [ 0,  0,  0,  0,  0,  0],\n",
       "       [ 1,  0, -1,  0, -2,  0],\n",
       "       [ 1,  0, -1,  0,  0,  0],\n",
       "       [-1, -1,  1,  0,  0, -1]])"
      ]
     },
     "metadata": {},
     "output_type": "display_data"
    },
    {
     "name": "stdout",
     "output_type": "stream",
     "text": [
      "___________________\n",
      "Turn  35 Player  1\n"
     ]
    },
    {
     "data": {
      "text/plain": [
       "array([[ 0,  0,  0, -2,  2,  0],\n",
       "       [ 0,  0,  0,  0,  0,  0],\n",
       "       [ 0, -2,  0,  0,  0,  0],\n",
       "       [ 0,  0,  0,  0, -2,  0],\n",
       "       [ 1,  0, -1, -1,  0,  0],\n",
       "       [-1, -1,  1,  0,  0, -1]])"
      ]
     },
     "metadata": {},
     "output_type": "display_data"
    },
    {
     "name": "stdout",
     "output_type": "stream",
     "text": [
      "___________________\n",
      "Turn  36 Player  -1\n"
     ]
    },
    {
     "data": {
      "text/plain": [
       "array([[ 0,  0,  0, -2,  2,  0],\n",
       "       [ 0,  0,  0,  0,  0,  0],\n",
       "       [ 0, -2,  0,  0,  0,  1],\n",
       "       [ 0,  0,  0,  0, -2,  0],\n",
       "       [ 1,  0, -1, -1,  0,  0],\n",
       "       [-1, -1,  1,  0,  0, -1]])"
      ]
     },
     "metadata": {},
     "output_type": "display_data"
    },
    {
     "name": "stdout",
     "output_type": "stream",
     "text": [
      "___________________\n",
      "Turn  37 Player  1\n"
     ]
    },
    {
     "data": {
      "text/plain": [
       "array([[ 0,  0,  0, -2,  2,  0],\n",
       "       [ 0,  0,  0,  0,  0,  0],\n",
       "       [ 0, -2,  0,  0,  0,  1],\n",
       "       [ 0,  0,  0,  0, -2,  0],\n",
       "       [ 1,  0, -1, -1,  0,  0],\n",
       "       [-1,  0,  1,  0,  0, -1]])"
      ]
     },
     "metadata": {},
     "output_type": "display_data"
    },
    {
     "name": "stdout",
     "output_type": "stream",
     "text": [
      "___________________\n",
      "Turn  38 Player  -1\n"
     ]
    },
    {
     "data": {
      "text/plain": [
       "array([[ 0,  0,  0, -2,  2,  1],\n",
       "       [ 0,  0,  0,  0,  0,  0],\n",
       "       [ 0, -2,  0,  0,  0,  1],\n",
       "       [ 0,  0,  0,  0, -2,  0],\n",
       "       [ 1,  0, -1, -1,  0,  0],\n",
       "       [-1,  0,  1,  0,  0, -1]])"
      ]
     },
     "metadata": {},
     "output_type": "display_data"
    },
    {
     "name": "stdout",
     "output_type": "stream",
     "text": [
      "___________________\n",
      "Turn  39 Player  1\n"
     ]
    },
    {
     "data": {
      "text/plain": [
       "array([[ 0,  0,  0, -2,  2,  1],\n",
       "       [ 0, -2,  0,  0,  0,  0],\n",
       "       [ 0,  0,  0,  0,  0,  1],\n",
       "       [ 0, -2,  0,  0, -2,  0],\n",
       "       [ 1,  0, -1, -1,  0,  0],\n",
       "       [-1,  0,  1,  0,  0, -1]])"
      ]
     },
     "metadata": {},
     "output_type": "display_data"
    },
    {
     "name": "stdout",
     "output_type": "stream",
     "text": [
      "___________________\n",
      "Turn  40 Player  -1\n"
     ]
    },
    {
     "data": {
      "text/plain": [
       "array([[ 0,  0,  0, -2,  2,  1],\n",
       "       [ 0, -2,  0,  0,  0,  0],\n",
       "       [ 0,  0,  0,  2,  0,  1],\n",
       "       [ 0, -2,  0,  0,  0,  0],\n",
       "       [ 1,  0, -1, -1,  0, -2],\n",
       "       [-1,  0,  1,  0,  0, -1]])"
      ]
     },
     "metadata": {},
     "output_type": "display_data"
    },
    {
     "name": "stdout",
     "output_type": "stream",
     "text": [
      "___________________\n",
      "Turn  41 Player  1\n"
     ]
    },
    {
     "data": {
      "text/plain": [
       "array([[ 0,  0,  0, -2,  2,  1],\n",
       "       [ 0, -2,  0,  0,  0,  0],\n",
       "       [ 0,  0,  0,  2,  0,  1],\n",
       "       [ 0, -2,  0,  0,  0,  0],\n",
       "       [ 1,  0, -1,  0,  0, -2],\n",
       "       [-1,  0,  1,  0,  0, -1]])"
      ]
     },
     "metadata": {},
     "output_type": "display_data"
    },
    {
     "name": "stdout",
     "output_type": "stream",
     "text": [
      "___________________\n",
      "Turn  42 Player  -1\n"
     ]
    },
    {
     "data": {
      "text/plain": [
       "array([[ 2,  0,  0, -2,  2,  1],\n",
       "       [ 0,  0,  0,  0,  0,  0],\n",
       "       [ 0,  0, -2,  2,  0,  1],\n",
       "       [ 0, -2,  0,  0,  0,  0],\n",
       "       [ 1,  0, -1,  0,  0, -2],\n",
       "       [-1,  0,  1,  0,  0, -1]])"
      ]
     },
     "metadata": {},
     "output_type": "display_data"
    },
    {
     "name": "stdout",
     "output_type": "stream",
     "text": [
      "___________________\n",
      "Turn  43 Player  1\n"
     ]
    },
    {
     "data": {
      "text/plain": [
       "array([[ 2,  0,  0, -2,  2,  1],\n",
       "       [ 0,  0,  0,  0,  0,  0],\n",
       "       [ 0,  0,  0,  2,  0,  1],\n",
       "       [-2,  0,  0,  0,  0,  0],\n",
       "       [ 1,  0,  0,  0,  0, -2],\n",
       "       [-1,  0,  1,  0,  0, -1]])"
      ]
     },
     "metadata": {},
     "output_type": "display_data"
    },
    {
     "name": "stdout",
     "output_type": "stream",
     "text": [
      "___________________\n",
      "Turn  44 Player  -1\n"
     ]
    },
    {
     "data": {
      "text/plain": [
       "array([[ 2,  0,  0, -2,  2,  1],\n",
       "       [ 0,  0,  0,  0,  0,  0],\n",
       "       [ 0,  0,  0,  2,  0,  1],\n",
       "       [-2,  0,  0,  0,  0,  0],\n",
       "       [ 1,  0,  0,  2,  0, -2],\n",
       "       [-1,  0,  0,  0,  0, -1]])"
      ]
     },
     "metadata": {},
     "output_type": "display_data"
    },
    {
     "name": "stdout",
     "output_type": "stream",
     "text": [
      "___________________\n",
      "Turn  45 Player  1\n"
     ]
    },
    {
     "data": {
      "text/plain": [
       "array([[ 2,  0,  0, -2,  2,  1],\n",
       "       [ 0,  0,  0,  0,  0,  0],\n",
       "       [ 0,  0,  0,  2,  0,  1],\n",
       "       [-2,  0,  2,  0,  0,  0],\n",
       "       [ 1,  0,  0,  0,  0,  0],\n",
       "       [-1,  0,  0,  0, -2,  0]])"
      ]
     },
     "metadata": {},
     "output_type": "display_data"
    },
    {
     "name": "stdout",
     "output_type": "stream",
     "text": [
      "___________________\n",
      "Turn  46 Player  -1\n"
     ]
    },
    {
     "data": {
      "text/plain": [
       "array([[ 2,  0,  0, -2,  2,  0],\n",
       "       [ 0,  0,  0,  0,  0,  0],\n",
       "       [ 0,  0,  0,  0,  0,  0],\n",
       "       [-2,  0,  0,  0,  0,  0],\n",
       "       [ 1,  0,  0,  0,  0,  0],\n",
       "       [-1,  0,  0,  0, -2,  0]])"
      ]
     },
     "metadata": {},
     "output_type": "display_data"
    },
    {
     "name": "stdout",
     "output_type": "stream",
     "text": [
      "___________________\n",
      "Turn  47 Player  1\n"
     ]
    },
    {
     "data": {
      "text/plain": [
       "array([[ 2,  0,  0, -2,  2,  0],\n",
       "       [ 0,  0,  0,  0,  0,  0],\n",
       "       [ 0,  0,  0,  0,  0,  0],\n",
       "       [-2,  0, -1,  0,  0,  0],\n",
       "       [ 1,  0,  0,  0,  0,  0],\n",
       "       [-1,  0,  0,  0, -2,  0]])"
      ]
     },
     "metadata": {},
     "output_type": "display_data"
    },
    {
     "name": "stdout",
     "output_type": "stream",
     "text": [
      "___________________\n",
      "Turn  48 Player  -1\n"
     ]
    },
    {
     "data": {
      "text/plain": [
       "array([[ 2,  0,  0, -2,  2,  0],\n",
       "       [ 0,  0,  0,  0,  0,  0],\n",
       "       [ 0, -1,  0,  0,  0,  0],\n",
       "       [-2,  0,  0,  0,  0,  0],\n",
       "       [ 1,  0,  0,  2,  0,  0],\n",
       "       [-1,  0,  0,  0,  0,  0]])"
      ]
     },
     "metadata": {},
     "output_type": "display_data"
    },
    {
     "name": "stdout",
     "output_type": "stream",
     "text": [
      "___________________\n",
      "Turn  49 Player  1\n"
     ]
    },
    {
     "data": {
      "text/plain": [
       "array([[ 2,  0,  0, -2,  2,  0],\n",
       "       [ 0,  0,  0,  0,  0,  0],\n",
       "       [-2,  0, -1,  0,  0,  0],\n",
       "       [-2,  0,  0,  0,  0,  0],\n",
       "       [ 1,  0,  0,  2,  0,  0],\n",
       "       [-1,  0,  0,  0,  0,  0]])"
      ]
     },
     "metadata": {},
     "output_type": "display_data"
    },
    {
     "name": "stdout",
     "output_type": "stream",
     "text": [
      "___________________\n",
      "Turn  50 Player  -1\n"
     ]
    },
    {
     "data": {
      "text/plain": [
       "array([[ 2,  0,  0, -2,  2,  0],\n",
       "       [ 0,  0,  0, -1,  0,  0],\n",
       "       [ 0,  0,  0,  0,  0,  0],\n",
       "       [ 0,  2,  0,  0,  0,  0],\n",
       "       [ 0,  0,  0,  2,  0,  0],\n",
       "       [-1,  0,  0,  0,  0,  0]])"
      ]
     },
     "metadata": {},
     "output_type": "display_data"
    },
    {
     "name": "stdout",
     "output_type": "stream",
     "text": [
      "___________________\n",
      "Turn  51 Player  1\n"
     ]
    },
    {
     "data": {
      "text/plain": [
       "array([[ 2,  0, -2, -2,  2,  0],\n",
       "       [ 0,  0,  0,  0,  0,  0],\n",
       "       [ 0,  0,  0,  0, -1,  0],\n",
       "       [ 0,  2,  0,  0,  0,  0],\n",
       "       [ 0,  0,  0,  2,  0,  0],\n",
       "       [-1,  0,  0,  0,  0,  0]])"
      ]
     },
     "metadata": {},
     "output_type": "display_data"
    },
    {
     "name": "stdout",
     "output_type": "stream",
     "text": [
      "___________________\n",
      "Turn  52 Player  -1\n"
     ]
    },
    {
     "data": {
      "text/plain": [
       "array([[ 2,  0, -2, -2,  2,  0],\n",
       "       [ 0,  0,  0,  0,  0,  0],\n",
       "       [ 0,  0,  0,  0, -1,  0],\n",
       "       [ 0,  2,  2,  0,  0,  0],\n",
       "       [ 0,  0,  0,  0,  0,  0],\n",
       "       [-1,  0,  0,  0,  2,  0]])"
      ]
     },
     "metadata": {},
     "output_type": "display_data"
    },
    {
     "name": "stdout",
     "output_type": "stream",
     "text": [
      "___________________\n",
      "Turn  53 Player  1\n"
     ]
    },
    {
     "data": {
      "text/plain": [
       "array([[ 2,  0, -2, -2,  2,  0],\n",
       "       [ 0,  0,  0,  0,  0,  0],\n",
       "       [-2,  0,  0,  0, -1,  0],\n",
       "       [ 0,  0,  2,  0,  0,  0],\n",
       "       [ 0,  0,  2,  0,  0,  0],\n",
       "       [-1,  0,  0,  0,  2,  0]])"
      ]
     },
     "metadata": {},
     "output_type": "display_data"
    },
    {
     "name": "stdout",
     "output_type": "stream",
     "text": [
      "___________________\n",
      "Turn  54 Player  -1\n"
     ]
    },
    {
     "data": {
      "text/plain": [
       "array([[ 2,  1, -2, -2,  2,  0],\n",
       "       [ 0,  0,  0,  0,  0,  0],\n",
       "       [-2,  0,  0,  0, -1,  0],\n",
       "       [ 0,  0,  2,  0,  0,  0],\n",
       "       [ 0,  0,  2,  0,  0,  0],\n",
       "       [-1,  0,  0,  0,  2,  0]])"
      ]
     },
     "metadata": {},
     "output_type": "display_data"
    },
    {
     "name": "stdout",
     "output_type": "stream",
     "text": [
      "___________________\n",
      "Turn  55 Player  1\n"
     ]
    },
    {
     "data": {
      "text/plain": [
       "array([[ 2,  1, -2, -2,  0,  0],\n",
       "       [ 0,  0,  0,  0,  0, -2],\n",
       "       [-2,  0,  0,  0,  0,  0],\n",
       "       [ 0,  0,  2, -1,  0,  0],\n",
       "       [ 0,  0,  2,  0,  0,  0],\n",
       "       [-1,  0,  0,  0,  2,  0]])"
      ]
     },
     "metadata": {},
     "output_type": "display_data"
    },
    {
     "name": "stdout",
     "output_type": "stream",
     "text": [
      "___________________\n",
      "Turn  56 Player  -1\n"
     ]
    },
    {
     "data": {
      "text/plain": [
       "array([[ 2,  0,  0,  0,  0,  0],\n",
       "       [ 0,  0,  2,  0,  0, -2],\n",
       "       [-2,  0,  0,  0,  0,  0],\n",
       "       [ 0,  0,  2, -1,  0,  0],\n",
       "       [ 0,  0,  2,  0,  0,  0],\n",
       "       [-1,  0,  0,  0,  2,  0]])"
      ]
     },
     "metadata": {},
     "output_type": "display_data"
    },
    {
     "name": "stdout",
     "output_type": "stream",
     "text": [
      "___________________\n",
      "Turn  57 Player  1\n"
     ]
    },
    {
     "data": {
      "text/plain": [
       "array([[ 2,  0,  0,  0,  0,  0],\n",
       "       [ 0,  0,  2,  0, -2,  0],\n",
       "       [-2,  0,  0,  0,  0,  0],\n",
       "       [ 0,  0,  2, -1,  0,  0],\n",
       "       [ 0,  0,  2,  0,  0,  0],\n",
       "       [-1,  0,  0,  0,  2,  0]])"
      ]
     },
     "metadata": {},
     "output_type": "display_data"
    },
    {
     "name": "stdout",
     "output_type": "stream",
     "text": [
      "___________________\n",
      "Turn  58 Player  -1\n"
     ]
    },
    {
     "data": {
      "text/plain": [
       "array([[ 2,  0,  0,  0,  0,  0],\n",
       "       [ 0,  0,  2,  0, -2,  0],\n",
       "       [-2,  0,  0,  0,  0,  0],\n",
       "       [ 0,  0,  2, -1,  0,  0],\n",
       "       [ 0,  0,  2,  0,  0,  0],\n",
       "       [-1,  0,  0,  1,  2,  0]])"
      ]
     },
     "metadata": {},
     "output_type": "display_data"
    },
    {
     "name": "stdout",
     "output_type": "stream",
     "text": [
      "___________________\n",
      "Turn  59 Player  1\n"
     ]
    },
    {
     "data": {
      "text/plain": [
       "array([[ 2,  0,  0,  0,  0,  0],\n",
       "       [ 0,  0,  2,  0, -2,  0],\n",
       "       [-2,  0,  0,  0,  0,  0],\n",
       "       [ 0,  0,  2, -1,  0, -2],\n",
       "       [ 0,  0,  2,  0,  0,  0],\n",
       "       [-1,  0,  0,  1,  2,  0]])"
      ]
     },
     "metadata": {},
     "output_type": "display_data"
    },
    {
     "name": "stdout",
     "output_type": "stream",
     "text": [
      "___________________\n",
      "Turn  60 Player  -1\n"
     ]
    },
    {
     "data": {
      "text/plain": [
       "array([[ 2,  0,  0,  0,  0,  0],\n",
       "       [ 0,  0,  0,  0, -2,  0],\n",
       "       [-2,  0,  0,  0,  0,  0],\n",
       "       [ 0,  0,  0,  0,  0, -2],\n",
       "       [ 0,  0,  2,  0, -1,  0],\n",
       "       [-1,  0,  0,  1,  2,  0]])"
      ]
     },
     "metadata": {},
     "output_type": "display_data"
    },
    {
     "name": "stdout",
     "output_type": "stream",
     "text": [
      "___________________\n",
      "Turn  61 Player  1\n"
     ]
    },
    {
     "data": {
      "text/plain": [
       "array([[ 2,  0,  0,  0,  0,  0],\n",
       "       [ 0,  0,  0,  0, -2,  0],\n",
       "       [-2,  0,  0,  0,  0, -2],\n",
       "       [ 0,  0,  0,  0,  0,  0],\n",
       "       [ 0,  0,  2, -1,  0, -2],\n",
       "       [-1,  0,  0,  1,  0,  0]])"
      ]
     },
     "metadata": {},
     "output_type": "display_data"
    },
    {
     "name": "stdout",
     "output_type": "stream",
     "text": [
      "___________________\n",
      "Turn  62 Player  -1\n"
     ]
    },
    {
     "data": {
      "text/plain": [
       "array([[ 2,  0,  0,  0,  0, -2],\n",
       "       [ 0,  0,  0,  0,  0,  0],\n",
       "       [-2,  0,  0,  2,  0, -2],\n",
       "       [ 0,  0,  0,  0,  0,  0],\n",
       "       [ 0,  0,  2, -1,  0, -2],\n",
       "       [-1,  0,  0,  1,  0,  0]])"
      ]
     },
     "metadata": {},
     "output_type": "display_data"
    },
    {
     "name": "stdout",
     "output_type": "stream",
     "text": [
      "___________________\n",
      "Turn  63 Player  1\n"
     ]
    },
    {
     "data": {
      "text/plain": [
       "array([[ 2,  0,  0,  0,  0, -2],\n",
       "       [ 0,  0,  0,  0,  0,  0],\n",
       "       [-2,  0,  0,  2,  0, -2],\n",
       "       [ 0,  0,  0,  0,  0,  0],\n",
       "       [ 0,  0,  2, -1, -2,  0],\n",
       "       [-1,  0,  0,  0,  0,  0]])"
      ]
     },
     "metadata": {},
     "output_type": "display_data"
    },
    {
     "name": "stdout",
     "output_type": "stream",
     "text": [
      "___________________\n",
      "Turn  64 Player  -1\n"
     ]
    },
    {
     "data": {
      "text/plain": [
       "array([[ 0,  0,  0,  0,  0, -2],\n",
       "       [ 2,  0,  0,  0,  0,  0],\n",
       "       [ 0,  0,  0,  2,  0, -2],\n",
       "       [-2,  0,  0,  0,  0,  0],\n",
       "       [ 0,  0,  2, -1, -2,  0],\n",
       "       [-1,  0,  0,  0,  0,  0]])"
      ]
     },
     "metadata": {},
     "output_type": "display_data"
    },
    {
     "name": "stdout",
     "output_type": "stream",
     "text": [
      "___________________\n",
      "Turn  65 Player  1\n"
     ]
    },
    {
     "data": {
      "text/plain": [
       "array([[ 0,  0,  0,  0,  0, -2],\n",
       "       [ 2,  0,  0,  0,  0,  0],\n",
       "       [ 0,  0,  0,  2,  0, -2],\n",
       "       [-2,  0,  2,  0, -1,  0],\n",
       "       [ 0,  0,  0,  0, -2,  0],\n",
       "       [-1,  0, -2,  0,  0,  0]])"
      ]
     },
     "metadata": {},
     "output_type": "display_data"
    },
    {
     "name": "stdout",
     "output_type": "stream",
     "text": [
      "___________________\n",
      "Turn  66 Player  -1\n"
     ]
    },
    {
     "data": {
      "text/plain": [
       "array([[ 0,  0,  0,  0,  0, -2],\n",
       "       [ 2,  0,  0,  0,  0,  0],\n",
       "       [ 0,  0,  0,  2,  0, -2],\n",
       "       [-2,  0,  2,  0, -1,  0],\n",
       "       [ 1,  0,  0,  0, -2,  0],\n",
       "       [ 0,  0, -2,  0,  0,  0]])"
      ]
     },
     "metadata": {},
     "output_type": "display_data"
    },
    {
     "name": "stdout",
     "output_type": "stream",
     "text": [
      "___________________\n",
      "Turn  67 Player  1\n"
     ]
    },
    {
     "data": {
      "text/plain": [
       "array([[ 0,  0,  0,  0,  0, -2],\n",
       "       [ 0, -2,  0,  0,  0,  0],\n",
       "       [ 0,  0,  0,  2,  0, -2],\n",
       "       [-2,  0,  2,  0, -1,  0],\n",
       "       [ 1,  0,  0,  0, -2,  0],\n",
       "       [ 0,  0, -2,  0,  0,  0]])"
      ]
     },
     "metadata": {},
     "output_type": "display_data"
    },
    {
     "name": "stdout",
     "output_type": "stream",
     "text": [
      "___________________\n",
      "Turn  68 Player  -1\n"
     ]
    },
    {
     "data": {
      "text/plain": [
       "array([[ 0,  0,  0,  0,  0, -2],\n",
       "       [ 0, -2,  0,  0,  0,  0],\n",
       "       [ 0,  0,  2,  0,  2,  0],\n",
       "       [-2,  0,  2,  0, -1,  0],\n",
       "       [ 1,  0,  0,  0, -2,  0],\n",
       "       [ 0,  0, -2,  0,  0,  0]])"
      ]
     },
     "metadata": {},
     "output_type": "display_data"
    },
    {
     "name": "stdout",
     "output_type": "stream",
     "text": [
      "___________________\n",
      "Turn  69 Player  1\n"
     ]
    },
    {
     "data": {
      "text/plain": [
       "array([[-2,  0,  0,  0,  0, -2],\n",
       "       [ 0, -2,  0,  0,  0,  0],\n",
       "       [ 0,  0,  2,  0,  2,  0],\n",
       "       [-2,  0,  2,  0, -1,  0],\n",
       "       [ 1,  0,  0,  0, -2,  0],\n",
       "       [ 0,  0, -2,  0,  0,  0]])"
      ]
     },
     "metadata": {},
     "output_type": "display_data"
    },
    {
     "name": "stdout",
     "output_type": "stream",
     "text": [
      "___________________\n",
      "Turn  70 Player  -1\n"
     ]
    },
    {
     "data": {
      "text/plain": [
       "array([[-2,  0,  0,  0,  0, -2],\n",
       "       [ 0, -2,  0,  0,  0,  0],\n",
       "       [ 0,  0,  2,  0,  2,  0],\n",
       "       [-2,  0,  2,  0, -1, -2],\n",
       "       [ 1,  0,  0,  0,  0,  0],\n",
       "       [ 0, -2,  0,  2,  0,  0]])"
      ]
     },
     "metadata": {},
     "output_type": "display_data"
    },
    {
     "name": "stdout",
     "output_type": "stream",
     "text": [
      "___________________\n",
      "Turn  71 Player  1\n"
     ]
    },
    {
     "data": {
      "text/plain": [
       "array([[-2,  0,  0,  0,  0, -2],\n",
       "       [ 0, -2,  0,  0,  0,  0],\n",
       "       [-1,  0,  2,  0,  2,  0],\n",
       "       [-2,  0,  2,  0, -1, -2],\n",
       "       [ 1,  0,  0,  0,  0,  0],\n",
       "       [ 0, -2,  0,  2,  0,  0]])"
      ]
     },
     "metadata": {},
     "output_type": "display_data"
    },
    {
     "name": "stdout",
     "output_type": "stream",
     "text": [
      "___________________\n",
      "Turn  72 Player  -1\n"
     ]
    },
    {
     "data": {
      "text/plain": [
       "array([[-2,  1,  0,  0,  0, -2],\n",
       "       [ 0, -2,  0,  0,  0,  0],\n",
       "       [-1,  0,  2,  0,  2,  0],\n",
       "       [-2,  0,  2,  0, -1, -2],\n",
       "       [ 1,  0,  0,  0,  0,  0],\n",
       "       [ 0, -2,  0,  2,  0,  0]])"
      ]
     },
     "metadata": {},
     "output_type": "display_data"
    },
    {
     "name": "stdout",
     "output_type": "stream",
     "text": [
      "___________________\n",
      "Turn  73 Player  1\n"
     ]
    },
    {
     "data": {
      "text/plain": [
       "array([[-2,  1,  0,  0,  0, -2],\n",
       "       [ 0, -2,  0,  0,  0,  0],\n",
       "       [ 0,  0,  2,  0,  2,  0],\n",
       "       [-2,  0,  2,  0, -1, -2],\n",
       "       [ 1,  0,  0,  0,  0,  0],\n",
       "       [ 0, -2,  0,  2,  0,  0]])"
      ]
     },
     "metadata": {},
     "output_type": "display_data"
    },
    {
     "name": "stdout",
     "output_type": "stream",
     "text": [
      "___________________\n",
      "Turn  74 Player  -1\n"
     ]
    },
    {
     "data": {
      "text/plain": [
       "array([[-2,  1,  0,  0,  0, -2],\n",
       "       [ 0, -2,  0,  0,  0,  0],\n",
       "       [ 0,  2,  0,  2,  0,  2],\n",
       "       [-2,  0,  0,  0,  0, -2],\n",
       "       [ 1,  2,  0,  0,  0, -1],\n",
       "       [ 0, -2,  0,  2,  0,  0]])"
      ]
     },
     "metadata": {},
     "output_type": "display_data"
    },
    {
     "name": "stdout",
     "output_type": "stream",
     "text": [
      "___________________\n",
      "Turn  75 Player  1\n"
     ]
    },
    {
     "data": {
      "text/plain": [
       "array([[-2,  1,  0,  0,  0, -2],\n",
       "       [ 0, -2,  2,  0,  0,  0],\n",
       "       [ 0,  2,  0,  0,  0,  0],\n",
       "       [-2,  0,  0,  0, -2,  0],\n",
       "       [ 1,  2,  0,  0,  0,  0],\n",
       "       [ 0, -2,  0,  2,  0,  0]])"
      ]
     },
     "metadata": {},
     "output_type": "display_data"
    },
    {
     "name": "stdout",
     "output_type": "stream",
     "text": [
      "___________________\n",
      "Turn  76 Player  -1\n"
     ]
    },
    {
     "data": {
      "text/plain": [
       "array([[-2,  1,  0,  0,  0, -2],\n",
       "       [ 0, -2,  2,  0,  0,  0],\n",
       "       [ 0,  2,  0,  0,  0,  0],\n",
       "       [-2,  0,  0,  0, -2,  0],\n",
       "       [ 0,  0,  0,  0,  0,  0],\n",
       "       [ 0,  0,  0,  0,  0,  0]])"
      ]
     },
     "metadata": {},
     "output_type": "display_data"
    },
    {
     "name": "stdout",
     "output_type": "stream",
     "text": [
      "___________________\n",
      "Turn  77 Player  1\n"
     ]
    },
    {
     "data": {
      "text/plain": [
       "array([[-2,  1,  0,  0,  0, -2],\n",
       "       [ 0, -2,  2, -2,  0,  0],\n",
       "       [ 0,  2,  0,  0,  0,  0],\n",
       "       [-2,  0,  0,  0, -2,  0],\n",
       "       [ 0,  0,  0,  0,  0,  0],\n",
       "       [ 0,  0,  0,  0,  0,  0]])"
      ]
     },
     "metadata": {},
     "output_type": "display_data"
    },
    {
     "name": "stdout",
     "output_type": "stream",
     "text": [
      "___________________\n",
      "Turn  78 Player  -1\n"
     ]
    },
    {
     "data": {
      "text/plain": [
       "array([[-2,  1, -2,  0,  0, -2],\n",
       "       [ 0, -2,  2,  0,  0,  0],\n",
       "       [ 0,  2,  0,  0,  2,  0],\n",
       "       [-2,  0,  0,  0,  0,  0],\n",
       "       [ 0,  0,  0,  0, -2,  0],\n",
       "       [ 0,  0,  0,  0,  0,  0]])"
      ]
     },
     "metadata": {},
     "output_type": "display_data"
    },
    {
     "name": "stdout",
     "output_type": "stream",
     "text": [
      "___________________\n",
      "Turn  79 Player  1\n"
     ]
    },
    {
     "data": {
      "text/plain": [
       "array([[-2,  1, -2,  0,  0, -2],\n",
       "       [ 0, -2,  2,  0,  0,  0],\n",
       "       [ 0,  2,  0,  0,  2,  0],\n",
       "       [ 0,  0,  0,  0,  0,  0],\n",
       "       [ 0, -2,  0,  0, -2,  0],\n",
       "       [ 0,  0,  0,  0,  0,  0]])"
      ]
     },
     "metadata": {},
     "output_type": "display_data"
    },
    {
     "name": "stdout",
     "output_type": "stream",
     "text": [
      "___________________\n",
      "Turn  80 Player  -1\n"
     ]
    },
    {
     "data": {
      "text/plain": [
       "array([[-2,  1,  0,  0,  0, -2],\n",
       "       [ 0, -2,  2,  2,  0,  0],\n",
       "       [ 0,  2,  0,  0,  0,  0],\n",
       "       [ 0,  0,  0,  0,  0,  2],\n",
       "       [ 0, -2,  0,  0, -2,  0],\n",
       "       [ 0,  0,  0,  0,  0,  0]])"
      ]
     },
     "metadata": {},
     "output_type": "display_data"
    },
    {
     "name": "stdout",
     "output_type": "stream",
     "text": [
      "___________________\n",
      "Turn  81 Player  1\n"
     ]
    },
    {
     "data": {
      "text/plain": [
       "array([[ 0,  1,  0,  0,  0, -2],\n",
       "       [ 0,  0,  2,  2,  0,  0],\n",
       "       [ 0,  2,  0,  0,  0,  0],\n",
       "       [ 0,  0,  0,  0,  0,  2],\n",
       "       [ 0, -2,  0,  0, -2,  0],\n",
       "       [ 0,  0,  0,  0,  0,  0]])"
      ]
     },
     "metadata": {},
     "output_type": "display_data"
    },
    {
     "name": "stdout",
     "output_type": "stream",
     "text": [
      "___________________\n",
      "Turn  82 Player  -1\n"
     ]
    },
    {
     "data": {
      "text/plain": [
       "array([[ 0,  1,  0,  0,  0, -2],\n",
       "       [ 0,  0,  2,  2,  0,  0],\n",
       "       [ 0,  2,  0,  0,  0,  0],\n",
       "       [ 0,  0,  0,  0,  2,  0],\n",
       "       [ 0, -2,  0,  0,  0,  0],\n",
       "       [ 0,  0,  0,  0, -2,  0]])"
      ]
     },
     "metadata": {},
     "output_type": "display_data"
    },
    {
     "name": "stdout",
     "output_type": "stream",
     "text": [
      "___________________\n",
      "Turn  83 Player  1\n"
     ]
    },
    {
     "data": {
      "text/plain": [
       "array([[ 0,  1,  0,  0,  0, -2],\n",
       "       [ 0,  0,  2,  2,  0,  0],\n",
       "       [ 0,  2,  0,  0,  0,  0],\n",
       "       [ 0,  0,  0,  0,  2,  0],\n",
       "       [ 0, -2,  0,  0,  0,  0],\n",
       "       [ 0,  0,  0, -2,  0, -2]])"
      ]
     },
     "metadata": {},
     "output_type": "display_data"
    },
    {
     "name": "stdout",
     "output_type": "stream",
     "text": [
      "___________________\n",
      "Turn  84 Player  -1\n"
     ]
    },
    {
     "data": {
      "text/plain": [
       "array([[ 0,  1,  0,  0,  0, -2],\n",
       "       [ 0,  0,  2,  2,  0,  0],\n",
       "       [ 2,  0,  2,  0,  0,  0],\n",
       "       [ 0,  0,  0,  0,  2,  0],\n",
       "       [ 0, -2,  0,  0,  0,  0],\n",
       "       [ 0,  0,  0, -2,  0, -2]])"
      ]
     },
     "metadata": {},
     "output_type": "display_data"
    },
    {
     "name": "stdout",
     "output_type": "stream",
     "text": [
      "___________________\n",
      "Turn  85 Player  1\n"
     ]
    },
    {
     "data": {
      "text/plain": [
       "array([[ 0,  1,  0,  0,  0, -2],\n",
       "       [ 0,  0,  2,  2,  0,  0],\n",
       "       [ 0,  0,  2,  0,  0,  0],\n",
       "       [ 0, -2,  0,  0,  2,  0],\n",
       "       [ 0,  0,  0,  0,  0,  0],\n",
       "       [ 0, -2,  0, -2,  0, -2]])"
      ]
     },
     "metadata": {},
     "output_type": "display_data"
    },
    {
     "name": "stdout",
     "output_type": "stream",
     "text": [
      "___________________\n",
      "Turn  86 Player  -1\n"
     ]
    },
    {
     "data": {
      "text/plain": [
       "array([[ 0,  0,  0,  2,  0, -2],\n",
       "       [ 0,  0,  0,  0,  0,  0],\n",
       "       [ 0,  2,  0,  0,  0,  0],\n",
       "       [ 0, -2,  0,  0,  0,  0],\n",
       "       [ 0,  0,  0,  0,  0,  2],\n",
       "       [ 0, -2,  0, -2,  0, -2]])"
      ]
     },
     "metadata": {},
     "output_type": "display_data"
    },
    {
     "name": "stdout",
     "output_type": "stream",
     "text": [
      "___________________\n",
      "Turn  87 Player  1\n"
     ]
    },
    {
     "data": {
      "text/plain": [
       "array([[ 0,  0,  0,  0,  0, -2],\n",
       "       [ 0,  0,  0, -2,  0,  0],\n",
       "       [ 0,  2,  0,  0,  0,  0],\n",
       "       [ 0, -2,  0,  0,  0,  0],\n",
       "       [ 0,  0,  0,  0,  0,  2],\n",
       "       [ 0, -2,  0, -2,  0, -2]])"
      ]
     },
     "metadata": {},
     "output_type": "display_data"
    },
    {
     "name": "stdout",
     "output_type": "stream",
     "text": [
      "___________________\n",
      "Turn  88 Player  -1\n"
     ]
    },
    {
     "data": {
      "text/plain": [
       "array([[ 0,  0,  0,  0,  0, -2],\n",
       "       [ 0,  0,  0, -2,  0,  0],\n",
       "       [ 0,  2,  0,  0,  0,  0],\n",
       "       [ 0, -2,  0,  2,  0,  0],\n",
       "       [ 0,  0,  0,  0,  0,  2],\n",
       "       [ 0, -2,  0, -2,  0, -2]])"
      ]
     },
     "metadata": {},
     "output_type": "display_data"
    },
    {
     "name": "stdout",
     "output_type": "stream",
     "text": [
      "___________________\n",
      "Turn  89 Player  1\n"
     ]
    },
    {
     "data": {
      "text/plain": [
       "array([[ 0,  0,  0,  0, -2, -2],\n",
       "       [ 0,  0,  0,  0,  0,  0],\n",
       "       [ 2,  0, -2,  0,  0,  0],\n",
       "       [ 0,  0,  0,  0,  0,  0],\n",
       "       [-2,  0,  0,  0,  2,  2],\n",
       "       [ 0, -2,  0, -2,  0, -2]])"
      ]
     },
     "metadata": {},
     "output_type": "display_data"
    },
    {
     "name": "stdout",
     "output_type": "stream",
     "text": [
      "___________________\n",
      "Turn  90 Player  -1\n"
     ]
    },
    {
     "data": {
      "text/plain": [
       "array([[ 0,  0,  0,  0, -2, -2],\n",
       "       [ 0,  0,  2,  0,  0,  0],\n",
       "       [ 2,  0,  0,  0,  0,  0],\n",
       "       [ 0,  0, -2,  0,  0,  0],\n",
       "       [-2,  0,  0,  0,  2,  2],\n",
       "       [ 0, -2,  0, -2,  0, -2]])"
      ]
     },
     "metadata": {},
     "output_type": "display_data"
    },
    {
     "name": "stdout",
     "output_type": "stream",
     "text": [
      "___________________\n",
      "Game over: Turn  90 Result  -1\n"
     ]
    },
    {
     "data": {
      "text/plain": [
       "array([[ 0,  0,  0,  0, -2, -2],\n",
       "       [ 0,  0,  2,  0,  0,  0],\n",
       "       [ 2,  0,  0,  0,  0, -2],\n",
       "       [ 0,  0, -2,  0,  0,  0],\n",
       "       [-2,  0,  0,  0,  2,  2],\n",
       "       [ 0, -2,  0, -2,  0, -2]])"
      ]
     },
     "metadata": {},
     "output_type": "display_data"
    },
    {
     "name": "stderr",
     "output_type": "stream",
     "text": [
      "\r",
      "Arena.playGames (1):  40%|█████████████████████████▏                                     | 2/5 [00:00<00:01,  2.82it/s]"
     ]
    },
    {
     "name": "stdout",
     "output_type": "stream",
     "text": [
      "Turn  1 Player  1\n"
     ]
    },
    {
     "data": {
      "text/plain": [
       "array([[0, 0, 0, 0, 0, 0],\n",
       "       [0, 0, 0, 0, 0, 0],\n",
       "       [0, 0, 0, 0, 0, 0],\n",
       "       [0, 0, 0, 0, 0, 0],\n",
       "       [0, 0, 0, 0, 0, 0],\n",
       "       [0, 0, 0, 0, 0, 0]])"
      ]
     },
     "metadata": {},
     "output_type": "display_data"
    },
    {
     "name": "stdout",
     "output_type": "stream",
     "text": [
      "___________________\n",
      "Turn  2 Player  -1\n"
     ]
    },
    {
     "data": {
      "text/plain": [
       "array([[0, 0, 0, 0, 0, 0],\n",
       "       [0, 0, 0, 0, 0, 0],\n",
       "       [0, 0, 0, 0, 0, 0],\n",
       "       [0, 0, 0, 0, 0, 0],\n",
       "       [1, 0, 0, 0, 0, 0],\n",
       "       [0, 0, 0, 0, 0, 0]])"
      ]
     },
     "metadata": {},
     "output_type": "display_data"
    },
    {
     "name": "stdout",
     "output_type": "stream",
     "text": [
      "___________________\n",
      "Turn  3 Player  1\n"
     ]
    },
    {
     "data": {
      "text/plain": [
       "array([[ 0,  0,  0,  0,  0,  0],\n",
       "       [ 0,  0,  0,  0,  0,  0],\n",
       "       [ 0,  0,  0,  0,  0,  0],\n",
       "       [ 0,  0,  0, -1,  0,  0],\n",
       "       [ 1,  0,  0,  0,  0,  0],\n",
       "       [ 0,  0,  0,  0,  0,  0]])"
      ]
     },
     "metadata": {},
     "output_type": "display_data"
    },
    {
     "name": "stdout",
     "output_type": "stream",
     "text": [
      "___________________\n",
      "Turn  4 Player  -1\n"
     ]
    },
    {
     "data": {
      "text/plain": [
       "array([[ 0,  0,  0,  0,  0,  0],\n",
       "       [ 0,  0,  0,  0,  0,  0],\n",
       "       [ 0,  0,  0,  0,  0,  0],\n",
       "       [ 0,  0,  0, -1,  0,  1],\n",
       "       [ 1,  0,  0,  0,  0,  0],\n",
       "       [ 0,  0,  0,  0,  0,  0]])"
      ]
     },
     "metadata": {},
     "output_type": "display_data"
    },
    {
     "name": "stdout",
     "output_type": "stream",
     "text": [
      "___________________\n",
      "Turn  5 Player  1\n"
     ]
    },
    {
     "data": {
      "text/plain": [
       "array([[ 0,  0,  0,  0, -1,  0],\n",
       "       [ 0,  0,  0,  0,  0,  0],\n",
       "       [ 0,  0,  0,  0,  0,  0],\n",
       "       [ 0,  0,  0, -1,  0,  1],\n",
       "       [ 1,  0,  0,  0,  0,  0],\n",
       "       [ 0,  0,  0,  0,  0,  0]])"
      ]
     },
     "metadata": {},
     "output_type": "display_data"
    },
    {
     "name": "stdout",
     "output_type": "stream",
     "text": [
      "___________________\n",
      "Turn  6 Player  -1\n"
     ]
    },
    {
     "data": {
      "text/plain": [
       "array([[ 0,  0,  0, -1,  0,  1],\n",
       "       [ 0,  0,  0,  0,  0,  0],\n",
       "       [ 0,  0,  0,  0,  0,  0],\n",
       "       [ 0,  0,  0, -1,  0,  1],\n",
       "       [ 1,  0,  0,  0,  0,  0],\n",
       "       [ 0,  0,  0,  0,  0,  0]])"
      ]
     },
     "metadata": {},
     "output_type": "display_data"
    },
    {
     "name": "stdout",
     "output_type": "stream",
     "text": [
      "___________________\n",
      "Turn  7 Player  1\n"
     ]
    },
    {
     "data": {
      "text/plain": [
       "array([[ 0,  0,  0, -1,  0,  1],\n",
       "       [ 0,  0,  0,  0,  0,  0],\n",
       "       [ 0,  0, -1,  0,  0,  0],\n",
       "       [ 0,  0,  0,  0,  0,  1],\n",
       "       [ 1,  0,  0,  0, -1,  0],\n",
       "       [ 0,  0,  0,  0,  0,  0]])"
      ]
     },
     "metadata": {},
     "output_type": "display_data"
    },
    {
     "name": "stdout",
     "output_type": "stream",
     "text": [
      "___________________\n",
      "Turn  8 Player  -1\n"
     ]
    },
    {
     "data": {
      "text/plain": [
       "array([[ 0,  0,  0, -1,  0,  1],\n",
       "       [ 0,  0,  0,  0,  0,  0],\n",
       "       [ 0,  0, -1,  0,  0,  0],\n",
       "       [ 1,  0,  0,  0,  0,  1],\n",
       "       [ 0,  0,  0,  0, -1,  0],\n",
       "       [ 1,  0,  0,  0,  0,  0]])"
      ]
     },
     "metadata": {},
     "output_type": "display_data"
    },
    {
     "name": "stdout",
     "output_type": "stream",
     "text": [
      "___________________\n",
      "Turn  9 Player  1\n"
     ]
    },
    {
     "data": {
      "text/plain": [
       "array([[ 0,  0, -1,  0, -1,  0],\n",
       "       [ 0,  0,  0,  0,  0,  0],\n",
       "       [ 0,  0, -1,  0,  0,  0],\n",
       "       [ 1,  0,  0,  0,  0,  1],\n",
       "       [ 0,  0,  0,  0, -1,  0],\n",
       "       [ 1,  0,  0,  0,  0,  0]])"
      ]
     },
     "metadata": {},
     "output_type": "display_data"
    },
    {
     "name": "stdout",
     "output_type": "stream",
     "text": [
      "___________________\n",
      "Turn  10 Player  -1\n"
     ]
    },
    {
     "data": {
      "text/plain": [
       "array([[ 0,  0, -1,  0, -1,  0],\n",
       "       [ 0,  0, -1,  0,  0,  0],\n",
       "       [ 0,  0,  0,  0,  0,  0],\n",
       "       [ 1,  0,  1,  0,  0,  1],\n",
       "       [ 0,  0,  0,  0, -1,  0],\n",
       "       [ 1,  0,  0,  0,  0,  0]])"
      ]
     },
     "metadata": {},
     "output_type": "display_data"
    },
    {
     "name": "stdout",
     "output_type": "stream",
     "text": [
      "___________________\n",
      "Turn  11 Player  1\n"
     ]
    },
    {
     "data": {
      "text/plain": [
       "array([[ 0,  0,  0,  0, -1,  0],\n",
       "       [ 0,  0,  0,  0,  0,  0],\n",
       "       [ 0,  0,  0,  0,  0,  0],\n",
       "       [ 1,  0,  0,  0,  0,  1],\n",
       "       [ 0,  0,  1,  0, -1,  0],\n",
       "       [ 1,  0,  0,  0,  0,  0]])"
      ]
     },
     "metadata": {},
     "output_type": "display_data"
    },
    {
     "name": "stdout",
     "output_type": "stream",
     "text": [
      "___________________\n",
      "Turn  12 Player  -1\n"
     ]
    },
    {
     "data": {
      "text/plain": [
       "array([[ 0,  0,  0,  0, -1,  0],\n",
       "       [ 0,  0,  0,  0,  0,  0],\n",
       "       [ 0,  0,  0,  0,  0,  0],\n",
       "       [ 1,  0,  0,  1,  0,  1],\n",
       "       [ 0,  0,  0,  0, -1,  0],\n",
       "       [ 0,  1,  0,  0,  0,  0]])"
      ]
     },
     "metadata": {},
     "output_type": "display_data"
    },
    {
     "name": "stdout",
     "output_type": "stream",
     "text": [
      "___________________\n",
      "Turn  13 Player  1\n"
     ]
    },
    {
     "data": {
      "text/plain": [
       "array([[ 0,  0,  0, -1,  0, -2],\n",
       "       [ 0,  0,  0,  0,  0,  0],\n",
       "       [ 0,  0,  0,  0,  0,  0],\n",
       "       [ 1,  0,  0,  1,  0,  1],\n",
       "       [ 0,  0,  0,  0, -1,  0],\n",
       "       [ 0,  1,  0,  0,  0,  0]])"
      ]
     },
     "metadata": {},
     "output_type": "display_data"
    },
    {
     "name": "stdout",
     "output_type": "stream",
     "text": [
      "___________________\n",
      "Turn  14 Player  -1\n"
     ]
    },
    {
     "data": {
      "text/plain": [
       "array([[ 0,  0,  0, -1,  0, -2],\n",
       "       [ 0,  0,  0,  0,  0,  0],\n",
       "       [ 0,  0,  1,  0,  0,  0],\n",
       "       [ 1,  0,  0,  1,  0,  1],\n",
       "       [ 0,  0,  0,  0, -1,  0],\n",
       "       [ 0,  1,  0,  0,  0,  0]])"
      ]
     },
     "metadata": {},
     "output_type": "display_data"
    },
    {
     "name": "stdout",
     "output_type": "stream",
     "text": [
      "___________________\n",
      "Turn  15 Player  1\n"
     ]
    },
    {
     "data": {
      "text/plain": [
       "array([[ 0,  0,  0,  0,  0, -2],\n",
       "       [ 0,  0,  0, -1,  0,  0],\n",
       "       [ 0,  0,  0,  0,  0,  0],\n",
       "       [ 1,  1,  0,  1,  0,  1],\n",
       "       [ 0,  0,  0,  0, -1,  0],\n",
       "       [ 0,  1,  0,  0,  0,  0]])"
      ]
     },
     "metadata": {},
     "output_type": "display_data"
    },
    {
     "name": "stdout",
     "output_type": "stream",
     "text": [
      "___________________\n",
      "Turn  16 Player  -1\n"
     ]
    },
    {
     "data": {
      "text/plain": [
       "array([[ 0,  0,  0,  0,  0, -2],\n",
       "       [ 0,  0,  0, -1,  0,  0],\n",
       "       [ 0,  0,  0,  1,  0,  0],\n",
       "       [ 1,  1,  0,  0,  0,  1],\n",
       "       [ 0,  0,  0,  1,  0, -1],\n",
       "       [ 0,  1,  0,  0,  0,  0]])"
      ]
     },
     "metadata": {},
     "output_type": "display_data"
    },
    {
     "name": "stdout",
     "output_type": "stream",
     "text": [
      "___________________\n",
      "Turn  17 Player  1\n"
     ]
    },
    {
     "data": {
      "text/plain": [
       "array([[ 0,  0,  0,  0,  0, -2],\n",
       "       [ 0,  0,  0, -1,  0, -1],\n",
       "       [ 0,  0,  0,  1,  0,  0],\n",
       "       [ 1,  1,  0,  0,  0,  1],\n",
       "       [ 0,  0,  0,  1,  0, -1],\n",
       "       [ 0,  1,  0,  0,  0,  0]])"
      ]
     },
     "metadata": {},
     "output_type": "display_data"
    },
    {
     "name": "stdout",
     "output_type": "stream",
     "text": [
      "___________________\n",
      "Turn  18 Player  -1\n"
     ]
    },
    {
     "data": {
      "text/plain": [
       "array([[ 0,  0,  0,  0,  0, -2],\n",
       "       [ 1,  0,  0, -1,  0, -1],\n",
       "       [ 0,  0,  0,  1,  0,  0],\n",
       "       [ 1,  1,  0,  0,  0,  1],\n",
       "       [ 0,  0,  0,  1,  0, -1],\n",
       "       [ 0,  1,  0,  0,  0,  0]])"
      ]
     },
     "metadata": {},
     "output_type": "display_data"
    },
    {
     "name": "stdout",
     "output_type": "stream",
     "text": [
      "___________________\n",
      "Turn  19 Player  1\n"
     ]
    },
    {
     "data": {
      "text/plain": [
       "array([[ 0,  0,  0,  0,  0, -2],\n",
       "       [ 1,  0, -2,  0, -1, -1],\n",
       "       [ 0,  0,  0,  0,  0,  0],\n",
       "       [ 1,  1,  0,  0,  1,  1],\n",
       "       [ 0,  0,  0,  1,  0, -1],\n",
       "       [ 0,  1,  0,  0,  0,  0]])"
      ]
     },
     "metadata": {},
     "output_type": "display_data"
    },
    {
     "name": "stdout",
     "output_type": "stream",
     "text": [
      "___________________\n",
      "Turn  20 Player  -1\n"
     ]
    },
    {
     "data": {
      "text/plain": [
       "array([[ 0,  0,  0,  0,  0, -2],\n",
       "       [ 1,  0, -2,  0, -1, -1],\n",
       "       [ 0,  0,  0,  0,  1,  0],\n",
       "       [ 1,  1,  0,  0,  0,  0],\n",
       "       [ 0,  0,  1,  0,  1,  0],\n",
       "       [ 0,  1,  0,  0,  0,  0]])"
      ]
     },
     "metadata": {},
     "output_type": "display_data"
    },
    {
     "name": "stdout",
     "output_type": "stream",
     "text": [
      "___________________\n",
      "Turn  21 Player  1\n"
     ]
    },
    {
     "data": {
      "text/plain": [
       "array([[ 0,  0,  0,  0,  0, -2],\n",
       "       [ 1,  0, -2,  0, -1, -1],\n",
       "       [ 0,  0,  0,  0,  1,  0],\n",
       "       [ 1,  1, -1,  0,  0,  0],\n",
       "       [ 0,  0,  0,  0,  1,  0],\n",
       "       [ 0,  1,  1,  0,  0,  0]])"
      ]
     },
     "metadata": {},
     "output_type": "display_data"
    },
    {
     "name": "stdout",
     "output_type": "stream",
     "text": [
      "___________________\n",
      "Turn  22 Player  -1\n"
     ]
    },
    {
     "data": {
      "text/plain": [
       "array([[ 1,  0,  0,  0,  0, -2],\n",
       "       [ 0,  0, -2,  0, -1, -1],\n",
       "       [ 1,  0,  0,  0,  1,  0],\n",
       "       [ 1,  1, -1,  0,  0,  0],\n",
       "       [ 0,  0,  0,  0,  1,  0],\n",
       "       [ 0,  1,  1,  0,  0,  0]])"
      ]
     },
     "metadata": {},
     "output_type": "display_data"
    },
    {
     "name": "stdout",
     "output_type": "stream",
     "text": [
      "___________________\n",
      "Turn  23 Player  1\n"
     ]
    },
    {
     "data": {
      "text/plain": [
       "array([[ 1,  0,  0,  0,  0,  0],\n",
       "       [ 0,  0, -2,  0,  0, -1],\n",
       "       [ 1,  0,  0,  0,  0,  1],\n",
       "       [ 1,  1,  0,  0,  0,  0],\n",
       "       [ 0, -1,  0,  0,  1,  0],\n",
       "       [ 0,  1,  1,  0,  0,  0]])"
      ]
     },
     "metadata": {},
     "output_type": "display_data"
    },
    {
     "name": "stdout",
     "output_type": "stream",
     "text": [
      "___________________\n",
      "Turn  24 Player  -1\n"
     ]
    },
    {
     "data": {
      "text/plain": [
       "array([[ 1,  0,  0,  0,  0,  0],\n",
       "       [ 0,  0, -2,  0,  0, -1],\n",
       "       [ 1,  0,  0,  0,  0,  1],\n",
       "       [ 1,  1,  0,  0,  0,  0],\n",
       "       [ 0, -1,  0,  0,  0,  0],\n",
       "       [ 0,  1,  1,  0,  0,  0]])"
      ]
     },
     "metadata": {},
     "output_type": "display_data"
    },
    {
     "name": "stdout",
     "output_type": "stream",
     "text": [
      "___________________\n",
      "Turn  25 Player  1\n"
     ]
    },
    {
     "data": {
      "text/plain": [
       "array([[ 1,  0,  0,  0,  0,  0],\n",
       "       [ 0,  0, -2,  0,  0, -1],\n",
       "       [ 1,  0,  0,  0,  0,  0],\n",
       "       [ 1,  1,  0,  0, -2,  0],\n",
       "       [ 0, -1,  0,  0,  0,  0],\n",
       "       [ 0,  1,  1,  0,  0,  0]])"
      ]
     },
     "metadata": {},
     "output_type": "display_data"
    },
    {
     "name": "stdout",
     "output_type": "stream",
     "text": [
      "___________________\n",
      "Turn  26 Player  -1\n"
     ]
    },
    {
     "data": {
      "text/plain": [
       "array([[ 1,  0,  0,  0,  0,  0],\n",
       "       [ 0,  0, -2,  0,  0, -1],\n",
       "       [ 1,  0,  0,  0,  0,  0],\n",
       "       [ 1,  1,  0, -2,  0,  2],\n",
       "       [ 0, -1,  0,  0,  0,  0],\n",
       "       [ 0,  1,  1,  0,  0,  0]])"
      ]
     },
     "metadata": {},
     "output_type": "display_data"
    },
    {
     "name": "stdout",
     "output_type": "stream",
     "text": [
      "___________________\n",
      "Turn  27 Player  1\n"
     ]
    },
    {
     "data": {
      "text/plain": [
       "array([[ 1,  0,  0,  0,  0,  0],\n",
       "       [ 0,  0, -2,  0,  0, -1],\n",
       "       [ 1,  0,  0,  0,  0,  0],\n",
       "       [ 1,  1, -1, -2,  0,  2],\n",
       "       [ 0,  0,  0,  0,  0,  0],\n",
       "       [-1,  1,  1,  0,  0,  0]])"
      ]
     },
     "metadata": {},
     "output_type": "display_data"
    },
    {
     "name": "stdout",
     "output_type": "stream",
     "text": [
      "___________________\n",
      "Turn  28 Player  -1\n"
     ]
    },
    {
     "data": {
      "text/plain": [
       "array([[ 1,  0,  0,  0,  0,  1],\n",
       "       [ 0,  0, -2,  0,  0,  0],\n",
       "       [ 1,  0,  0,  0,  0, -1],\n",
       "       [ 1,  1, -1, -2,  0,  2],\n",
       "       [ 0,  0,  0,  0,  0,  0],\n",
       "       [-1,  1,  1,  0,  0,  0]])"
      ]
     },
     "metadata": {},
     "output_type": "display_data"
    },
    {
     "name": "stdout",
     "output_type": "stream",
     "text": [
      "___________________\n",
      "Turn  29 Player  1\n"
     ]
    },
    {
     "data": {
      "text/plain": [
       "array([[ 0,  0,  0,  0,  0,  1],\n",
       "       [-2,  0, -2,  0,  0,  0],\n",
       "       [ 1,  0,  0,  0,  0, -1],\n",
       "       [ 1,  1, -1, -2,  0,  2],\n",
       "       [ 0,  0,  0,  0,  0,  0],\n",
       "       [-1,  1,  1,  0,  0,  0]])"
      ]
     },
     "metadata": {},
     "output_type": "display_data"
    },
    {
     "name": "stdout",
     "output_type": "stream",
     "text": [
      "___________________\n",
      "Turn  30 Player  -1\n"
     ]
    },
    {
     "data": {
      "text/plain": [
       "array([[ 0,  0,  0,  0,  0,  1],\n",
       "       [-2,  1, -2,  0,  0,  0],\n",
       "       [ 0,  0,  0,  0,  0, -1],\n",
       "       [ 1,  1, -1, -2,  0,  2],\n",
       "       [ 0,  0,  0,  0,  0,  0],\n",
       "       [-1,  1,  1,  0,  0,  0]])"
      ]
     },
     "metadata": {},
     "output_type": "display_data"
    },
    {
     "name": "stdout",
     "output_type": "stream",
     "text": [
      "___________________\n",
      "Turn  31 Player  1\n"
     ]
    },
    {
     "data": {
      "text/plain": [
       "array([[ 0,  0,  0,  0,  0,  1],\n",
       "       [-2,  1, -2,  0,  0,  0],\n",
       "       [ 0,  0,  0,  0, -2,  0],\n",
       "       [ 1,  1, -1,  0,  0,  0],\n",
       "       [ 0,  0, -2,  0,  0,  0],\n",
       "       [-1,  1,  1,  0,  0,  0]])"
      ]
     },
     "metadata": {},
     "output_type": "display_data"
    },
    {
     "name": "stdout",
     "output_type": "stream",
     "text": [
      "___________________\n",
      "Turn  32 Player  -1\n"
     ]
    },
    {
     "data": {
      "text/plain": [
       "array([[ 0,  0,  0,  0,  0,  0],\n",
       "       [-2,  1, -2,  0,  0,  1],\n",
       "       [ 0,  0,  0,  0, -2,  0],\n",
       "       [ 1,  1, -1,  0,  0,  0],\n",
       "       [ 0,  0, -2,  0,  0,  0],\n",
       "       [-1,  1,  1,  0,  0,  0]])"
      ]
     },
     "metadata": {},
     "output_type": "display_data"
    },
    {
     "name": "stdout",
     "output_type": "stream",
     "text": [
      "___________________\n",
      "Turn  33 Player  1\n"
     ]
    },
    {
     "data": {
      "text/plain": [
       "array([[ 0,  0,  0,  0,  0,  0],\n",
       "       [-2,  1, -2,  0,  0,  1],\n",
       "       [ 0,  0,  0, -1, -2,  0],\n",
       "       [ 1,  1,  0,  0,  0,  0],\n",
       "       [ 0, -1, -2,  0,  0,  0],\n",
       "       [-1,  1,  1,  0,  0,  0]])"
      ]
     },
     "metadata": {},
     "output_type": "display_data"
    },
    {
     "name": "stdout",
     "output_type": "stream",
     "text": [
      "___________________\n",
      "Turn  34 Player  -1\n"
     ]
    },
    {
     "data": {
      "text/plain": [
       "array([[ 0,  0,  0,  0,  0,  0],\n",
       "       [-2,  1, -2,  0,  0,  1],\n",
       "       [ 0,  0,  0, -1, -2,  0],\n",
       "       [ 1,  1,  0,  0,  0,  0],\n",
       "       [ 0, -1, -2,  0,  0,  0],\n",
       "       [-1,  0,  0,  0,  0,  0]])"
      ]
     },
     "metadata": {},
     "output_type": "display_data"
    },
    {
     "name": "stdout",
     "output_type": "stream",
     "text": [
      "___________________\n",
      "Turn  35 Player  1\n"
     ]
    },
    {
     "data": {
      "text/plain": [
       "array([[ 0,  0,  0,  0,  0,  0],\n",
       "       [-2,  1, -2,  0,  0,  1],\n",
       "       [ 0,  0,  0, -1, -2,  0],\n",
       "       [ 1,  1,  0,  0,  0,  0],\n",
       "       [ 0,  0,  0,  0,  0,  0],\n",
       "       [-1,  0,  0,  0,  0,  0]])"
      ]
     },
     "metadata": {},
     "output_type": "display_data"
    },
    {
     "name": "stdout",
     "output_type": "stream",
     "text": [
      "___________________\n",
      "Turn  36 Player  -1\n"
     ]
    },
    {
     "data": {
      "text/plain": [
       "array([[ 1,  0,  0,  0,  0,  0],\n",
       "       [-2,  0, -2,  0,  0,  1],\n",
       "       [ 0,  0,  1, -1, -2,  0],\n",
       "       [ 1,  0,  0,  0,  0,  0],\n",
       "       [ 1,  0,  0,  0,  0,  0],\n",
       "       [-1,  0,  0,  0,  0,  0]])"
      ]
     },
     "metadata": {},
     "output_type": "display_data"
    },
    {
     "name": "stdout",
     "output_type": "stream",
     "text": [
      "___________________\n",
      "Turn  37 Player  1\n"
     ]
    },
    {
     "data": {
      "text/plain": [
       "array([[ 1,  0,  0, -2,  0,  0],\n",
       "       [-2,  0,  0,  0,  0,  1],\n",
       "       [ 0, -2,  1, -1, -2,  0],\n",
       "       [ 1,  0,  0,  0,  0,  0],\n",
       "       [ 1,  0,  0,  0,  0,  0],\n",
       "       [-1,  0,  0,  0,  0,  0]])"
      ]
     },
     "metadata": {},
     "output_type": "display_data"
    },
    {
     "name": "stdout",
     "output_type": "stream",
     "text": [
      "___________________\n",
      "Turn  38 Player  -1\n"
     ]
    },
    {
     "data": {
      "text/plain": [
       "array([[ 1,  0,  0, -2,  0,  0],\n",
       "       [-2,  1,  0, -1,  0,  1],\n",
       "       [ 0, -2,  0,  0, -2,  0],\n",
       "       [ 1,  0,  0,  2,  0,  0],\n",
       "       [ 1,  0,  0,  0,  0,  0],\n",
       "       [-1,  0,  0,  0,  0,  0]])"
      ]
     },
     "metadata": {},
     "output_type": "display_data"
    },
    {
     "name": "stdout",
     "output_type": "stream",
     "text": [
      "___________________\n",
      "Turn  39 Player  1\n"
     ]
    },
    {
     "data": {
      "text/plain": [
       "array([[ 1,  0,  0, -2,  0,  0],\n",
       "       [-2,  1,  0, -1,  0,  1],\n",
       "       [ 0, -2,  0,  0, -2,  0],\n",
       "       [ 1,  0,  0,  2,  0,  0],\n",
       "       [ 1,  0,  0,  0,  0,  0],\n",
       "       [-1,  0, -2,  0,  0,  0]])"
      ]
     },
     "metadata": {},
     "output_type": "display_data"
    },
    {
     "name": "stdout",
     "output_type": "stream",
     "text": [
      "___________________\n",
      "Turn  40 Player  -1\n"
     ]
    },
    {
     "data": {
      "text/plain": [
       "array([[ 1,  0,  0, -2,  0,  2],\n",
       "       [-2,  1,  0, -1,  0,  0],\n",
       "       [ 0, -2,  0,  0, -2,  1],\n",
       "       [ 1,  0,  0,  2,  0,  0],\n",
       "       [ 1,  0,  0,  0,  0,  0],\n",
       "       [-1,  0, -2,  0,  0,  0]])"
      ]
     },
     "metadata": {},
     "output_type": "display_data"
    },
    {
     "name": "stdout",
     "output_type": "stream",
     "text": [
      "___________________\n",
      "Turn  41 Player  1\n"
     ]
    },
    {
     "data": {
      "text/plain": [
       "array([[ 1,  0,  0,  0,  0,  0],\n",
       "       [-2,  1, -1,  0, -2,  0],\n",
       "       [ 0, -2,  0,  0,  0,  0],\n",
       "       [ 1,  0,  0,  2, -2,  0],\n",
       "       [ 1,  0,  0,  0,  0,  0],\n",
       "       [-1,  0, -2,  0,  0,  0]])"
      ]
     },
     "metadata": {},
     "output_type": "display_data"
    },
    {
     "name": "stdout",
     "output_type": "stream",
     "text": [
      "___________________\n",
      "Turn  42 Player  -1\n"
     ]
    },
    {
     "data": {
      "text/plain": [
       "array([[ 1,  0,  0,  1,  0,  0],\n",
       "       [-2,  1, -1,  0, -2,  0],\n",
       "       [ 0, -2,  0,  0,  0,  0],\n",
       "       [ 1,  0,  0,  2, -2,  0],\n",
       "       [ 1,  0,  0,  0,  0,  0],\n",
       "       [-1,  0, -2,  0,  0,  0]])"
      ]
     },
     "metadata": {},
     "output_type": "display_data"
    },
    {
     "name": "stdout",
     "output_type": "stream",
     "text": [
      "___________________\n",
      "Turn  43 Player  1\n"
     ]
    },
    {
     "data": {
      "text/plain": [
       "array([[ 1,  0,  0,  1,  0,  0],\n",
       "       [-2,  1, -1,  0, -2,  0],\n",
       "       [ 0, -2,  0,  0,  0,  0],\n",
       "       [ 1,  0,  0,  2, -2, -2],\n",
       "       [ 1,  0,  0,  0,  0,  0],\n",
       "       [-1,  0, -2,  0,  0,  0]])"
      ]
     },
     "metadata": {},
     "output_type": "display_data"
    },
    {
     "name": "stdout",
     "output_type": "stream",
     "text": [
      "___________________\n",
      "Turn  44 Player  -1\n"
     ]
    },
    {
     "data": {
      "text/plain": [
       "array([[ 1,  0,  0,  1,  0,  0],\n",
       "       [-2,  1, -1,  0, -2,  0],\n",
       "       [ 0, -2,  0,  2,  0, -2],\n",
       "       [ 1,  0,  0,  0,  0, -2],\n",
       "       [ 1,  0,  0,  2,  0,  0],\n",
       "       [-1,  0,  0,  0,  0,  0]])"
      ]
     },
     "metadata": {},
     "output_type": "display_data"
    },
    {
     "name": "stdout",
     "output_type": "stream",
     "text": [
      "___________________\n",
      "Game over: Turn  44 Result  -1\n"
     ]
    },
    {
     "data": {
      "text/plain": [
       "array([[ 1,  0,  0,  0,  0,  0],\n",
       "       [-2,  1, -1, -2,  0, -2],\n",
       "       [ 0, -2,  0,  0,  0, -2],\n",
       "       [ 1,  0,  0,  2,  0, -2],\n",
       "       [ 1,  0,  0,  2,  0,  0],\n",
       "       [-1,  0,  0,  0,  0,  0]])"
      ]
     },
     "metadata": {},
     "output_type": "display_data"
    },
    {
     "name": "stderr",
     "output_type": "stream",
     "text": [
      "\r",
      "Arena.playGames (1):  60%|█████████████████████████████████████▊                         | 3/5 [00:01<00:00,  3.01it/s]"
     ]
    },
    {
     "name": "stdout",
     "output_type": "stream",
     "text": [
      "Turn  1 Player  1\n"
     ]
    },
    {
     "data": {
      "text/plain": [
       "array([[0, 0, 0, 0, 0, 0],\n",
       "       [0, 0, 0, 0, 0, 0],\n",
       "       [0, 0, 0, 0, 0, 0],\n",
       "       [0, 0, 0, 0, 0, 0],\n",
       "       [0, 0, 0, 0, 0, 0],\n",
       "       [0, 0, 0, 0, 0, 0]])"
      ]
     },
     "metadata": {},
     "output_type": "display_data"
    },
    {
     "name": "stdout",
     "output_type": "stream",
     "text": [
      "___________________\n",
      "Turn  2 Player  -1\n"
     ]
    },
    {
     "data": {
      "text/plain": [
       "array([[0, 0, 0, 0, 0, 0],\n",
       "       [0, 0, 0, 0, 0, 0],\n",
       "       [0, 0, 0, 0, 0, 0],\n",
       "       [0, 0, 0, 0, 0, 0],\n",
       "       [0, 1, 0, 0, 0, 0],\n",
       "       [0, 0, 0, 0, 0, 0]])"
      ]
     },
     "metadata": {},
     "output_type": "display_data"
    },
    {
     "name": "stdout",
     "output_type": "stream",
     "text": [
      "___________________\n",
      "Turn  3 Player  1\n"
     ]
    },
    {
     "data": {
      "text/plain": [
       "array([[ 0,  0,  0,  0,  0,  0],\n",
       "       [ 0,  0,  0,  0,  0,  0],\n",
       "       [ 0,  0,  0,  0,  0,  0],\n",
       "       [ 0,  0,  0, -1,  0,  0],\n",
       "       [ 0,  1,  0,  0,  0,  0],\n",
       "       [ 0,  0,  0,  0,  0,  0]])"
      ]
     },
     "metadata": {},
     "output_type": "display_data"
    },
    {
     "name": "stdout",
     "output_type": "stream",
     "text": [
      "___________________\n",
      "Turn  4 Player  -1\n"
     ]
    },
    {
     "data": {
      "text/plain": [
       "array([[ 0,  0,  0,  0,  0,  1],\n",
       "       [ 0,  0,  0,  0,  0,  0],\n",
       "       [ 0,  0,  0,  0,  0,  0],\n",
       "       [ 0,  0,  0, -1,  0,  0],\n",
       "       [ 0,  1,  0,  0,  0,  0],\n",
       "       [ 0,  0,  0,  0,  0,  0]])"
      ]
     },
     "metadata": {},
     "output_type": "display_data"
    },
    {
     "name": "stdout",
     "output_type": "stream",
     "text": [
      "___________________\n",
      "Turn  5 Player  1\n"
     ]
    },
    {
     "data": {
      "text/plain": [
       "array([[-1,  0,  0,  0,  0,  1],\n",
       "       [ 0,  0,  0,  0,  0,  0],\n",
       "       [ 0,  0,  0,  0,  0,  0],\n",
       "       [ 0,  0,  0, -1,  0,  0],\n",
       "       [ 0,  1,  0,  0,  0,  0],\n",
       "       [ 0,  0,  0,  0,  0,  0]])"
      ]
     },
     "metadata": {},
     "output_type": "display_data"
    },
    {
     "name": "stdout",
     "output_type": "stream",
     "text": [
      "___________________\n",
      "Turn  6 Player  -1\n"
     ]
    },
    {
     "data": {
      "text/plain": [
       "array([[-1,  0,  0,  0,  0,  1],\n",
       "       [ 0,  0,  0,  0,  0,  0],\n",
       "       [ 0,  0,  0,  1,  0,  0],\n",
       "       [ 0,  0,  0,  0,  0,  0],\n",
       "       [ 0,  1,  0, -1,  0,  0],\n",
       "       [ 0,  0,  0,  0,  0,  0]])"
      ]
     },
     "metadata": {},
     "output_type": "display_data"
    },
    {
     "name": "stdout",
     "output_type": "stream",
     "text": [
      "___________________\n",
      "Turn  7 Player  1\n"
     ]
    },
    {
     "data": {
      "text/plain": [
       "array([[-1,  0,  0,  0,  0,  1],\n",
       "       [ 0,  0,  0,  0,  0,  0],\n",
       "       [ 0,  0,  0,  1,  0,  0],\n",
       "       [ 0,  0,  1,  0,  0,  0],\n",
       "       [ 0,  0,  0, -1,  0,  0],\n",
       "       [-1,  0,  0,  0,  0,  0]])"
      ]
     },
     "metadata": {},
     "output_type": "display_data"
    },
    {
     "name": "stdout",
     "output_type": "stream",
     "text": [
      "___________________\n",
      "Turn  8 Player  -1\n"
     ]
    },
    {
     "data": {
      "text/plain": [
       "array([[ 0,  1,  0,  0,  0,  1],\n",
       "       [ 0,  0,  0,  0,  0,  0],\n",
       "       [ 0,  0,  0,  1,  0,  0],\n",
       "       [ 0,  0,  1,  0,  0,  0],\n",
       "       [ 0,  0,  0, -1,  0,  0],\n",
       "       [-1,  0,  0,  0,  0,  0]])"
      ]
     },
     "metadata": {},
     "output_type": "display_data"
    },
    {
     "name": "stdout",
     "output_type": "stream",
     "text": [
      "___________________\n",
      "Turn  9 Player  1\n"
     ]
    },
    {
     "data": {
      "text/plain": [
       "array([[ 0,  1,  0,  0,  0,  1],\n",
       "       [ 0,  0,  0,  0,  0,  0],\n",
       "       [ 0,  0, -1,  0,  1,  0],\n",
       "       [ 0,  0,  0,  0,  0,  0],\n",
       "       [ 0,  0,  1, -1,  0,  0],\n",
       "       [-1,  0,  0,  0,  0,  0]])"
      ]
     },
     "metadata": {},
     "output_type": "display_data"
    },
    {
     "name": "stdout",
     "output_type": "stream",
     "text": [
      "___________________\n",
      "Turn  10 Player  -1\n"
     ]
    },
    {
     "data": {
      "text/plain": [
       "array([[ 0,  0,  0,  0,  0,  1],\n",
       "       [ 1,  0,  0,  0,  0,  0],\n",
       "       [ 0,  0, -1,  0,  1,  0],\n",
       "       [ 0,  0,  0,  0,  0,  0],\n",
       "       [ 0,  0,  1, -1,  0,  0],\n",
       "       [-1,  0,  0,  0,  0,  0]])"
      ]
     },
     "metadata": {},
     "output_type": "display_data"
    },
    {
     "name": "stdout",
     "output_type": "stream",
     "text": [
      "___________________\n",
      "Turn  11 Player  1\n"
     ]
    },
    {
     "data": {
      "text/plain": [
       "array([[ 0,  0,  0,  0,  0,  1],\n",
       "       [ 0,  0,  0,  0,  0,  0],\n",
       "       [ 0, -1,  0, -1,  1,  0],\n",
       "       [ 0,  0,  0,  0,  0,  0],\n",
       "       [ 0,  0,  1, -1,  0,  0],\n",
       "       [-1,  0,  0,  0,  0,  0]])"
      ]
     },
     "metadata": {},
     "output_type": "display_data"
    },
    {
     "name": "stdout",
     "output_type": "stream",
     "text": [
      "___________________\n",
      "Turn  12 Player  -1\n"
     ]
    },
    {
     "data": {
      "text/plain": [
       "array([[ 0,  0,  0,  0,  0,  1],\n",
       "       [ 0,  0,  0,  0,  0,  0],\n",
       "       [ 0, -1,  0, -1,  1,  0],\n",
       "       [ 0,  0, -1,  0,  0,  0],\n",
       "       [ 0,  0,  1,  0,  0,  0],\n",
       "       [-1,  0,  0,  0,  1,  0]])"
      ]
     },
     "metadata": {},
     "output_type": "display_data"
    },
    {
     "name": "stdout",
     "output_type": "stream",
     "text": [
      "___________________\n",
      "Turn  13 Player  1\n"
     ]
    },
    {
     "data": {
      "text/plain": [
       "array([[ 0,  0,  0,  0,  0,  1],\n",
       "       [ 0,  0,  0,  0,  0,  0],\n",
       "       [ 0, -1,  0,  0,  1,  0],\n",
       "       [ 0,  0,  0,  0,  0,  0],\n",
       "       [ 0,  0,  0,  1,  0,  0],\n",
       "       [ 0,  0,  0,  0,  1,  0]])"
      ]
     },
     "metadata": {},
     "output_type": "display_data"
    },
    {
     "name": "stdout",
     "output_type": "stream",
     "text": [
      "___________________\n",
      "Turn  14 Player  -1\n"
     ]
    },
    {
     "data": {
      "text/plain": [
       "array([[ 0,  0,  0,  0,  0,  1],\n",
       "       [ 0,  0,  0,  0,  0,  0],\n",
       "       [ 0, -1,  0,  0,  1,  0],\n",
       "       [ 0,  0,  0,  0,  0,  0],\n",
       "       [ 0,  0,  0,  1,  0,  0],\n",
       "       [ 0,  1,  0,  0,  1,  0]])"
      ]
     },
     "metadata": {},
     "output_type": "display_data"
    },
    {
     "name": "stdout",
     "output_type": "stream",
     "text": [
      "___________________\n",
      "Turn  15 Player  1\n"
     ]
    },
    {
     "data": {
      "text/plain": [
       "array([[ 0,  0,  0,  0,  0,  1],\n",
       "       [ 0,  0,  0,  0,  0,  0],\n",
       "       [ 0, -1,  0,  0,  1,  0],\n",
       "       [ 0,  0,  0,  0,  0,  0],\n",
       "       [ 0, -2,  0,  1,  0,  0],\n",
       "       [ 0,  0,  0,  0,  1,  0]])"
      ]
     },
     "metadata": {},
     "output_type": "display_data"
    },
    {
     "name": "stdout",
     "output_type": "stream",
     "text": [
      "___________________\n",
      "Turn  16 Player  -1\n"
     ]
    },
    {
     "data": {
      "text/plain": [
       "array([[ 0,  0,  0,  0,  0,  1],\n",
       "       [ 0,  0,  1,  0,  0,  0],\n",
       "       [ 0,  0,  0,  0,  1,  0],\n",
       "       [-1,  0,  0,  0,  0,  0],\n",
       "       [ 0, -2,  0,  1,  0,  0],\n",
       "       [ 0,  0,  0,  0,  1,  0]])"
      ]
     },
     "metadata": {},
     "output_type": "display_data"
    },
    {
     "name": "stdout",
     "output_type": "stream",
     "text": [
      "___________________\n",
      "Turn  17 Player  1\n"
     ]
    },
    {
     "data": {
      "text/plain": [
       "array([[ 0,  0,  1,  0,  0,  1],\n",
       "       [ 0,  0,  0,  0,  0,  0],\n",
       "       [ 0,  0, -1,  0,  1,  0],\n",
       "       [-1,  0,  0,  0,  0,  0],\n",
       "       [ 0, -2,  0,  1,  0,  0],\n",
       "       [ 0,  0,  0,  0,  1,  0]])"
      ]
     },
     "metadata": {},
     "output_type": "display_data"
    },
    {
     "name": "stdout",
     "output_type": "stream",
     "text": [
      "___________________\n",
      "Turn  18 Player  -1\n"
     ]
    },
    {
     "data": {
      "text/plain": [
       "array([[ 0,  0,  1,  0,  0,  1],\n",
       "       [ 0,  0,  0,  0,  0,  0],\n",
       "       [ 0,  0, -1,  0,  1,  0],\n",
       "       [-1,  0,  0,  0,  0,  0],\n",
       "       [ 0, -2,  0,  1,  0,  1],\n",
       "       [ 0,  0,  0,  0,  0,  0]])"
      ]
     },
     "metadata": {},
     "output_type": "display_data"
    },
    {
     "name": "stdout",
     "output_type": "stream",
     "text": [
      "___________________\n",
      "Turn  19 Player  1\n"
     ]
    },
    {
     "data": {
      "text/plain": [
       "array([[ 0,  0,  1,  0,  0,  1],\n",
       "       [ 0,  0,  0,  0,  0,  0],\n",
       "       [ 0, -1,  0, -1,  0,  1],\n",
       "       [-1,  0,  0,  0,  0,  0],\n",
       "       [ 0, -2,  0,  1,  0,  1],\n",
       "       [ 0,  0,  0,  0,  0,  0]])"
      ]
     },
     "metadata": {},
     "output_type": "display_data"
    },
    {
     "name": "stdout",
     "output_type": "stream",
     "text": [
      "___________________\n",
      "Turn  20 Player  -1\n"
     ]
    },
    {
     "data": {
      "text/plain": [
       "array([[ 0,  0,  1,  0,  0,  1],\n",
       "       [ 0,  0,  0,  0,  0,  0],\n",
       "       [ 0, -1,  0, -1,  0,  1],\n",
       "       [-1,  0,  0,  1,  0,  0],\n",
       "       [ 0, -2,  0,  0,  0,  1],\n",
       "       [ 0,  0,  0,  1,  0,  0]])"
      ]
     },
     "metadata": {},
     "output_type": "display_data"
    },
    {
     "name": "stdout",
     "output_type": "stream",
     "text": [
      "___________________\n",
      "Turn  21 Player  1\n"
     ]
    },
    {
     "data": {
      "text/plain": [
       "array([[ 0,  0,  1,  0,  0,  1],\n",
       "       [-1,  0,  0,  0, -1,  0],\n",
       "       [ 0,  0,  0,  0,  0,  1],\n",
       "       [-1,  0, -1,  0,  1,  0],\n",
       "       [ 0, -2,  0,  0,  0,  1],\n",
       "       [ 0,  0,  0,  1,  0,  0]])"
      ]
     },
     "metadata": {},
     "output_type": "display_data"
    },
    {
     "name": "stdout",
     "output_type": "stream",
     "text": [
      "___________________\n",
      "Turn  22 Player  -1\n"
     ]
    },
    {
     "data": {
      "text/plain": [
       "array([[ 0,  0,  1,  0,  0,  1],\n",
       "       [-1,  0,  0,  0, -1,  0],\n",
       "       [ 0,  0,  0,  0,  1,  1],\n",
       "       [-1,  0, -1,  0,  0,  0],\n",
       "       [ 0, -2,  0,  0,  1,  0],\n",
       "       [ 0,  0,  0,  0,  0,  0]])"
      ]
     },
     "metadata": {},
     "output_type": "display_data"
    },
    {
     "name": "stdout",
     "output_type": "stream",
     "text": [
      "___________________\n",
      "Turn  23 Player  1\n"
     ]
    },
    {
     "data": {
      "text/plain": [
       "array([[ 0,  0,  1,  0,  0,  1],\n",
       "       [-1,  0,  0,  0, -1,  0],\n",
       "       [ 0,  0, -1,  0,  1,  1],\n",
       "       [-1,  0,  0,  0,  0,  0],\n",
       "       [ 0, -2, -1,  0,  1,  0],\n",
       "       [ 0,  0,  0,  0,  0,  0]])"
      ]
     },
     "metadata": {},
     "output_type": "display_data"
    },
    {
     "name": "stdout",
     "output_type": "stream",
     "text": [
      "___________________\n",
      "Turn  24 Player  -1\n"
     ]
    },
    {
     "data": {
      "text/plain": [
       "array([[ 0,  0,  1,  0,  0,  1],\n",
       "       [-1,  0,  0,  0, -1,  0],\n",
       "       [-1,  0, -1,  0,  1,  1],\n",
       "       [ 0,  0,  0,  0,  0,  0],\n",
       "       [ 1, -2, -1,  0,  1,  0],\n",
       "       [ 0,  0,  0,  0,  0,  0]])"
      ]
     },
     "metadata": {},
     "output_type": "display_data"
    },
    {
     "name": "stdout",
     "output_type": "stream",
     "text": [
      "___________________\n",
      "Turn  25 Player  1\n"
     ]
    },
    {
     "data": {
      "text/plain": [
       "array([[ 0,  0,  1,  0,  0,  1],\n",
       "       [-1,  0,  0,  0, -1,  0],\n",
       "       [-1,  0, -1,  0,  1,  1],\n",
       "       [ 0,  0,  0,  0,  0,  0],\n",
       "       [ 1, -2, -1,  1,  0, -2],\n",
       "       [ 0,  0,  0,  0,  0,  0]])"
      ]
     },
     "metadata": {},
     "output_type": "display_data"
    },
    {
     "name": "stdout",
     "output_type": "stream",
     "text": [
      "___________________\n",
      "Turn  26 Player  -1\n"
     ]
    },
    {
     "data": {
      "text/plain": [
       "array([[ 0,  0,  1,  0,  0,  1],\n",
       "       [ 0,  0,  0,  0, -1,  0],\n",
       "       [ 0,  1,  0, -1,  1,  1],\n",
       "       [ 0,  0,  0,  0,  0,  0],\n",
       "       [ 1, -2, -1,  1,  0, -2],\n",
       "       [ 0,  0,  0,  0,  0,  0]])"
      ]
     },
     "metadata": {},
     "output_type": "display_data"
    },
    {
     "name": "stdout",
     "output_type": "stream",
     "text": [
      "___________________\n",
      "Turn  27 Player  1\n"
     ]
    },
    {
     "data": {
      "text/plain": [
       "array([[ 0,  0,  1,  0,  0,  0],\n",
       "       [ 0,  0,  0, -1, -1,  0],\n",
       "       [ 0,  1,  0,  0,  0,  0],\n",
       "       [ 0,  0,  0, -1,  0,  0],\n",
       "       [ 1, -2,  0,  0,  0, -2],\n",
       "       [ 0, -1,  0,  1,  0,  0]])"
      ]
     },
     "metadata": {},
     "output_type": "display_data"
    },
    {
     "name": "stdout",
     "output_type": "stream",
     "text": [
      "___________________\n",
      "Turn  28 Player  -1\n"
     ]
    },
    {
     "data": {
      "text/plain": [
       "array([[ 0,  0,  1,  0, -1,  0],\n",
       "       [ 0,  0,  0,  0, -1,  0],\n",
       "       [ 1,  0,  2,  0,  0,  0],\n",
       "       [ 0,  0,  0,  0,  0,  0],\n",
       "       [ 1, -2,  0,  0, -1, -2],\n",
       "       [ 0, -1,  0,  1,  0,  0]])"
      ]
     },
     "metadata": {},
     "output_type": "display_data"
    },
    {
     "name": "stdout",
     "output_type": "stream",
     "text": [
      "___________________\n",
      "Turn  29 Player  1\n"
     ]
    },
    {
     "data": {
      "text/plain": [
       "array([[ 0,  0,  1,  0, -1,  0],\n",
       "       [ 0,  0,  0,  0, -1,  0],\n",
       "       [ 1,  0,  2,  0,  0,  0],\n",
       "       [ 0,  0,  0, -1,  0,  0],\n",
       "       [ 1, -2,  0,  0,  0, -2],\n",
       "       [ 0, -1,  0,  1,  0, -1]])"
      ]
     },
     "metadata": {},
     "output_type": "display_data"
    },
    {
     "name": "stdout",
     "output_type": "stream",
     "text": [
      "___________________\n",
      "Turn  30 Player  -1\n"
     ]
    },
    {
     "data": {
      "text/plain": [
       "array([[ 0,  0,  1,  0, -1,  0],\n",
       "       [ 0,  0,  0,  0, -1,  0],\n",
       "       [ 1,  0,  2,  0,  0,  0],\n",
       "       [ 0,  0, -1,  0,  1,  0],\n",
       "       [ 1, -2,  0,  0,  0, -2],\n",
       "       [ 0, -1,  0,  1,  0, -1]])"
      ]
     },
     "metadata": {},
     "output_type": "display_data"
    },
    {
     "name": "stdout",
     "output_type": "stream",
     "text": [
      "___________________\n",
      "Turn  31 Player  1\n"
     ]
    },
    {
     "data": {
      "text/plain": [
       "array([[ 0,  0,  1,  0, -1,  0],\n",
       "       [ 0,  0,  0,  0, -1,  0],\n",
       "       [ 1,  0,  2,  0,  0,  0],\n",
       "       [ 0,  0, -1,  0,  1,  0],\n",
       "       [ 1, -2, -2,  0,  0, -2],\n",
       "       [ 0,  0,  0,  0,  0, -1]])"
      ]
     },
     "metadata": {},
     "output_type": "display_data"
    },
    {
     "name": "stdout",
     "output_type": "stream",
     "text": [
      "___________________\n",
      "Turn  32 Player  -1\n"
     ]
    },
    {
     "data": {
      "text/plain": [
       "array([[ 0,  0,  1,  0, -1,  0],\n",
       "       [ 0,  0,  0,  2, -1,  0],\n",
       "       [ 0,  0,  0,  0,  0,  0],\n",
       "       [ 0,  2,  0, -1,  1,  0],\n",
       "       [ 0,  0,  0,  0,  0, -2],\n",
       "       [ 0, -2,  0, -2,  0, -1]])"
      ]
     },
     "metadata": {},
     "output_type": "display_data"
    },
    {
     "name": "stdout",
     "output_type": "stream",
     "text": [
      "___________________\n",
      "Turn  33 Player  1\n"
     ]
    },
    {
     "data": {
      "text/plain": [
       "array([[ 0,  0,  1,  0, -1, -1],\n",
       "       [ 0,  0,  0,  2,  0,  0],\n",
       "       [ 0,  0,  0, -1,  0,  0],\n",
       "       [ 0,  2,  0,  0,  1,  0],\n",
       "       [ 0,  0,  0, -1,  0, -2],\n",
       "       [ 0, -2,  0, -2,  0, -1]])"
      ]
     },
     "metadata": {},
     "output_type": "display_data"
    },
    {
     "name": "stdout",
     "output_type": "stream",
     "text": [
      "___________________\n",
      "Turn  34 Player  -1\n"
     ]
    },
    {
     "data": {
      "text/plain": [
       "array([[ 0,  0,  0,  0, -1, -1],\n",
       "       [ 0,  0,  0,  0,  0,  0],\n",
       "       [ 0,  0, -1,  0,  0,  0],\n",
       "       [ 0,  2,  0,  0,  0,  0],\n",
       "       [ 0,  0,  0, -1,  1, -2],\n",
       "       [ 0, -2,  0, -2,  0, -1]])"
      ]
     },
     "metadata": {},
     "output_type": "display_data"
    },
    {
     "name": "stdout",
     "output_type": "stream",
     "text": [
      "___________________\n",
      "Turn  35 Player  1\n"
     ]
    },
    {
     "data": {
      "text/plain": [
       "array([[ 0,  0,  0,  0, -1,  0],\n",
       "       [ 0,  0,  0,  0,  0,  0],\n",
       "       [ 0,  0, -1,  0,  0,  0],\n",
       "       [ 0,  2,  0,  0,  0,  0],\n",
       "       [ 0,  0,  0, -1,  1, -2],\n",
       "       [ 0, -2,  0, -2,  0, -1]])"
      ]
     },
     "metadata": {},
     "output_type": "display_data"
    },
    {
     "name": "stdout",
     "output_type": "stream",
     "text": [
      "___________________\n",
      "Turn  36 Player  -1\n"
     ]
    },
    {
     "data": {
      "text/plain": [
       "array([[ 0,  0,  0,  0, -1,  0],\n",
       "       [ 0,  0,  0,  0,  0,  0],\n",
       "       [ 0,  0, -1,  0,  0,  0],\n",
       "       [ 1,  2,  0,  0,  0,  0],\n",
       "       [ 0,  0,  0, -1,  1, -2],\n",
       "       [ 0, -2,  0, -2,  0, -1]])"
      ]
     },
     "metadata": {},
     "output_type": "display_data"
    },
    {
     "name": "stdout",
     "output_type": "stream",
     "text": [
      "___________________\n",
      "Turn  37 Player  1\n"
     ]
    },
    {
     "data": {
      "text/plain": [
       "array([[ 0,  0,  0,  0, -1,  0],\n",
       "       [ 0,  0, -1,  0,  0,  0],\n",
       "       [ 0,  0,  0,  0,  0,  0],\n",
       "       [ 1,  2, -2,  0,  0,  0],\n",
       "       [ 0,  0,  0,  0,  1, -2],\n",
       "       [ 0, -2,  0,  0,  0,  0]])"
      ]
     },
     "metadata": {},
     "output_type": "display_data"
    },
    {
     "name": "stdout",
     "output_type": "stream",
     "text": [
      "___________________\n",
      "Turn  38 Player  -1\n"
     ]
    },
    {
     "data": {
      "text/plain": [
       "array([[ 0,  0,  0,  0, -1,  0],\n",
       "       [ 0,  0, -1,  0,  0,  0],\n",
       "       [ 0,  0,  0,  0,  0,  0],\n",
       "       [ 1,  2, -2,  0,  0,  1],\n",
       "       [ 0,  0,  0,  0,  0, -2],\n",
       "       [ 0, -2,  0,  1,  0,  0]])"
      ]
     },
     "metadata": {},
     "output_type": "display_data"
    },
    {
     "name": "stdout",
     "output_type": "stream",
     "text": [
      "___________________\n",
      "Turn  39 Player  1\n"
     ]
    },
    {
     "data": {
      "text/plain": [
       "array([[ 0,  0,  0, -1, -1,  0],\n",
       "       [ 0,  0,  0,  0,  0,  0],\n",
       "       [ 0, -2,  0,  0,  0,  0],\n",
       "       [ 0,  0,  0,  0,  0,  1],\n",
       "       [ 0,  2,  0, -2,  0, -2],\n",
       "       [ 0, -2,  0,  1,  0,  0]])"
      ]
     },
     "metadata": {},
     "output_type": "display_data"
    },
    {
     "name": "stdout",
     "output_type": "stream",
     "text": [
      "___________________\n",
      "Turn  40 Player  -1\n"
     ]
    },
    {
     "data": {
      "text/plain": [
       "array([[ 0,  0,  0, -1, -1,  0],\n",
       "       [ 1,  0,  0,  0,  0,  0],\n",
       "       [ 0, -2,  0,  0,  0,  0],\n",
       "       [ 0,  0,  0,  0,  0,  1],\n",
       "       [ 0,  2,  0, -2,  0, -2],\n",
       "       [ 0, -2,  0,  1,  0,  0]])"
      ]
     },
     "metadata": {},
     "output_type": "display_data"
    },
    {
     "name": "stdout",
     "output_type": "stream",
     "text": [
      "___________________\n",
      "Turn  41 Player  1\n"
     ]
    },
    {
     "data": {
      "text/plain": [
       "array([[ 0,  0,  0,  0,  0,  0],\n",
       "       [ 1,  0,  0, -2,  0,  0],\n",
       "       [ 0, -2,  0,  0,  0,  0],\n",
       "       [ 0,  0,  0,  0,  0,  1],\n",
       "       [ 0,  2,  0, -2,  0, -2],\n",
       "       [ 0, -2,  0,  1,  0,  0]])"
      ]
     },
     "metadata": {},
     "output_type": "display_data"
    },
    {
     "name": "stdout",
     "output_type": "stream",
     "text": [
      "___________________\n",
      "Turn  42 Player  -1\n"
     ]
    },
    {
     "data": {
      "text/plain": [
       "array([[ 0,  0,  0,  0,  0,  0],\n",
       "       [ 1, -2,  0, -2,  0,  0],\n",
       "       [ 0,  0,  0,  0,  0,  0],\n",
       "       [ 0,  2,  0,  0,  0,  1],\n",
       "       [ 0,  2,  0, -2,  0, -2],\n",
       "       [ 0, -2,  0,  1,  0,  0]])"
      ]
     },
     "metadata": {},
     "output_type": "display_data"
    },
    {
     "name": "stdout",
     "output_type": "stream",
     "text": [
      "___________________\n",
      "Turn  43 Player  1\n"
     ]
    },
    {
     "data": {
      "text/plain": [
       "array([[ 0,  0, -2,  0,  0,  0],\n",
       "       [ 1,  0,  0,  0,  0,  0],\n",
       "       [-2,  0,  0,  0, -2,  0],\n",
       "       [ 0,  2,  0,  0,  0,  1],\n",
       "       [ 0,  2,  0, -2,  0, -2],\n",
       "       [ 0, -2,  0,  1,  0,  0]])"
      ]
     },
     "metadata": {},
     "output_type": "display_data"
    },
    {
     "name": "stdout",
     "output_type": "stream",
     "text": [
      "___________________\n",
      "Turn  44 Player  -1\n"
     ]
    },
    {
     "data": {
      "text/plain": [
       "array([[ 0,  0,  0,  0,  0,  0],\n",
       "       [ 0,  2,  0,  0,  0,  0],\n",
       "       [ 0,  0,  0,  0, -2,  0],\n",
       "       [ 0,  2,  0,  0,  0,  1],\n",
       "       [ 0,  2,  0, -2,  0, -2],\n",
       "       [ 0, -2,  0,  1,  0,  0]])"
      ]
     },
     "metadata": {},
     "output_type": "display_data"
    },
    {
     "name": "stdout",
     "output_type": "stream",
     "text": [
      "___________________\n",
      "Turn  45 Player  1\n"
     ]
    },
    {
     "data": {
      "text/plain": [
       "array([[ 0,  0,  0,  0,  0,  0],\n",
       "       [ 0,  2,  0,  0,  0,  0],\n",
       "       [ 0,  0,  0,  0, -2,  0],\n",
       "       [ 0,  2, -1,  0,  0,  1],\n",
       "       [ 0,  2,  0, -2,  0, -2],\n",
       "       [ 0, -2,  0,  1,  0,  0]])"
      ]
     },
     "metadata": {},
     "output_type": "display_data"
    },
    {
     "name": "stdout",
     "output_type": "stream",
     "text": [
      "___________________\n",
      "Turn  46 Player  -1\n"
     ]
    },
    {
     "data": {
      "text/plain": [
       "array([[ 0,  0,  0,  0,  0,  0],\n",
       "       [ 0,  2,  0,  0,  0,  1],\n",
       "       [ 0,  0,  0,  0, -2,  0],\n",
       "       [ 0,  2, -1,  0,  0,  1],\n",
       "       [ 0,  2,  0, -2,  0, -2],\n",
       "       [ 0, -2,  0,  1,  0,  0]])"
      ]
     },
     "metadata": {},
     "output_type": "display_data"
    },
    {
     "name": "stdout",
     "output_type": "stream",
     "text": [
      "___________________\n",
      "Turn  47 Player  1\n"
     ]
    },
    {
     "data": {
      "text/plain": [
       "array([[ 0,  0,  0,  0,  0,  0],\n",
       "       [ 0,  2,  0,  0,  0,  1],\n",
       "       [ 0,  0,  0, -1, -2,  0],\n",
       "       [ 0,  2, -1,  0,  0,  1],\n",
       "       [ 0,  2,  0, -2,  0, -2],\n",
       "       [ 0, -2,  0,  1,  0,  0]])"
      ]
     },
     "metadata": {},
     "output_type": "display_data"
    },
    {
     "name": "stdout",
     "output_type": "stream",
     "text": [
      "___________________\n",
      "Turn  48 Player  -1\n"
     ]
    },
    {
     "data": {
      "text/plain": [
       "array([[ 0,  0,  0,  0,  0,  0],\n",
       "       [ 0,  0,  0,  0,  0,  1],\n",
       "       [ 0,  0,  0, -1, -2,  0],\n",
       "       [ 0,  0, -1,  0,  0,  1],\n",
       "       [ 0,  2,  0, -2,  0, -2],\n",
       "       [ 0, -2,  0,  1,  0,  0]])"
      ]
     },
     "metadata": {},
     "output_type": "display_data"
    },
    {
     "name": "stdout",
     "output_type": "stream",
     "text": [
      "___________________\n",
      "Turn  49 Player  1\n"
     ]
    },
    {
     "data": {
      "text/plain": [
       "array([[ 0,  0,  0,  0,  0,  0],\n",
       "       [ 0,  0,  0,  0,  0,  1],\n",
       "       [ 0,  0,  0, -1, -2,  0],\n",
       "       [ 0,  0, -1,  0,  0,  1],\n",
       "       [ 0,  2,  0, -2,  0, -2],\n",
       "       [-2,  0, -2,  1,  0,  0]])"
      ]
     },
     "metadata": {},
     "output_type": "display_data"
    },
    {
     "name": "stdout",
     "output_type": "stream",
     "text": [
      "___________________\n",
      "Turn  50 Player  -1\n"
     ]
    },
    {
     "data": {
      "text/plain": [
       "array([[ 0,  0,  0,  0,  0,  0],\n",
       "       [ 0,  2,  0,  0,  0,  1],\n",
       "       [ 0,  0,  0, -1, -2,  0],\n",
       "       [ 0,  0, -1,  0,  0,  1],\n",
       "       [ 0,  2,  0, -2,  0, -2],\n",
       "       [-2,  0, -2,  1,  0,  0]])"
      ]
     },
     "metadata": {},
     "output_type": "display_data"
    },
    {
     "name": "stdout",
     "output_type": "stream",
     "text": [
      "___________________\n",
      "Turn  51 Player  1\n"
     ]
    },
    {
     "data": {
      "text/plain": [
       "array([[ 0,  0,  0,  0,  0,  1],\n",
       "       [ 0,  2,  0,  0,  0,  0],\n",
       "       [ 0,  0,  0,  0,  0,  0],\n",
       "       [ 0,  0, -1,  0,  0,  1],\n",
       "       [ 0,  2,  0, -2,  0, -2],\n",
       "       [-2,  0, -2,  1,  0,  0]])"
      ]
     },
     "metadata": {},
     "output_type": "display_data"
    },
    {
     "name": "stdout",
     "output_type": "stream",
     "text": [
      "___________________\n",
      "Turn  52 Player  -1\n"
     ]
    },
    {
     "data": {
      "text/plain": [
       "array([[ 2,  0,  0,  0,  0,  1],\n",
       "       [ 0,  0,  0,  0,  0,  0],\n",
       "       [ 0,  0,  2,  0,  0,  0],\n",
       "       [ 0,  0, -1,  0,  0,  1],\n",
       "       [ 0,  2,  0, -2,  0, -2],\n",
       "       [-2,  0, -2,  1,  0,  0]])"
      ]
     },
     "metadata": {},
     "output_type": "display_data"
    },
    {
     "name": "stdout",
     "output_type": "stream",
     "text": [
      "___________________\n",
      "Turn  53 Player  1\n"
     ]
    },
    {
     "data": {
      "text/plain": [
       "array([[ 2,  0,  0,  0,  0,  1],\n",
       "       [ 0,  0,  0,  0,  0,  0],\n",
       "       [ 0,  0,  2,  0,  0,  0],\n",
       "       [ 0,  0, -1,  0,  0,  1],\n",
       "       [ 2,  0, -2,  0, -2, -2],\n",
       "       [-2,  0,  0,  0,  0,  0]])"
      ]
     },
     "metadata": {},
     "output_type": "display_data"
    },
    {
     "name": "stdout",
     "output_type": "stream",
     "text": [
      "___________________\n",
      "Turn  54 Player  -1\n"
     ]
    },
    {
     "data": {
      "text/plain": [
       "array([[ 2,  0,  0,  0,  0,  1],\n",
       "       [ 0,  0,  0,  0,  0,  0],\n",
       "       [ 0,  2,  0,  2,  0,  0],\n",
       "       [ 0,  0,  0,  0,  0,  1],\n",
       "       [ 2,  0,  0,  0,  0, -2],\n",
       "       [-2,  0,  0,  0,  0,  0]])"
      ]
     },
     "metadata": {},
     "output_type": "display_data"
    },
    {
     "name": "stdout",
     "output_type": "stream",
     "text": [
      "___________________\n",
      "Turn  55 Player  1\n"
     ]
    },
    {
     "data": {
      "text/plain": [
       "array([[ 2,  0,  0,  0,  0,  1],\n",
       "       [ 0,  0,  0,  0,  0,  0],\n",
       "       [ 0,  2,  0,  2,  0,  0],\n",
       "       [ 0,  0,  0,  0,  0,  1],\n",
       "       [ 2,  0,  0,  0,  0, -2],\n",
       "       [-2,  0,  0,  0,  0, -2]])"
      ]
     },
     "metadata": {},
     "output_type": "display_data"
    },
    {
     "name": "stdout",
     "output_type": "stream",
     "text": [
      "___________________\n",
      "Turn  56 Player  -1\n"
     ]
    },
    {
     "data": {
      "text/plain": [
       "array([[ 2,  0,  1,  0,  0,  1],\n",
       "       [ 0,  0,  0,  0,  0,  0],\n",
       "       [ 0,  2,  0,  2,  0,  0],\n",
       "       [ 0,  0,  0,  0,  0,  1],\n",
       "       [ 2,  0,  0,  0,  0, -2],\n",
       "       [-2,  0,  0,  0,  0, -2]])"
      ]
     },
     "metadata": {},
     "output_type": "display_data"
    },
    {
     "name": "stdout",
     "output_type": "stream",
     "text": [
      "___________________\n",
      "Turn  57 Player  1\n"
     ]
    },
    {
     "data": {
      "text/plain": [
       "array([[ 2,  1,  0, -2,  0,  1],\n",
       "       [ 0,  0,  0,  0,  0,  0],\n",
       "       [ 0,  2,  0,  2,  0,  0],\n",
       "       [ 0,  0,  0,  0,  0,  1],\n",
       "       [ 2,  0,  0,  0,  0, -2],\n",
       "       [-2,  0,  0,  0,  0, -2]])"
      ]
     },
     "metadata": {},
     "output_type": "display_data"
    },
    {
     "name": "stdout",
     "output_type": "stream",
     "text": [
      "___________________\n",
      "Turn  58 Player  -1\n"
     ]
    },
    {
     "data": {
      "text/plain": [
       "array([[ 2,  1,  0,  0,  0,  1],\n",
       "       [ 0,  0,  0,  2,  0,  0],\n",
       "       [ 0,  2,  0,  0,  0,  0],\n",
       "       [ 0,  0,  0,  2,  0,  1],\n",
       "       [ 2,  0,  0,  0,  0, -2],\n",
       "       [-2,  0,  0,  0,  0, -2]])"
      ]
     },
     "metadata": {},
     "output_type": "display_data"
    },
    {
     "name": "stdout",
     "output_type": "stream",
     "text": [
      "___________________\n",
      "Turn  59 Player  1\n"
     ]
    },
    {
     "data": {
      "text/plain": [
       "array([[ 2,  1,  0,  0,  0,  1],\n",
       "       [ 0,  0,  0,  2,  0,  0],\n",
       "       [ 0,  2,  2,  0,  0,  0],\n",
       "       [ 0,  0,  0,  0,  0,  0],\n",
       "       [ 2,  0,  0,  0, -2,  0],\n",
       "       [-2,  0,  0,  0,  0,  0]])"
      ]
     },
     "metadata": {},
     "output_type": "display_data"
    },
    {
     "name": "stdout",
     "output_type": "stream",
     "text": [
      "___________________\n",
      "Turn  60 Player  -1\n"
     ]
    },
    {
     "data": {
      "text/plain": [
       "array([[ 2,  1,  0,  0,  0,  1],\n",
       "       [ 0,  0,  0,  2,  0,  0],\n",
       "       [ 0,  2,  2,  0,  0,  0],\n",
       "       [ 0,  0,  0,  0,  0,  0],\n",
       "       [ 2,  1,  0,  0, -2,  0],\n",
       "       [-2,  0,  0,  0,  0,  0]])"
      ]
     },
     "metadata": {},
     "output_type": "display_data"
    },
    {
     "name": "stdout",
     "output_type": "stream",
     "text": [
      "___________________\n",
      "Turn  61 Player  1\n"
     ]
    },
    {
     "data": {
      "text/plain": [
       "array([[ 2,  1,  0,  0,  0,  1],\n",
       "       [ 0,  0,  0,  0,  0,  0],\n",
       "       [ 0,  2,  0,  0,  0,  0],\n",
       "       [ 0,  0,  0,  0,  0,  0],\n",
       "       [ 0,  0,  0,  0, -2,  0],\n",
       "       [ 0, -2,  0,  0,  0,  0]])"
      ]
     },
     "metadata": {},
     "output_type": "display_data"
    },
    {
     "name": "stdout",
     "output_type": "stream",
     "text": [
      "___________________\n",
      "Turn  62 Player  -1\n"
     ]
    },
    {
     "data": {
      "text/plain": [
       "array([[ 2,  1,  0,  0,  0,  1],\n",
       "       [ 0,  0,  0,  0,  0,  0],\n",
       "       [ 0,  2,  0,  0,  0,  0],\n",
       "       [ 0,  0,  0,  0,  0,  0],\n",
       "       [ 0,  2,  0,  0, -2,  0],\n",
       "       [ 0,  0,  0,  0,  0,  0]])"
      ]
     },
     "metadata": {},
     "output_type": "display_data"
    },
    {
     "name": "stdout",
     "output_type": "stream",
     "text": [
      "___________________\n",
      "Turn  63 Player  1\n"
     ]
    },
    {
     "data": {
      "text/plain": [
       "array([[ 2,  1,  0,  0,  0,  0],\n",
       "       [ 0,  0,  0,  0, -2,  0],\n",
       "       [ 0,  2,  0,  0,  0,  0],\n",
       "       [ 0,  0,  0,  0,  0,  0],\n",
       "       [ 0,  2,  0,  0, -2,  0],\n",
       "       [ 0,  0,  0,  0,  0,  0]])"
      ]
     },
     "metadata": {},
     "output_type": "display_data"
    },
    {
     "name": "stdout",
     "output_type": "stream",
     "text": [
      "___________________\n",
      "Turn  64 Player  -1\n"
     ]
    },
    {
     "data": {
      "text/plain": [
       "array([[ 2,  1,  0,  0,  2,  0],\n",
       "       [ 0,  0,  0,  0,  0,  0],\n",
       "       [ 0,  2,  0,  0, -2,  0],\n",
       "       [ 0,  0,  0,  0,  0,  0],\n",
       "       [ 0,  2,  0,  0, -2,  0],\n",
       "       [ 0,  0,  0,  0,  0,  0]])"
      ]
     },
     "metadata": {},
     "output_type": "display_data"
    },
    {
     "name": "stdout",
     "output_type": "stream",
     "text": [
      "___________________\n",
      "Turn  65 Player  1\n"
     ]
    },
    {
     "data": {
      "text/plain": [
       "array([[ 2,  1,  0,  0,  2,  0],\n",
       "       [ 0,  0,  0,  0,  0,  0],\n",
       "       [ 0,  2,  0,  0, -2,  0],\n",
       "       [ 0,  0,  0,  0,  0,  0],\n",
       "       [ 0,  2,  0, -2,  0, -2],\n",
       "       [ 0,  0,  0,  0,  0,  0]])"
      ]
     },
     "metadata": {},
     "output_type": "display_data"
    },
    {
     "name": "stdout",
     "output_type": "stream",
     "text": [
      "___________________\n",
      "Turn  66 Player  -1\n"
     ]
    },
    {
     "data": {
      "text/plain": [
       "array([[ 0,  0,  0,  0,  2,  0],\n",
       "       [ 0,  0,  0,  0,  0,  0],\n",
       "       [ 0,  2,  0,  0, -2,  0],\n",
       "       [ 0,  0,  0,  0,  0,  0],\n",
       "       [ 0,  2,  0, -2,  0, -2],\n",
       "       [ 0,  0,  0,  0,  0,  0]])"
      ]
     },
     "metadata": {},
     "output_type": "display_data"
    },
    {
     "name": "stdout",
     "output_type": "stream",
     "text": [
      "___________________\n",
      "Turn  67 Player  1\n"
     ]
    },
    {
     "data": {
      "text/plain": [
       "array([[ 0,  0,  0,  0,  2,  0],\n",
       "       [ 0,  0,  0,  0,  0,  0],\n",
       "       [-2,  0,  2,  0, -2,  0],\n",
       "       [ 0,  0,  0,  0,  0,  0],\n",
       "       [ 0,  2,  0, -2,  0, -2],\n",
       "       [ 0,  0,  0,  0,  0,  0]])"
      ]
     },
     "metadata": {},
     "output_type": "display_data"
    },
    {
     "name": "stdout",
     "output_type": "stream",
     "text": [
      "___________________\n",
      "Turn  68 Player  -1\n"
     ]
    },
    {
     "data": {
      "text/plain": [
       "array([[ 0,  0,  0,  0,  2,  0],\n",
       "       [ 0,  0,  0,  0,  0,  0],\n",
       "       [-2,  0,  2,  0, -2,  0],\n",
       "       [ 0,  1,  0,  0,  0,  0],\n",
       "       [ 0,  2,  0, -2,  0, -2],\n",
       "       [ 0,  0,  0,  0,  0,  0]])"
      ]
     },
     "metadata": {},
     "output_type": "display_data"
    },
    {
     "name": "stdout",
     "output_type": "stream",
     "text": [
      "___________________\n",
      "Turn  69 Player  1\n"
     ]
    },
    {
     "data": {
      "text/plain": [
       "array([[ 0,  0,  0,  0,  0,  0],\n",
       "       [ 0,  0,  0,  0, -2,  0],\n",
       "       [-2,  0,  2,  0,  0,  0],\n",
       "       [ 0,  1,  0,  0, -2,  0],\n",
       "       [ 0,  2,  0, -2,  0, -2],\n",
       "       [ 0,  0,  0,  0,  0,  0]])"
      ]
     },
     "metadata": {},
     "output_type": "display_data"
    },
    {
     "name": "stdout",
     "output_type": "stream",
     "text": [
      "___________________\n",
      "Turn  70 Player  -1\n"
     ]
    },
    {
     "data": {
      "text/plain": [
       "array([[ 0,  0,  0,  0,  0, -2],\n",
       "       [ 0,  0,  0,  0,  0,  0],\n",
       "       [-2,  0,  0,  2,  0,  0],\n",
       "       [ 0,  0,  0,  0, -2,  0],\n",
       "       [ 0,  0,  0, -2,  0, -2],\n",
       "       [ 0,  0,  0,  0,  0,  0]])"
      ]
     },
     "metadata": {},
     "output_type": "display_data"
    },
    {
     "name": "stdout",
     "output_type": "stream",
     "text": [
      "___________________\n",
      "Turn  71 Player  1\n"
     ]
    },
    {
     "data": {
      "text/plain": [
       "array([[ 0,  0,  0,  0,  0, -2],\n",
       "       [ 0,  0,  0,  2,  0,  0],\n",
       "       [-2,  0,  0,  0,  0,  0],\n",
       "       [ 0,  0,  0, -2,  0, -2],\n",
       "       [ 0,  0,  0,  0,  0, -2],\n",
       "       [ 0,  0,  0, -2,  0,  0]])"
      ]
     },
     "metadata": {},
     "output_type": "display_data"
    },
    {
     "name": "stdout",
     "output_type": "stream",
     "text": [
      "___________________\n",
      "Turn  72 Player  -1\n"
     ]
    },
    {
     "data": {
      "text/plain": [
       "array([[ 0,  0,  0,  0,  0, -2],\n",
       "       [ 0,  0,  0,  2,  0,  0],\n",
       "       [-2,  0,  0,  0,  0,  0],\n",
       "       [ 0,  0,  2,  0, -2, -2],\n",
       "       [ 0,  0,  0,  0,  0, -2],\n",
       "       [ 0,  0,  0, -2,  0,  0]])"
      ]
     },
     "metadata": {},
     "output_type": "display_data"
    },
    {
     "name": "stdout",
     "output_type": "stream",
     "text": [
      "___________________\n",
      "Turn  73 Player  1\n"
     ]
    },
    {
     "data": {
      "text/plain": [
       "array([[ 0,  0,  0,  0,  0, -2],\n",
       "       [ 0,  0,  0,  2,  0,  0],\n",
       "       [ 0,  0,  0,  0,  0,  0],\n",
       "       [ 0, -2,  0,  2, -2, -2],\n",
       "       [ 0,  0,  0,  0,  0, -2],\n",
       "       [ 0,  0,  0, -2,  0,  0]])"
      ]
     },
     "metadata": {},
     "output_type": "display_data"
    },
    {
     "name": "stdout",
     "output_type": "stream",
     "text": [
      "___________________\n",
      "Turn  74 Player  -1\n"
     ]
    },
    {
     "data": {
      "text/plain": [
       "array([[ 0,  0,  0,  0,  0, -2],\n",
       "       [ 0,  0,  0,  2,  0,  0],\n",
       "       [ 0,  0,  0,  0,  0,  0],\n",
       "       [ 0, -2,  0,  2, -2, -2],\n",
       "       [ 0,  0,  0,  0,  0,  0],\n",
       "       [ 0,  0, -2,  0,  2,  0]])"
      ]
     },
     "metadata": {},
     "output_type": "display_data"
    },
    {
     "name": "stdout",
     "output_type": "stream",
     "text": [
      "___________________\n",
      "Turn  75 Player  1\n"
     ]
    },
    {
     "data": {
      "text/plain": [
       "array([[ 0,  0,  0,  0,  0, -2],\n",
       "       [ 0,  0,  0,  2,  0,  0],\n",
       "       [ 0,  0, -2,  0,  0,  0],\n",
       "       [ 0,  0,  0,  2, -2, -2],\n",
       "       [-2,  0,  0,  0,  0,  0],\n",
       "       [ 0,  0, -2,  0,  2,  0]])"
      ]
     },
     "metadata": {},
     "output_type": "display_data"
    },
    {
     "name": "stdout",
     "output_type": "stream",
     "text": [
      "___________________\n",
      "Turn  76 Player  -1\n"
     ]
    },
    {
     "data": {
      "text/plain": [
       "array([[ 0,  0,  0,  0,  0, -2],\n",
       "       [ 2,  0,  0,  2,  0,  0],\n",
       "       [ 0,  0, -2,  0,  0,  0],\n",
       "       [ 0,  0,  0,  2, -2, -2],\n",
       "       [-2,  0,  0,  0,  0,  0],\n",
       "       [ 0,  0, -2,  0,  2,  0]])"
      ]
     },
     "metadata": {},
     "output_type": "display_data"
    },
    {
     "name": "stdout",
     "output_type": "stream",
     "text": [
      "___________________\n",
      "Turn  77 Player  1\n"
     ]
    },
    {
     "data": {
      "text/plain": [
       "array([[ 0,  0,  0,  0,  0, -2],\n",
       "       [ 2,  0,  0,  2,  0,  0],\n",
       "       [ 0,  0, -2,  0,  0, -2],\n",
       "       [ 0,  0,  0,  2,  0,  0],\n",
       "       [-2,  0,  0, -2,  0, -2],\n",
       "       [ 0,  0, -2,  0,  2,  0]])"
      ]
     },
     "metadata": {},
     "output_type": "display_data"
    },
    {
     "name": "stdout",
     "output_type": "stream",
     "text": [
      "___________________\n",
      "Turn  78 Player  -1\n"
     ]
    },
    {
     "data": {
      "text/plain": [
       "array([[ 0,  0,  2,  0,  0, -2],\n",
       "       [ 2,  0,  0,  0,  0,  0],\n",
       "       [ 0,  0, -2,  0,  2,  0],\n",
       "       [ 0,  0,  0,  0,  0,  0],\n",
       "       [-2,  0,  2, -2,  0, -2],\n",
       "       [ 0,  0, -2,  0,  2,  0]])"
      ]
     },
     "metadata": {},
     "output_type": "display_data"
    },
    {
     "name": "stdout",
     "output_type": "stream",
     "text": [
      "___________________\n",
      "Turn  79 Player  1\n"
     ]
    },
    {
     "data": {
      "text/plain": [
       "array([[ 0,  0,  2,  0,  0, -2],\n",
       "       [ 2,  0,  0,  0,  0,  0],\n",
       "       [ 0,  0, -2,  0,  2,  0],\n",
       "       [ 0,  2,  0, -2,  0,  0],\n",
       "       [-2,  0,  0,  0,  0, -2],\n",
       "       [ 0, -2,  0, -2,  0,  2]])"
      ]
     },
     "metadata": {},
     "output_type": "display_data"
    },
    {
     "name": "stdout",
     "output_type": "stream",
     "text": [
      "___________________\n",
      "Turn  80 Player  -1\n"
     ]
    },
    {
     "data": {
      "text/plain": [
       "array([[ 0,  0,  0,  0,  0, -2],\n",
       "       [ 2,  0,  0,  2,  0,  0],\n",
       "       [ 0,  0, -2,  0,  0,  0],\n",
       "       [ 0,  2,  0, -2,  0,  2],\n",
       "       [-2,  0,  0,  0,  0, -2],\n",
       "       [ 0, -2,  0, -2,  0,  2]])"
      ]
     },
     "metadata": {},
     "output_type": "display_data"
    },
    {
     "name": "stdout",
     "output_type": "stream",
     "text": [
      "___________________\n",
      "Game over: Turn  80 Result  -1\n"
     ]
    },
    {
     "data": {
      "text/plain": [
       "array([[ 0,  0,  0,  0,  0, -2],\n",
       "       [ 2,  0,  0,  2,  0,  0],\n",
       "       [ 0,  0, -2,  0,  0,  0],\n",
       "       [-2,  0,  2, -2,  0,  2],\n",
       "       [ 0,  0,  0,  0,  0, -2],\n",
       "       [-2, -2,  0, -2,  0,  2]])"
      ]
     },
     "metadata": {},
     "output_type": "display_data"
    },
    {
     "name": "stderr",
     "output_type": "stream",
     "text": [
      "\r",
      "Arena.playGames (1):  80%|██████████████████████████████████████████████████▍            | 4/5 [00:01<00:00,  2.54it/s]"
     ]
    },
    {
     "name": "stdout",
     "output_type": "stream",
     "text": [
      "Turn  1 Player  1\n"
     ]
    },
    {
     "data": {
      "text/plain": [
       "array([[0, 0, 0, 0, 0, 0],\n",
       "       [0, 0, 0, 0, 0, 0],\n",
       "       [0, 0, 0, 0, 0, 0],\n",
       "       [0, 0, 0, 0, 0, 0],\n",
       "       [0, 0, 0, 0, 0, 0],\n",
       "       [0, 0, 0, 0, 0, 0]])"
      ]
     },
     "metadata": {},
     "output_type": "display_data"
    },
    {
     "name": "stdout",
     "output_type": "stream",
     "text": [
      "___________________\n",
      "Turn  2 Player  -1\n"
     ]
    },
    {
     "data": {
      "text/plain": [
       "array([[0, 0, 1, 0, 0, 0],\n",
       "       [0, 0, 0, 0, 0, 0],\n",
       "       [0, 0, 0, 0, 0, 0],\n",
       "       [0, 0, 0, 0, 0, 0],\n",
       "       [0, 0, 0, 0, 0, 0],\n",
       "       [0, 0, 0, 0, 0, 0]])"
      ]
     },
     "metadata": {},
     "output_type": "display_data"
    },
    {
     "name": "stdout",
     "output_type": "stream",
     "text": [
      "___________________\n",
      "Turn  3 Player  1\n"
     ]
    },
    {
     "data": {
      "text/plain": [
       "array([[ 0,  0,  1,  0,  0,  0],\n",
       "       [ 0,  0,  0,  0,  0,  0],\n",
       "       [ 0,  0, -1,  0,  0,  0],\n",
       "       [ 0,  0,  0,  0,  0,  0],\n",
       "       [ 0,  0,  0,  0,  0,  0],\n",
       "       [ 0,  0,  0,  0,  0,  0]])"
      ]
     },
     "metadata": {},
     "output_type": "display_data"
    },
    {
     "name": "stdout",
     "output_type": "stream",
     "text": [
      "___________________\n",
      "Turn  4 Player  -1\n"
     ]
    },
    {
     "data": {
      "text/plain": [
       "array([[ 0,  0,  1,  0,  0,  0],\n",
       "       [ 0,  0,  0,  0,  0,  0],\n",
       "       [ 0,  0, -1,  0,  0,  0],\n",
       "       [ 0,  0,  0,  0,  0,  0],\n",
       "       [ 0,  0,  0,  0,  0,  0],\n",
       "       [ 0,  0,  0,  0,  1,  0]])"
      ]
     },
     "metadata": {},
     "output_type": "display_data"
    },
    {
     "name": "stdout",
     "output_type": "stream",
     "text": [
      "___________________\n",
      "Turn  5 Player  1\n"
     ]
    },
    {
     "data": {
      "text/plain": [
       "array([[ 0,  0,  1,  0,  0,  0],\n",
       "       [ 0,  0,  0,  0,  0,  0],\n",
       "       [ 0,  0, -1,  0,  0,  0],\n",
       "       [ 0,  0,  0,  0,  0, -1],\n",
       "       [ 0,  0,  0,  0,  0,  0],\n",
       "       [ 0,  0,  0,  0,  1,  0]])"
      ]
     },
     "metadata": {},
     "output_type": "display_data"
    },
    {
     "name": "stdout",
     "output_type": "stream",
     "text": [
      "___________________\n",
      "Turn  6 Player  -1\n"
     ]
    },
    {
     "data": {
      "text/plain": [
       "array([[ 0,  0,  0,  0,  0,  0],\n",
       "       [ 0,  0,  1,  0,  0,  0],\n",
       "       [ 0,  0,  0,  0,  0,  0],\n",
       "       [ 0,  0, -1,  0,  0, -1],\n",
       "       [ 0,  0,  0,  0,  0,  0],\n",
       "       [ 0,  0,  0,  0,  1,  0]])"
      ]
     },
     "metadata": {},
     "output_type": "display_data"
    },
    {
     "name": "stdout",
     "output_type": "stream",
     "text": [
      "___________________\n",
      "Turn  7 Player  1\n"
     ]
    },
    {
     "data": {
      "text/plain": [
       "array([[ 0,  0,  0,  0,  0,  0],\n",
       "       [ 0,  0,  1,  0,  0,  0],\n",
       "       [ 0,  0,  0,  0,  0, -1],\n",
       "       [ 0,  0, -1,  0,  0,  0],\n",
       "       [ 0,  0,  0,  0,  0, -1],\n",
       "       [ 0,  0,  0,  0,  1,  0]])"
      ]
     },
     "metadata": {},
     "output_type": "display_data"
    },
    {
     "name": "stdout",
     "output_type": "stream",
     "text": [
      "___________________\n",
      "Turn  8 Player  -1\n"
     ]
    },
    {
     "data": {
      "text/plain": [
       "array([[ 0,  0,  0,  0,  0,  0],\n",
       "       [ 0,  0,  1,  0,  0,  0],\n",
       "       [ 0,  0,  0,  0,  0, -1],\n",
       "       [ 0,  0, -1,  0,  0,  0],\n",
       "       [ 0,  0,  0,  0,  0, -1],\n",
       "       [ 0,  1,  0,  0,  1,  0]])"
      ]
     },
     "metadata": {},
     "output_type": "display_data"
    },
    {
     "name": "stdout",
     "output_type": "stream",
     "text": [
      "___________________\n",
      "Turn  9 Player  1\n"
     ]
    },
    {
     "data": {
      "text/plain": [
       "array([[ 0,  0,  1,  0,  0,  0],\n",
       "       [ 0,  0,  0,  0,  0,  0],\n",
       "       [ 0,  0, -1,  0,  0, -1],\n",
       "       [ 0,  0,  0,  0,  0,  0],\n",
       "       [ 0,  0, -1,  0,  0, -1],\n",
       "       [ 0,  1,  0,  0,  1,  0]])"
      ]
     },
     "metadata": {},
     "output_type": "display_data"
    },
    {
     "name": "stdout",
     "output_type": "stream",
     "text": [
      "___________________\n",
      "Turn  10 Player  -1\n"
     ]
    },
    {
     "data": {
      "text/plain": [
       "array([[ 0,  0,  1,  0,  0,  0],\n",
       "       [ 0,  0, -1,  0,  0,  0],\n",
       "       [ 0,  0,  0,  0,  0, -1],\n",
       "       [ 0,  0,  1,  0,  0,  0],\n",
       "       [ 0,  0,  0,  0,  0, -1],\n",
       "       [ 0,  1, -1,  0,  1,  0]])"
      ]
     },
     "metadata": {},
     "output_type": "display_data"
    },
    {
     "name": "stdout",
     "output_type": "stream",
     "text": [
      "___________________\n",
      "Turn  11 Player  1\n"
     ]
    },
    {
     "data": {
      "text/plain": [
       "array([[ 0,  0,  1,  0,  0,  0],\n",
       "       [-1,  0, -1,  0,  0,  0],\n",
       "       [ 0,  0,  0,  0,  0, -1],\n",
       "       [ 0,  0,  1,  0,  0,  0],\n",
       "       [ 0,  0,  0,  0,  0, -1],\n",
       "       [ 0,  1, -1,  0,  1,  0]])"
      ]
     },
     "metadata": {},
     "output_type": "display_data"
    },
    {
     "name": "stdout",
     "output_type": "stream",
     "text": [
      "___________________\n",
      "Turn  12 Player  -1\n"
     ]
    },
    {
     "data": {
      "text/plain": [
       "array([[ 0,  0,  1,  0,  0,  0],\n",
       "       [-1,  0, -1,  0,  0,  0],\n",
       "       [ 0,  0,  0,  0,  0, -1],\n",
       "       [ 0,  1,  0,  1,  0,  0],\n",
       "       [ 0,  0,  0,  0,  0, -1],\n",
       "       [ 0,  1, -1,  0,  1,  0]])"
      ]
     },
     "metadata": {},
     "output_type": "display_data"
    },
    {
     "name": "stdout",
     "output_type": "stream",
     "text": [
      "___________________\n",
      "Turn  13 Player  1\n"
     ]
    },
    {
     "data": {
      "text/plain": [
       "array([[ 0, -1,  1,  0,  0,  0],\n",
       "       [-1,  0,  0,  0,  0,  0],\n",
       "       [ 0,  0,  0, -1,  0, -1],\n",
       "       [ 0,  1,  0,  0,  0,  0],\n",
       "       [ 0,  0,  0,  1,  0, -1],\n",
       "       [ 0,  1, -1,  0,  1,  0]])"
      ]
     },
     "metadata": {},
     "output_type": "display_data"
    },
    {
     "name": "stdout",
     "output_type": "stream",
     "text": [
      "___________________\n",
      "Turn  14 Player  -1\n"
     ]
    },
    {
     "data": {
      "text/plain": [
       "array([[ 0, -1,  1,  0,  0,  0],\n",
       "       [-1,  0,  0,  0,  0,  0],\n",
       "       [ 0,  0,  0, -1,  0, -1],\n",
       "       [ 0,  1,  0,  0,  0,  0],\n",
       "       [ 0,  0,  1,  0,  1,  0],\n",
       "       [ 0,  1, -1,  0,  0,  0]])"
      ]
     },
     "metadata": {},
     "output_type": "display_data"
    },
    {
     "name": "stdout",
     "output_type": "stream",
     "text": [
      "___________________\n",
      "Turn  15 Player  1\n"
     ]
    },
    {
     "data": {
      "text/plain": [
       "array([[ 0, -1,  1,  0,  0,  0],\n",
       "       [-1,  0,  0,  0, -1,  0],\n",
       "       [ 0,  0,  0,  0,  0, -1],\n",
       "       [ 1,  0, -1,  0,  0,  0],\n",
       "       [ 0,  0,  1,  0,  1,  0],\n",
       "       [ 0,  1, -1,  0,  0,  0]])"
      ]
     },
     "metadata": {},
     "output_type": "display_data"
    },
    {
     "name": "stdout",
     "output_type": "stream",
     "text": [
      "___________________\n",
      "Turn  16 Player  -1\n"
     ]
    },
    {
     "data": {
      "text/plain": [
       "array([[ 0, -1,  1,  0,  0,  0],\n",
       "       [-1,  0,  0,  0, -1,  0],\n",
       "       [ 1,  0,  0,  0,  0, -1],\n",
       "       [ 0,  0, -1,  0,  0,  0],\n",
       "       [ 1,  0,  1,  0,  1,  0],\n",
       "       [ 0,  0, -1,  0,  0,  0]])"
      ]
     },
     "metadata": {},
     "output_type": "display_data"
    },
    {
     "name": "stdout",
     "output_type": "stream",
     "text": [
      "___________________\n",
      "Turn  17 Player  1\n"
     ]
    },
    {
     "data": {
      "text/plain": [
       "array([[ 0, -1,  1,  0,  0,  0],\n",
       "       [-1,  0,  0,  0, -1,  0],\n",
       "       [ 1,  0,  0,  0,  0, -1],\n",
       "       [ 0,  0, -1,  0,  0,  0],\n",
       "       [ 1,  0,  1,  1,  0, -1],\n",
       "       [ 0,  0, -1,  0,  0,  0]])"
      ]
     },
     "metadata": {},
     "output_type": "display_data"
    },
    {
     "name": "stdout",
     "output_type": "stream",
     "text": [
      "___________________\n",
      "Turn  18 Player  -1\n"
     ]
    },
    {
     "data": {
      "text/plain": [
       "array([[ 0, -1,  1,  0,  0,  0],\n",
       "       [-1,  0,  0, -1,  0,  1],\n",
       "       [ 1,  0,  0,  0,  0,  0],\n",
       "       [ 0,  0, -1,  0,  0, -1],\n",
       "       [ 1,  0,  1,  1,  0, -1],\n",
       "       [ 0,  0, -1,  0,  0,  0]])"
      ]
     },
     "metadata": {},
     "output_type": "display_data"
    },
    {
     "name": "stdout",
     "output_type": "stream",
     "text": [
      "___________________\n",
      "Turn  19 Player  1\n"
     ]
    },
    {
     "data": {
      "text/plain": [
       "array([[-1, -1,  1,  0,  0,  0],\n",
       "       [-1,  0,  0, -1,  0,  1],\n",
       "       [ 1,  0,  0,  0,  0,  0],\n",
       "       [ 0,  0, -1,  0,  0, -1],\n",
       "       [ 1,  0,  1,  1,  0, -1],\n",
       "       [ 0,  0, -1,  0,  0,  0]])"
      ]
     },
     "metadata": {},
     "output_type": "display_data"
    },
    {
     "name": "stdout",
     "output_type": "stream",
     "text": [
      "___________________\n",
      "Turn  20 Player  -1\n"
     ]
    },
    {
     "data": {
      "text/plain": [
       "array([[-1, -1,  1,  0,  0,  0],\n",
       "       [-1,  0,  0, -1,  0,  1],\n",
       "       [ 1,  0,  0,  0,  0,  0],\n",
       "       [ 0,  0, -1,  0,  1,  0],\n",
       "       [ 1,  0,  1,  1,  0,  0],\n",
       "       [ 0,  0, -1,  0,  0,  0]])"
      ]
     },
     "metadata": {},
     "output_type": "display_data"
    },
    {
     "name": "stdout",
     "output_type": "stream",
     "text": [
      "___________________\n",
      "Turn  21 Player  1\n"
     ]
    },
    {
     "data": {
      "text/plain": [
       "array([[-1, -1,  1, -1,  0,  0],\n",
       "       [-1,  0,  0,  0,  0,  1],\n",
       "       [ 1,  0,  0, -1,  0,  0],\n",
       "       [ 0,  0,  0,  0,  0,  0],\n",
       "       [ 1, -1,  1,  1,  0,  1],\n",
       "       [ 0,  0, -1,  0,  0,  0]])"
      ]
     },
     "metadata": {},
     "output_type": "display_data"
    },
    {
     "name": "stdout",
     "output_type": "stream",
     "text": [
      "___________________\n",
      "Turn  22 Player  -1\n"
     ]
    },
    {
     "data": {
      "text/plain": [
       "array([[-1, -1,  1, -1,  0,  0],\n",
       "       [-1,  0,  0,  0,  0,  1],\n",
       "       [ 1,  0,  0, -1,  0,  0],\n",
       "       [ 0,  0,  1,  0,  0,  0],\n",
       "       [ 1, -1,  1,  0,  0,  0],\n",
       "       [ 0,  0, -1,  0,  1,  0]])"
      ]
     },
     "metadata": {},
     "output_type": "display_data"
    },
    {
     "name": "stdout",
     "output_type": "stream",
     "text": [
      "___________________\n",
      "Turn  23 Player  1\n"
     ]
    },
    {
     "data": {
      "text/plain": [
       "array([[-1, -1,  1, -1,  0,  0],\n",
       "       [-1,  0,  0,  0,  0,  1],\n",
       "       [ 1,  0, -1,  0, -1,  0],\n",
       "       [ 0,  0,  1,  0,  0,  0],\n",
       "       [ 1, -1,  1,  0,  0,  0],\n",
       "       [ 0,  0, -1,  0,  1,  0]])"
      ]
     },
     "metadata": {},
     "output_type": "display_data"
    },
    {
     "name": "stdout",
     "output_type": "stream",
     "text": [
      "___________________\n",
      "Turn  24 Player  -1\n"
     ]
    },
    {
     "data": {
      "text/plain": [
       "array([[-1, -1,  1, -1,  0,  1],\n",
       "       [-1,  0,  0,  0,  0,  0],\n",
       "       [ 1,  0, -1, -1,  0,  1],\n",
       "       [ 0,  0,  1,  0,  0,  0],\n",
       "       [ 1, -1,  1,  0,  0,  0],\n",
       "       [ 0,  0, -1,  0,  1,  0]])"
      ]
     },
     "metadata": {},
     "output_type": "display_data"
    },
    {
     "name": "stdout",
     "output_type": "stream",
     "text": [
      "___________________\n",
      "Turn  25 Player  1\n"
     ]
    },
    {
     "data": {
      "text/plain": [
       "array([[-1, -1,  1, -1,  0,  1],\n",
       "       [-1,  0,  0,  0,  0,  0],\n",
       "       [ 1,  0, -1, -1,  0,  1],\n",
       "       [ 0,  0,  1,  0,  0,  0],\n",
       "       [ 1,  0,  1,  0,  0,  0],\n",
       "       [ 0,  0, -1,  0,  1,  0]])"
      ]
     },
     "metadata": {},
     "output_type": "display_data"
    },
    {
     "name": "stdout",
     "output_type": "stream",
     "text": [
      "___________________\n",
      "Turn  26 Player  -1\n"
     ]
    },
    {
     "data": {
      "text/plain": [
       "array([[-1, -1,  1, -1,  0,  1],\n",
       "       [-1,  0,  0,  0,  0,  0],\n",
       "       [ 1,  0, -1, -1,  0,  1],\n",
       "       [ 0,  0,  1,  0,  0,  0],\n",
       "       [ 1,  0,  1,  0,  0,  0],\n",
       "       [ 0,  0, -1,  0,  0,  0]])"
      ]
     },
     "metadata": {},
     "output_type": "display_data"
    },
    {
     "name": "stdout",
     "output_type": "stream",
     "text": [
      "___________________\n",
      "Turn  27 Player  1\n"
     ]
    },
    {
     "data": {
      "text/plain": [
       "array([[-1, -1,  1, -1,  0,  1],\n",
       "       [-1,  0,  0,  0,  0,  0],\n",
       "       [ 1,  0, -1, -1,  0,  1],\n",
       "       [ 0,  1,  1,  0,  0,  0],\n",
       "       [ 1,  0,  0,  0,  0,  0],\n",
       "       [ 0, -1,  0, -2,  0,  0]])"
      ]
     },
     "metadata": {},
     "output_type": "display_data"
    },
    {
     "name": "stdout",
     "output_type": "stream",
     "text": [
      "___________________\n",
      "Turn  28 Player  -1\n"
     ]
    },
    {
     "data": {
      "text/plain": [
       "array([[-1, -1,  1, -1,  2,  0],\n",
       "       [-1,  0,  0,  0,  0,  0],\n",
       "       [ 1,  0, -1, -1,  0,  1],\n",
       "       [ 0,  1,  1,  0,  0,  0],\n",
       "       [ 1,  0,  0,  0,  0,  0],\n",
       "       [ 0, -1,  0, -2,  0,  0]])"
      ]
     },
     "metadata": {},
     "output_type": "display_data"
    },
    {
     "name": "stdout",
     "output_type": "stream",
     "text": [
      "___________________\n",
      "Turn  29 Player  1\n"
     ]
    },
    {
     "data": {
      "text/plain": [
       "array([[-1,  0,  1, -1,  2,  0],\n",
       "       [-1,  0,  0,  0,  0,  0],\n",
       "       [ 1,  0, -1, -1,  0,  1],\n",
       "       [ 0,  1,  1,  0,  0,  0],\n",
       "       [ 1,  0,  0,  0,  0,  0],\n",
       "       [ 0, -1,  0, -2,  0,  0]])"
      ]
     },
     "metadata": {},
     "output_type": "display_data"
    },
    {
     "name": "stdout",
     "output_type": "stream",
     "text": [
      "___________________\n",
      "Turn  30 Player  -1\n"
     ]
    },
    {
     "data": {
      "text/plain": [
       "array([[-1,  0,  1, -1,  2,  0],\n",
       "       [-1,  0,  0,  0,  0,  0],\n",
       "       [ 1,  0, -1, -1,  0,  1],\n",
       "       [ 0,  1,  1,  0,  0,  0],\n",
       "       [ 1,  0,  0,  0,  0,  1],\n",
       "       [ 0, -1,  0, -2,  0,  0]])"
      ]
     },
     "metadata": {},
     "output_type": "display_data"
    },
    {
     "name": "stdout",
     "output_type": "stream",
     "text": [
      "___________________\n",
      "Turn  31 Player  1\n"
     ]
    },
    {
     "data": {
      "text/plain": [
       "array([[-1,  0,  1, -1,  2,  0],\n",
       "       [-1,  0,  0,  0,  0,  0],\n",
       "       [ 1,  0, -1, -1,  0,  1],\n",
       "       [-2,  1,  1,  0,  0,  0],\n",
       "       [ 0,  0,  0,  0,  0,  1],\n",
       "       [ 1, -1,  0, -2,  0,  0]])"
      ]
     },
     "metadata": {},
     "output_type": "display_data"
    },
    {
     "name": "stdout",
     "output_type": "stream",
     "text": [
      "___________________\n",
      "Turn  32 Player  -1\n"
     ]
    },
    {
     "data": {
      "text/plain": [
       "array([[-1,  0,  1, -1,  2,  0],\n",
       "       [-1,  0,  0,  0,  0,  0],\n",
       "       [ 1,  0, -1, -1,  0,  0],\n",
       "       [-2,  1,  1,  0,  0,  0],\n",
       "       [ 0,  0,  0,  0,  0,  1],\n",
       "       [ 1, -1,  0, -2,  0,  0]])"
      ]
     },
     "metadata": {},
     "output_type": "display_data"
    },
    {
     "name": "stdout",
     "output_type": "stream",
     "text": [
      "___________________\n",
      "Turn  33 Player  1\n"
     ]
    },
    {
     "data": {
      "text/plain": [
       "array([[ 0,  0,  1, -1,  2,  0],\n",
       "       [-1,  0,  0,  0,  0,  0],\n",
       "       [ 1,  0, -1, -1,  0,  0],\n",
       "       [-2,  1,  1,  0,  0,  0],\n",
       "       [ 0,  0,  0,  0,  0,  1],\n",
       "       [ 1, -1,  0, -2,  0,  0]])"
      ]
     },
     "metadata": {},
     "output_type": "display_data"
    },
    {
     "name": "stdout",
     "output_type": "stream",
     "text": [
      "___________________\n",
      "Turn  34 Player  -1\n"
     ]
    },
    {
     "data": {
      "text/plain": [
       "array([[ 0,  0,  1, -1,  2,  0],\n",
       "       [-1,  0,  0,  0,  0,  0],\n",
       "       [ 1,  1, -1, -1,  0,  0],\n",
       "       [ 0,  0,  1,  0,  0,  0],\n",
       "       [ 0,  2,  0,  0,  0,  1],\n",
       "       [ 0,  0,  0, -2,  0,  0]])"
      ]
     },
     "metadata": {},
     "output_type": "display_data"
    },
    {
     "name": "stdout",
     "output_type": "stream",
     "text": [
      "___________________\n",
      "Turn  35 Player  1\n"
     ]
    },
    {
     "data": {
      "text/plain": [
       "array([[ 0,  0,  1, -1,  2,  0],\n",
       "       [-1,  0,  0,  0,  0,  0],\n",
       "       [ 1,  1, -1, -1,  0,  0],\n",
       "       [ 0,  0,  1,  0,  0, -1],\n",
       "       [ 0,  2,  0,  0,  0,  0],\n",
       "       [ 0,  0,  0, -2,  0,  1]])"
      ]
     },
     "metadata": {},
     "output_type": "display_data"
    },
    {
     "name": "stdout",
     "output_type": "stream",
     "text": [
      "___________________\n",
      "Turn  36 Player  -1\n"
     ]
    },
    {
     "data": {
      "text/plain": [
       "array([[ 0,  0,  1, -1,  2,  0],\n",
       "       [-1,  0,  0,  0,  0,  0],\n",
       "       [ 1,  0, -1, -1,  0,  0],\n",
       "       [ 0,  0,  0,  0,  0, -1],\n",
       "       [ 0,  2,  0,  0,  0,  0],\n",
       "       [ 0,  0,  0, -2,  0,  1]])"
      ]
     },
     "metadata": {},
     "output_type": "display_data"
    },
    {
     "name": "stdout",
     "output_type": "stream",
     "text": [
      "___________________\n",
      "Turn  37 Player  1\n"
     ]
    },
    {
     "data": {
      "text/plain": [
       "array([[ 0,  0,  1, -1,  2,  0],\n",
       "       [-1,  0,  0,  0,  0,  0],\n",
       "       [ 1,  0, -1, -1,  0,  0],\n",
       "       [-2,  0,  0,  0,  0, -1],\n",
       "       [ 0,  0,  0,  0,  0,  0],\n",
       "       [ 0,  0,  2, -2,  0,  1]])"
      ]
     },
     "metadata": {},
     "output_type": "display_data"
    },
    {
     "name": "stdout",
     "output_type": "stream",
     "text": [
      "___________________\n",
      "Turn  38 Player  -1\n"
     ]
    },
    {
     "data": {
      "text/plain": [
       "array([[ 0,  0,  1, -1,  2,  0],\n",
       "       [-1,  0,  0,  0,  0,  0],\n",
       "       [ 1,  0, -1, -1,  0,  0],\n",
       "       [ 0,  0,  0,  0,  0, -1],\n",
       "       [ 0,  2,  0,  0,  0,  0],\n",
       "       [ 0,  0,  0, -2,  0,  1]])"
      ]
     },
     "metadata": {},
     "output_type": "display_data"
    },
    {
     "name": "stdout",
     "output_type": "stream",
     "text": [
      "___________________\n",
      "Turn  39 Player  1\n"
     ]
    },
    {
     "data": {
      "text/plain": [
       "array([[ 0,  0,  1, -1,  2,  0],\n",
       "       [-1,  0,  0,  0,  0,  0],\n",
       "       [ 1,  0, -1, -1,  0,  0],\n",
       "       [ 0,  0,  0,  0,  0, -1],\n",
       "       [ 0,  2,  0, -2,  0,  0],\n",
       "       [ 0,  0,  0,  0,  0,  1]])"
      ]
     },
     "metadata": {},
     "output_type": "display_data"
    },
    {
     "name": "stdout",
     "output_type": "stream",
     "text": [
      "___________________\n",
      "Turn  40 Player  -1\n"
     ]
    },
    {
     "data": {
      "text/plain": [
       "array([[ 0,  0,  1, -1,  2,  0],\n",
       "       [-1,  0,  0,  0,  0,  0],\n",
       "       [ 1,  0, -1, -1,  0,  0],\n",
       "       [ 0,  0,  0,  0,  0, -1],\n",
       "       [ 2,  0,  2,  0, -2,  0],\n",
       "       [ 0,  0,  0,  0,  0,  1]])"
      ]
     },
     "metadata": {},
     "output_type": "display_data"
    },
    {
     "name": "stdout",
     "output_type": "stream",
     "text": [
      "___________________\n",
      "Turn  41 Player  1\n"
     ]
    },
    {
     "data": {
      "text/plain": [
       "array([[ 0,  0,  1, -1,  2,  0],\n",
       "       [-1,  0,  0,  0,  0,  0],\n",
       "       [ 1,  0, -1, -1,  0,  0],\n",
       "       [-2,  0,  0,  0,  0, -1],\n",
       "       [ 0,  0,  2,  0, -2,  0],\n",
       "       [ 2,  0,  0,  0,  0,  1]])"
      ]
     },
     "metadata": {},
     "output_type": "display_data"
    },
    {
     "name": "stdout",
     "output_type": "stream",
     "text": [
      "___________________\n",
      "Turn  42 Player  -1\n"
     ]
    },
    {
     "data": {
      "text/plain": [
       "array([[ 2,  0,  1, -1,  2,  0],\n",
       "       [-1,  0,  0,  0,  0,  0],\n",
       "       [ 1,  0, -1, -1,  0,  0],\n",
       "       [-2,  0,  0,  0,  0, -1],\n",
       "       [ 0,  0,  2,  0, -2,  0],\n",
       "       [ 2,  0,  0,  0,  0,  1]])"
      ]
     },
     "metadata": {},
     "output_type": "display_data"
    },
    {
     "name": "stdout",
     "output_type": "stream",
     "text": [
      "___________________\n",
      "Turn  43 Player  1\n"
     ]
    },
    {
     "data": {
      "text/plain": [
       "array([[ 2,  0,  1,  0,  0,  0],\n",
       "       [-1,  0,  0,  0, -2,  0],\n",
       "       [ 1,  0, -1,  0,  0,  0],\n",
       "       [-2,  0, -1,  0,  0, -1],\n",
       "       [ 0,  0,  2,  0, -2,  0],\n",
       "       [ 2,  0,  0,  0,  0,  1]])"
      ]
     },
     "metadata": {},
     "output_type": "display_data"
    },
    {
     "name": "stdout",
     "output_type": "stream",
     "text": [
      "___________________\n",
      "Turn  44 Player  -1\n"
     ]
    },
    {
     "data": {
      "text/plain": [
       "array([[ 0,  0,  0,  0,  0,  0],\n",
       "       [ 0,  2,  0,  0, -2,  0],\n",
       "       [ 0,  0,  0,  0,  0,  0],\n",
       "       [-2,  0, -1, -1,  0, -1],\n",
       "       [ 0,  0,  2,  0, -2,  0],\n",
       "       [ 2,  0,  0,  0,  0,  1]])"
      ]
     },
     "metadata": {},
     "output_type": "display_data"
    },
    {
     "name": "stdout",
     "output_type": "stream",
     "text": [
      "___________________\n",
      "Turn  45 Player  1\n"
     ]
    },
    {
     "data": {
      "text/plain": [
       "array([[ 0,  0,  0,  0,  0,  0],\n",
       "       [ 0,  2,  0,  0, -2,  0],\n",
       "       [ 0,  0,  0,  0,  0,  0],\n",
       "       [-2,  0, -1, -1,  0, -1],\n",
       "       [ 0,  0,  2,  0, -2,  0],\n",
       "       [ 2, -1,  0,  0,  0,  1]])"
      ]
     },
     "metadata": {},
     "output_type": "display_data"
    },
    {
     "name": "stdout",
     "output_type": "stream",
     "text": [
      "___________________\n",
      "Turn  46 Player  -1\n"
     ]
    },
    {
     "data": {
      "text/plain": [
       "array([[ 0,  0,  0,  0,  0,  0],\n",
       "       [ 0,  2,  1,  0, -2,  0],\n",
       "       [ 0,  0,  0,  0,  0,  0],\n",
       "       [-2,  0, -1, -1,  0, -1],\n",
       "       [ 0,  0,  2,  0, -2,  0],\n",
       "       [ 2, -1,  0,  0,  0,  1]])"
      ]
     },
     "metadata": {},
     "output_type": "display_data"
    },
    {
     "name": "stdout",
     "output_type": "stream",
     "text": [
      "___________________\n",
      "Turn  47 Player  1\n"
     ]
    },
    {
     "data": {
      "text/plain": [
       "array([[ 0, -1,  0,  0,  0,  0],\n",
       "       [ 0,  2,  0,  0, -2,  0],\n",
       "       [ 0,  0,  0,  1,  0,  0],\n",
       "       [-2,  0, -1, -1,  0, -1],\n",
       "       [ 0,  0,  2,  0, -2,  0],\n",
       "       [ 2, -1,  0,  0,  0,  1]])"
      ]
     },
     "metadata": {},
     "output_type": "display_data"
    },
    {
     "name": "stdout",
     "output_type": "stream",
     "text": [
      "___________________\n",
      "Turn  48 Player  -1\n"
     ]
    },
    {
     "data": {
      "text/plain": [
       "array([[ 0, -1,  0,  0,  0,  0],\n",
       "       [ 0,  2,  0,  0, -2,  0],\n",
       "       [ 0,  0,  0,  1,  0,  0],\n",
       "       [-2,  0, -1, -1,  0, -1],\n",
       "       [ 0,  1,  2,  0, -2,  0],\n",
       "       [ 2,  0,  0,  0,  0,  1]])"
      ]
     },
     "metadata": {},
     "output_type": "display_data"
    },
    {
     "name": "stdout",
     "output_type": "stream",
     "text": [
      "___________________\n",
      "Turn  49 Player  1\n"
     ]
    },
    {
     "data": {
      "text/plain": [
       "array([[ 0, -1,  0,  0,  0,  0],\n",
       "       [ 0,  2,  0,  0, -2,  0],\n",
       "       [ 0, -1,  0,  1,  0,  0],\n",
       "       [-2,  0,  0, -1,  0, -1],\n",
       "       [ 0,  1,  2, -1, -2,  0],\n",
       "       [ 2,  0,  0,  0,  0,  1]])"
      ]
     },
     "metadata": {},
     "output_type": "display_data"
    },
    {
     "name": "stdout",
     "output_type": "stream",
     "text": [
      "___________________\n",
      "Turn  50 Player  -1\n"
     ]
    },
    {
     "data": {
      "text/plain": [
       "array([[ 0, -1,  0,  0,  0,  0],\n",
       "       [ 0,  2,  0,  0, -2,  0],\n",
       "       [ 0, -1,  0,  1,  0, -1],\n",
       "       [-2,  0,  0, -1,  0,  0],\n",
       "       [ 0,  1,  2, -1, -2,  2],\n",
       "       [ 2,  0,  0,  0,  0,  0]])"
      ]
     },
     "metadata": {},
     "output_type": "display_data"
    },
    {
     "name": "stdout",
     "output_type": "stream",
     "text": [
      "___________________\n",
      "Turn  51 Player  1\n"
     ]
    },
    {
     "data": {
      "text/plain": [
       "array([[ 0, -1,  0,  0,  0,  0],\n",
       "       [ 0,  2,  0,  0, -2,  0],\n",
       "       [ 0,  0,  0,  1,  0, -1],\n",
       "       [-2,  0,  0, -1,  0,  0],\n",
       "       [ 0,  1,  2, -1, -2,  2],\n",
       "       [ 2,  0,  0,  0,  0,  0]])"
      ]
     },
     "metadata": {},
     "output_type": "display_data"
    },
    {
     "name": "stdout",
     "output_type": "stream",
     "text": [
      "___________________\n",
      "Turn  52 Player  -1\n"
     ]
    },
    {
     "data": {
      "text/plain": [
       "array([[ 0, -1,  0,  0,  2,  0],\n",
       "       [ 0,  2,  0,  0,  0,  0],\n",
       "       [ 0,  0,  0,  1, -2, -1],\n",
       "       [-2,  0,  0, -1,  0,  0],\n",
       "       [ 0,  1,  2, -1, -2,  2],\n",
       "       [ 2,  0,  0,  0,  0,  0]])"
      ]
     },
     "metadata": {},
     "output_type": "display_data"
    },
    {
     "name": "stdout",
     "output_type": "stream",
     "text": [
      "___________________\n",
      "Turn  53 Player  1\n"
     ]
    },
    {
     "data": {
      "text/plain": [
       "array([[ 0, -1,  0,  0,  2,  0],\n",
       "       [ 0,  2,  0,  0,  0,  0],\n",
       "       [ 0,  0,  0,  1,  0, -1],\n",
       "       [-2,  0,  2, -1,  0,  0],\n",
       "       [ 0,  1,  0,  0,  0,  2],\n",
       "       [ 2,  0, -2,  0,  0,  0]])"
      ]
     },
     "metadata": {},
     "output_type": "display_data"
    },
    {
     "name": "stdout",
     "output_type": "stream",
     "text": [
      "___________________\n",
      "Turn  54 Player  -1\n"
     ]
    },
    {
     "data": {
      "text/plain": [
       "array([[ 0, -1,  0,  0,  2,  0],\n",
       "       [ 0,  2,  0,  0,  0,  0],\n",
       "       [ 0,  0,  0,  1, -1, -1],\n",
       "       [-2,  0,  2,  0,  0,  0],\n",
       "       [ 1,  0,  1,  0,  0,  2],\n",
       "       [ 2,  0, -2,  0,  0,  0]])"
      ]
     },
     "metadata": {},
     "output_type": "display_data"
    },
    {
     "name": "stdout",
     "output_type": "stream",
     "text": [
      "___________________\n",
      "Turn  55 Player  1\n"
     ]
    },
    {
     "data": {
      "text/plain": [
       "array([[-1,  0, -2,  0,  2,  0],\n",
       "       [ 0,  0,  0,  0,  0,  0],\n",
       "       [ 2,  0,  0,  1, -1, -1],\n",
       "       [-2,  0,  2,  0,  0,  0],\n",
       "       [ 1,  0,  1,  0,  0,  2],\n",
       "       [ 2,  0, -2,  0,  0,  0]])"
      ]
     },
     "metadata": {},
     "output_type": "display_data"
    },
    {
     "name": "stdout",
     "output_type": "stream",
     "text": [
      "___________________\n",
      "Turn  56 Player  -1\n"
     ]
    },
    {
     "data": {
      "text/plain": [
       "array([[-1,  0, -2,  0,  2,  0],\n",
       "       [ 0,  0,  0,  0,  0,  0],\n",
       "       [ 2,  0,  0,  1, -1, -1],\n",
       "       [-2,  0,  2,  0,  0,  0],\n",
       "       [ 1,  0,  0,  0,  0,  2],\n",
       "       [ 2,  0, -2,  0,  0,  0]])"
      ]
     },
     "metadata": {},
     "output_type": "display_data"
    },
    {
     "name": "stdout",
     "output_type": "stream",
     "text": [
      "___________________\n",
      "Turn  57 Player  1\n"
     ]
    },
    {
     "data": {
      "text/plain": [
       "array([[-1,  0, -2,  0,  2,  0],\n",
       "       [ 0,  0,  0,  0,  0,  0],\n",
       "       [ 2,  0,  0,  1, -1, -1],\n",
       "       [ 0,  0,  2,  0,  0,  0],\n",
       "       [ 0, -2,  0,  0,  0,  2],\n",
       "       [ 0,  0,  0,  0,  0,  0]])"
      ]
     },
     "metadata": {},
     "output_type": "display_data"
    },
    {
     "name": "stdout",
     "output_type": "stream",
     "text": [
      "___________________\n",
      "Turn  58 Player  -1\n"
     ]
    },
    {
     "data": {
      "text/plain": [
       "array([[-1,  0, -2,  0,  2,  0],\n",
       "       [ 0,  0,  0,  0,  0,  0],\n",
       "       [ 2,  0,  0,  1, -1, -1],\n",
       "       [ 0,  1,  2,  0,  0,  0],\n",
       "       [ 0, -2,  0,  0,  0,  2],\n",
       "       [ 0,  0,  0,  0,  0,  0]])"
      ]
     },
     "metadata": {},
     "output_type": "display_data"
    },
    {
     "name": "stdout",
     "output_type": "stream",
     "text": [
      "___________________\n",
      "Turn  59 Player  1\n"
     ]
    },
    {
     "data": {
      "text/plain": [
       "array([[-1,  0, -2,  0,  2,  0],\n",
       "       [ 0,  0,  0,  0,  0,  0],\n",
       "       [ 2,  0,  0,  1, -1, -1],\n",
       "       [-2,  1,  2,  0,  0,  0],\n",
       "       [ 0,  0,  0,  0,  0,  2],\n",
       "       [ 0,  0, -2,  0,  0,  0]])"
      ]
     },
     "metadata": {},
     "output_type": "display_data"
    },
    {
     "name": "stdout",
     "output_type": "stream",
     "text": [
      "___________________\n",
      "Turn  60 Player  -1\n"
     ]
    },
    {
     "data": {
      "text/plain": [
       "array([[-1,  0, -2,  0,  2,  0],\n",
       "       [ 0,  0,  0,  0,  0,  0],\n",
       "       [ 2,  0,  0,  1, -1, -1],\n",
       "       [-2,  1,  2,  0,  0,  0],\n",
       "       [ 0,  0,  0,  0,  0,  2],\n",
       "       [ 0,  2,  0, -2,  0,  0]])"
      ]
     },
     "metadata": {},
     "output_type": "display_data"
    },
    {
     "name": "stdout",
     "output_type": "stream",
     "text": [
      "___________________\n",
      "Turn  61 Player  1\n"
     ]
    },
    {
     "data": {
      "text/plain": [
       "array([[ 0,  0,  0,  0,  2,  0],\n",
       "       [ 0, -2,  0,  0,  0,  0],\n",
       "       [ 0,  0,  0,  1, -1, -1],\n",
       "       [-2,  1,  2,  0,  0,  0],\n",
       "       [ 0,  0,  0,  0,  0,  2],\n",
       "       [ 0,  2,  0, -2,  0,  0]])"
      ]
     },
     "metadata": {},
     "output_type": "display_data"
    },
    {
     "name": "stdout",
     "output_type": "stream",
     "text": [
      "___________________\n",
      "Turn  62 Player  -1\n"
     ]
    },
    {
     "data": {
      "text/plain": [
       "array([[ 0,  0,  0,  0,  2,  0],\n",
       "       [ 0, -2,  0,  0,  0,  0],\n",
       "       [ 1,  0,  2,  1, -1, -1],\n",
       "       [-2,  0,  0,  0,  0,  0],\n",
       "       [ 0,  0,  2,  0,  0,  2],\n",
       "       [ 0,  0,  0,  0,  0,  0]])"
      ]
     },
     "metadata": {},
     "output_type": "display_data"
    },
    {
     "name": "stdout",
     "output_type": "stream",
     "text": [
      "___________________\n",
      "Turn  63 Player  1\n"
     ]
    },
    {
     "data": {
      "text/plain": [
       "array([[ 0,  0,  0,  0,  0,  0],\n",
       "       [ 0, -2,  0,  0,  0, -1],\n",
       "       [ 1,  0,  0,  0,  0, -1],\n",
       "       [-2,  0,  0, -2,  0,  0],\n",
       "       [ 0,  0,  0,  0,  0,  2],\n",
       "       [ 0,  2,  0,  0,  0,  0]])"
      ]
     },
     "metadata": {},
     "output_type": "display_data"
    },
    {
     "name": "stdout",
     "output_type": "stream",
     "text": [
      "___________________\n",
      "Turn  64 Player  -1\n"
     ]
    },
    {
     "data": {
      "text/plain": [
       "array([[ 0,  0,  0,  0,  0,  0],\n",
       "       [ 0, -2,  0,  0,  0, -1],\n",
       "       [ 1,  0,  0, -2,  0, -1],\n",
       "       [-2,  0,  0,  0,  0,  0],\n",
       "       [ 0,  0,  0,  2,  0,  2],\n",
       "       [ 0,  2,  0,  0,  0,  0]])"
      ]
     },
     "metadata": {},
     "output_type": "display_data"
    },
    {
     "name": "stdout",
     "output_type": "stream",
     "text": [
      "___________________\n",
      "Turn  65 Player  1\n"
     ]
    },
    {
     "data": {
      "text/plain": [
       "array([[ 0,  0,  0,  0,  0,  0],\n",
       "       [ 0, -2,  0, -2,  0, -1],\n",
       "       [ 1,  0,  0,  0,  0, -1],\n",
       "       [-2,  0,  0, -2,  0,  0],\n",
       "       [ 0,  0,  0,  0,  0,  2],\n",
       "       [ 0,  2,  0,  2,  0,  0]])"
      ]
     },
     "metadata": {},
     "output_type": "display_data"
    },
    {
     "name": "stdout",
     "output_type": "stream",
     "text": [
      "___________________\n",
      "Turn  66 Player  -1\n"
     ]
    },
    {
     "data": {
      "text/plain": [
       "array([[ 0,  2,  0,  0,  0,  0],\n",
       "       [ 0,  0,  0, -2,  0, -1],\n",
       "       [ 1, -2,  0,  0,  0, -1],\n",
       "       [-2,  0,  0, -2,  0,  0],\n",
       "       [ 0,  0,  0,  0,  0,  2],\n",
       "       [ 0,  2,  0,  2,  0,  0]])"
      ]
     },
     "metadata": {},
     "output_type": "display_data"
    },
    {
     "name": "stdout",
     "output_type": "stream",
     "text": [
      "___________________\n",
      "Turn  67 Player  1\n"
     ]
    },
    {
     "data": {
      "text/plain": [
       "array([[ 0,  2,  0,  0,  0,  0],\n",
       "       [ 0,  0,  0, -2, -1,  0],\n",
       "       [ 1, -2,  0,  0,  0,  0],\n",
       "       [-2,  0,  0, -2,  0,  0],\n",
       "       [ 0,  0,  0,  0,  0,  2],\n",
       "       [ 0,  2,  0,  2,  0,  0]])"
      ]
     },
     "metadata": {},
     "output_type": "display_data"
    },
    {
     "name": "stdout",
     "output_type": "stream",
     "text": [
      "___________________\n",
      "Turn  68 Player  -1\n"
     ]
    },
    {
     "data": {
      "text/plain": [
       "array([[ 0,  0,  0,  0,  0,  0],\n",
       "       [ 0,  0,  2, -2, -1,  0],\n",
       "       [ 1, -2,  0,  0,  0,  0],\n",
       "       [-2,  0,  0, -2,  0,  0],\n",
       "       [ 0,  0,  0,  0,  0,  2],\n",
       "       [ 0,  2,  0,  2,  0,  0]])"
      ]
     },
     "metadata": {},
     "output_type": "display_data"
    },
    {
     "name": "stdout",
     "output_type": "stream",
     "text": [
      "___________________\n",
      "Turn  69 Player  1\n"
     ]
    },
    {
     "data": {
      "text/plain": [
       "array([[ 0,  0,  0,  0,  0,  0],\n",
       "       [ 0,  0,  2, -2, -1,  0],\n",
       "       [ 1, -2,  0,  0,  0,  0],\n",
       "       [-2,  0, -1, -2,  0,  0],\n",
       "       [ 0,  0,  0,  0,  0,  2],\n",
       "       [ 0,  2,  0,  2,  0,  0]])"
      ]
     },
     "metadata": {},
     "output_type": "display_data"
    },
    {
     "name": "stdout",
     "output_type": "stream",
     "text": [
      "___________________\n",
      "Turn  70 Player  -1\n"
     ]
    },
    {
     "data": {
      "text/plain": [
       "array([[ 0,  0,  0,  0,  0,  0],\n",
       "       [ 0,  0,  2,  0, -1,  0],\n",
       "       [ 1, -2,  0,  0,  0,  0],\n",
       "       [ 0,  0,  0,  0,  0,  0],\n",
       "       [ 0,  2,  0,  0,  0,  2],\n",
       "       [ 0,  0,  0,  2,  0,  0]])"
      ]
     },
     "metadata": {},
     "output_type": "display_data"
    },
    {
     "name": "stdout",
     "output_type": "stream",
     "text": [
      "___________________\n",
      "Turn  71 Player  1\n"
     ]
    },
    {
     "data": {
      "text/plain": [
       "array([[ 0,  0,  0,  0,  0,  0],\n",
       "       [ 1,  0,  2,  0, -1,  0],\n",
       "       [ 0, -2,  0,  0,  0,  0],\n",
       "       [-2,  0,  0,  0,  0,  0],\n",
       "       [ 0,  0,  0,  0,  0,  2],\n",
       "       [ 0,  0,  2,  2,  0,  0]])"
      ]
     },
     "metadata": {},
     "output_type": "display_data"
    },
    {
     "name": "stdout",
     "output_type": "stream",
     "text": [
      "___________________\n",
      "Turn  72 Player  -1\n"
     ]
    },
    {
     "data": {
      "text/plain": [
       "array([[ 0,  0,  0,  0,  0,  0],\n",
       "       [ 1,  0,  2,  0, -1,  0],\n",
       "       [ 0, -2,  0,  0,  0,  0],\n",
       "       [-2,  0,  0,  0,  0,  0],\n",
       "       [ 0,  0,  2,  0,  0,  2],\n",
       "       [ 0,  0,  0,  0,  0,  0]])"
      ]
     },
     "metadata": {},
     "output_type": "display_data"
    },
    {
     "name": "stdout",
     "output_type": "stream",
     "text": [
      "___________________\n",
      "Turn  73 Player  1\n"
     ]
    },
    {
     "data": {
      "text/plain": [
       "array([[ 0,  0,  0,  0,  0, -1],\n",
       "       [ 1,  0,  2,  0,  0,  0],\n",
       "       [ 0, -2,  0, -1,  0,  0],\n",
       "       [-2,  0,  0,  0,  0,  0],\n",
       "       [ 0,  0,  2,  0,  0,  2],\n",
       "       [ 0,  0,  0,  0,  0,  0]])"
      ]
     },
     "metadata": {},
     "output_type": "display_data"
    },
    {
     "name": "stdout",
     "output_type": "stream",
     "text": [
      "___________________\n",
      "Turn  74 Player  -1\n"
     ]
    },
    {
     "data": {
      "text/plain": [
       "array([[ 0,  0,  0,  0,  0, -1],\n",
       "       [ 1,  2,  0,  2,  0,  0],\n",
       "       [ 0, -2,  0,  0,  0,  0],\n",
       "       [-2,  0,  0, -1,  0,  0],\n",
       "       [ 0,  0,  2,  0,  0,  2],\n",
       "       [ 0,  0,  0,  0,  0,  0]])"
      ]
     },
     "metadata": {},
     "output_type": "display_data"
    },
    {
     "name": "stdout",
     "output_type": "stream",
     "text": [
      "___________________\n",
      "Turn  75 Player  1\n"
     ]
    },
    {
     "data": {
      "text/plain": [
       "array([[ 0,  0,  0,  0,  0, -1],\n",
       "       [ 1,  2,  0,  2,  0,  0],\n",
       "       [ 0, -2,  0,  0,  0,  0],\n",
       "       [-2,  2,  0, -1,  0,  0],\n",
       "       [ 0,  0,  0,  0,  0,  2],\n",
       "       [ 0,  0,  0, -2,  0,  0]])"
      ]
     },
     "metadata": {},
     "output_type": "display_data"
    },
    {
     "name": "stdout",
     "output_type": "stream",
     "text": [
      "___________________\n",
      "Game over: Turn  75 Result  -1\n"
     ]
    },
    {
     "data": {
      "text/plain": [
       "array([[ 2,  0,  0,  0,  0, -1],\n",
       "       [ 0,  0,  0,  2,  0,  0],\n",
       "       [ 1, -2,  2,  0,  0,  0],\n",
       "       [-2,  2,  0, -1,  0,  0],\n",
       "       [ 0,  0,  0,  0,  0,  2],\n",
       "       [ 0,  0,  0, -2,  0,  0]])"
      ]
     },
     "metadata": {},
     "output_type": "display_data"
    },
    {
     "name": "stderr",
     "output_type": "stream",
     "text": [
      "Arena.playGames (1): 100%|███████████████████████████████████████████████████████████████| 5/5 [00:02<00:00,  2.32it/s]\n",
      "Arena.playGames (2):   0%|                                                                       | 0/5 [00:00<?, ?it/s]"
     ]
    },
    {
     "name": "stdout",
     "output_type": "stream",
     "text": [
      "Turn  1 Player  1\n"
     ]
    },
    {
     "data": {
      "text/plain": [
       "array([[0, 0, 0, 0, 0, 0],\n",
       "       [0, 0, 0, 0, 0, 0],\n",
       "       [0, 0, 0, 0, 0, 0],\n",
       "       [0, 0, 0, 0, 0, 0],\n",
       "       [0, 0, 0, 0, 0, 0],\n",
       "       [0, 0, 0, 0, 0, 0]])"
      ]
     },
     "metadata": {},
     "output_type": "display_data"
    },
    {
     "name": "stdout",
     "output_type": "stream",
     "text": [
      "___________________\n",
      "Turn  2 Player  -1\n"
     ]
    },
    {
     "data": {
      "text/plain": [
       "array([[0, 0, 0, 0, 0, 0],\n",
       "       [0, 0, 0, 0, 0, 0],\n",
       "       [0, 0, 0, 0, 0, 0],\n",
       "       [0, 0, 0, 1, 0, 0],\n",
       "       [0, 0, 0, 0, 0, 0],\n",
       "       [0, 0, 0, 0, 0, 0]])"
      ]
     },
     "metadata": {},
     "output_type": "display_data"
    },
    {
     "name": "stdout",
     "output_type": "stream",
     "text": [
      "___________________\n",
      "Turn  3 Player  1\n"
     ]
    },
    {
     "data": {
      "text/plain": [
       "array([[ 0,  0,  0,  0,  0,  0],\n",
       "       [ 0,  0,  0,  0,  0,  0],\n",
       "       [ 0,  0,  0,  0,  0,  0],\n",
       "       [ 0,  0,  0,  1,  0,  0],\n",
       "       [ 0, -1,  0,  0,  0,  0],\n",
       "       [ 0,  0,  0,  0,  0,  0]])"
      ]
     },
     "metadata": {},
     "output_type": "display_data"
    },
    {
     "name": "stdout",
     "output_type": "stream",
     "text": [
      "___________________\n",
      "Turn  4 Player  -1\n"
     ]
    },
    {
     "data": {
      "text/plain": [
       "array([[ 0,  0,  0,  0,  0,  0],\n",
       "       [ 0,  0,  0,  0,  0,  0],\n",
       "       [ 0,  0,  1,  0,  0,  0],\n",
       "       [ 0,  0,  0,  0,  0,  0],\n",
       "       [ 0, -1,  0,  0,  1,  0],\n",
       "       [ 0,  0,  0,  0,  0,  0]])"
      ]
     },
     "metadata": {},
     "output_type": "display_data"
    },
    {
     "name": "stdout",
     "output_type": "stream",
     "text": [
      "___________________\n",
      "Turn  5 Player  1\n"
     ]
    },
    {
     "data": {
      "text/plain": [
       "array([[ 0,  0,  0,  0,  0,  0],\n",
       "       [ 0,  0,  0, -1,  0,  0],\n",
       "       [ 0,  0,  0,  0,  0,  0],\n",
       "       [ 0,  1,  0,  0,  0,  0],\n",
       "       [ 0, -1,  0,  0,  1,  0],\n",
       "       [ 0,  0,  0,  0,  0,  0]])"
      ]
     },
     "metadata": {},
     "output_type": "display_data"
    },
    {
     "name": "stdout",
     "output_type": "stream",
     "text": [
      "___________________\n",
      "Turn  6 Player  -1\n"
     ]
    },
    {
     "data": {
      "text/plain": [
       "array([[ 0,  0,  0,  0,  0,  0],\n",
       "       [ 0,  0,  0, -1,  0,  0],\n",
       "       [ 0,  0,  0,  0,  0,  0],\n",
       "       [ 1,  0,  1,  0,  0,  0],\n",
       "       [ 0,  0,  0,  0,  1,  0],\n",
       "       [-1,  0,  0,  0,  0,  0]])"
      ]
     },
     "metadata": {},
     "output_type": "display_data"
    },
    {
     "name": "stdout",
     "output_type": "stream",
     "text": [
      "___________________\n",
      "Turn  7 Player  1\n"
     ]
    },
    {
     "data": {
      "text/plain": [
       "array([[ 0,  0,  0,  0,  0,  0],\n",
       "       [ 0, -1,  0, -1,  0,  0],\n",
       "       [ 0,  0,  0,  0,  0,  0],\n",
       "       [ 1,  0,  1,  0,  0,  0],\n",
       "       [ 0,  0,  0,  0,  1,  0],\n",
       "       [-1,  0,  0,  0,  0,  0]])"
      ]
     },
     "metadata": {},
     "output_type": "display_data"
    },
    {
     "name": "stdout",
     "output_type": "stream",
     "text": [
      "___________________\n",
      "Turn  8 Player  -1\n"
     ]
    },
    {
     "data": {
      "text/plain": [
       "array([[ 1,  0,  0,  0,  0,  0],\n",
       "       [ 0,  0,  0, -1,  0,  0],\n",
       "       [ 0,  0, -1,  0,  0,  0],\n",
       "       [ 1,  0,  1,  0,  0,  0],\n",
       "       [ 0,  0,  0,  0,  1,  0],\n",
       "       [-1,  0,  0,  0,  0,  0]])"
      ]
     },
     "metadata": {},
     "output_type": "display_data"
    },
    {
     "name": "stdout",
     "output_type": "stream",
     "text": [
      "___________________\n",
      "Turn  9 Player  1\n"
     ]
    },
    {
     "data": {
      "text/plain": [
       "array([[ 1,  0,  0,  0,  0,  0],\n",
       "       [ 0,  0,  0, -1,  0,  0],\n",
       "       [ 0,  0, -1,  0,  0,  0],\n",
       "       [ 1,  0,  1,  1,  0,  0],\n",
       "       [ 0,  0,  0,  0,  0,  0],\n",
       "       [-1,  0,  0,  0,  0, -1]])"
      ]
     },
     "metadata": {},
     "output_type": "display_data"
    },
    {
     "name": "stdout",
     "output_type": "stream",
     "text": [
      "___________________\n",
      "Turn  10 Player  -1\n"
     ]
    },
    {
     "data": {
      "text/plain": [
       "array([[ 1,  0,  0,  0,  0,  0],\n",
       "       [ 0,  0,  0, -1,  0,  0],\n",
       "       [ 0,  0, -1,  0,  1,  0],\n",
       "       [ 1,  0,  1,  0,  0,  0],\n",
       "       [ 0,  0,  1,  0,  0,  0],\n",
       "       [-1,  0,  0,  0,  0, -1]])"
      ]
     },
     "metadata": {},
     "output_type": "display_data"
    },
    {
     "name": "stdout",
     "output_type": "stream",
     "text": [
      "___________________\n",
      "Turn  11 Player  1\n"
     ]
    },
    {
     "data": {
      "text/plain": [
       "array([[ 1,  0,  0,  0,  0,  0],\n",
       "       [ 0,  0,  0,  0,  0,  0],\n",
       "       [ 0,  0,  0,  0,  1,  0],\n",
       "       [ 0,  0,  0,  1,  0,  0],\n",
       "       [ 0,  0,  0,  0,  0,  0],\n",
       "       [-1,  0,  0,  1,  0, -1]])"
      ]
     },
     "metadata": {},
     "output_type": "display_data"
    },
    {
     "name": "stdout",
     "output_type": "stream",
     "text": [
      "___________________\n",
      "Turn  12 Player  -1\n"
     ]
    },
    {
     "data": {
      "text/plain": [
       "array([[ 1,  0,  0,  0,  0,  0],\n",
       "       [ 0,  0,  0,  0,  0,  0],\n",
       "       [ 0,  0,  0,  0,  1,  0],\n",
       "       [ 0,  0,  1,  0,  1,  0],\n",
       "       [ 0,  0,  0,  0,  0,  0],\n",
       "       [-1,  0,  0,  1,  0, -1]])"
      ]
     },
     "metadata": {},
     "output_type": "display_data"
    },
    {
     "name": "stdout",
     "output_type": "stream",
     "text": [
      "___________________\n",
      "Turn  13 Player  1\n"
     ]
    },
    {
     "data": {
      "text/plain": [
       "array([[ 1,  0,  0,  0,  0,  0],\n",
       "       [ 0,  0,  0,  0,  0,  0],\n",
       "       [ 0,  0,  0,  0,  1,  0],\n",
       "       [ 0,  0,  1,  0,  1,  0],\n",
       "       [ 0,  0,  0,  0,  0,  0],\n",
       "       [-1,  0, -1,  0,  1, -1]])"
      ]
     },
     "metadata": {},
     "output_type": "display_data"
    },
    {
     "name": "stdout",
     "output_type": "stream",
     "text": [
      "___________________\n",
      "Turn  14 Player  -1\n"
     ]
    },
    {
     "data": {
      "text/plain": [
       "array([[ 1,  0,  0,  0,  0,  0],\n",
       "       [ 0,  0,  0,  0,  0,  0],\n",
       "       [ 0,  0,  0,  1,  0,  1],\n",
       "       [ 0,  0,  0,  0,  0,  0],\n",
       "       [ 0,  1,  0,  0,  0,  1],\n",
       "       [-1,  0, -1,  0,  1, -1]])"
      ]
     },
     "metadata": {},
     "output_type": "display_data"
    },
    {
     "name": "stdout",
     "output_type": "stream",
     "text": [
      "___________________\n",
      "Turn  15 Player  1\n"
     ]
    },
    {
     "data": {
      "text/plain": [
       "array([[ 1,  0,  0,  0,  0,  0],\n",
       "       [ 0,  0,  0,  1,  0,  0],\n",
       "       [ 0,  0,  0,  0,  0,  1],\n",
       "       [ 0,  0,  0, -1,  0,  0],\n",
       "       [ 0,  1,  0,  0,  0,  1],\n",
       "       [-1,  0, -1,  0,  1, -1]])"
      ]
     },
     "metadata": {},
     "output_type": "display_data"
    },
    {
     "name": "stdout",
     "output_type": "stream",
     "text": [
      "___________________\n",
      "Turn  16 Player  -1\n"
     ]
    },
    {
     "data": {
      "text/plain": [
       "array([[ 1,  0,  0,  0,  0,  0],\n",
       "       [ 0,  0,  0,  1,  0,  0],\n",
       "       [ 0,  0,  0,  0,  0,  1],\n",
       "       [ 0,  1,  0, -1,  0,  0],\n",
       "       [ 0,  0,  0,  0,  0,  1],\n",
       "       [ 0,  1,  0, -1,  1, -1]])"
      ]
     },
     "metadata": {},
     "output_type": "display_data"
    },
    {
     "name": "stdout",
     "output_type": "stream",
     "text": [
      "___________________\n",
      "Turn  17 Player  1\n"
     ]
    },
    {
     "data": {
      "text/plain": [
       "array([[ 0,  0,  0,  0,  0,  0],\n",
       "       [-1,  0,  0,  1,  0,  0],\n",
       "       [ 0,  0,  0,  0,  0,  1],\n",
       "       [ 0,  1,  0, -1,  0,  0],\n",
       "       [ 0,  0,  0,  0,  0,  1],\n",
       "       [ 0,  1,  0, -1,  1, -1]])"
      ]
     },
     "metadata": {},
     "output_type": "display_data"
    },
    {
     "name": "stdout",
     "output_type": "stream",
     "text": [
      "___________________\n",
      "Turn  18 Player  -1\n"
     ]
    },
    {
     "data": {
      "text/plain": [
       "array([[ 0,  0,  0,  0,  1,  0],\n",
       "       [-1,  0,  0,  0,  0,  0],\n",
       "       [ 0,  0,  1,  0,  0,  1],\n",
       "       [ 0,  0,  0,  0,  0,  0],\n",
       "       [ 1,  0,  0,  0, -1,  1],\n",
       "       [ 0,  1,  0, -1,  1, -1]])"
      ]
     },
     "metadata": {},
     "output_type": "display_data"
    },
    {
     "name": "stdout",
     "output_type": "stream",
     "text": [
      "___________________\n",
      "Turn  19 Player  1\n"
     ]
    },
    {
     "data": {
      "text/plain": [
       "array([[ 0,  0,  0,  0,  1,  0],\n",
       "       [ 0, -1,  0,  0,  0,  0],\n",
       "       [ 0,  0,  0,  0,  0,  1],\n",
       "       [ 0,  0,  0,  1,  0,  0],\n",
       "       [ 1,  0,  0,  0, -1,  1],\n",
       "       [ 0,  1,  0, -1,  1, -1]])"
      ]
     },
     "metadata": {},
     "output_type": "display_data"
    },
    {
     "name": "stdout",
     "output_type": "stream",
     "text": [
      "___________________\n",
      "Turn  20 Player  -1\n"
     ]
    },
    {
     "data": {
      "text/plain": [
       "array([[ 0,  0,  0,  0,  1,  0],\n",
       "       [ 0, -1,  0,  0,  0,  0],\n",
       "       [ 0,  0,  0,  1,  0,  1],\n",
       "       [ 0,  0,  0,  0,  0,  0],\n",
       "       [ 1,  0,  0,  1, -1,  1],\n",
       "       [ 0,  1,  0, -1,  1, -1]])"
      ]
     },
     "metadata": {},
     "output_type": "display_data"
    },
    {
     "name": "stdout",
     "output_type": "stream",
     "text": [
      "___________________\n",
      "Turn  21 Player  1\n"
     ]
    },
    {
     "data": {
      "text/plain": [
       "array([[-2,  0,  0,  0,  1,  0],\n",
       "       [ 0,  0,  0,  0,  0,  0],\n",
       "       [ 0,  0, -1,  1,  0,  1],\n",
       "       [ 0,  0,  0,  0,  0,  0],\n",
       "       [ 1,  0,  0,  1, -1,  1],\n",
       "       [ 0,  1,  0, -1,  1, -1]])"
      ]
     },
     "metadata": {},
     "output_type": "display_data"
    },
    {
     "name": "stdout",
     "output_type": "stream",
     "text": [
      "___________________\n",
      "Turn  22 Player  -1\n"
     ]
    },
    {
     "data": {
      "text/plain": [
       "array([[-2,  0,  0,  0,  1,  0],\n",
       "       [ 0,  0,  0,  0,  0,  0],\n",
       "       [ 0,  0, -1,  1,  0,  0],\n",
       "       [ 0,  0,  0,  0,  0,  0],\n",
       "       [ 1,  0,  0,  1, -1,  1],\n",
       "       [ 0,  1,  0, -1,  1, -1]])"
      ]
     },
     "metadata": {},
     "output_type": "display_data"
    },
    {
     "name": "stdout",
     "output_type": "stream",
     "text": [
      "___________________\n",
      "Turn  23 Player  1\n"
     ]
    },
    {
     "data": {
      "text/plain": [
       "array([[-2,  0,  0,  0,  1,  0],\n",
       "       [ 0,  0,  0, -1,  0,  0],\n",
       "       [ 0,  0,  0,  1,  0,  0],\n",
       "       [ 0, -2,  0,  0,  0,  0],\n",
       "       [ 0,  0,  0,  1, -1,  1],\n",
       "       [ 0,  1,  0, -1,  1, -1]])"
      ]
     },
     "metadata": {},
     "output_type": "display_data"
    },
    {
     "name": "stdout",
     "output_type": "stream",
     "text": [
      "___________________\n",
      "Turn  24 Player  -1\n"
     ]
    },
    {
     "data": {
      "text/plain": [
       "array([[-2,  0,  0,  0,  1,  0],\n",
       "       [ 1,  0,  0, -1,  0,  0],\n",
       "       [ 0,  0,  0,  1,  0,  0],\n",
       "       [ 0, -2,  0,  0,  0,  0],\n",
       "       [ 0,  0,  0,  1, -1,  1],\n",
       "       [ 0,  1,  0, -1,  1, -1]])"
      ]
     },
     "metadata": {},
     "output_type": "display_data"
    },
    {
     "name": "stdout",
     "output_type": "stream",
     "text": [
      "___________________\n",
      "Turn  25 Player  1\n"
     ]
    },
    {
     "data": {
      "text/plain": [
       "array([[-2,  0,  0,  0,  1,  0],\n",
       "       [ 1,  0,  0, -1,  0,  0],\n",
       "       [ 0,  0,  0,  1,  0,  0],\n",
       "       [ 0, -2,  0,  0,  0,  0],\n",
       "       [ 0,  0, -1,  1, -1,  1],\n",
       "       [ 0,  0,  0,  0,  1, -1]])"
      ]
     },
     "metadata": {},
     "output_type": "display_data"
    },
    {
     "name": "stdout",
     "output_type": "stream",
     "text": [
      "___________________\n",
      "Turn  26 Player  -1\n"
     ]
    },
    {
     "data": {
      "text/plain": [
       "array([[-2,  0,  0,  0,  1,  0],\n",
       "       [ 1,  0,  1,  0, -1,  0],\n",
       "       [ 0,  0,  0,  0,  0,  0],\n",
       "       [ 0, -2,  0,  0,  1,  0],\n",
       "       [ 0,  0, -1,  1, -1,  1],\n",
       "       [ 0,  0,  0,  0,  1, -1]])"
      ]
     },
     "metadata": {},
     "output_type": "display_data"
    },
    {
     "name": "stdout",
     "output_type": "stream",
     "text": [
      "___________________\n",
      "Turn  27 Player  1\n"
     ]
    },
    {
     "data": {
      "text/plain": [
       "array([[-2,  0,  0, -1,  1,  0],\n",
       "       [ 1,  0,  1,  0,  0,  0],\n",
       "       [ 0,  0,  0,  0,  0, -2],\n",
       "       [ 0, -2,  0,  0,  1,  0],\n",
       "       [ 0,  0, -1,  1, -1,  1],\n",
       "       [ 0,  0,  0,  0,  1, -1]])"
      ]
     },
     "metadata": {},
     "output_type": "display_data"
    },
    {
     "name": "stdout",
     "output_type": "stream",
     "text": [
      "___________________\n",
      "Turn  28 Player  -1\n"
     ]
    },
    {
     "data": {
      "text/plain": [
       "array([[-2,  0,  0, -1,  1,  2],\n",
       "       [ 1,  0,  1,  0,  0,  0],\n",
       "       [ 0,  0,  0,  0,  0, -2],\n",
       "       [ 0, -2,  0,  0,  1,  0],\n",
       "       [ 0,  0, -1,  1, -1,  1],\n",
       "       [ 0,  0,  0,  0,  1, -1]])"
      ]
     },
     "metadata": {},
     "output_type": "display_data"
    },
    {
     "name": "stdout",
     "output_type": "stream",
     "text": [
      "___________________\n",
      "Turn  29 Player  1\n"
     ]
    },
    {
     "data": {
      "text/plain": [
       "array([[-2,  0,  0, -1,  1,  2],\n",
       "       [ 0, -1,  0,  1,  0,  0],\n",
       "       [ 0,  0,  0,  0,  0, -2],\n",
       "       [ 0, -2,  0,  0,  1,  0],\n",
       "       [ 0,  0, -1,  1, -1,  1],\n",
       "       [ 0,  0,  0,  0,  1, -1]])"
      ]
     },
     "metadata": {},
     "output_type": "display_data"
    },
    {
     "name": "stdout",
     "output_type": "stream",
     "text": [
      "___________________\n",
      "Turn  30 Player  -1\n"
     ]
    },
    {
     "data": {
      "text/plain": [
       "array([[-2,  0,  1, -1,  1,  2],\n",
       "       [ 0, -1,  0,  0,  0,  0],\n",
       "       [ 0,  0,  0,  0,  1, -2],\n",
       "       [ 0, -2,  0,  0,  1,  0],\n",
       "       [ 0,  0, -1,  1, -1,  1],\n",
       "       [ 0,  0,  0,  0,  1, -1]])"
      ]
     },
     "metadata": {},
     "output_type": "display_data"
    },
    {
     "name": "stdout",
     "output_type": "stream",
     "text": [
      "___________________\n",
      "Turn  31 Player  1\n"
     ]
    },
    {
     "data": {
      "text/plain": [
       "array([[-2,  0,  1, -1,  1,  2],\n",
       "       [ 0, -1,  0,  0,  0,  0],\n",
       "       [ 0,  0,  0,  0,  1, -2],\n",
       "       [ 0, -2,  0,  0,  1,  0],\n",
       "       [ 0,  0,  0,  1, -1,  1],\n",
       "       [ 0,  0,  0,  0,  1, -1]])"
      ]
     },
     "metadata": {},
     "output_type": "display_data"
    },
    {
     "name": "stdout",
     "output_type": "stream",
     "text": [
      "___________________\n",
      "Turn  32 Player  -1\n"
     ]
    },
    {
     "data": {
      "text/plain": [
       "array([[-2,  0,  1, -1,  0,  2],\n",
       "       [ 0, -1,  0,  0,  0,  0],\n",
       "       [ 0,  0,  0,  0,  1, -2],\n",
       "       [ 0, -2,  0,  0,  1,  0],\n",
       "       [ 0,  0,  0,  1, -1,  1],\n",
       "       [ 0,  0,  0,  0,  1, -1]])"
      ]
     },
     "metadata": {},
     "output_type": "display_data"
    },
    {
     "name": "stdout",
     "output_type": "stream",
     "text": [
      "___________________\n",
      "Turn  33 Player  1\n"
     ]
    },
    {
     "data": {
      "text/plain": [
       "array([[-2,  0,  1, -1,  0,  2],\n",
       "       [ 0, -1,  0,  0,  0,  0],\n",
       "       [ 0, -2,  0,  0,  1, -2],\n",
       "       [ 0,  0,  0,  0,  1,  0],\n",
       "       [ 0, -2,  0,  1, -1,  1],\n",
       "       [ 0,  0,  0,  0,  1, -1]])"
      ]
     },
     "metadata": {},
     "output_type": "display_data"
    },
    {
     "name": "stdout",
     "output_type": "stream",
     "text": [
      "___________________\n",
      "Turn  34 Player  -1\n"
     ]
    },
    {
     "data": {
      "text/plain": [
       "array([[-2,  0,  1,  0,  0,  0],\n",
       "       [ 0, -1,  0,  0,  0,  0],\n",
       "       [ 0, -2,  0,  0,  0,  0],\n",
       "       [ 0,  0,  0,  0,  0,  0],\n",
       "       [ 0, -2,  0,  1, -1,  1],\n",
       "       [ 0,  0,  0,  0,  1, -1]])"
      ]
     },
     "metadata": {},
     "output_type": "display_data"
    },
    {
     "name": "stdout",
     "output_type": "stream",
     "text": [
      "___________________\n",
      "Turn  35 Player  1\n"
     ]
    },
    {
     "data": {
      "text/plain": [
       "array([[-2,  0,  1,  0,  0,  0],\n",
       "       [ 0, -1,  0,  0,  0,  0],\n",
       "       [ 0, -2,  0,  0,  0,  0],\n",
       "       [ 0,  0,  0,  0, -1,  0],\n",
       "       [ 0, -2,  0,  0, -1,  0],\n",
       "       [ 0,  0,  1,  0,  1, -1]])"
      ]
     },
     "metadata": {},
     "output_type": "display_data"
    },
    {
     "name": "stdout",
     "output_type": "stream",
     "text": [
      "___________________\n",
      "Turn  36 Player  -1\n"
     ]
    },
    {
     "data": {
      "text/plain": [
       "array([[-2,  0,  1,  0,  0,  0],\n",
       "       [ 0, -1,  0,  0,  0,  0],\n",
       "       [ 0, -2,  0,  0,  0,  0],\n",
       "       [ 0,  0,  1,  0, -1,  0],\n",
       "       [ 0, -2,  0,  0, -1,  0],\n",
       "       [ 0,  0,  1,  0,  1, -1]])"
      ]
     },
     "metadata": {},
     "output_type": "display_data"
    },
    {
     "name": "stdout",
     "output_type": "stream",
     "text": [
      "___________________\n",
      "Turn  37 Player  1\n"
     ]
    },
    {
     "data": {
      "text/plain": [
       "array([[-2,  0,  1,  0,  0, -2],\n",
       "       [ 0, -1,  0,  0,  0,  0],\n",
       "       [ 0, -2,  0,  0,  0,  0],\n",
       "       [ 0,  0,  1,  0, -1,  0],\n",
       "       [ 0, -2,  0,  0, -1,  0],\n",
       "       [ 0,  0,  1,  0,  1, -1]])"
      ]
     },
     "metadata": {},
     "output_type": "display_data"
    },
    {
     "name": "stdout",
     "output_type": "stream",
     "text": [
      "___________________\n",
      "Turn  38 Player  -1\n"
     ]
    },
    {
     "data": {
      "text/plain": [
       "array([[-2,  0,  1,  0,  0, -2],\n",
       "       [ 0, -1,  0,  0,  0,  0],\n",
       "       [ 0, -2,  0,  0,  0,  0],\n",
       "       [ 0,  1,  0,  2,  0, -1],\n",
       "       [ 0, -2,  0,  0, -1,  0],\n",
       "       [ 0,  0,  1,  0,  1, -1]])"
      ]
     },
     "metadata": {},
     "output_type": "display_data"
    },
    {
     "name": "stdout",
     "output_type": "stream",
     "text": [
      "___________________\n",
      "Turn  39 Player  1\n"
     ]
    },
    {
     "data": {
      "text/plain": [
       "array([[-2,  0,  1,  0,  0, -2],\n",
       "       [ 0, -1,  0,  0,  0,  0],\n",
       "       [ 0, -2,  0,  0,  0,  0],\n",
       "       [ 0,  1,  0,  2,  0, -1],\n",
       "       [ 0, -2,  0,  0,  0,  0],\n",
       "       [ 0,  0,  1,  0,  1, -1]])"
      ]
     },
     "metadata": {},
     "output_type": "display_data"
    },
    {
     "name": "stdout",
     "output_type": "stream",
     "text": [
      "___________________\n",
      "Turn  40 Player  -1\n"
     ]
    },
    {
     "data": {
      "text/plain": [
       "array([[-2,  0,  1,  0,  0, -2],\n",
       "       [ 0, -1,  0,  0,  0,  0],\n",
       "       [ 0, -2,  0,  2,  0,  0],\n",
       "       [ 0,  1,  0,  0,  0, -1],\n",
       "       [ 0, -2,  0,  2,  0,  0],\n",
       "       [ 0,  0,  1,  0,  1, -1]])"
      ]
     },
     "metadata": {},
     "output_type": "display_data"
    },
    {
     "name": "stdout",
     "output_type": "stream",
     "text": [
      "___________________\n",
      "Turn  41 Player  1\n"
     ]
    },
    {
     "data": {
      "text/plain": [
       "array([[-2,  1,  0, -2,  0, -2],\n",
       "       [ 0, -1,  0,  0,  0,  0],\n",
       "       [ 0, -2,  0,  2,  0,  0],\n",
       "       [ 0,  1,  0,  0,  0, -1],\n",
       "       [ 0, -2,  0,  2,  0,  0],\n",
       "       [ 0,  0,  1,  0,  1, -1]])"
      ]
     },
     "metadata": {},
     "output_type": "display_data"
    },
    {
     "name": "stdout",
     "output_type": "stream",
     "text": [
      "___________________\n",
      "Turn  42 Player  -1\n"
     ]
    },
    {
     "data": {
      "text/plain": [
       "array([[-2,  1,  0, -2,  0, -2],\n",
       "       [ 0, -1,  0,  0,  0,  0],\n",
       "       [ 0, -2,  0,  2,  0,  0],\n",
       "       [ 0,  1,  0,  0,  0, -1],\n",
       "       [ 0, -2,  0,  2,  0,  0],\n",
       "       [ 0,  2,  0,  1,  1, -1]])"
      ]
     },
     "metadata": {},
     "output_type": "display_data"
    },
    {
     "name": "stdout",
     "output_type": "stream",
     "text": [
      "___________________\n",
      "Turn  43 Player  1\n"
     ]
    },
    {
     "data": {
      "text/plain": [
       "array([[-2,  1,  0, -2,  0, -2],\n",
       "       [ 0, -1,  0,  0,  0,  0],\n",
       "       [ 0, -2,  0,  2,  0,  0],\n",
       "       [ 0,  1,  0,  0,  0,  0],\n",
       "       [ 0, -2,  0,  2,  0,  0],\n",
       "       [ 0,  2,  0,  1,  1, -1]])"
      ]
     },
     "metadata": {},
     "output_type": "display_data"
    },
    {
     "name": "stdout",
     "output_type": "stream",
     "text": [
      "___________________\n",
      "Turn  44 Player  -1\n"
     ]
    },
    {
     "data": {
      "text/plain": [
       "array([[-2,  1,  0, -2,  0, -2],\n",
       "       [ 0, -1,  0,  0,  0,  0],\n",
       "       [ 0, -2,  1,  2,  0,  0],\n",
       "       [ 0,  0,  0,  0,  0,  0],\n",
       "       [ 2,  0, -2,  2,  0,  0],\n",
       "       [ 0,  0,  0,  1,  1, -1]])"
      ]
     },
     "metadata": {},
     "output_type": "display_data"
    },
    {
     "name": "stdout",
     "output_type": "stream",
     "text": [
      "___________________\n",
      "Turn  45 Player  1\n"
     ]
    },
    {
     "data": {
      "text/plain": [
       "array([[ 0,  0,  0, -2,  0, -2],\n",
       "       [-2,  0, -1,  0,  0,  0],\n",
       "       [ 0,  0,  1,  2,  0,  0],\n",
       "       [ 0,  0, -2,  0,  0,  0],\n",
       "       [ 2,  0, -2,  2,  0,  0],\n",
       "       [ 0,  0,  0,  1,  1, -1]])"
      ]
     },
     "metadata": {},
     "output_type": "display_data"
    },
    {
     "name": "stdout",
     "output_type": "stream",
     "text": [
      "___________________\n",
      "Turn  46 Player  -1\n"
     ]
    },
    {
     "data": {
      "text/plain": [
       "array([[ 0,  0,  0,  0,  0, -2],\n",
       "       [-2, -1,  0,  2,  0,  0],\n",
       "       [ 0,  0,  0,  0,  0,  0],\n",
       "       [ 0,  1, -2,  0,  0,  0],\n",
       "       [ 2,  0, -2,  0,  0,  0],\n",
       "       [ 0,  0,  0,  0,  1, -1]])"
      ]
     },
     "metadata": {},
     "output_type": "display_data"
    },
    {
     "name": "stdout",
     "output_type": "stream",
     "text": [
      "___________________\n",
      "Game over: Turn  46 Result  -1\n"
     ]
    },
    {
     "data": {
      "text/plain": [
       "array([[-1,  0,  0,  0,  2, -2],\n",
       "       [-2,  0,  0,  0,  0,  0],\n",
       "       [ 0,  0, -2,  0,  0,  0],\n",
       "       [ 0,  1, -2,  0,  0,  0],\n",
       "       [ 2,  0, -2,  0,  0,  0],\n",
       "       [ 0,  0,  0,  0,  1, -1]])"
      ]
     },
     "metadata": {},
     "output_type": "display_data"
    },
    {
     "name": "stderr",
     "output_type": "stream",
     "text": [
      "\r",
      "Arena.playGames (2):  20%|████████████▌                                                  | 1/5 [00:00<00:01,  3.83it/s]"
     ]
    },
    {
     "name": "stdout",
     "output_type": "stream",
     "text": [
      "Turn  1 Player  1\n"
     ]
    },
    {
     "data": {
      "text/plain": [
       "array([[0, 0, 0, 0, 0, 0],\n",
       "       [0, 0, 0, 0, 0, 0],\n",
       "       [0, 0, 0, 0, 0, 0],\n",
       "       [0, 0, 0, 0, 0, 0],\n",
       "       [0, 0, 0, 0, 0, 0],\n",
       "       [0, 0, 0, 0, 0, 0]])"
      ]
     },
     "metadata": {},
     "output_type": "display_data"
    },
    {
     "name": "stdout",
     "output_type": "stream",
     "text": [
      "___________________\n",
      "Turn  2 Player  -1\n"
     ]
    },
    {
     "data": {
      "text/plain": [
       "array([[0, 0, 0, 0, 0, 0],\n",
       "       [0, 0, 0, 0, 0, 0],\n",
       "       [0, 0, 0, 0, 0, 0],\n",
       "       [0, 0, 1, 0, 0, 0],\n",
       "       [0, 0, 0, 0, 0, 0],\n",
       "       [0, 0, 0, 0, 0, 0]])"
      ]
     },
     "metadata": {},
     "output_type": "display_data"
    },
    {
     "name": "stdout",
     "output_type": "stream",
     "text": [
      "___________________\n",
      "Turn  3 Player  1\n"
     ]
    },
    {
     "data": {
      "text/plain": [
       "array([[ 0,  0,  0,  0,  0,  0],\n",
       "       [ 0,  0,  0, -1,  0,  0],\n",
       "       [ 0,  0,  0,  0,  0,  0],\n",
       "       [ 0,  0,  1,  0,  0,  0],\n",
       "       [ 0,  0,  0,  0,  0,  0],\n",
       "       [ 0,  0,  0,  0,  0,  0]])"
      ]
     },
     "metadata": {},
     "output_type": "display_data"
    },
    {
     "name": "stdout",
     "output_type": "stream",
     "text": [
      "___________________\n",
      "Turn  4 Player  -1\n"
     ]
    },
    {
     "data": {
      "text/plain": [
       "array([[ 0,  0,  0,  0,  0,  0],\n",
       "       [ 0,  0,  0, -1,  0,  0],\n",
       "       [ 0,  0,  0,  0,  0,  0],\n",
       "       [ 0,  1,  0,  1,  0,  0],\n",
       "       [ 0,  0,  0,  0,  0,  0],\n",
       "       [ 0,  0,  0,  0,  0,  0]])"
      ]
     },
     "metadata": {},
     "output_type": "display_data"
    },
    {
     "name": "stdout",
     "output_type": "stream",
     "text": [
      "___________________\n",
      "Turn  5 Player  1\n"
     ]
    },
    {
     "data": {
      "text/plain": [
       "array([[ 0,  0,  0,  0,  0,  0],\n",
       "       [ 0,  0,  0, -1,  0,  0],\n",
       "       [ 0,  0,  0,  0,  0,  0],\n",
       "       [ 0,  1,  0,  1,  0,  0],\n",
       "       [ 0,  0,  0,  0,  0,  0],\n",
       "       [ 0,  0, -1,  0,  0,  0]])"
      ]
     },
     "metadata": {},
     "output_type": "display_data"
    },
    {
     "name": "stdout",
     "output_type": "stream",
     "text": [
      "___________________\n",
      "Turn  6 Player  -1\n"
     ]
    },
    {
     "data": {
      "text/plain": [
       "array([[ 0,  0, -1,  0,  0,  0],\n",
       "       [ 0,  0,  0,  0,  0,  0],\n",
       "       [ 0,  0,  0,  0,  1,  0],\n",
       "       [ 0,  1,  0,  0,  0,  0],\n",
       "       [ 0,  0,  1,  0,  0,  0],\n",
       "       [ 0,  0, -1,  0,  0,  0]])"
      ]
     },
     "metadata": {},
     "output_type": "display_data"
    },
    {
     "name": "stdout",
     "output_type": "stream",
     "text": [
      "___________________\n",
      "Turn  7 Player  1\n"
     ]
    },
    {
     "data": {
      "text/plain": [
       "array([[ 0,  0, -1,  0,  0, -1],\n",
       "       [ 0,  0,  0,  0,  0,  0],\n",
       "       [ 0,  0,  0,  0,  1,  0],\n",
       "       [ 0,  1,  0,  0,  0,  0],\n",
       "       [ 0,  0,  1,  0,  0,  0],\n",
       "       [ 0,  0, -1,  0,  0,  0]])"
      ]
     },
     "metadata": {},
     "output_type": "display_data"
    },
    {
     "name": "stdout",
     "output_type": "stream",
     "text": [
      "___________________\n",
      "Turn  8 Player  -1\n"
     ]
    },
    {
     "data": {
      "text/plain": [
       "array([[ 0,  0, -1,  0,  0, -1],\n",
       "       [ 0,  0,  0,  0,  0,  0],\n",
       "       [ 0,  0,  0,  0,  1,  0],\n",
       "       [ 1,  0,  1,  0,  0,  0],\n",
       "       [ 0,  0,  1,  0,  0,  0],\n",
       "       [ 0,  0, -1,  0,  0,  0]])"
      ]
     },
     "metadata": {},
     "output_type": "display_data"
    },
    {
     "name": "stdout",
     "output_type": "stream",
     "text": [
      "___________________\n",
      "Turn  9 Player  1\n"
     ]
    },
    {
     "data": {
      "text/plain": [
       "array([[ 0,  0, -1,  0,  0, -1],\n",
       "       [ 0,  0,  0,  0,  0,  0],\n",
       "       [ 0,  0,  0,  1,  0, -1],\n",
       "       [ 1,  0,  1,  0,  0,  0],\n",
       "       [ 0,  0,  1,  0,  0,  0],\n",
       "       [ 0,  0, -1,  0,  0,  0]])"
      ]
     },
     "metadata": {},
     "output_type": "display_data"
    },
    {
     "name": "stdout",
     "output_type": "stream",
     "text": [
      "___________________\n",
      "Turn  10 Player  -1\n"
     ]
    },
    {
     "data": {
      "text/plain": [
       "array([[ 0,  0, -1,  0,  0, -1],\n",
       "       [ 0,  0,  0,  0,  0,  0],\n",
       "       [ 0,  0,  0,  0,  1, -1],\n",
       "       [ 1,  0,  0,  0,  0,  0],\n",
       "       [ 0,  0,  0,  0,  0,  0],\n",
       "       [ 0,  0, -1,  0,  0,  0]])"
      ]
     },
     "metadata": {},
     "output_type": "display_data"
    },
    {
     "name": "stdout",
     "output_type": "stream",
     "text": [
      "___________________\n",
      "Turn  11 Player  1\n"
     ]
    },
    {
     "data": {
      "text/plain": [
       "array([[ 0,  0, -1,  0,  0, -1],\n",
       "       [ 0,  0,  0,  0,  0,  0],\n",
       "       [ 0,  0,  0,  0,  1, -1],\n",
       "       [ 1,  0,  0,  0,  0,  0],\n",
       "       [ 0,  0,  0,  0,  0,  0],\n",
       "       [-1,  0, -1,  0,  0,  0]])"
      ]
     },
     "metadata": {},
     "output_type": "display_data"
    },
    {
     "name": "stdout",
     "output_type": "stream",
     "text": [
      "___________________\n",
      "Turn  12 Player  -1\n"
     ]
    },
    {
     "data": {
      "text/plain": [
       "array([[ 0,  0, -1,  0,  0, -1],\n",
       "       [ 0,  0,  0,  0,  0,  0],\n",
       "       [ 0,  0,  0,  0,  1, -1],\n",
       "       [ 1,  0,  1,  0,  0,  0],\n",
       "       [ 0,  0,  0,  0,  0,  0],\n",
       "       [-1,  0, -1,  0,  0,  0]])"
      ]
     },
     "metadata": {},
     "output_type": "display_data"
    },
    {
     "name": "stdout",
     "output_type": "stream",
     "text": [
      "___________________\n",
      "Turn  13 Player  1\n"
     ]
    },
    {
     "data": {
      "text/plain": [
       "array([[ 0,  0, -1,  0,  0, -1],\n",
       "       [ 0,  0,  0,  0,  0,  0],\n",
       "       [-1,  0,  0,  0,  1, -1],\n",
       "       [ 0,  0,  1,  0,  0,  0],\n",
       "       [ 1,  0,  0,  0,  0,  0],\n",
       "       [-1,  0, -1,  0,  0,  0]])"
      ]
     },
     "metadata": {},
     "output_type": "display_data"
    },
    {
     "name": "stdout",
     "output_type": "stream",
     "text": [
      "___________________\n",
      "Turn  14 Player  -1\n"
     ]
    },
    {
     "data": {
      "text/plain": [
       "array([[ 0,  0, -1,  0,  0, -1],\n",
       "       [ 0,  0,  0,  0,  0,  1],\n",
       "       [-1,  0,  0,  0,  0, -1],\n",
       "       [ 0,  1,  0,  1,  0,  0],\n",
       "       [ 1,  0,  0,  0,  0,  0],\n",
       "       [-1,  0, -1,  0,  0,  0]])"
      ]
     },
     "metadata": {},
     "output_type": "display_data"
    },
    {
     "name": "stdout",
     "output_type": "stream",
     "text": [
      "___________________\n",
      "Turn  15 Player  1\n"
     ]
    },
    {
     "data": {
      "text/plain": [
       "array([[ 0, -1,  0, -1,  0, -1],\n",
       "       [ 0,  0,  0,  0,  0,  1],\n",
       "       [-1,  0,  0,  0,  0, -1],\n",
       "       [ 0,  1,  0,  1,  0,  0],\n",
       "       [ 1,  0,  0,  0,  0,  0],\n",
       "       [-1,  0, -1,  0,  0,  0]])"
      ]
     },
     "metadata": {},
     "output_type": "display_data"
    },
    {
     "name": "stdout",
     "output_type": "stream",
     "text": [
      "___________________\n",
      "Turn  16 Player  -1\n"
     ]
    },
    {
     "data": {
      "text/plain": [
       "array([[ 0, -1,  0, -1,  0, -1],\n",
       "       [ 0,  0,  0,  0,  0,  1],\n",
       "       [-1,  0,  0,  0,  0, -1],\n",
       "       [ 0,  1,  0,  1,  0,  0],\n",
       "       [ 1,  0,  0,  0,  0,  0],\n",
       "       [-1, -1,  0,  1,  0,  0]])"
      ]
     },
     "metadata": {},
     "output_type": "display_data"
    },
    {
     "name": "stdout",
     "output_type": "stream",
     "text": [
      "___________________\n",
      "Turn  17 Player  1\n"
     ]
    },
    {
     "data": {
      "text/plain": [
       "array([[ 0, -1,  0, -1,  0, -1],\n",
       "       [ 0,  0,  0,  0,  0,  1],\n",
       "       [ 0, -1,  0,  0,  0, -1],\n",
       "       [ 0,  0,  0,  1,  0,  0],\n",
       "       [ 1,  1,  0,  0,  0,  0],\n",
       "       [-1, -1,  0,  1,  0,  0]])"
      ]
     },
     "metadata": {},
     "output_type": "display_data"
    },
    {
     "name": "stdout",
     "output_type": "stream",
     "text": [
      "___________________\n",
      "Turn  18 Player  -1\n"
     ]
    },
    {
     "data": {
      "text/plain": [
       "array([[ 0, -1,  0,  0,  0, -1],\n",
       "       [ 0,  0,  0,  2,  0,  1],\n",
       "       [ 0, -1,  0,  0,  0, -1],\n",
       "       [ 0,  0,  0,  1,  0,  0],\n",
       "       [ 1,  1,  0,  0,  0,  0],\n",
       "       [-1, -1,  0,  1,  0,  0]])"
      ]
     },
     "metadata": {},
     "output_type": "display_data"
    },
    {
     "name": "stdout",
     "output_type": "stream",
     "text": [
      "___________________\n",
      "Turn  19 Player  1\n"
     ]
    },
    {
     "data": {
      "text/plain": [
       "array([[ 0, -1,  0,  0,  0, -1],\n",
       "       [ 0,  0,  0,  2,  0,  1],\n",
       "       [ 0, -1,  0,  0,  0, -1],\n",
       "       [ 1,  0,  0,  1,  0,  0],\n",
       "       [ 1,  0,  0,  0,  0,  0],\n",
       "       [ 0,  0,  0,  0,  1,  0]])"
      ]
     },
     "metadata": {},
     "output_type": "display_data"
    },
    {
     "name": "stdout",
     "output_type": "stream",
     "text": [
      "___________________\n",
      "Turn  20 Player  -1\n"
     ]
    },
    {
     "data": {
      "text/plain": [
       "array([[ 0, -1,  0,  0,  0, -1],\n",
       "       [ 0,  0,  0,  2,  0,  1],\n",
       "       [ 0, -1,  0,  0,  0, -1],\n",
       "       [ 1,  0,  0,  1,  0,  0],\n",
       "       [ 1,  0,  0,  0,  0,  0],\n",
       "       [ 0,  0,  0,  1,  0,  2]])"
      ]
     },
     "metadata": {},
     "output_type": "display_data"
    },
    {
     "name": "stdout",
     "output_type": "stream",
     "text": [
      "___________________\n",
      "Turn  21 Player  1\n"
     ]
    },
    {
     "data": {
      "text/plain": [
       "array([[ 0,  0,  0,  0,  0, -1],\n",
       "       [ 0, -1,  0,  2,  0,  1],\n",
       "       [ 0,  0,  0,  0,  0, -1],\n",
       "       [ 1, -1,  0,  1,  0,  0],\n",
       "       [ 1,  0,  0,  0,  0,  0],\n",
       "       [ 0,  0,  0,  1,  0,  2]])"
      ]
     },
     "metadata": {},
     "output_type": "display_data"
    },
    {
     "name": "stdout",
     "output_type": "stream",
     "text": [
      "___________________\n",
      "Turn  22 Player  -1\n"
     ]
    },
    {
     "data": {
      "text/plain": [
       "array([[ 0,  0,  0,  2,  0, -1],\n",
       "       [ 0, -1,  0,  0,  0,  1],\n",
       "       [ 0,  0,  0,  2,  0, -1],\n",
       "       [ 1, -1,  0,  0,  0,  0],\n",
       "       [ 1,  0,  0,  1,  0,  0],\n",
       "       [ 0,  0,  0,  1,  0,  2]])"
      ]
     },
     "metadata": {},
     "output_type": "display_data"
    },
    {
     "name": "stdout",
     "output_type": "stream",
     "text": [
      "___________________\n",
      "Turn  23 Player  1\n"
     ]
    },
    {
     "data": {
      "text/plain": [
       "array([[ 0,  0,  0,  2,  0, -1],\n",
       "       [ 0, -1,  0,  0,  0,  1],\n",
       "       [ 0,  0,  0,  2,  0, -1],\n",
       "       [ 1, -1,  0,  0,  0,  0],\n",
       "       [ 1,  0,  1,  0, -2,  0],\n",
       "       [ 0,  0,  0,  0,  0,  0]])"
      ]
     },
     "metadata": {},
     "output_type": "display_data"
    },
    {
     "name": "stdout",
     "output_type": "stream",
     "text": [
      "___________________\n",
      "Turn  24 Player  -1\n"
     ]
    },
    {
     "data": {
      "text/plain": [
       "array([[ 0,  0,  2,  0,  2, -1],\n",
       "       [ 0,  0,  0,  0,  0,  1],\n",
       "       [-1,  0,  0,  2,  0, -1],\n",
       "       [ 1, -1,  0,  0,  0,  0],\n",
       "       [ 1,  0,  1,  0, -2,  0],\n",
       "       [ 0,  0,  0,  0,  0,  0]])"
      ]
     },
     "metadata": {},
     "output_type": "display_data"
    },
    {
     "name": "stdout",
     "output_type": "stream",
     "text": [
      "___________________\n",
      "Turn  25 Player  1\n"
     ]
    },
    {
     "data": {
      "text/plain": [
       "array([[-2,  0,  2,  0,  2, -1],\n",
       "       [ 0,  0,  0,  0,  0,  1],\n",
       "       [-1,  0,  0,  2,  0, -1],\n",
       "       [ 1, -1,  0,  0,  0,  0],\n",
       "       [ 1,  0,  1,  0, -2,  0],\n",
       "       [ 0,  0,  0,  0,  0,  0]])"
      ]
     },
     "metadata": {},
     "output_type": "display_data"
    },
    {
     "name": "stdout",
     "output_type": "stream",
     "text": [
      "___________________\n",
      "Turn  26 Player  -1\n"
     ]
    },
    {
     "data": {
      "text/plain": [
       "array([[-2,  0,  2,  0,  2, -1],\n",
       "       [ 0,  0,  0,  0,  0,  1],\n",
       "       [-1,  0,  0,  2,  0, -1],\n",
       "       [ 1, -1,  0,  0,  0,  0],\n",
       "       [ 1,  0,  1,  0, -2,  0],\n",
       "       [ 0,  0,  0,  0,  1,  0]])"
      ]
     },
     "metadata": {},
     "output_type": "display_data"
    },
    {
     "name": "stdout",
     "output_type": "stream",
     "text": [
      "___________________\n",
      "Turn  27 Player  1\n"
     ]
    },
    {
     "data": {
      "text/plain": [
       "array([[-2,  0,  2,  0,  2, -1],\n",
       "       [ 0,  0,  0,  0,  0,  0],\n",
       "       [-1,  0,  2,  0, -2,  0],\n",
       "       [ 1, -1,  0,  0,  0,  0],\n",
       "       [ 1,  0,  1,  0, -2,  0],\n",
       "       [ 0,  0,  0,  0,  1,  0]])"
      ]
     },
     "metadata": {},
     "output_type": "display_data"
    },
    {
     "name": "stdout",
     "output_type": "stream",
     "text": [
      "___________________\n",
      "Turn  28 Player  -1\n"
     ]
    },
    {
     "data": {
      "text/plain": [
       "array([[-2,  0,  2,  0,  2, -1],\n",
       "       [ 0,  0,  0,  0,  0,  0],\n",
       "       [ 0,  1,  2,  0, -2,  0],\n",
       "       [ 0,  0,  0,  0,  0,  0],\n",
       "       [ 1, -1,  1,  0, -2,  0],\n",
       "       [ 0,  0,  0,  0,  1,  0]])"
      ]
     },
     "metadata": {},
     "output_type": "display_data"
    },
    {
     "name": "stdout",
     "output_type": "stream",
     "text": [
      "___________________\n",
      "Turn  29 Player  1\n"
     ]
    },
    {
     "data": {
      "text/plain": [
       "array([[-2,  0,  2,  0,  2, -1],\n",
       "       [ 0,  0,  0,  0,  0,  0],\n",
       "       [ 0,  1,  2,  0, -2,  0],\n",
       "       [ 0, -1,  0,  1,  0,  0],\n",
       "       [ 0,  0,  0,  0, -2,  0],\n",
       "       [ 0, -1,  0,  0,  1,  0]])"
      ]
     },
     "metadata": {},
     "output_type": "display_data"
    },
    {
     "name": "stdout",
     "output_type": "stream",
     "text": [
      "___________________\n",
      "Turn  30 Player  -1\n"
     ]
    },
    {
     "data": {
      "text/plain": [
       "array([[-2,  0,  2,  0,  2, -1],\n",
       "       [ 0,  0,  0,  0,  0,  0],\n",
       "       [ 0,  0,  0,  0, -2,  0],\n",
       "       [ 0, -1,  0,  0,  0,  0],\n",
       "       [ 0,  0,  0,  1, -2,  0],\n",
       "       [ 0, -1,  0,  0,  1,  0]])"
      ]
     },
     "metadata": {},
     "output_type": "display_data"
    },
    {
     "name": "stdout",
     "output_type": "stream",
     "text": [
      "___________________\n",
      "Turn  31 Player  1\n"
     ]
    },
    {
     "data": {
      "text/plain": [
       "array([[-2,  0,  2,  0,  2, -1],\n",
       "       [ 0,  0,  0,  0,  0,  0],\n",
       "       [ 0,  0,  0,  0,  0,  0],\n",
       "       [ 0, -1,  0,  0,  0,  0],\n",
       "       [ 0,  0,  0,  0,  0,  0],\n",
       "       [ 0, -1,  1,  0,  1,  0]])"
      ]
     },
     "metadata": {},
     "output_type": "display_data"
    },
    {
     "name": "stdout",
     "output_type": "stream",
     "text": [
      "___________________\n",
      "Turn  32 Player  -1\n"
     ]
    },
    {
     "data": {
      "text/plain": [
       "array([[-2,  0,  2,  0,  2, -1],\n",
       "       [ 0,  0,  0,  0,  0,  0],\n",
       "       [ 2,  0,  0,  0,  0,  0],\n",
       "       [ 0,  0,  0,  0,  0,  0],\n",
       "       [ 0,  0, -1,  0,  0,  0],\n",
       "       [ 0, -1,  1,  0,  1,  0]])"
      ]
     },
     "metadata": {},
     "output_type": "display_data"
    },
    {
     "name": "stdout",
     "output_type": "stream",
     "text": [
      "___________________\n",
      "Turn  33 Player  1\n"
     ]
    },
    {
     "data": {
      "text/plain": [
       "array([[-2,  0,  2,  0,  2,  0],\n",
       "       [ 0,  0,  0,  0,  0, -1],\n",
       "       [ 2,  0,  0,  0,  0,  0],\n",
       "       [ 0,  0,  0,  0,  0,  0],\n",
       "       [ 0,  0, -1,  0,  0,  0],\n",
       "       [ 0, -1,  1,  0,  1,  0]])"
      ]
     },
     "metadata": {},
     "output_type": "display_data"
    },
    {
     "name": "stdout",
     "output_type": "stream",
     "text": [
      "___________________\n",
      "Turn  34 Player  -1\n"
     ]
    },
    {
     "data": {
      "text/plain": [
       "array([[-2,  0,  0,  0,  2,  0],\n",
       "       [ 0,  0,  0,  0,  0, -1],\n",
       "       [ 0,  0,  0,  0,  0,  0],\n",
       "       [ 0,  0,  0,  0,  0,  0],\n",
       "       [ 0,  0, -1,  0,  0,  0],\n",
       "       [ 0, -1,  1,  0,  1,  0]])"
      ]
     },
     "metadata": {},
     "output_type": "display_data"
    },
    {
     "name": "stdout",
     "output_type": "stream",
     "text": [
      "___________________\n",
      "Turn  35 Player  1\n"
     ]
    },
    {
     "data": {
      "text/plain": [
       "array([[-2,  0,  0,  0,  2,  0],\n",
       "       [ 0,  0,  0,  0,  0, -1],\n",
       "       [ 0,  0,  0,  0,  0,  0],\n",
       "       [ 0,  0,  0,  0,  0,  0],\n",
       "       [ 0,  0, -1,  0, -2,  0],\n",
       "       [ 0, -1,  1,  0,  0,  0]])"
      ]
     },
     "metadata": {},
     "output_type": "display_data"
    },
    {
     "name": "stdout",
     "output_type": "stream",
     "text": [
      "___________________\n",
      "Turn  36 Player  -1\n"
     ]
    },
    {
     "data": {
      "text/plain": [
       "array([[-2,  0,  0,  2,  0,  2],\n",
       "       [ 0,  0,  0,  0,  0,  0],\n",
       "       [ 0,  0,  0,  0,  0, -1],\n",
       "       [ 0,  0,  0,  0,  0,  0],\n",
       "       [ 0,  0, -1,  0, -2,  0],\n",
       "       [ 0, -1,  1,  0,  0,  0]])"
      ]
     },
     "metadata": {},
     "output_type": "display_data"
    },
    {
     "name": "stdout",
     "output_type": "stream",
     "text": [
      "___________________\n",
      "Turn  37 Player  1\n"
     ]
    },
    {
     "data": {
      "text/plain": [
       "array([[-2,  0,  0,  2,  0,  2],\n",
       "       [ 0,  0,  0,  0,  0,  0],\n",
       "       [ 0,  0,  0,  0,  0, -1],\n",
       "       [ 0,  0,  0,  0,  0,  0],\n",
       "       [ 0,  0,  0,  0,  0,  0],\n",
       "       [ 0,  0,  1,  0,  0, -2]])"
      ]
     },
     "metadata": {},
     "output_type": "display_data"
    },
    {
     "name": "stdout",
     "output_type": "stream",
     "text": [
      "___________________\n",
      "Turn  38 Player  -1\n"
     ]
    },
    {
     "data": {
      "text/plain": [
       "array([[-2,  0,  0,  2,  0,  2],\n",
       "       [ 0,  0,  0,  0,  0,  0],\n",
       "       [ 0,  0,  0,  0,  0, -1],\n",
       "       [ 0,  0,  0,  1,  0,  0],\n",
       "       [ 0,  0,  0,  0,  0,  0],\n",
       "       [ 0,  0,  1,  0,  0, -2]])"
      ]
     },
     "metadata": {},
     "output_type": "display_data"
    },
    {
     "name": "stdout",
     "output_type": "stream",
     "text": [
      "___________________\n",
      "Turn  39 Player  1\n"
     ]
    },
    {
     "data": {
      "text/plain": [
       "array([[-2,  0,  0,  2,  0,  2],\n",
       "       [ 0,  0,  0, -1,  0,  0],\n",
       "       [ 0,  0,  0,  0,  0, -1],\n",
       "       [ 0,  0,  0,  1,  0,  0],\n",
       "       [ 0,  0,  0,  0,  0,  0],\n",
       "       [ 0,  0,  1,  0,  0, -2]])"
      ]
     },
     "metadata": {},
     "output_type": "display_data"
    },
    {
     "name": "stdout",
     "output_type": "stream",
     "text": [
      "___________________\n",
      "Turn  40 Player  -1\n"
     ]
    },
    {
     "data": {
      "text/plain": [
       "array([[-2,  0,  0,  2,  0,  2],\n",
       "       [ 0,  0,  0, -1,  0,  0],\n",
       "       [ 0,  0,  0,  0,  0, -1],\n",
       "       [ 0,  0,  0,  1,  0,  0],\n",
       "       [ 0,  0,  0,  0,  0,  0],\n",
       "       [ 2,  0,  1,  0,  0, -2]])"
      ]
     },
     "metadata": {},
     "output_type": "display_data"
    },
    {
     "name": "stdout",
     "output_type": "stream",
     "text": [
      "___________________\n",
      "Turn  41 Player  1\n"
     ]
    },
    {
     "data": {
      "text/plain": [
       "array([[-2,  0,  0,  2,  0,  2],\n",
       "       [ 0,  0,  0, -1,  0,  0],\n",
       "       [ 0,  0,  0, -2,  0, -1],\n",
       "       [ 0,  0,  0,  0,  0,  0],\n",
       "       [ 0,  0,  0,  1,  0,  0],\n",
       "       [ 2,  0,  1,  0,  0, -2]])"
      ]
     },
     "metadata": {},
     "output_type": "display_data"
    },
    {
     "name": "stdout",
     "output_type": "stream",
     "text": [
      "___________________\n",
      "Turn  42 Player  -1\n"
     ]
    },
    {
     "data": {
      "text/plain": [
       "array([[-2,  0,  0,  2, -1,  2],\n",
       "       [ 0,  0,  0,  0,  0,  0],\n",
       "       [ 0,  0,  2,  0, -2, -1],\n",
       "       [ 0,  0,  0,  0,  0,  0],\n",
       "       [ 0,  0,  0,  1,  0,  0],\n",
       "       [ 2,  0,  1,  0,  0, -2]])"
      ]
     },
     "metadata": {},
     "output_type": "display_data"
    },
    {
     "name": "stdout",
     "output_type": "stream",
     "text": [
      "___________________\n",
      "Turn  43 Player  1\n"
     ]
    },
    {
     "data": {
      "text/plain": [
       "array([[ 0, -2,  0,  2, -1,  2],\n",
       "       [ 0,  0,  0,  0,  0,  0],\n",
       "       [ 0,  0,  2,  0, -2, -1],\n",
       "       [ 0,  0,  0,  0,  0,  0],\n",
       "       [ 0,  0,  0,  1,  0,  0],\n",
       "       [ 2,  0,  1,  0,  0, -2]])"
      ]
     },
     "metadata": {},
     "output_type": "display_data"
    },
    {
     "name": "stdout",
     "output_type": "stream",
     "text": [
      "___________________\n",
      "Turn  44 Player  -1\n"
     ]
    },
    {
     "data": {
      "text/plain": [
       "array([[ 0, -2,  0,  0,  0,  2],\n",
       "       [ 0,  0,  0,  2,  0,  0],\n",
       "       [ 0,  0,  0,  0,  0, -1],\n",
       "       [ 0,  2,  0,  0,  0, -2],\n",
       "       [ 0,  0,  0,  1,  0,  0],\n",
       "       [ 2,  0,  1,  0,  0, -2]])"
      ]
     },
     "metadata": {},
     "output_type": "display_data"
    },
    {
     "name": "stdout",
     "output_type": "stream",
     "text": [
      "___________________\n",
      "Turn  45 Player  1\n"
     ]
    },
    {
     "data": {
      "text/plain": [
       "array([[ 0,  0,  0,  0,  0,  2],\n",
       "       [ 0,  0, -2,  0,  2,  0],\n",
       "       [ 0,  0,  0,  0,  0, -1],\n",
       "       [ 0,  2,  0,  0,  0, -2],\n",
       "       [ 0,  0,  0,  1,  0,  0],\n",
       "       [ 2,  0,  1,  0,  0, -2]])"
      ]
     },
     "metadata": {},
     "output_type": "display_data"
    },
    {
     "name": "stdout",
     "output_type": "stream",
     "text": [
      "___________________\n",
      "Turn  46 Player  -1\n"
     ]
    },
    {
     "data": {
      "text/plain": [
       "array([[ 0,  0,  0,  2,  0,  2],\n",
       "       [ 0,  0,  0,  0,  2,  0],\n",
       "       [ 0, -2,  0,  0,  0, -1],\n",
       "       [ 0,  2,  0,  0,  0, -2],\n",
       "       [ 0,  0,  0,  1,  0,  0],\n",
       "       [ 2,  0,  1,  0,  0, -2]])"
      ]
     },
     "metadata": {},
     "output_type": "display_data"
    },
    {
     "name": "stdout",
     "output_type": "stream",
     "text": [
      "___________________\n",
      "Turn  47 Player  1\n"
     ]
    },
    {
     "data": {
      "text/plain": [
       "array([[-2,  0,  0,  2,  0,  2],\n",
       "       [ 0,  0,  0,  0,  2,  0],\n",
       "       [ 0, -2,  0,  0,  0, -1],\n",
       "       [ 0,  2,  0,  0,  0, -2],\n",
       "       [ 0,  0,  0,  1,  0,  0],\n",
       "       [ 2,  0,  1,  0,  0, -2]])"
      ]
     },
     "metadata": {},
     "output_type": "display_data"
    },
    {
     "name": "stdout",
     "output_type": "stream",
     "text": [
      "___________________\n",
      "Turn  48 Player  -1\n"
     ]
    },
    {
     "data": {
      "text/plain": [
       "array([[-2,  0,  0,  2,  0,  2],\n",
       "       [ 0,  0,  0,  0,  2,  0],\n",
       "       [ 0, -2,  2,  0,  0, -1],\n",
       "       [ 0,  0,  0,  0,  0, -2],\n",
       "       [ 2,  0,  0,  1,  0,  0],\n",
       "       [ 0,  0,  1,  0,  0, -2]])"
      ]
     },
     "metadata": {},
     "output_type": "display_data"
    },
    {
     "name": "stdout",
     "output_type": "stream",
     "text": [
      "___________________\n",
      "Turn  49 Player  1\n"
     ]
    },
    {
     "data": {
      "text/plain": [
       "array([[-2,  0,  0,  2,  0,  2],\n",
       "       [ 0,  0,  0,  0,  2,  0],\n",
       "       [ 0, -2,  2,  0, -1,  0],\n",
       "       [ 0,  0,  0,  0,  0, -2],\n",
       "       [ 2,  0,  0,  1,  0,  0],\n",
       "       [ 0,  0,  1,  0,  0, -2]])"
      ]
     },
     "metadata": {},
     "output_type": "display_data"
    },
    {
     "name": "stdout",
     "output_type": "stream",
     "text": [
      "___________________\n",
      "Game over: Turn  49 Result  -1\n"
     ]
    },
    {
     "data": {
      "text/plain": [
       "array([[-2,  0,  0,  2,  0,  2],\n",
       "       [ 0,  0,  0,  0,  2,  0],\n",
       "       [ 0, -2,  2, -1,  0,  2],\n",
       "       [ 0,  0,  0,  0,  0,  0],\n",
       "       [ 2,  0,  0,  1,  0, -2],\n",
       "       [ 0,  0,  1,  0,  0, -2]])"
      ]
     },
     "metadata": {},
     "output_type": "display_data"
    },
    {
     "name": "stderr",
     "output_type": "stream",
     "text": [
      "\r",
      "Arena.playGames (2):  40%|█████████████████████████▏                                     | 2/5 [00:00<00:00,  3.69it/s]"
     ]
    },
    {
     "name": "stdout",
     "output_type": "stream",
     "text": [
      "Turn  1 Player  1\n"
     ]
    },
    {
     "data": {
      "text/plain": [
       "array([[0, 0, 0, 0, 0, 0],\n",
       "       [0, 0, 0, 0, 0, 0],\n",
       "       [0, 0, 0, 0, 0, 0],\n",
       "       [0, 0, 0, 0, 0, 0],\n",
       "       [0, 0, 0, 0, 0, 0],\n",
       "       [0, 0, 0, 0, 0, 0]])"
      ]
     },
     "metadata": {},
     "output_type": "display_data"
    },
    {
     "name": "stdout",
     "output_type": "stream",
     "text": [
      "___________________\n",
      "Turn  2 Player  -1\n"
     ]
    },
    {
     "data": {
      "text/plain": [
       "array([[0, 0, 0, 0, 0, 0],\n",
       "       [0, 0, 0, 0, 0, 0],\n",
       "       [0, 0, 0, 1, 0, 0],\n",
       "       [0, 0, 0, 0, 0, 0],\n",
       "       [0, 0, 0, 0, 0, 0],\n",
       "       [0, 0, 0, 0, 0, 0]])"
      ]
     },
     "metadata": {},
     "output_type": "display_data"
    },
    {
     "name": "stdout",
     "output_type": "stream",
     "text": [
      "___________________\n",
      "Turn  3 Player  1\n"
     ]
    },
    {
     "data": {
      "text/plain": [
       "array([[ 0,  0,  0,  0,  0,  0],\n",
       "       [ 0,  0,  0,  0,  0,  0],\n",
       "       [ 0,  0,  0,  1,  0,  0],\n",
       "       [ 0,  0,  0,  0,  0,  0],\n",
       "       [ 0,  0,  0,  0,  0,  0],\n",
       "       [ 0,  0,  0, -1,  0,  0]])"
      ]
     },
     "metadata": {},
     "output_type": "display_data"
    },
    {
     "name": "stdout",
     "output_type": "stream",
     "text": [
      "___________________\n",
      "Turn  4 Player  -1\n"
     ]
    },
    {
     "data": {
      "text/plain": [
       "array([[ 0,  0,  0,  0,  0,  0],\n",
       "       [ 0,  0,  0,  0,  0,  0],\n",
       "       [ 0,  0,  0,  1,  0,  0],\n",
       "       [ 0,  0,  0,  0,  0,  1],\n",
       "       [ 0,  0,  0,  0,  0,  0],\n",
       "       [ 0,  0,  0, -1,  0,  0]])"
      ]
     },
     "metadata": {},
     "output_type": "display_data"
    },
    {
     "name": "stdout",
     "output_type": "stream",
     "text": [
      "___________________\n",
      "Turn  5 Player  1\n"
     ]
    },
    {
     "data": {
      "text/plain": [
       "array([[ 0,  0,  0,  0,  0,  0],\n",
       "       [ 0,  0,  0,  0,  0,  0],\n",
       "       [ 0,  0,  0,  1,  0,  0],\n",
       "       [ 0,  0,  0,  0,  0,  0],\n",
       "       [ 0,  0,  0,  0, -1,  0],\n",
       "       [ 0,  0,  0,  0,  0,  0]])"
      ]
     },
     "metadata": {},
     "output_type": "display_data"
    },
    {
     "name": "stdout",
     "output_type": "stream",
     "text": [
      "___________________\n",
      "Turn  6 Player  -1\n"
     ]
    },
    {
     "data": {
      "text/plain": [
       "array([[ 0,  0,  0,  0,  0,  0],\n",
       "       [ 0,  0,  0,  0,  1,  0],\n",
       "       [ 0,  0,  0,  0,  0,  0],\n",
       "       [ 0,  0,  1,  0,  0,  0],\n",
       "       [ 0,  0,  0,  0, -1,  0],\n",
       "       [ 0,  0,  0,  0,  0,  0]])"
      ]
     },
     "metadata": {},
     "output_type": "display_data"
    },
    {
     "name": "stdout",
     "output_type": "stream",
     "text": [
      "___________________\n",
      "Turn  7 Player  1\n"
     ]
    },
    {
     "data": {
      "text/plain": [
       "array([[ 0,  0,  0,  0,  0,  0],\n",
       "       [ 0,  0,  0,  0,  1,  0],\n",
       "       [ 0,  0,  0,  0,  0,  0],\n",
       "       [ 0, -1,  0,  1,  0,  0],\n",
       "       [ 0,  0,  0,  0, -1,  0],\n",
       "       [ 0,  0,  0,  0,  0,  0]])"
      ]
     },
     "metadata": {},
     "output_type": "display_data"
    },
    {
     "name": "stdout",
     "output_type": "stream",
     "text": [
      "___________________\n",
      "Turn  8 Player  -1\n"
     ]
    },
    {
     "data": {
      "text/plain": [
       "array([[ 0,  0,  0,  0,  0,  0],\n",
       "       [ 0,  0,  0,  0,  1,  0],\n",
       "       [ 0,  0,  1,  0,  0,  0],\n",
       "       [ 0,  0,  0,  1,  0,  0],\n",
       "       [-1,  0,  0,  0, -1,  0],\n",
       "       [ 0,  0,  0,  0,  0,  0]])"
      ]
     },
     "metadata": {},
     "output_type": "display_data"
    },
    {
     "name": "stdout",
     "output_type": "stream",
     "text": [
      "___________________\n",
      "Turn  9 Player  1\n"
     ]
    },
    {
     "data": {
      "text/plain": [
       "array([[ 0,  0,  0,  0,  0,  0],\n",
       "       [ 0,  0,  0,  0,  1,  0],\n",
       "       [ 0,  0,  1,  0,  0,  0],\n",
       "       [ 0,  0,  0,  1, -1,  0],\n",
       "       [-1,  0,  0,  0,  0,  0],\n",
       "       [ 0,  0,  0,  0, -1,  0]])"
      ]
     },
     "metadata": {},
     "output_type": "display_data"
    },
    {
     "name": "stdout",
     "output_type": "stream",
     "text": [
      "___________________\n",
      "Turn  10 Player  -1\n"
     ]
    },
    {
     "data": {
      "text/plain": [
       "array([[ 0,  0,  0,  0,  0,  0],\n",
       "       [ 0,  0,  0,  0,  1,  0],\n",
       "       [ 0,  0,  1,  0,  0,  0],\n",
       "       [ 0,  0,  0,  1, -1,  0],\n",
       "       [-1,  0,  0,  0,  0,  0],\n",
       "       [ 0,  0,  0, -1,  0,  1]])"
      ]
     },
     "metadata": {},
     "output_type": "display_data"
    },
    {
     "name": "stdout",
     "output_type": "stream",
     "text": [
      "___________________\n",
      "Turn  11 Player  1\n"
     ]
    },
    {
     "data": {
      "text/plain": [
       "array([[ 0,  0,  0,  0,  0,  0],\n",
       "       [ 0,  0,  0,  0,  1,  0],\n",
       "       [ 0,  0,  1,  0,  0,  0],\n",
       "       [ 0,  0,  0,  1, -1,  0],\n",
       "       [-1,  0,  0,  0,  0,  0],\n",
       "       [ 0,  0, -1,  0, -1,  0]])"
      ]
     },
     "metadata": {},
     "output_type": "display_data"
    },
    {
     "name": "stdout",
     "output_type": "stream",
     "text": [
      "___________________\n",
      "Turn  12 Player  -1\n"
     ]
    },
    {
     "data": {
      "text/plain": [
       "array([[ 0,  0,  0,  0,  0,  0],\n",
       "       [ 0,  0,  1,  0,  1,  0],\n",
       "       [ 0,  0,  0,  0,  0,  0],\n",
       "       [ 0,  0,  1,  1, -1,  0],\n",
       "       [-1,  0,  0,  0,  0,  0],\n",
       "       [ 0,  0, -1,  0, -1,  0]])"
      ]
     },
     "metadata": {},
     "output_type": "display_data"
    },
    {
     "name": "stdout",
     "output_type": "stream",
     "text": [
      "___________________\n",
      "Turn  13 Player  1\n"
     ]
    },
    {
     "data": {
      "text/plain": [
       "array([[ 0,  0,  0,  0,  0, -1],\n",
       "       [ 0,  0,  1,  0,  0,  0],\n",
       "       [ 0,  0,  0,  1,  0,  0],\n",
       "       [ 0,  0,  1,  1, -1,  0],\n",
       "       [-1,  0,  0,  0,  0,  0],\n",
       "       [ 0,  0, -1,  0, -1,  0]])"
      ]
     },
     "metadata": {},
     "output_type": "display_data"
    },
    {
     "name": "stdout",
     "output_type": "stream",
     "text": [
      "___________________\n",
      "Turn  14 Player  -1\n"
     ]
    },
    {
     "data": {
      "text/plain": [
       "array([[ 0,  0,  0,  0,  0, -1],\n",
       "       [ 0,  0,  1,  0,  0,  0],\n",
       "       [ 0,  0,  0,  1,  0,  0],\n",
       "       [ 0,  0,  1,  1, -1,  0],\n",
       "       [-1,  0,  0,  0,  0,  0],\n",
       "       [ 0, -1,  0,  1,  0, -1]])"
      ]
     },
     "metadata": {},
     "output_type": "display_data"
    },
    {
     "name": "stdout",
     "output_type": "stream",
     "text": [
      "___________________\n",
      "Turn  15 Player  1\n"
     ]
    },
    {
     "data": {
      "text/plain": [
       "array([[ 0,  0,  0,  0,  0, -1],\n",
       "       [ 0,  0,  1,  0,  0,  0],\n",
       "       [ 0,  1,  0,  1,  0, -1],\n",
       "       [ 0,  0,  0,  1,  0,  0],\n",
       "       [-1,  0,  0, -1,  0,  0],\n",
       "       [ 0, -1,  0,  0,  0, -1]])"
      ]
     },
     "metadata": {},
     "output_type": "display_data"
    },
    {
     "name": "stdout",
     "output_type": "stream",
     "text": [
      "___________________\n",
      "Turn  16 Player  -1\n"
     ]
    },
    {
     "data": {
      "text/plain": [
       "array([[ 0,  0,  1,  0,  0, -1],\n",
       "       [ 0,  0,  0,  0,  0,  0],\n",
       "       [ 1,  0,  1,  0,  1, -1],\n",
       "       [ 0,  0,  0,  0,  0,  0],\n",
       "       [-1,  0,  0, -1,  1,  0],\n",
       "       [ 0, -1,  0,  0,  0, -1]])"
      ]
     },
     "metadata": {},
     "output_type": "display_data"
    },
    {
     "name": "stdout",
     "output_type": "stream",
     "text": [
      "___________________\n",
      "Turn  17 Player  1\n"
     ]
    },
    {
     "data": {
      "text/plain": [
       "array([[ 0,  0,  1,  0,  0, -1],\n",
       "       [ 0,  0,  1,  0,  0,  0],\n",
       "       [ 1,  0,  0,  0,  1, -1],\n",
       "       [ 0,  0, -1,  0,  0,  0],\n",
       "       [-1,  0,  0,  0,  1,  0],\n",
       "       [ 0, -1,  0,  0, -1, -1]])"
      ]
     },
     "metadata": {},
     "output_type": "display_data"
    },
    {
     "name": "stdout",
     "output_type": "stream",
     "text": [
      "___________________\n",
      "Turn  18 Player  -1\n"
     ]
    },
    {
     "data": {
      "text/plain": [
       "array([[ 0,  1,  1,  0,  0, -1],\n",
       "       [ 0,  0,  0,  0,  0,  0],\n",
       "       [ 1,  0,  0,  1,  1, -1],\n",
       "       [ 0,  0,  0,  0,  0,  0],\n",
       "       [-1, -1,  0,  0,  1,  0],\n",
       "       [ 0, -1,  0,  0, -1, -1]])"
      ]
     },
     "metadata": {},
     "output_type": "display_data"
    },
    {
     "name": "stdout",
     "output_type": "stream",
     "text": [
      "___________________\n",
      "Turn  19 Player  1\n"
     ]
    },
    {
     "data": {
      "text/plain": [
       "array([[ 0,  1,  1,  0,  0, -1],\n",
       "       [ 0,  0,  0,  1,  0,  1],\n",
       "       [ 1,  0,  0,  0,  0, -1],\n",
       "       [ 0,  0,  0, -1,  0,  0],\n",
       "       [-1, -1,  0,  0,  1,  0],\n",
       "       [ 0, -1,  0,  0, -1, -1]])"
      ]
     },
     "metadata": {},
     "output_type": "display_data"
    },
    {
     "name": "stdout",
     "output_type": "stream",
     "text": [
      "___________________\n",
      "Turn  20 Player  -1\n"
     ]
    },
    {
     "data": {
      "text/plain": [
       "array([[ 0,  1,  1,  0,  0, -1],\n",
       "       [ 0,  0,  0,  1,  0,  1],\n",
       "       [ 1,  0,  0,  0,  0, -1],\n",
       "       [ 0,  0,  1,  0, -1,  0],\n",
       "       [-1,  0,  0,  0,  1,  0],\n",
       "       [-1, -1,  0,  0, -1, -1]])"
      ]
     },
     "metadata": {},
     "output_type": "display_data"
    },
    {
     "name": "stdout",
     "output_type": "stream",
     "text": [
      "___________________\n",
      "Turn  21 Player  1\n"
     ]
    },
    {
     "data": {
      "text/plain": [
       "array([[ 0,  1,  1,  0,  0, -1],\n",
       "       [ 0,  0,  0,  1,  0,  1],\n",
       "       [ 1,  0,  0,  0,  0,  0],\n",
       "       [ 0,  0,  1,  0, -1,  0],\n",
       "       [-1,  0,  0,  0,  1,  0],\n",
       "       [-1, -1,  0,  0, -1, -1]])"
      ]
     },
     "metadata": {},
     "output_type": "display_data"
    },
    {
     "name": "stdout",
     "output_type": "stream",
     "text": [
      "___________________\n",
      "Turn  22 Player  -1\n"
     ]
    },
    {
     "data": {
      "text/plain": [
       "array([[ 0,  1,  1,  0,  0, -1],\n",
       "       [ 0,  0,  0,  1,  0,  1],\n",
       "       [ 1,  0,  0, -1,  0,  0],\n",
       "       [ 0,  0,  1,  0,  0,  0],\n",
       "       [-1,  0,  0,  1,  0,  1],\n",
       "       [-1, -1,  0,  0,  0,  0]])"
      ]
     },
     "metadata": {},
     "output_type": "display_data"
    },
    {
     "name": "stdout",
     "output_type": "stream",
     "text": [
      "___________________\n",
      "Turn  23 Player  1\n"
     ]
    },
    {
     "data": {
      "text/plain": [
       "array([[ 0,  1,  1,  0,  0, -1],\n",
       "       [ 0,  0,  0,  1,  0,  0],\n",
       "       [ 1,  0, -1,  0, -2,  0],\n",
       "       [ 0,  0,  1,  0,  0,  0],\n",
       "       [-1,  0,  0,  1,  0,  1],\n",
       "       [-1, -1,  0,  0,  0,  0]])"
      ]
     },
     "metadata": {},
     "output_type": "display_data"
    },
    {
     "name": "stdout",
     "output_type": "stream",
     "text": [
      "___________________\n",
      "Turn  24 Player  -1\n"
     ]
    },
    {
     "data": {
      "text/plain": [
       "array([[ 0,  1,  1,  0,  0, -1],\n",
       "       [ 0,  0,  0,  1,  0,  0],\n",
       "       [ 1,  0, -1,  0, -2,  0],\n",
       "       [ 0,  0,  0,  0,  0,  0],\n",
       "       [-1,  0,  0,  0,  0,  0],\n",
       "       [-1, -1,  0,  0,  0,  0]])"
      ]
     },
     "metadata": {},
     "output_type": "display_data"
    },
    {
     "name": "stdout",
     "output_type": "stream",
     "text": [
      "___________________\n",
      "Turn  25 Player  1\n"
     ]
    },
    {
     "data": {
      "text/plain": [
       "array([[ 0,  1,  1,  0,  0, -1],\n",
       "       [ 0,  0,  0,  1,  0,  0],\n",
       "       [ 1,  0, -1,  0, -2, -1],\n",
       "       [ 0,  0,  0,  0,  0,  0],\n",
       "       [-1,  0,  0,  0,  0,  0],\n",
       "       [-1, -1,  0,  0,  0,  0]])"
      ]
     },
     "metadata": {},
     "output_type": "display_data"
    },
    {
     "name": "stdout",
     "output_type": "stream",
     "text": [
      "___________________\n",
      "Turn  26 Player  -1\n"
     ]
    },
    {
     "data": {
      "text/plain": [
       "array([[ 0,  1,  1,  0,  0, -1],\n",
       "       [ 0,  0, -1,  1,  0,  0],\n",
       "       [ 1,  0,  0,  0, -2, -1],\n",
       "       [ 0,  0,  1,  0,  0,  0],\n",
       "       [-1,  0,  0,  0,  0,  0],\n",
       "       [-1, -1,  0,  0,  0,  0]])"
      ]
     },
     "metadata": {},
     "output_type": "display_data"
    },
    {
     "name": "stdout",
     "output_type": "stream",
     "text": [
      "___________________\n",
      "Turn  27 Player  1\n"
     ]
    },
    {
     "data": {
      "text/plain": [
       "array([[ 0,  1,  1,  0,  0, -1],\n",
       "       [ 0,  0, -1,  1,  0,  0],\n",
       "       [ 1,  0,  0,  0, -2, -1],\n",
       "       [ 0,  0,  1,  0,  0,  0],\n",
       "       [-1,  0,  0,  0,  0,  0],\n",
       "       [-1, -1,  0,  0,  0, -1]])"
      ]
     },
     "metadata": {},
     "output_type": "display_data"
    },
    {
     "name": "stdout",
     "output_type": "stream",
     "text": [
      "___________________\n",
      "Turn  28 Player  -1\n"
     ]
    },
    {
     "data": {
      "text/plain": [
       "array([[ 0,  0,  1,  0,  0, -1],\n",
       "       [ 2,  0, -1,  1,  0,  0],\n",
       "       [ 0,  0,  0,  0, -2, -1],\n",
       "       [ 1,  0,  1,  0,  0,  0],\n",
       "       [-1,  0,  0,  0,  0,  0],\n",
       "       [-1, -1,  0,  0,  0, -1]])"
      ]
     },
     "metadata": {},
     "output_type": "display_data"
    },
    {
     "name": "stdout",
     "output_type": "stream",
     "text": [
      "___________________\n",
      "Turn  29 Player  1\n"
     ]
    },
    {
     "data": {
      "text/plain": [
       "array([[ 0,  0,  1,  0,  0,  0],\n",
       "       [ 2,  0, -1,  1,  0,  0],\n",
       "       [ 0,  0,  0,  0, -2, -1],\n",
       "       [ 1,  0,  1,  0,  0,  0],\n",
       "       [-1,  0,  0,  0,  0,  0],\n",
       "       [-1, -1,  0,  0,  0, -1]])"
      ]
     },
     "metadata": {},
     "output_type": "display_data"
    },
    {
     "name": "stdout",
     "output_type": "stream",
     "text": [
      "___________________\n",
      "Turn  30 Player  -1\n"
     ]
    },
    {
     "data": {
      "text/plain": [
       "array([[ 0,  0,  1,  0,  0,  0],\n",
       "       [ 2,  0, -1,  1,  0,  0],\n",
       "       [ 0,  0,  0,  0, -2, -1],\n",
       "       [ 1,  1,  0,  1,  0,  0],\n",
       "       [-1,  0,  0,  0,  0,  0],\n",
       "       [-1, -1,  0,  0,  0, -1]])"
      ]
     },
     "metadata": {},
     "output_type": "display_data"
    },
    {
     "name": "stdout",
     "output_type": "stream",
     "text": [
      "___________________\n",
      "Turn  31 Player  1\n"
     ]
    },
    {
     "data": {
      "text/plain": [
       "array([[ 0,  0,  1,  0,  0,  0],\n",
       "       [ 2,  0, -1,  1,  0,  0],\n",
       "       [ 0,  0,  0,  0, -2, -1],\n",
       "       [ 1,  1,  0,  1,  0,  0],\n",
       "       [-1,  0,  0,  0,  0,  0],\n",
       "       [-1, -1,  0, -2,  0, -1]])"
      ]
     },
     "metadata": {},
     "output_type": "display_data"
    },
    {
     "name": "stdout",
     "output_type": "stream",
     "text": [
      "___________________\n",
      "Turn  32 Player  -1\n"
     ]
    },
    {
     "data": {
      "text/plain": [
       "array([[ 0,  0,  1,  0,  0,  0],\n",
       "       [ 2,  0, -1,  1,  0,  0],\n",
       "       [ 0,  0,  0,  0, -2, -1],\n",
       "       [ 1,  1,  0,  1,  0,  0],\n",
       "       [-1,  0,  0,  0,  0,  2],\n",
       "       [-1, -1,  0, -2,  0,  0]])"
      ]
     },
     "metadata": {},
     "output_type": "display_data"
    },
    {
     "name": "stdout",
     "output_type": "stream",
     "text": [
      "___________________\n",
      "Turn  33 Player  1\n"
     ]
    },
    {
     "data": {
      "text/plain": [
       "array([[ 0,  0,  1,  0,  0,  0],\n",
       "       [ 2,  0, -1,  1,  0,  0],\n",
       "       [ 0,  0,  0,  0, -2, -1],\n",
       "       [ 1,  1,  0,  1,  0,  0],\n",
       "       [-1,  0,  0,  0,  0,  2],\n",
       "       [-1, -1,  0, -2,  0, -1]])"
      ]
     },
     "metadata": {},
     "output_type": "display_data"
    },
    {
     "name": "stdout",
     "output_type": "stream",
     "text": [
      "___________________\n",
      "Turn  34 Player  -1\n"
     ]
    },
    {
     "data": {
      "text/plain": [
       "array([[ 0,  0,  1,  0,  0,  0],\n",
       "       [ 2,  0, -1,  1,  0,  0],\n",
       "       [ 0,  0,  0,  0, -2, -1],\n",
       "       [ 1,  1,  0,  1,  0,  0],\n",
       "       [-1,  0,  0,  0,  0,  2],\n",
       "       [-1, -1,  2,  0, -2, -1]])"
      ]
     },
     "metadata": {},
     "output_type": "display_data"
    },
    {
     "name": "stdout",
     "output_type": "stream",
     "text": [
      "___________________\n",
      "Turn  35 Player  1\n"
     ]
    },
    {
     "data": {
      "text/plain": [
       "array([[ 0,  0,  1,  0,  0,  0],\n",
       "       [ 2,  0, -1,  1,  0,  0],\n",
       "       [ 0,  0,  0,  0, -2, -1],\n",
       "       [ 1,  1,  0,  1,  0,  0],\n",
       "       [-1,  0,  0,  0,  0,  2],\n",
       "       [ 0, -1,  2,  0, -2, -1]])"
      ]
     },
     "metadata": {},
     "output_type": "display_data"
    },
    {
     "name": "stdout",
     "output_type": "stream",
     "text": [
      "___________________\n",
      "Turn  36 Player  -1\n"
     ]
    },
    {
     "data": {
      "text/plain": [
       "array([[ 0,  0,  1,  0,  0,  0],\n",
       "       [ 2,  0, -1,  1,  0,  0],\n",
       "       [ 0,  0,  0,  0, -2, -1],\n",
       "       [ 0,  1,  0,  1,  0,  0],\n",
       "       [-1,  0,  0,  0,  0,  2],\n",
       "       [ 0, -1,  2,  0, -2, -1]])"
      ]
     },
     "metadata": {},
     "output_type": "display_data"
    },
    {
     "name": "stdout",
     "output_type": "stream",
     "text": [
      "___________________\n",
      "Turn  37 Player  1\n"
     ]
    },
    {
     "data": {
      "text/plain": [
       "array([[ 0,  0,  1,  0,  1,  0],\n",
       "       [ 2,  0, -1,  0,  0,  0],\n",
       "       [ 0,  0, -2,  0, -2, -1],\n",
       "       [ 0,  1,  0,  0,  0,  0],\n",
       "       [-1,  0,  0,  0,  1,  2],\n",
       "       [ 0, -1,  2,  0, -2, -1]])"
      ]
     },
     "metadata": {},
     "output_type": "display_data"
    },
    {
     "name": "stdout",
     "output_type": "stream",
     "text": [
      "___________________\n",
      "Turn  38 Player  -1\n"
     ]
    },
    {
     "data": {
      "text/plain": [
       "array([[ 0,  0,  1,  0,  1,  0],\n",
       "       [ 2,  0, -1,  0,  0,  0],\n",
       "       [ 1,  0, -2,  0, -2, -1],\n",
       "       [ 0,  0,  0,  0,  0,  0],\n",
       "       [-1,  0,  2,  0,  1,  2],\n",
       "       [ 0,  0,  0,  0, -2, -1]])"
      ]
     },
     "metadata": {},
     "output_type": "display_data"
    },
    {
     "name": "stdout",
     "output_type": "stream",
     "text": [
      "___________________\n",
      "Turn  39 Player  1\n"
     ]
    },
    {
     "data": {
      "text/plain": [
       "array([[ 0,  1,  0, -1,  0,  1],\n",
       "       [ 2,  0,  0,  0,  0,  0],\n",
       "       [ 1, -1, -2,  0, -2, -1],\n",
       "       [ 0,  0,  0,  0,  0,  0],\n",
       "       [-1,  0,  2,  0,  1,  2],\n",
       "       [ 0,  0,  0,  0, -2, -1]])"
      ]
     },
     "metadata": {},
     "output_type": "display_data"
    },
    {
     "name": "stdout",
     "output_type": "stream",
     "text": [
      "___________________\n",
      "Turn  40 Player  -1\n"
     ]
    },
    {
     "data": {
      "text/plain": [
       "array([[ 0,  1,  0, -1,  0,  0],\n",
       "       [ 2,  0,  0,  0,  0,  2],\n",
       "       [ 1, -1, -2,  0,  0,  0],\n",
       "       [ 0,  0,  0, -2,  0, -1],\n",
       "       [-1,  0,  2,  0,  1,  2],\n",
       "       [ 0,  0,  0,  0, -2, -1]])"
      ]
     },
     "metadata": {},
     "output_type": "display_data"
    },
    {
     "name": "stdout",
     "output_type": "stream",
     "text": [
      "___________________\n",
      "Turn  41 Player  1\n"
     ]
    },
    {
     "data": {
      "text/plain": [
       "array([[ 0,  1,  0, -1,  0,  0],\n",
       "       [ 2,  0,  0,  0,  0,  2],\n",
       "       [ 1,  0, -2,  0,  0,  0],\n",
       "       [ 0,  0,  0, -2,  0, -1],\n",
       "       [-1,  0,  2,  0,  1,  2],\n",
       "       [ 0,  0,  0,  0, -2, -1]])"
      ]
     },
     "metadata": {},
     "output_type": "display_data"
    },
    {
     "name": "stdout",
     "output_type": "stream",
     "text": [
      "___________________\n",
      "Turn  42 Player  -1\n"
     ]
    },
    {
     "data": {
      "text/plain": [
       "array([[ 0,  1,  0, -1,  0,  0],\n",
       "       [ 2,  0,  0,  0,  0,  2],\n",
       "       [ 1,  0, -2,  0,  0,  0],\n",
       "       [ 0,  0,  1, -2,  0, -1],\n",
       "       [-1,  0,  2,  0,  1,  2],\n",
       "       [ 0,  0,  0,  0, -2, -1]])"
      ]
     },
     "metadata": {},
     "output_type": "display_data"
    },
    {
     "name": "stdout",
     "output_type": "stream",
     "text": [
      "___________________\n",
      "Turn  43 Player  1\n"
     ]
    },
    {
     "data": {
      "text/plain": [
       "array([[ 0,  1,  0, -1,  0,  0],\n",
       "       [ 2,  0,  0,  0,  0,  2],\n",
       "       [ 1,  0, -2,  0,  0,  0],\n",
       "       [-1,  0,  1, -2,  0, -1],\n",
       "       [ 0,  0,  2,  0,  1,  2],\n",
       "       [-2,  0,  0,  0, -2, -1]])"
      ]
     },
     "metadata": {},
     "output_type": "display_data"
    },
    {
     "name": "stdout",
     "output_type": "stream",
     "text": [
      "___________________\n",
      "Turn  44 Player  -1\n"
     ]
    },
    {
     "data": {
      "text/plain": [
       "array([[ 0,  0,  0, -1,  0,  0],\n",
       "       [ 2,  0,  0,  0,  0,  2],\n",
       "       [ 1,  0, -2,  0,  0,  0],\n",
       "       [-1,  0,  1, -2,  0, -1],\n",
       "       [ 0,  0,  2,  0,  1,  2],\n",
       "       [-2,  0,  0,  0, -2, -1]])"
      ]
     },
     "metadata": {},
     "output_type": "display_data"
    },
    {
     "name": "stdout",
     "output_type": "stream",
     "text": [
      "___________________\n",
      "Turn  45 Player  1\n"
     ]
    },
    {
     "data": {
      "text/plain": [
       "array([[ 0,  0,  0,  0,  0,  0],\n",
       "       [ 2,  0,  0,  0,  0,  2],\n",
       "       [ 1,  0, -2,  0,  0,  0],\n",
       "       [-1,  0,  1, -2,  0, -1],\n",
       "       [ 0,  0,  2,  0,  1,  2],\n",
       "       [-2,  0,  0,  0, -2, -1]])"
      ]
     },
     "metadata": {},
     "output_type": "display_data"
    },
    {
     "name": "stdout",
     "output_type": "stream",
     "text": [
      "___________________\n",
      "Turn  46 Player  -1\n"
     ]
    },
    {
     "data": {
      "text/plain": [
       "array([[ 0,  2,  0,  0,  0,  0],\n",
       "       [ 0,  0,  0,  0,  0,  2],\n",
       "       [ 1,  0, -2,  0,  0,  0],\n",
       "       [-1,  0,  1, -2,  0, -1],\n",
       "       [ 0,  0,  2,  0,  1,  2],\n",
       "       [-2,  0,  0,  0, -2, -1]])"
      ]
     },
     "metadata": {},
     "output_type": "display_data"
    },
    {
     "name": "stdout",
     "output_type": "stream",
     "text": [
      "___________________\n",
      "Turn  47 Player  1\n"
     ]
    },
    {
     "data": {
      "text/plain": [
       "array([[ 0,  2,  0,  0,  0,  0],\n",
       "       [ 0,  0,  0,  0,  0,  2],\n",
       "       [ 1,  0, -2,  0,  0,  0],\n",
       "       [-1,  0,  1, -2,  0, -1],\n",
       "       [ 0,  0,  2,  0,  1,  2],\n",
       "       [ 0, -2,  0,  0, -2, -1]])"
      ]
     },
     "metadata": {},
     "output_type": "display_data"
    },
    {
     "name": "stdout",
     "output_type": "stream",
     "text": [
      "___________________\n",
      "Turn  48 Player  -1\n"
     ]
    },
    {
     "data": {
      "text/plain": [
       "array([[ 0,  0,  0,  0,  0,  0],\n",
       "       [ 2,  0,  0,  0,  0,  2],\n",
       "       [ 1,  0, -2,  0,  0,  0],\n",
       "       [-1,  0,  1, -2,  0, -1],\n",
       "       [ 0,  0,  2,  0,  1,  2],\n",
       "       [ 0, -2,  0,  0, -2, -1]])"
      ]
     },
     "metadata": {},
     "output_type": "display_data"
    },
    {
     "name": "stdout",
     "output_type": "stream",
     "text": [
      "___________________\n",
      "Turn  49 Player  1\n"
     ]
    },
    {
     "data": {
      "text/plain": [
       "array([[ 0,  0,  0,  0,  0,  0],\n",
       "       [ 2,  0,  0,  0, -2,  0],\n",
       "       [ 1,  0, -2,  0,  0,  0],\n",
       "       [-1,  0,  1, -2,  0, -1],\n",
       "       [ 0,  0,  2,  0,  1,  2],\n",
       "       [ 0, -2,  0,  0, -2, -1]])"
      ]
     },
     "metadata": {},
     "output_type": "display_data"
    },
    {
     "name": "stdout",
     "output_type": "stream",
     "text": [
      "___________________\n",
      "Turn  50 Player  -1\n"
     ]
    },
    {
     "data": {
      "text/plain": [
       "array([[ 0,  0,  0,  0,  0,  0],\n",
       "       [ 2,  0,  0, -2,  0,  2],\n",
       "       [ 1,  0, -2,  0,  0,  0],\n",
       "       [-1,  0,  1, -2,  0, -1],\n",
       "       [ 0,  0,  2,  0,  1,  2],\n",
       "       [ 0, -2,  0,  0, -2, -1]])"
      ]
     },
     "metadata": {},
     "output_type": "display_data"
    },
    {
     "name": "stdout",
     "output_type": "stream",
     "text": [
      "___________________\n",
      "Turn  51 Player  1\n"
     ]
    },
    {
     "data": {
      "text/plain": [
       "array([[ 0,  0,  0,  0,  0,  0],\n",
       "       [ 2,  0,  0, -2,  0,  2],\n",
       "       [ 1,  0, -2,  0,  0,  0],\n",
       "       [-1,  0,  1, -2,  0,  0],\n",
       "       [ 0,  0,  2,  0,  1,  2],\n",
       "       [ 0, -2,  0,  0, -2, -1]])"
      ]
     },
     "metadata": {},
     "output_type": "display_data"
    },
    {
     "name": "stdout",
     "output_type": "stream",
     "text": [
      "___________________\n",
      "Turn  52 Player  -1\n"
     ]
    },
    {
     "data": {
      "text/plain": [
       "array([[ 0,  0,  0,  0,  2,  0],\n",
       "       [ 2,  0,  0, -2,  0,  0],\n",
       "       [ 1,  0, -2,  0,  0,  0],\n",
       "       [-1,  0,  1, -2,  0,  0],\n",
       "       [ 0,  0,  2,  0,  1,  2],\n",
       "       [ 0, -2,  0,  0, -2, -1]])"
      ]
     },
     "metadata": {},
     "output_type": "display_data"
    },
    {
     "name": "stdout",
     "output_type": "stream",
     "text": [
      "___________________\n",
      "Game over: Turn  52 Result  -1\n"
     ]
    },
    {
     "data": {
      "text/plain": [
       "array([[ 0,  0,  0,  0,  2,  0],\n",
       "       [ 2,  0,  0, -2,  0,  0],\n",
       "       [ 0,  0, -2,  0,  0,  0],\n",
       "       [ 0, -2,  1, -2,  0,  0],\n",
       "       [ 0,  0,  0,  0,  1,  2],\n",
       "       [ 0, -2,  0,  2, -2, -1]])"
      ]
     },
     "metadata": {},
     "output_type": "display_data"
    },
    {
     "name": "stderr",
     "output_type": "stream",
     "text": [
      "\r",
      "Arena.playGames (2):  60%|█████████████████████████████████████▊                         | 3/5 [00:00<00:00,  3.69it/s]"
     ]
    },
    {
     "name": "stdout",
     "output_type": "stream",
     "text": [
      "Turn  1 Player  1\n"
     ]
    },
    {
     "data": {
      "text/plain": [
       "array([[0, 0, 0, 0, 0, 0],\n",
       "       [0, 0, 0, 0, 0, 0],\n",
       "       [0, 0, 0, 0, 0, 0],\n",
       "       [0, 0, 0, 0, 0, 0],\n",
       "       [0, 0, 0, 0, 0, 0],\n",
       "       [0, 0, 0, 0, 0, 0]])"
      ]
     },
     "metadata": {},
     "output_type": "display_data"
    },
    {
     "name": "stdout",
     "output_type": "stream",
     "text": [
      "___________________\n",
      "Turn  2 Player  -1\n"
     ]
    },
    {
     "data": {
      "text/plain": [
       "array([[0, 0, 0, 0, 0, 0],\n",
       "       [0, 0, 0, 0, 0, 0],\n",
       "       [0, 0, 0, 0, 0, 0],\n",
       "       [0, 0, 0, 0, 0, 0],\n",
       "       [0, 0, 0, 0, 0, 0],\n",
       "       [0, 0, 0, 0, 1, 0]])"
      ]
     },
     "metadata": {},
     "output_type": "display_data"
    },
    {
     "name": "stdout",
     "output_type": "stream",
     "text": [
      "___________________\n",
      "Turn  3 Player  1\n"
     ]
    },
    {
     "data": {
      "text/plain": [
       "array([[ 0,  0,  0,  0,  0,  0],\n",
       "       [ 0,  0,  0,  0,  0,  0],\n",
       "       [ 0,  0,  0,  0,  0,  0],\n",
       "       [ 0,  0,  0,  0,  0,  0],\n",
       "       [ 0,  0,  0,  0,  0,  0],\n",
       "       [-1,  0,  0,  0,  1,  0]])"
      ]
     },
     "metadata": {},
     "output_type": "display_data"
    },
    {
     "name": "stdout",
     "output_type": "stream",
     "text": [
      "___________________\n",
      "Turn  4 Player  -1\n"
     ]
    },
    {
     "data": {
      "text/plain": [
       "array([[ 0,  0,  0,  0,  0,  0],\n",
       "       [ 0,  0,  0,  0,  1,  0],\n",
       "       [ 0,  0,  0,  0,  0,  0],\n",
       "       [ 0,  0,  0,  0,  0,  0],\n",
       "       [ 0,  0,  0,  0,  0,  0],\n",
       "       [-1,  0,  0,  0,  1,  0]])"
      ]
     },
     "metadata": {},
     "output_type": "display_data"
    },
    {
     "name": "stdout",
     "output_type": "stream",
     "text": [
      "___________________\n",
      "Turn  5 Player  1\n"
     ]
    },
    {
     "data": {
      "text/plain": [
       "array([[ 0,  0,  0,  0,  0,  0],\n",
       "       [ 0,  0,  0,  0,  1,  0],\n",
       "       [ 0,  0,  0,  0,  0,  0],\n",
       "       [ 0,  0,  0,  0,  0,  0],\n",
       "       [ 0,  0,  0,  0,  0, -1],\n",
       "       [-1,  0,  0,  0,  0,  0]])"
      ]
     },
     "metadata": {},
     "output_type": "display_data"
    },
    {
     "name": "stdout",
     "output_type": "stream",
     "text": [
      "___________________\n",
      "Turn  6 Player  -1\n"
     ]
    },
    {
     "data": {
      "text/plain": [
       "array([[ 0,  0,  0,  0,  0,  0],\n",
       "       [ 0,  0,  0,  1,  0,  1],\n",
       "       [ 0,  0,  0,  0,  0,  0],\n",
       "       [ 0,  0,  0,  0,  0,  0],\n",
       "       [ 0,  0,  0,  0,  0, -1],\n",
       "       [-1,  0,  0,  0,  0,  0]])"
      ]
     },
     "metadata": {},
     "output_type": "display_data"
    },
    {
     "name": "stdout",
     "output_type": "stream",
     "text": [
      "___________________\n",
      "Turn  7 Player  1\n"
     ]
    },
    {
     "data": {
      "text/plain": [
       "array([[ 0,  0, -1,  0,  0,  0],\n",
       "       [ 0,  0,  0,  0,  0,  1],\n",
       "       [ 0,  0,  0,  0,  1,  0],\n",
       "       [ 0,  0,  0,  0,  0,  0],\n",
       "       [ 0,  0,  0,  0,  0, -1],\n",
       "       [-1,  0,  0,  0,  0,  0]])"
      ]
     },
     "metadata": {},
     "output_type": "display_data"
    },
    {
     "name": "stdout",
     "output_type": "stream",
     "text": [
      "___________________\n",
      "Turn  8 Player  -1\n"
     ]
    },
    {
     "data": {
      "text/plain": [
       "array([[ 0,  0, -1,  0,  0,  0],\n",
       "       [ 0,  0,  0,  0,  0,  1],\n",
       "       [ 0,  0,  0,  0,  1,  0],\n",
       "       [ 0,  0,  0,  0,  0,  0],\n",
       "       [ 0,  0,  0,  0,  0, -1],\n",
       "       [ 0,  1,  0,  0,  0,  0]])"
      ]
     },
     "metadata": {},
     "output_type": "display_data"
    },
    {
     "name": "stdout",
     "output_type": "stream",
     "text": [
      "___________________\n",
      "Turn  9 Player  1\n"
     ]
    },
    {
     "data": {
      "text/plain": [
       "array([[ 0,  0, -1,  0,  0,  0],\n",
       "       [ 0,  0,  0,  0,  0,  1],\n",
       "       [ 0,  0,  0,  0,  1,  0],\n",
       "       [ 0,  0,  0,  0,  0,  0],\n",
       "       [ 0,  0,  0,  0,  0, -1],\n",
       "       [ 0,  1,  0, -1,  0,  0]])"
      ]
     },
     "metadata": {},
     "output_type": "display_data"
    },
    {
     "name": "stdout",
     "output_type": "stream",
     "text": [
      "___________________\n",
      "Turn  10 Player  -1\n"
     ]
    },
    {
     "data": {
      "text/plain": [
       "array([[ 0,  0, -1,  0,  0,  0],\n",
       "       [ 1,  0,  0,  0,  0,  1],\n",
       "       [ 0,  0,  0,  0,  1,  0],\n",
       "       [ 0,  0,  0,  0,  0,  0],\n",
       "       [ 0,  0,  0,  0,  0, -1],\n",
       "       [ 0,  1,  0, -1,  0,  0]])"
      ]
     },
     "metadata": {},
     "output_type": "display_data"
    },
    {
     "name": "stdout",
     "output_type": "stream",
     "text": [
      "___________________\n",
      "Turn  11 Player  1\n"
     ]
    },
    {
     "data": {
      "text/plain": [
       "array([[ 0, -1,  0, -1,  0,  0],\n",
       "       [ 1,  0,  0,  0,  0,  1],\n",
       "       [ 0,  0,  0,  0,  1,  0],\n",
       "       [ 0,  0,  0,  0,  0,  0],\n",
       "       [ 0,  0,  0,  0,  0, -1],\n",
       "       [ 0,  1,  0, -1,  0,  0]])"
      ]
     },
     "metadata": {},
     "output_type": "display_data"
    },
    {
     "name": "stdout",
     "output_type": "stream",
     "text": [
      "___________________\n",
      "Turn  12 Player  -1\n"
     ]
    },
    {
     "data": {
      "text/plain": [
       "array([[ 0, -1,  0, -1,  0,  0],\n",
       "       [ 1,  0,  0,  0,  0,  1],\n",
       "       [ 0,  0,  0,  0,  1,  0],\n",
       "       [ 0,  1,  0,  0,  0,  0],\n",
       "       [ 0,  0,  0,  0,  0, -1],\n",
       "       [ 0,  1,  0, -1,  0,  0]])"
      ]
     },
     "metadata": {},
     "output_type": "display_data"
    },
    {
     "name": "stdout",
     "output_type": "stream",
     "text": [
      "___________________\n",
      "Turn  13 Player  1\n"
     ]
    },
    {
     "data": {
      "text/plain": [
       "array([[ 0, -1,  0, -1,  0,  0],\n",
       "       [ 1,  0,  0,  0,  1,  1],\n",
       "       [ 0,  0,  0,  0,  0,  0],\n",
       "       [ 0,  1,  0,  0, -1,  0],\n",
       "       [ 0,  0,  0,  0,  0,  0],\n",
       "       [ 0,  1,  0, -1,  0,  0]])"
      ]
     },
     "metadata": {},
     "output_type": "display_data"
    },
    {
     "name": "stdout",
     "output_type": "stream",
     "text": [
      "___________________\n",
      "Turn  14 Player  -1\n"
     ]
    },
    {
     "data": {
      "text/plain": [
       "array([[ 0, -1,  0, -1,  0,  0],\n",
       "       [ 1,  0,  0,  0,  1,  1],\n",
       "       [ 0,  0,  0,  0,  0,  0],\n",
       "       [ 0,  1,  0, -1,  0,  1],\n",
       "       [ 0,  0,  0,  0,  0,  0],\n",
       "       [ 0,  1,  0, -1,  0,  0]])"
      ]
     },
     "metadata": {},
     "output_type": "display_data"
    },
    {
     "name": "stdout",
     "output_type": "stream",
     "text": [
      "___________________\n",
      "Turn  15 Player  1\n"
     ]
    },
    {
     "data": {
      "text/plain": [
       "array([[ 0, -1,  0, -1,  0,  0],\n",
       "       [ 1,  0,  0,  0,  1,  1],\n",
       "       [ 0,  0,  1,  0,  0,  0],\n",
       "       [ 0,  0,  0, -1,  0,  1],\n",
       "       [-1,  0,  0,  0,  0,  0],\n",
       "       [ 0,  0,  0, -1,  0,  0]])"
      ]
     },
     "metadata": {},
     "output_type": "display_data"
    },
    {
     "name": "stdout",
     "output_type": "stream",
     "text": [
      "___________________\n",
      "Turn  16 Player  -1\n"
     ]
    },
    {
     "data": {
      "text/plain": [
       "array([[ 0,  0,  0,  0,  0,  0],\n",
       "       [ 1,  0,  1,  0,  1,  1],\n",
       "       [ 0,  0,  0,  0,  0,  0],\n",
       "       [ 0,  0,  1, -1,  0,  1],\n",
       "       [-1,  0,  0,  0,  0,  0],\n",
       "       [ 0,  0,  0, -1,  0,  0]])"
      ]
     },
     "metadata": {},
     "output_type": "display_data"
    },
    {
     "name": "stdout",
     "output_type": "stream",
     "text": [
      "___________________\n",
      "Turn  17 Player  1\n"
     ]
    },
    {
     "data": {
      "text/plain": [
       "array([[ 0,  0,  0,  0,  0,  0],\n",
       "       [ 1,  0,  1,  0,  1,  1],\n",
       "       [ 0,  0,  0,  0,  0,  0],\n",
       "       [ 0, -1,  1, -1,  0,  1],\n",
       "       [ 0,  0,  0,  0,  0,  0],\n",
       "       [ 0,  0,  0, -1,  0,  0]])"
      ]
     },
     "metadata": {},
     "output_type": "display_data"
    },
    {
     "name": "stdout",
     "output_type": "stream",
     "text": [
      "___________________\n",
      "Turn  18 Player  -1\n"
     ]
    },
    {
     "data": {
      "text/plain": [
       "array([[ 0,  1,  0,  0,  0,  1],\n",
       "       [ 1,  0,  0,  0,  0,  1],\n",
       "       [ 0,  0,  0,  1,  0,  0],\n",
       "       [ 0, -1,  0,  0,  0,  1],\n",
       "       [ 0,  1,  0, -1,  0,  0],\n",
       "       [ 0,  0,  0, -1,  0,  0]])"
      ]
     },
     "metadata": {},
     "output_type": "display_data"
    },
    {
     "name": "stdout",
     "output_type": "stream",
     "text": [
      "___________________\n",
      "Turn  19 Player  1\n"
     ]
    },
    {
     "data": {
      "text/plain": [
       "array([[ 0,  1,  0,  0,  0,  1],\n",
       "       [ 1,  0,  0,  0,  0,  0],\n",
       "       [ 0,  0,  1,  0, -1,  0],\n",
       "       [ 0, -1,  0,  0,  0,  0],\n",
       "       [ 0,  1,  0, -1,  0,  0],\n",
       "       [ 0,  0,  0, -1,  0,  0]])"
      ]
     },
     "metadata": {},
     "output_type": "display_data"
    },
    {
     "name": "stdout",
     "output_type": "stream",
     "text": [
      "___________________\n",
      "Turn  20 Player  -1\n"
     ]
    },
    {
     "data": {
      "text/plain": [
       "array([[ 0,  1,  0,  0,  0,  1],\n",
       "       [ 1,  1,  0,  0,  0, -1],\n",
       "       [ 0,  0,  0,  0,  0,  0],\n",
       "       [ 0, -1,  0,  1,  0,  0],\n",
       "       [ 0,  1,  0, -1,  0,  0],\n",
       "       [ 0,  0,  0, -1,  0,  0]])"
      ]
     },
     "metadata": {},
     "output_type": "display_data"
    },
    {
     "name": "stdout",
     "output_type": "stream",
     "text": [
      "___________________\n",
      "Turn  21 Player  1\n"
     ]
    },
    {
     "data": {
      "text/plain": [
       "array([[ 0,  1,  0,  0,  0,  1],\n",
       "       [ 1,  1,  0,  0,  0, -1],\n",
       "       [ 0,  0, -1,  0,  0,  0],\n",
       "       [ 0,  0,  0,  1,  0,  0],\n",
       "       [-1,  0,  1, -1,  0,  0],\n",
       "       [ 0,  0,  0, -1,  0,  0]])"
      ]
     },
     "metadata": {},
     "output_type": "display_data"
    },
    {
     "name": "stdout",
     "output_type": "stream",
     "text": [
      "___________________\n",
      "Turn  22 Player  -1\n"
     ]
    },
    {
     "data": {
      "text/plain": [
       "array([[ 0,  1,  0,  0,  0,  1],\n",
       "       [ 1,  1,  0,  0,  0, -1],\n",
       "       [ 0, -1,  0,  1,  0,  0],\n",
       "       [ 0,  0,  0,  1,  0,  0],\n",
       "       [-1,  0,  1, -1,  0,  0],\n",
       "       [ 0,  0,  0, -1,  0,  0]])"
      ]
     },
     "metadata": {},
     "output_type": "display_data"
    },
    {
     "name": "stdout",
     "output_type": "stream",
     "text": [
      "___________________\n",
      "Turn  23 Player  1\n"
     ]
    },
    {
     "data": {
      "text/plain": [
       "array([[ 0,  1,  0,  0,  0,  1],\n",
       "       [ 1,  1,  0,  0,  0, -1],\n",
       "       [ 0, -1,  0,  1,  0,  0],\n",
       "       [ 0,  0,  1,  1, -1,  0],\n",
       "       [-1,  0,  0,  0,  0,  0],\n",
       "       [ 0,  0, -1,  0, -1,  0]])"
      ]
     },
     "metadata": {},
     "output_type": "display_data"
    },
    {
     "name": "stdout",
     "output_type": "stream",
     "text": [
      "___________________\n",
      "Turn  24 Player  -1\n"
     ]
    },
    {
     "data": {
      "text/plain": [
       "array([[ 1,  1,  0,  0,  0,  1],\n",
       "       [ 1,  0,  0,  0,  0, -1],\n",
       "       [-1,  0,  1,  0,  1,  0],\n",
       "       [ 0,  0,  0,  0, -1,  0],\n",
       "       [-1,  0,  1,  0,  1,  0],\n",
       "       [ 0,  0, -1,  0, -1,  0]])"
      ]
     },
     "metadata": {},
     "output_type": "display_data"
    },
    {
     "name": "stdout",
     "output_type": "stream",
     "text": [
      "___________________\n",
      "Turn  25 Player  1\n"
     ]
    },
    {
     "data": {
      "text/plain": [
       "array([[ 1,  1,  0,  0,  0,  0],\n",
       "       [ 1,  0,  0,  0, -1,  0],\n",
       "       [-1,  0,  1,  0,  1,  0],\n",
       "       [ 0,  0,  0,  0, -1,  0],\n",
       "       [-1,  0,  1,  0,  1,  0],\n",
       "       [ 0,  0, -1,  0, -1,  0]])"
      ]
     },
     "metadata": {},
     "output_type": "display_data"
    },
    {
     "name": "stdout",
     "output_type": "stream",
     "text": [
      "___________________\n",
      "Turn  26 Player  -1\n"
     ]
    },
    {
     "data": {
      "text/plain": [
       "array([[ 1,  1,  0,  0,  0,  0],\n",
       "       [ 1,  0,  1,  0, -1,  0],\n",
       "       [-1,  0,  0,  0,  1,  0],\n",
       "       [ 0,  0,  1,  0, -1,  0],\n",
       "       [-1,  0,  1,  0,  1,  0],\n",
       "       [ 0,  0, -1,  0, -1,  0]])"
      ]
     },
     "metadata": {},
     "output_type": "display_data"
    },
    {
     "name": "stdout",
     "output_type": "stream",
     "text": [
      "___________________\n",
      "Turn  27 Player  1\n"
     ]
    },
    {
     "data": {
      "text/plain": [
       "array([[ 1,  1,  0,  0,  0,  0],\n",
       "       [ 1,  0,  1,  0, -1,  0],\n",
       "       [-1,  0,  0,  0,  1,  0],\n",
       "       [ 0,  1,  1,  0, -1,  1],\n",
       "       [-1,  0,  0,  0,  0,  0],\n",
       "       [ 0, -1,  0, -1,  0, -1]])"
      ]
     },
     "metadata": {},
     "output_type": "display_data"
    },
    {
     "name": "stdout",
     "output_type": "stream",
     "text": [
      "___________________\n",
      "Turn  28 Player  -1\n"
     ]
    },
    {
     "data": {
      "text/plain": [
       "array([[ 1,  1,  0,  0,  0,  0],\n",
       "       [ 1,  0,  1,  0, -1,  0],\n",
       "       [-1,  0,  0,  0,  1,  0],\n",
       "       [ 0,  1,  0,  0, -1,  1],\n",
       "       [-1,  0,  0,  0,  0,  0],\n",
       "       [ 0, -1,  0, -1,  0, -1]])"
      ]
     },
     "metadata": {},
     "output_type": "display_data"
    },
    {
     "name": "stdout",
     "output_type": "stream",
     "text": [
      "___________________\n",
      "Turn  29 Player  1\n"
     ]
    },
    {
     "data": {
      "text/plain": [
       "array([[ 1,  1, -1,  0,  0,  0],\n",
       "       [ 1,  0,  0,  0, -1,  0],\n",
       "       [-1,  0,  1,  0,  1,  0],\n",
       "       [ 0,  1,  0,  0, -1,  1],\n",
       "       [-1,  0,  0,  0,  0,  0],\n",
       "       [ 0, -1,  0, -1,  0, -1]])"
      ]
     },
     "metadata": {},
     "output_type": "display_data"
    },
    {
     "name": "stdout",
     "output_type": "stream",
     "text": [
      "___________________\n",
      "Turn  30 Player  -1\n"
     ]
    },
    {
     "data": {
      "text/plain": [
       "array([[ 1,  1, -1,  0,  0,  0],\n",
       "       [ 1,  0,  0,  0, -1,  0],\n",
       "       [-1,  0,  1,  0,  1,  0],\n",
       "       [ 0,  1,  0,  0, -1,  0],\n",
       "       [-1,  0,  0,  0,  2,  0],\n",
       "       [ 0, -1,  0,  0,  0,  0]])"
      ]
     },
     "metadata": {},
     "output_type": "display_data"
    },
    {
     "name": "stdout",
     "output_type": "stream",
     "text": [
      "___________________\n",
      "Turn  31 Player  1\n"
     ]
    },
    {
     "data": {
      "text/plain": [
       "array([[ 1,  0,  0,  0,  0,  0],\n",
       "       [ 1,  0, -1,  0, -1,  0],\n",
       "       [-1,  0,  0,  0,  1,  0],\n",
       "       [ 0,  1,  1,  0, -1,  0],\n",
       "       [-1,  0,  0,  0,  2,  0],\n",
       "       [ 0, -1,  0,  0,  0,  0]])"
      ]
     },
     "metadata": {},
     "output_type": "display_data"
    },
    {
     "name": "stdout",
     "output_type": "stream",
     "text": [
      "___________________\n",
      "Turn  32 Player  -1\n"
     ]
    },
    {
     "data": {
      "text/plain": [
       "array([[ 1,  0,  0,  0,  1,  0],\n",
       "       [ 1,  0, -1,  0, -1,  0],\n",
       "       [-1,  0,  0,  0,  1,  0],\n",
       "       [ 0,  1,  1,  0, -1,  0],\n",
       "       [-1,  0,  0,  0,  2,  0],\n",
       "       [ 0, -1,  0,  0,  0,  0]])"
      ]
     },
     "metadata": {},
     "output_type": "display_data"
    },
    {
     "name": "stdout",
     "output_type": "stream",
     "text": [
      "___________________\n",
      "Turn  33 Player  1\n"
     ]
    },
    {
     "data": {
      "text/plain": [
       "array([[ 1,  0,  0, -1,  0,  1],\n",
       "       [ 1,  0,  0,  0,  0,  0],\n",
       "       [-1, -1,  0,  0,  1, -1],\n",
       "       [ 0,  1,  1,  0, -1,  0],\n",
       "       [-1,  0,  0,  0,  2,  0],\n",
       "       [ 0, -1,  0,  0,  0,  0]])"
      ]
     },
     "metadata": {},
     "output_type": "display_data"
    },
    {
     "name": "stdout",
     "output_type": "stream",
     "text": [
      "___________________\n",
      "Turn  34 Player  -1\n"
     ]
    },
    {
     "data": {
      "text/plain": [
       "array([[ 1,  0,  0, -1,  0,  1],\n",
       "       [ 1,  0,  0,  0,  0,  0],\n",
       "       [-1, -1,  0,  0,  1, -1],\n",
       "       [ 0,  1,  1,  0, -1,  0],\n",
       "       [-1,  0,  0,  0,  2,  0],\n",
       "       [ 0, -1,  0,  0,  0,  1]])"
      ]
     },
     "metadata": {},
     "output_type": "display_data"
    },
    {
     "name": "stdout",
     "output_type": "stream",
     "text": [
      "___________________\n",
      "Turn  35 Player  1\n"
     ]
    },
    {
     "data": {
      "text/plain": [
       "array([[ 1,  0,  0,  0,  0,  0],\n",
       "       [ 1,  0,  0,  0, -1,  0],\n",
       "       [-1, -1,  0,  0,  1,  0],\n",
       "       [ 0,  1,  1,  0, -1,  0],\n",
       "       [-1,  0,  0,  0,  2,  0],\n",
       "       [ 0, -1,  0,  0,  0,  1]])"
      ]
     },
     "metadata": {},
     "output_type": "display_data"
    },
    {
     "name": "stdout",
     "output_type": "stream",
     "text": [
      "___________________\n",
      "Turn  36 Player  -1\n"
     ]
    },
    {
     "data": {
      "text/plain": [
       "array([[ 1,  0,  0,  0,  0,  0],\n",
       "       [ 1,  0,  0,  0, -1,  0],\n",
       "       [-1, -1,  1,  0,  1,  0],\n",
       "       [ 0,  1,  0,  0, -1,  0],\n",
       "       [-1,  0,  1,  0,  2,  0],\n",
       "       [ 0, -1,  0,  0,  0,  1]])"
      ]
     },
     "metadata": {},
     "output_type": "display_data"
    },
    {
     "name": "stdout",
     "output_type": "stream",
     "text": [
      "___________________\n",
      "Turn  37 Player  1\n"
     ]
    },
    {
     "data": {
      "text/plain": [
       "array([[ 1,  0,  0,  0,  0,  0],\n",
       "       [ 1,  0, -1,  0, -1,  0],\n",
       "       [-1,  0,  0,  0,  1,  0],\n",
       "       [-1,  0,  0,  0, -1,  0],\n",
       "       [ 0,  0,  0,  0,  2,  0],\n",
       "       [-1, -1,  0,  0,  0,  1]])"
      ]
     },
     "metadata": {},
     "output_type": "display_data"
    },
    {
     "name": "stdout",
     "output_type": "stream",
     "text": [
      "___________________\n",
      "Turn  38 Player  -1\n"
     ]
    },
    {
     "data": {
      "text/plain": [
       "array([[ 1,  0,  0,  0,  0,  0],\n",
       "       [ 1,  0, -1,  0, -1,  0],\n",
       "       [-1,  0,  0,  0,  1,  0],\n",
       "       [ 0,  0,  0,  0, -1,  0],\n",
       "       [ 0,  2,  0,  0,  2,  0],\n",
       "       [ 0,  0,  0,  0,  0,  1]])"
      ]
     },
     "metadata": {},
     "output_type": "display_data"
    },
    {
     "name": "stdout",
     "output_type": "stream",
     "text": [
      "___________________\n",
      "Turn  39 Player  1\n"
     ]
    },
    {
     "data": {
      "text/plain": [
       "array([[ 1,  0,  0, -1,  0,  0],\n",
       "       [ 1,  0, -1,  0,  0,  0],\n",
       "       [-1,  0,  0,  1,  0, -1],\n",
       "       [ 0,  0,  0,  0,  0,  0],\n",
       "       [ 0,  2,  0, -1,  2,  0],\n",
       "       [ 0,  0,  0,  0,  0,  1]])"
      ]
     },
     "metadata": {},
     "output_type": "display_data"
    },
    {
     "name": "stdout",
     "output_type": "stream",
     "text": [
      "___________________\n",
      "Turn  40 Player  -1\n"
     ]
    },
    {
     "data": {
      "text/plain": [
       "array([[ 0,  2,  0, -1,  0,  0],\n",
       "       [ 0,  0, -1,  0,  0,  0],\n",
       "       [-1,  0,  0,  1,  0, -1],\n",
       "       [ 0,  0,  0,  0,  0,  0],\n",
       "       [ 0,  2,  0, -1,  2,  0],\n",
       "       [ 0,  0,  0,  0,  0,  1]])"
      ]
     },
     "metadata": {},
     "output_type": "display_data"
    },
    {
     "name": "stdout",
     "output_type": "stream",
     "text": [
      "___________________\n",
      "Turn  41 Player  1\n"
     ]
    },
    {
     "data": {
      "text/plain": [
       "array([[-1,  2,  0, -1,  0,  0],\n",
       "       [ 0,  0, -1,  0,  0,  0],\n",
       "       [-1,  0,  0,  1,  0, -1],\n",
       "       [ 0,  0,  0,  0,  0,  0],\n",
       "       [ 0,  2,  0, -1,  2,  0],\n",
       "       [ 0,  0,  0,  0,  0,  1]])"
      ]
     },
     "metadata": {},
     "output_type": "display_data"
    },
    {
     "name": "stdout",
     "output_type": "stream",
     "text": [
      "___________________\n",
      "Turn  42 Player  -1\n"
     ]
    },
    {
     "data": {
      "text/plain": [
       "array([[-1,  2,  0, -1,  0,  0],\n",
       "       [ 0,  0, -1,  1,  0,  0],\n",
       "       [-1,  0,  0,  0,  0, -1],\n",
       "       [ 0,  0,  0,  0,  0,  0],\n",
       "       [ 0,  2,  0,  0,  0,  0],\n",
       "       [ 0,  0,  0, -1,  0,  0]])"
      ]
     },
     "metadata": {},
     "output_type": "display_data"
    },
    {
     "name": "stdout",
     "output_type": "stream",
     "text": [
      "___________________\n",
      "Turn  43 Player  1\n"
     ]
    },
    {
     "data": {
      "text/plain": [
       "array([[-1,  2, -1,  0, -1,  0],\n",
       "       [ 0,  0,  0,  0,  0,  0],\n",
       "       [-1,  0, -1,  0,  1, -1],\n",
       "       [ 0,  0,  0,  0,  0,  0],\n",
       "       [ 0,  2,  0,  0,  0,  0],\n",
       "       [ 0,  0,  0, -1,  0,  0]])"
      ]
     },
     "metadata": {},
     "output_type": "display_data"
    },
    {
     "name": "stdout",
     "output_type": "stream",
     "text": [
      "___________________\n",
      "Turn  44 Player  -1\n"
     ]
    },
    {
     "data": {
      "text/plain": [
       "array([[ 0,  2, -1,  0, -1,  0],\n",
       "       [ 1,  0,  0,  0,  0,  0],\n",
       "       [ 0,  0, -1,  0,  1, -1],\n",
       "       [-1,  0,  0,  0,  0,  0],\n",
       "       [ 0,  2,  0,  0,  0,  0],\n",
       "       [ 0,  0,  0, -1,  0,  0]])"
      ]
     },
     "metadata": {},
     "output_type": "display_data"
    },
    {
     "name": "stdout",
     "output_type": "stream",
     "text": [
      "___________________\n",
      "Turn  45 Player  1\n"
     ]
    },
    {
     "data": {
      "text/plain": [
       "array([[ 0,  2, -1,  0, -1,  0],\n",
       "       [ 1,  0,  0,  1,  0, -1],\n",
       "       [ 0,  0, -1,  0,  0,  0],\n",
       "       [-1,  0,  0,  0,  0, -1],\n",
       "       [ 0,  2,  0,  0,  0,  0],\n",
       "       [ 0,  0,  0, -1,  0,  0]])"
      ]
     },
     "metadata": {},
     "output_type": "display_data"
    },
    {
     "name": "stdout",
     "output_type": "stream",
     "text": [
      "___________________\n",
      "Turn  46 Player  -1\n"
     ]
    },
    {
     "data": {
      "text/plain": [
       "array([[ 0,  2, -1,  0, -1,  0],\n",
       "       [ 1,  0, -1,  1,  0, -1],\n",
       "       [ 0,  0,  0,  0,  0,  0],\n",
       "       [-1,  0,  2,  0,  0, -1],\n",
       "       [ 0,  0,  0,  0,  0,  0],\n",
       "       [ 2,  0,  0, -1,  0,  0]])"
      ]
     },
     "metadata": {},
     "output_type": "display_data"
    },
    {
     "name": "stdout",
     "output_type": "stream",
     "text": [
      "___________________\n",
      "Turn  47 Player  1\n"
     ]
    },
    {
     "data": {
      "text/plain": [
       "array([[ 0,  2, -1,  0, -1,  0],\n",
       "       [ 1,  0, -1,  1,  0, -1],\n",
       "       [-1,  0,  0,  0,  0,  0],\n",
       "       [ 0,  0,  2,  0,  0, -1],\n",
       "       [-1,  0,  0,  0,  0,  0],\n",
       "       [ 2,  0,  0, -1,  0,  0]])"
      ]
     },
     "metadata": {},
     "output_type": "display_data"
    },
    {
     "name": "stdout",
     "output_type": "stream",
     "text": [
      "___________________\n",
      "Turn  48 Player  -1\n"
     ]
    },
    {
     "data": {
      "text/plain": [
       "array([[ 0,  2, -1,  0, -1,  0],\n",
       "       [ 1,  0, -1,  1,  0, -1],\n",
       "       [-1,  0,  0,  0,  0,  0],\n",
       "       [ 0,  0,  2,  0,  0, -1],\n",
       "       [ 0,  0,  0,  0,  0,  0],\n",
       "       [ 0,  2,  0, -1,  0,  0]])"
      ]
     },
     "metadata": {},
     "output_type": "display_data"
    },
    {
     "name": "stdout",
     "output_type": "stream",
     "text": [
      "___________________\n",
      "Turn  49 Player  1\n"
     ]
    },
    {
     "data": {
      "text/plain": [
       "array([[ 0,  2, -1,  0, -1,  0],\n",
       "       [ 1,  0, -1,  1,  0, -1],\n",
       "       [-1,  0,  0,  0,  0,  0],\n",
       "       [ 0,  0,  2,  0,  0, -1],\n",
       "       [ 0,  0,  0,  0,  0,  0],\n",
       "       [-1,  2,  0, -1,  0,  0]])"
      ]
     },
     "metadata": {},
     "output_type": "display_data"
    },
    {
     "name": "stdout",
     "output_type": "stream",
     "text": [
      "___________________\n",
      "Turn  50 Player  -1\n"
     ]
    },
    {
     "data": {
      "text/plain": [
       "array([[ 0,  2,  0,  0,  0,  0],\n",
       "       [ 0,  0,  0,  1,  0, -1],\n",
       "       [ 0,  2,  0,  0,  0,  0],\n",
       "       [ 0,  0,  0,  0,  0, -1],\n",
       "       [ 0,  0,  0,  2,  0,  0],\n",
       "       [-1,  2,  0, -1,  0,  0]])"
      ]
     },
     "metadata": {},
     "output_type": "display_data"
    },
    {
     "name": "stdout",
     "output_type": "stream",
     "text": [
      "___________________\n",
      "Turn  51 Player  1\n"
     ]
    },
    {
     "data": {
      "text/plain": [
       "array([[ 0,  2,  0,  0,  0,  0],\n",
       "       [ 0,  0,  0,  1,  0, -1],\n",
       "       [ 0,  2,  0,  0,  0,  0],\n",
       "       [ 0,  0,  0,  0,  0, -1],\n",
       "       [ 0,  0,  0,  2,  0,  0],\n",
       "       [-1,  2, -1,  0, -1,  0]])"
      ]
     },
     "metadata": {},
     "output_type": "display_data"
    },
    {
     "name": "stdout",
     "output_type": "stream",
     "text": [
      "___________________\n",
      "Turn  52 Player  -1\n"
     ]
    },
    {
     "data": {
      "text/plain": [
       "array([[ 0,  2,  0,  0,  1,  0],\n",
       "       [ 0,  0,  0,  0,  0, -1],\n",
       "       [ 0,  2,  1,  0,  0,  0],\n",
       "       [ 0,  0,  0,  0,  0, -1],\n",
       "       [ 0,  0,  0,  2,  0,  0],\n",
       "       [-1,  2, -1,  0, -1,  0]])"
      ]
     },
     "metadata": {},
     "output_type": "display_data"
    },
    {
     "name": "stdout",
     "output_type": "stream",
     "text": [
      "___________________\n",
      "Turn  53 Player  1\n"
     ]
    },
    {
     "data": {
      "text/plain": [
       "array([[ 0,  2,  0,  0,  1,  0],\n",
       "       [ 0,  0,  0,  0,  0, -1],\n",
       "       [ 0,  2,  1,  0,  0,  0],\n",
       "       [ 0,  0,  0,  0,  0,  0],\n",
       "       [ 0,  0,  2,  0, -2,  0],\n",
       "       [-1,  2, -1,  0,  0,  0]])"
      ]
     },
     "metadata": {},
     "output_type": "display_data"
    },
    {
     "name": "stdout",
     "output_type": "stream",
     "text": [
      "___________________\n",
      "Turn  54 Player  -1\n"
     ]
    },
    {
     "data": {
      "text/plain": [
       "array([[ 0,  0,  0,  0,  1,  0],\n",
       "       [ 2,  0,  0,  0,  0, -1],\n",
       "       [ 0,  0,  0,  0,  0,  0],\n",
       "       [ 0,  0,  0,  0,  0,  0],\n",
       "       [ 0,  0,  0,  0, -2,  0],\n",
       "       [-1,  2, -1,  0,  0,  0]])"
      ]
     },
     "metadata": {},
     "output_type": "display_data"
    },
    {
     "name": "stdout",
     "output_type": "stream",
     "text": [
      "___________________\n",
      "Turn  55 Player  1\n"
     ]
    },
    {
     "data": {
      "text/plain": [
       "array([[ 0,  0,  0,  0,  1,  0],\n",
       "       [ 2,  0,  0,  0,  0, -1],\n",
       "       [ 0,  0,  0,  0,  0,  0],\n",
       "       [-1,  0,  0,  0,  0,  0],\n",
       "       [ 0,  0,  0,  0, -2,  0],\n",
       "       [-1,  2, -1,  0,  0,  0]])"
      ]
     },
     "metadata": {},
     "output_type": "display_data"
    },
    {
     "name": "stdout",
     "output_type": "stream",
     "text": [
      "___________________\n",
      "Turn  56 Player  -1\n"
     ]
    },
    {
     "data": {
      "text/plain": [
       "array([[ 0,  0,  0,  0,  1,  0],\n",
       "       [ 2,  0,  0,  0,  0, -1],\n",
       "       [ 0,  0,  0,  0,  0,  0],\n",
       "       [-1,  0,  0,  0,  0, -2],\n",
       "       [ 0,  0,  0,  0,  0,  0],\n",
       "       [-1,  2, -1,  2,  0,  0]])"
      ]
     },
     "metadata": {},
     "output_type": "display_data"
    },
    {
     "name": "stdout",
     "output_type": "stream",
     "text": [
      "___________________\n",
      "Turn  57 Player  1\n"
     ]
    },
    {
     "data": {
      "text/plain": [
       "array([[ 0,  0,  0,  0,  1,  0],\n",
       "       [ 2,  0,  0,  0,  0, -1],\n",
       "       [-1,  0,  0,  0,  0,  0],\n",
       "       [ 0,  0,  0,  0,  0, -2],\n",
       "       [-1,  0,  0,  0,  0,  0],\n",
       "       [-1,  2, -1,  2,  0,  0]])"
      ]
     },
     "metadata": {},
     "output_type": "display_data"
    },
    {
     "name": "stdout",
     "output_type": "stream",
     "text": [
      "___________________\n",
      "Turn  58 Player  -1\n"
     ]
    },
    {
     "data": {
      "text/plain": [
       "array([[ 0,  0,  0,  0,  1,  0],\n",
       "       [ 2,  0,  0,  0,  0, -1],\n",
       "       [-1,  0,  0,  2,  0,  0],\n",
       "       [ 0,  0,  0,  0,  0, -2],\n",
       "       [-1,  0,  0,  0,  0,  0],\n",
       "       [-1,  2, -1,  2,  0,  0]])"
      ]
     },
     "metadata": {},
     "output_type": "display_data"
    },
    {
     "name": "stdout",
     "output_type": "stream",
     "text": [
      "___________________\n",
      "Turn  59 Player  1\n"
     ]
    },
    {
     "data": {
      "text/plain": [
       "array([[ 0,  0,  0,  0,  1,  0],\n",
       "       [ 2,  0,  0,  2,  0, -1],\n",
       "       [-1,  0,  0,  0,  0,  0],\n",
       "       [ 0,  0,  0, -2,  0, -2],\n",
       "       [-1,  0,  0,  0,  0,  0],\n",
       "       [-1,  2, -1,  2,  0,  0]])"
      ]
     },
     "metadata": {},
     "output_type": "display_data"
    },
    {
     "name": "stdout",
     "output_type": "stream",
     "text": [
      "___________________\n",
      "Turn  60 Player  -1\n"
     ]
    },
    {
     "data": {
      "text/plain": [
       "array([[ 0,  0,  0,  0,  0,  0],\n",
       "       [ 2,  0,  0,  0,  0, -1],\n",
       "       [-1,  0,  0,  0,  0,  0],\n",
       "       [ 0,  0,  0,  0,  0, -2],\n",
       "       [-1,  0,  0,  0, -2,  0],\n",
       "       [-1,  2, -1,  2,  0,  0]])"
      ]
     },
     "metadata": {},
     "output_type": "display_data"
    },
    {
     "name": "stdout",
     "output_type": "stream",
     "text": [
      "___________________\n",
      "Turn  61 Player  1\n"
     ]
    },
    {
     "data": {
      "text/plain": [
       "array([[ 0,  0,  0,  0,  0,  0],\n",
       "       [ 2,  0,  0,  0,  0, -1],\n",
       "       [-1,  0,  0,  0,  0,  0],\n",
       "       [ 0,  0,  0,  0, -2,  0],\n",
       "       [-1,  0,  0,  0,  0,  0],\n",
       "       [-1,  2, -1,  2, -2,  0]])"
      ]
     },
     "metadata": {},
     "output_type": "display_data"
    },
    {
     "name": "stdout",
     "output_type": "stream",
     "text": [
      "___________________\n",
      "Turn  62 Player  -1\n"
     ]
    },
    {
     "data": {
      "text/plain": [
       "array([[ 0,  0,  0,  0,  0,  0],\n",
       "       [ 2,  0,  0,  0,  0, -1],\n",
       "       [-1,  0,  0,  0, -2,  0],\n",
       "       [ 0,  0,  0,  0,  0,  0],\n",
       "       [-1,  0,  0,  0,  2,  0],\n",
       "       [-1,  2, -1,  0,  0,  0]])"
      ]
     },
     "metadata": {},
     "output_type": "display_data"
    },
    {
     "name": "stdout",
     "output_type": "stream",
     "text": [
      "___________________\n",
      "Turn  63 Player  1\n"
     ]
    },
    {
     "data": {
      "text/plain": [
       "array([[ 0,  0,  0,  0,  0,  0],\n",
       "       [ 2,  0,  0,  0,  0, -1],\n",
       "       [-1,  0,  0,  0, -2,  0],\n",
       "       [ 0,  0,  0,  0,  0,  0],\n",
       "       [ 0, -2,  0,  0,  2,  0],\n",
       "       [ 0,  0,  0,  0,  0,  0]])"
      ]
     },
     "metadata": {},
     "output_type": "display_data"
    },
    {
     "name": "stdout",
     "output_type": "stream",
     "text": [
      "___________________\n",
      "Turn  64 Player  -1\n"
     ]
    },
    {
     "data": {
      "text/plain": [
       "array([[ 0,  0,  0,  0,  2,  0],\n",
       "       [ 2,  0,  0,  0,  0,  0],\n",
       "       [-1,  0,  0,  0, -2,  0],\n",
       "       [ 0,  0,  0,  0,  0,  0],\n",
       "       [ 0, -2,  0,  0,  2,  0],\n",
       "       [ 0,  0,  0,  0,  0,  0]])"
      ]
     },
     "metadata": {},
     "output_type": "display_data"
    },
    {
     "name": "stdout",
     "output_type": "stream",
     "text": [
      "___________________\n",
      "Turn  65 Player  1\n"
     ]
    },
    {
     "data": {
      "text/plain": [
       "array([[ 0,  0,  0,  0,  2,  0],\n",
       "       [ 2,  0,  0, -1,  0,  0],\n",
       "       [-1,  0,  0,  0, -2,  0],\n",
       "       [ 0,  0,  0,  0,  0,  0],\n",
       "       [ 0, -2,  0,  0,  2,  0],\n",
       "       [ 0,  0,  0,  0,  0,  0]])"
      ]
     },
     "metadata": {},
     "output_type": "display_data"
    },
    {
     "name": "stdout",
     "output_type": "stream",
     "text": [
      "___________________\n",
      "Turn  66 Player  -1\n"
     ]
    },
    {
     "data": {
      "text/plain": [
       "array([[ 0,  0,  0,  0,  0,  0],\n",
       "       [ 2,  0, -1,  0,  2,  0],\n",
       "       [-1,  0,  0,  0,  0,  0],\n",
       "       [ 0,  0,  0,  0, -2,  0],\n",
       "       [ 0, -2,  0,  0,  2,  0],\n",
       "       [ 0,  0,  0,  0,  0,  0]])"
      ]
     },
     "metadata": {},
     "output_type": "display_data"
    },
    {
     "name": "stdout",
     "output_type": "stream",
     "text": [
      "___________________\n",
      "Turn  67 Player  1\n"
     ]
    },
    {
     "data": {
      "text/plain": [
       "array([[ 0,  0,  0,  0,  0,  0],\n",
       "       [ 2,  0, -1,  0,  2,  0],\n",
       "       [-1,  0,  0,  0,  0,  0],\n",
       "       [ 0, -2,  0,  0, -2,  0],\n",
       "       [ 0,  0,  0,  0,  2,  0],\n",
       "       [ 0, -2,  0,  0,  0,  0]])"
      ]
     },
     "metadata": {},
     "output_type": "display_data"
    },
    {
     "name": "stdout",
     "output_type": "stream",
     "text": [
      "___________________\n",
      "Turn  68 Player  -1\n"
     ]
    },
    {
     "data": {
      "text/plain": [
       "array([[ 0,  0,  0,  0,  0,  0],\n",
       "       [ 2,  0, -1,  0,  2,  0],\n",
       "       [-1, -2,  0,  0,  0,  0],\n",
       "       [ 0,  0,  0,  0, -2,  0],\n",
       "       [ 0,  2,  0,  0,  2,  0],\n",
       "       [ 0,  0,  0,  0,  0,  0]])"
      ]
     },
     "metadata": {},
     "output_type": "display_data"
    },
    {
     "name": "stdout",
     "output_type": "stream",
     "text": [
      "___________________\n",
      "Turn  69 Player  1\n"
     ]
    },
    {
     "data": {
      "text/plain": [
       "array([[ 0,  0,  0,  0,  0,  0],\n",
       "       [ 2,  0, -1,  0,  2,  0],\n",
       "       [-1, -2,  0,  0,  0,  0],\n",
       "       [ 0,  0,  0, -2,  0, -2],\n",
       "       [ 0,  2,  0,  0,  0,  0],\n",
       "       [ 0,  0,  0,  0,  0,  2]])"
      ]
     },
     "metadata": {},
     "output_type": "display_data"
    },
    {
     "name": "stdout",
     "output_type": "stream",
     "text": [
      "___________________\n",
      "Turn  70 Player  -1\n"
     ]
    },
    {
     "data": {
      "text/plain": [
       "array([[ 0,  0, -1,  0,  0,  0],\n",
       "       [ 2,  0,  0,  0,  2,  0],\n",
       "       [-1, -2,  2,  0,  0,  0],\n",
       "       [ 0,  0,  0,  0,  0, -2],\n",
       "       [ 0,  2,  0,  0, -2,  0],\n",
       "       [ 0,  0,  0,  0,  0,  2]])"
      ]
     },
     "metadata": {},
     "output_type": "display_data"
    },
    {
     "name": "stdout",
     "output_type": "stream",
     "text": [
      "___________________\n",
      "Turn  71 Player  1\n"
     ]
    },
    {
     "data": {
      "text/plain": [
       "array([[ 0,  0, -1,  0,  0,  0],\n",
       "       [ 2,  0,  0,  0,  2,  0],\n",
       "       [-1, -2,  2,  0,  0,  0],\n",
       "       [ 0,  0,  0, -1,  0, -2],\n",
       "       [ 0,  2,  0,  0, -2,  0],\n",
       "       [ 0,  0,  0,  0,  0,  2]])"
      ]
     },
     "metadata": {},
     "output_type": "display_data"
    },
    {
     "name": "stdout",
     "output_type": "stream",
     "text": [
      "___________________\n",
      "Turn  72 Player  -1\n"
     ]
    },
    {
     "data": {
      "text/plain": [
       "array([[ 0,  0, -1,  0,  0,  0],\n",
       "       [ 2, -2,  0,  2,  2,  0],\n",
       "       [ 0,  0,  0,  0,  0,  0],\n",
       "       [ 0,  2,  0, -1,  0, -2],\n",
       "       [ 0,  0,  0,  0, -2,  0],\n",
       "       [ 0,  2,  0,  0,  0,  2]])"
      ]
     },
     "metadata": {},
     "output_type": "display_data"
    },
    {
     "name": "stdout",
     "output_type": "stream",
     "text": [
      "___________________\n",
      "Turn  73 Player  1\n"
     ]
    },
    {
     "data": {
      "text/plain": [
       "array([[ 0,  0, -1,  0,  0,  0],\n",
       "       [ 2, -2,  0,  2,  2,  0],\n",
       "       [ 0,  0,  0,  0,  0,  0],\n",
       "       [-1,  2,  0, -1,  0, -2],\n",
       "       [ 0,  0,  0,  0, -2,  0],\n",
       "       [ 0,  2,  0,  0,  0,  2]])"
      ]
     },
     "metadata": {},
     "output_type": "display_data"
    },
    {
     "name": "stdout",
     "output_type": "stream",
     "text": [
      "___________________\n",
      "Turn  74 Player  -1\n"
     ]
    },
    {
     "data": {
      "text/plain": [
       "array([[ 0,  0, -1,  0,  0,  0],\n",
       "       [ 2, -2,  0,  2,  2,  0],\n",
       "       [ 0,  0,  0,  0,  0,  0],\n",
       "       [-1,  2,  2,  0, -1, -2],\n",
       "       [ 0,  0,  0,  0, -2,  0],\n",
       "       [ 0,  2,  0,  0,  0,  2]])"
      ]
     },
     "metadata": {},
     "output_type": "display_data"
    },
    {
     "name": "stdout",
     "output_type": "stream",
     "text": [
      "___________________\n",
      "Turn  75 Player  1\n"
     ]
    },
    {
     "data": {
      "text/plain": [
       "array([[-1,  0, -1,  0,  0,  0],\n",
       "       [ 2, -2,  0,  2,  2,  0],\n",
       "       [ 0,  0,  0,  0,  0,  0],\n",
       "       [-1,  2,  2,  0, -1, -2],\n",
       "       [ 0,  0,  0,  0, -2,  0],\n",
       "       [ 0,  2,  0,  0,  0,  2]])"
      ]
     },
     "metadata": {},
     "output_type": "display_data"
    },
    {
     "name": "stdout",
     "output_type": "stream",
     "text": [
      "___________________\n",
      "Game over: Turn  75 Result  -1\n"
     ]
    },
    {
     "data": {
      "text/plain": [
       "array([[-1,  0, -1,  0,  0,  0],\n",
       "       [ 2, -2,  0,  2,  2,  0],\n",
       "       [ 0,  0,  0,  0,  0,  0],\n",
       "       [-1,  2,  2,  2, -1, -2],\n",
       "       [ 0,  0,  0,  0, -2,  0],\n",
       "       [ 0,  2,  0,  0,  0,  2]])"
      ]
     },
     "metadata": {},
     "output_type": "display_data"
    },
    {
     "name": "stderr",
     "output_type": "stream",
     "text": [
      "\r",
      "Arena.playGames (2):  80%|██████████████████████████████████████████████████▍            | 4/5 [00:01<00:00,  3.08it/s]"
     ]
    },
    {
     "name": "stdout",
     "output_type": "stream",
     "text": [
      "Turn  1 Player  1\n"
     ]
    },
    {
     "data": {
      "text/plain": [
       "array([[0, 0, 0, 0, 0, 0],\n",
       "       [0, 0, 0, 0, 0, 0],\n",
       "       [0, 0, 0, 0, 0, 0],\n",
       "       [0, 0, 0, 0, 0, 0],\n",
       "       [0, 0, 0, 0, 0, 0],\n",
       "       [0, 0, 0, 0, 0, 0]])"
      ]
     },
     "metadata": {},
     "output_type": "display_data"
    },
    {
     "name": "stdout",
     "output_type": "stream",
     "text": [
      "___________________\n",
      "Turn  2 Player  -1\n"
     ]
    },
    {
     "data": {
      "text/plain": [
       "array([[0, 0, 0, 0, 0, 0],\n",
       "       [0, 0, 0, 0, 0, 0],\n",
       "       [0, 0, 0, 1, 0, 0],\n",
       "       [0, 0, 0, 0, 0, 0],\n",
       "       [0, 0, 0, 0, 0, 0],\n",
       "       [0, 0, 0, 0, 0, 0]])"
      ]
     },
     "metadata": {},
     "output_type": "display_data"
    },
    {
     "name": "stdout",
     "output_type": "stream",
     "text": [
      "___________________\n",
      "Turn  3 Player  1\n"
     ]
    },
    {
     "data": {
      "text/plain": [
       "array([[ 0,  0,  0,  0, -1,  0],\n",
       "       [ 0,  0,  0,  0,  0,  0],\n",
       "       [ 0,  0,  0,  1,  0,  0],\n",
       "       [ 0,  0,  0,  0,  0,  0],\n",
       "       [ 0,  0,  0,  0,  0,  0],\n",
       "       [ 0,  0,  0,  0,  0,  0]])"
      ]
     },
     "metadata": {},
     "output_type": "display_data"
    },
    {
     "name": "stdout",
     "output_type": "stream",
     "text": [
      "___________________\n",
      "Turn  4 Player  -1\n"
     ]
    },
    {
     "data": {
      "text/plain": [
       "array([[ 0,  0,  0,  0, -1,  0],\n",
       "       [ 0,  0,  0,  0,  1,  0],\n",
       "       [ 0,  0,  0,  0,  0,  0],\n",
       "       [ 0,  0,  1,  0,  0,  0],\n",
       "       [ 0,  0,  0,  0,  0,  0],\n",
       "       [ 0,  0,  0,  0,  0,  0]])"
      ]
     },
     "metadata": {},
     "output_type": "display_data"
    },
    {
     "name": "stdout",
     "output_type": "stream",
     "text": [
      "___________________\n",
      "Turn  5 Player  1\n"
     ]
    },
    {
     "data": {
      "text/plain": [
       "array([[ 0,  0,  0,  0, -1,  0],\n",
       "       [ 0,  0,  0,  0,  1,  0],\n",
       "       [-1,  0,  0,  0,  0,  0],\n",
       "       [ 0,  0,  1,  0,  0,  0],\n",
       "       [ 0,  0,  0,  0,  0,  0],\n",
       "       [ 0,  0,  0,  0,  0,  0]])"
      ]
     },
     "metadata": {},
     "output_type": "display_data"
    },
    {
     "name": "stdout",
     "output_type": "stream",
     "text": [
      "___________________\n",
      "Turn  6 Player  -1\n"
     ]
    },
    {
     "data": {
      "text/plain": [
       "array([[ 0,  0,  0,  0, -1,  0],\n",
       "       [ 0,  0,  0,  0,  1,  0],\n",
       "       [-1,  0,  0,  0,  0,  0],\n",
       "       [ 0,  0,  1,  0,  0,  0],\n",
       "       [ 0,  0,  0,  0,  1,  0],\n",
       "       [ 0,  0,  0,  0,  0,  0]])"
      ]
     },
     "metadata": {},
     "output_type": "display_data"
    },
    {
     "name": "stdout",
     "output_type": "stream",
     "text": [
      "___________________\n",
      "Turn  7 Player  1\n"
     ]
    },
    {
     "data": {
      "text/plain": [
       "array([[ 0,  0,  0,  0, -1,  0],\n",
       "       [ 0, -1,  0,  0,  1,  0],\n",
       "       [ 0,  0,  0,  0,  0,  0],\n",
       "       [ 0,  0,  1,  0,  0,  0],\n",
       "       [ 0,  0,  0,  0,  1,  0],\n",
       "       [ 0,  0,  0,  0,  0,  0]])"
      ]
     },
     "metadata": {},
     "output_type": "display_data"
    },
    {
     "name": "stdout",
     "output_type": "stream",
     "text": [
      "___________________\n",
      "Turn  8 Player  -1\n"
     ]
    },
    {
     "data": {
      "text/plain": [
       "array([[-1,  0,  0,  0, -1,  0],\n",
       "       [ 0,  0,  0,  0,  1,  0],\n",
       "       [ 0,  0,  1,  0,  0,  0],\n",
       "       [ 0,  0,  0,  0,  0,  0],\n",
       "       [ 0,  0,  1,  0,  1,  0],\n",
       "       [ 0,  0,  0,  0,  0,  0]])"
      ]
     },
     "metadata": {},
     "output_type": "display_data"
    },
    {
     "name": "stdout",
     "output_type": "stream",
     "text": [
      "___________________\n",
      "Turn  9 Player  1\n"
     ]
    },
    {
     "data": {
      "text/plain": [
       "array([[-1,  0,  0,  0, -1,  0],\n",
       "       [ 0,  0,  0,  1,  1,  0],\n",
       "       [ 0,  0,  0,  0,  0,  0],\n",
       "       [ 0, -1,  0,  0,  0,  0],\n",
       "       [ 0,  0,  0,  0,  1,  0],\n",
       "       [ 0,  0,  0,  1,  0,  0]])"
      ]
     },
     "metadata": {},
     "output_type": "display_data"
    },
    {
     "name": "stdout",
     "output_type": "stream",
     "text": [
      "___________________\n",
      "Turn  10 Player  -1\n"
     ]
    },
    {
     "data": {
      "text/plain": [
       "array([[-1,  0,  0,  0, -1,  0],\n",
       "       [ 0,  0,  0,  1,  1,  0],\n",
       "       [ 0,  0,  0,  0,  0,  0],\n",
       "       [-1,  0,  1,  0,  0,  0],\n",
       "       [ 0,  0,  0,  0,  1,  0],\n",
       "       [ 0,  0,  0,  1,  0,  0]])"
      ]
     },
     "metadata": {},
     "output_type": "display_data"
    },
    {
     "name": "stdout",
     "output_type": "stream",
     "text": [
      "___________________\n",
      "Turn  11 Player  1\n"
     ]
    },
    {
     "data": {
      "text/plain": [
       "array([[-1,  0,  0,  0, -1,  0],\n",
       "       [ 0,  0, -1,  1,  1,  0],\n",
       "       [ 0,  0,  0,  0,  0,  0],\n",
       "       [-1,  0,  1,  0,  0,  0],\n",
       "       [ 0,  0,  0,  0,  1,  0],\n",
       "       [ 0,  0,  0,  1,  0,  0]])"
      ]
     },
     "metadata": {},
     "output_type": "display_data"
    },
    {
     "name": "stdout",
     "output_type": "stream",
     "text": [
      "___________________\n",
      "Turn  12 Player  -1\n"
     ]
    },
    {
     "data": {
      "text/plain": [
       "array([[ 0,  0,  0,  0, -1,  0],\n",
       "       [ 1,  0, -1,  1,  1,  0],\n",
       "       [ 0,  0,  0,  0,  0,  0],\n",
       "       [-1,  0,  1,  0,  0,  0],\n",
       "       [ 0,  0,  0,  0,  1,  0],\n",
       "       [ 0,  0,  0,  1,  0,  0]])"
      ]
     },
     "metadata": {},
     "output_type": "display_data"
    },
    {
     "name": "stdout",
     "output_type": "stream",
     "text": [
      "___________________\n",
      "Turn  13 Player  1\n"
     ]
    },
    {
     "data": {
      "text/plain": [
       "array([[ 0,  0, -1,  0, -1,  0],\n",
       "       [ 1,  0,  0,  1,  1,  0],\n",
       "       [ 0,  0, -1,  0,  0,  0],\n",
       "       [-1,  0,  0,  0,  0,  0],\n",
       "       [ 0,  0,  1,  0,  1,  0],\n",
       "       [ 0,  0,  0,  1,  0,  0]])"
      ]
     },
     "metadata": {},
     "output_type": "display_data"
    },
    {
     "name": "stdout",
     "output_type": "stream",
     "text": [
      "___________________\n",
      "Turn  14 Player  -1\n"
     ]
    },
    {
     "data": {
      "text/plain": [
       "array([[ 0,  0, -1,  0, -1,  0],\n",
       "       [ 1, -1,  0,  1,  1,  0],\n",
       "       [ 0,  0,  0,  0,  0,  0],\n",
       "       [-1,  0,  0,  1,  0,  0],\n",
       "       [ 0,  0,  0,  0,  0,  0],\n",
       "       [ 0,  1,  0,  1,  0,  1]])"
      ]
     },
     "metadata": {},
     "output_type": "display_data"
    },
    {
     "name": "stdout",
     "output_type": "stream",
     "text": [
      "___________________\n",
      "Turn  15 Player  1\n"
     ]
    },
    {
     "data": {
      "text/plain": [
       "array([[ 0,  0, -1,  0, -1,  0],\n",
       "       [ 1, -1,  0,  1,  1,  0],\n",
       "       [ 0,  0,  0,  0,  0,  0],\n",
       "       [ 0,  0,  0,  1,  0,  0],\n",
       "       [ 0, -1,  0,  0,  0,  0],\n",
       "       [ 0,  0,  0,  1,  0,  1]])"
      ]
     },
     "metadata": {},
     "output_type": "display_data"
    },
    {
     "name": "stdout",
     "output_type": "stream",
     "text": [
      "___________________\n",
      "Turn  16 Player  -1\n"
     ]
    },
    {
     "data": {
      "text/plain": [
       "array([[ 0, -1, -1,  0, -1,  0],\n",
       "       [ 0,  0,  0,  1,  1,  0],\n",
       "       [ 0,  1,  0,  0,  0,  0],\n",
       "       [ 0,  0,  0,  1,  0,  0],\n",
       "       [ 0, -1,  0,  0,  0,  0],\n",
       "       [ 0,  0,  0,  1,  0,  1]])"
      ]
     },
     "metadata": {},
     "output_type": "display_data"
    },
    {
     "name": "stdout",
     "output_type": "stream",
     "text": [
      "___________________\n",
      "Turn  17 Player  1\n"
     ]
    },
    {
     "data": {
      "text/plain": [
       "array([[ 0, -1, -1,  0, -1,  0],\n",
       "       [ 0,  0,  0,  1,  1,  0],\n",
       "       [ 0,  1,  0,  0,  1,  0],\n",
       "       [ 0,  0,  0,  0,  0,  0],\n",
       "       [-1,  0, -1,  0,  0,  0],\n",
       "       [ 0,  0,  0,  0,  0,  1]])"
      ]
     },
     "metadata": {},
     "output_type": "display_data"
    },
    {
     "name": "stdout",
     "output_type": "stream",
     "text": [
      "___________________\n",
      "Turn  18 Player  -1\n"
     ]
    },
    {
     "data": {
      "text/plain": [
       "array([[ 0, -1, -1,  1, -1,  1],\n",
       "       [ 0,  0,  0,  0,  0,  0],\n",
       "       [ 0,  1,  0,  1,  0,  1],\n",
       "       [ 0,  0,  0,  0,  0,  0],\n",
       "       [-1,  0, -1,  0,  0,  0],\n",
       "       [ 0,  0,  0,  0,  0,  1]])"
      ]
     },
     "metadata": {},
     "output_type": "display_data"
    },
    {
     "name": "stdout",
     "output_type": "stream",
     "text": [
      "___________________\n",
      "Turn  19 Player  1\n"
     ]
    },
    {
     "data": {
      "text/plain": [
       "array([[ 0, -1, -1,  1, -1,  1],\n",
       "       [ 0,  1,  0,  0,  0,  0],\n",
       "       [ 0,  0,  0,  1,  0,  1],\n",
       "       [ 0, -1,  0,  0,  0,  0],\n",
       "       [ 0,  0,  0,  0,  0,  0],\n",
       "       [ 0,  0,  0, -1,  0,  1]])"
      ]
     },
     "metadata": {},
     "output_type": "display_data"
    },
    {
     "name": "stdout",
     "output_type": "stream",
     "text": [
      "___________________\n",
      "Turn  20 Player  -1\n"
     ]
    },
    {
     "data": {
      "text/plain": [
       "array([[ 0, -1, -1,  0, -1,  1],\n",
       "       [ 0,  1,  0,  0,  0,  0],\n",
       "       [ 0,  0,  0,  0,  0,  0],\n",
       "       [-1,  0,  1,  0,  0,  0],\n",
       "       [ 0,  0,  0,  0,  0,  0],\n",
       "       [ 0,  0,  0, -1,  0,  1]])"
      ]
     },
     "metadata": {},
     "output_type": "display_data"
    },
    {
     "name": "stdout",
     "output_type": "stream",
     "text": [
      "___________________\n",
      "Turn  21 Player  1\n"
     ]
    },
    {
     "data": {
      "text/plain": [
       "array([[ 0, -1, -1,  0, -1,  1],\n",
       "       [ 0,  1,  0,  0,  0,  0],\n",
       "       [ 0,  0,  0,  0,  0,  0],\n",
       "       [-1,  0,  1,  0,  0,  0],\n",
       "       [ 0,  0,  0,  0,  0,  0],\n",
       "       [ 0,  0, -1,  0, -1,  0]])"
      ]
     },
     "metadata": {},
     "output_type": "display_data"
    },
    {
     "name": "stdout",
     "output_type": "stream",
     "text": [
      "___________________\n",
      "Turn  22 Player  -1\n"
     ]
    },
    {
     "data": {
      "text/plain": [
       "array([[ 0,  0,  0,  0, -1,  1],\n",
       "       [ 1,  0,  2,  0,  0,  0],\n",
       "       [ 0,  0,  0,  0,  0,  0],\n",
       "       [-1,  0,  1,  0,  0,  0],\n",
       "       [ 0,  0,  0,  0,  0,  0],\n",
       "       [ 0,  0, -1,  0, -1,  0]])"
      ]
     },
     "metadata": {},
     "output_type": "display_data"
    },
    {
     "name": "stdout",
     "output_type": "stream",
     "text": [
      "___________________\n",
      "Turn  23 Player  1\n"
     ]
    },
    {
     "data": {
      "text/plain": [
       "array([[ 0,  0,  0,  0, -1,  1],\n",
       "       [ 1,  0,  2,  0,  0,  0],\n",
       "       [ 0,  0,  0,  0,  0,  0],\n",
       "       [-1,  0,  1,  0,  0, -1],\n",
       "       [ 0,  0,  0,  0,  0,  0],\n",
       "       [ 0,  0, -1,  0, -1,  0]])"
      ]
     },
     "metadata": {},
     "output_type": "display_data"
    },
    {
     "name": "stdout",
     "output_type": "stream",
     "text": [
      "___________________\n",
      "Turn  24 Player  -1\n"
     ]
    },
    {
     "data": {
      "text/plain": [
       "array([[ 0,  0,  0,  2, -1,  1],\n",
       "       [ 0,  0,  0,  0,  0,  0],\n",
       "       [ 0,  2,  0,  0,  0,  0],\n",
       "       [ 0,  0,  0,  0,  0, -1],\n",
       "       [ 0,  0,  0,  1,  0,  0],\n",
       "       [ 0,  0, -1,  0, -1,  0]])"
      ]
     },
     "metadata": {},
     "output_type": "display_data"
    },
    {
     "name": "stdout",
     "output_type": "stream",
     "text": [
      "___________________\n",
      "Turn  25 Player  1\n"
     ]
    },
    {
     "data": {
      "text/plain": [
       "array([[ 0,  0,  0,  2, -1,  1],\n",
       "       [ 0,  0,  0,  0,  0,  0],\n",
       "       [ 0,  2,  0,  0,  0,  0],\n",
       "       [ 0, -1,  0,  0,  0, -1],\n",
       "       [ 0,  0,  0,  1,  0,  0],\n",
       "       [ 0,  0, -1,  0, -1,  0]])"
      ]
     },
     "metadata": {},
     "output_type": "display_data"
    },
    {
     "name": "stdout",
     "output_type": "stream",
     "text": [
      "___________________\n",
      "Turn  26 Player  -1\n"
     ]
    },
    {
     "data": {
      "text/plain": [
       "array([[ 0,  0,  0,  2, -1,  1],\n",
       "       [ 0,  0,  0,  0,  0,  0],\n",
       "       [ 0,  2,  0,  0,  0,  0],\n",
       "       [ 0, -1,  0,  1,  0, -1],\n",
       "       [ 0,  0,  0,  0,  0,  0],\n",
       "       [ 0,  0, -1,  1, -1,  0]])"
      ]
     },
     "metadata": {},
     "output_type": "display_data"
    },
    {
     "name": "stdout",
     "output_type": "stream",
     "text": [
      "___________________\n",
      "Turn  27 Player  1\n"
     ]
    },
    {
     "data": {
      "text/plain": [
       "array([[ 0,  0,  0,  2, -1,  1],\n",
       "       [ 0,  0,  0,  0,  0,  0],\n",
       "       [ 0,  2,  0,  0,  0,  0],\n",
       "       [ 0, -1,  0,  1,  0, -1],\n",
       "       [ 0,  0,  0,  0,  0,  0],\n",
       "       [ 0, -1, -1,  1, -1,  0]])"
      ]
     },
     "metadata": {},
     "output_type": "display_data"
    },
    {
     "name": "stdout",
     "output_type": "stream",
     "text": [
      "___________________\n",
      "Turn  28 Player  -1\n"
     ]
    },
    {
     "data": {
      "text/plain": [
       "array([[ 0,  0,  0,  2, -1,  1],\n",
       "       [ 0,  0,  0,  0,  0,  0],\n",
       "       [ 1,  2,  0,  0,  0,  0],\n",
       "       [ 0,  0,  0,  1,  0, -1],\n",
       "       [ 0,  0, -1,  0,  0,  0],\n",
       "       [ 0, -1, -1,  1, -1,  0]])"
      ]
     },
     "metadata": {},
     "output_type": "display_data"
    },
    {
     "name": "stdout",
     "output_type": "stream",
     "text": [
      "___________________\n",
      "Turn  29 Player  1\n"
     ]
    },
    {
     "data": {
      "text/plain": [
       "array([[ 0,  0,  0,  2,  0,  0],\n",
       "       [ 0,  0,  0,  0,  0, -1],\n",
       "       [ 1,  2,  0,  0,  0,  0],\n",
       "       [ 0,  0,  0,  1,  0, -1],\n",
       "       [ 0,  0, -1,  0,  0,  0],\n",
       "       [ 0, -1, -1,  1, -1,  0]])"
      ]
     },
     "metadata": {},
     "output_type": "display_data"
    },
    {
     "name": "stdout",
     "output_type": "stream",
     "text": [
      "___________________\n",
      "Turn  30 Player  -1\n"
     ]
    },
    {
     "data": {
      "text/plain": [
       "array([[ 0,  0,  0,  2,  0,  0],\n",
       "       [ 0,  0,  0,  0,  0, -1],\n",
       "       [ 0,  2,  0,  0,  0,  0],\n",
       "       [ 0,  1,  0,  1,  0, -1],\n",
       "       [ 0,  0, -1,  0,  0,  0],\n",
       "       [ 0, -1, -1,  1, -1,  0]])"
      ]
     },
     "metadata": {},
     "output_type": "display_data"
    },
    {
     "name": "stdout",
     "output_type": "stream",
     "text": [
      "___________________\n",
      "Turn  31 Player  1\n"
     ]
    },
    {
     "data": {
      "text/plain": [
       "array([[ 0,  0,  0,  2,  0,  0],\n",
       "       [ 0,  0,  0,  0,  0, -1],\n",
       "       [-1,  2,  0,  0,  0,  0],\n",
       "       [ 0,  1,  0,  1,  0, -1],\n",
       "       [ 0,  0, -1,  0,  0,  0],\n",
       "       [ 0, -1, -1,  1, -1,  0]])"
      ]
     },
     "metadata": {},
     "output_type": "display_data"
    },
    {
     "name": "stdout",
     "output_type": "stream",
     "text": [
      "___________________\n",
      "Turn  32 Player  -1\n"
     ]
    },
    {
     "data": {
      "text/plain": [
       "array([[ 0,  0,  0,  2,  0,  0],\n",
       "       [ 0,  0,  0,  0,  0, -1],\n",
       "       [-1,  2,  1,  0,  0,  0],\n",
       "       [ 0,  1,  0,  0,  0,  0],\n",
       "       [ 0,  0, -1,  0,  2,  0],\n",
       "       [ 0, -1, -1,  0,  0,  0]])"
      ]
     },
     "metadata": {},
     "output_type": "display_data"
    },
    {
     "name": "stdout",
     "output_type": "stream",
     "text": [
      "___________________\n",
      "Turn  33 Player  1\n"
     ]
    },
    {
     "data": {
      "text/plain": [
       "array([[ 0,  0,  0,  2,  0,  0],\n",
       "       [ 0,  0,  0,  0,  0, -1],\n",
       "       [-1,  2,  1,  0,  0,  0],\n",
       "       [ 0,  1,  0,  0,  0,  0],\n",
       "       [ 0,  0, -1,  0,  2,  0],\n",
       "       [ 0, -1, -1,  0,  0, -1]])"
      ]
     },
     "metadata": {},
     "output_type": "display_data"
    },
    {
     "name": "stdout",
     "output_type": "stream",
     "text": [
      "___________________\n",
      "Turn  34 Player  -1\n"
     ]
    },
    {
     "data": {
      "text/plain": [
       "array([[ 0,  0,  0,  2,  0,  0],\n",
       "       [ 0,  0,  0,  0,  0, -1],\n",
       "       [-1,  2,  1,  0,  0,  0],\n",
       "       [ 0,  1,  0,  0,  0,  0],\n",
       "       [ 0,  0, -1,  0,  2,  0],\n",
       "       [ 0, -1, -1,  1,  0, -1]])"
      ]
     },
     "metadata": {},
     "output_type": "display_data"
    },
    {
     "name": "stdout",
     "output_type": "stream",
     "text": [
      "___________________\n",
      "Turn  35 Player  1\n"
     ]
    },
    {
     "data": {
      "text/plain": [
       "array([[-1,  0,  0,  2,  0,  0],\n",
       "       [ 0,  0,  0,  0,  0, -1],\n",
       "       [-1,  2,  1,  0,  0,  0],\n",
       "       [ 0,  1,  0,  0,  0,  0],\n",
       "       [ 0,  0, -1,  0,  2,  0],\n",
       "       [ 0, -1, -1,  1,  0, -1]])"
      ]
     },
     "metadata": {},
     "output_type": "display_data"
    },
    {
     "name": "stdout",
     "output_type": "stream",
     "text": [
      "___________________\n",
      "Turn  36 Player  -1\n"
     ]
    },
    {
     "data": {
      "text/plain": [
       "array([[-1,  0,  0,  2,  0,  0],\n",
       "       [ 0,  0,  0,  0,  0,  0],\n",
       "       [-1,  2,  1,  0,  1,  0],\n",
       "       [ 0,  1,  0,  0,  0,  0],\n",
       "       [ 0,  0, -1,  0,  2,  0],\n",
       "       [ 0, -1, -1,  1,  0, -1]])"
      ]
     },
     "metadata": {},
     "output_type": "display_data"
    },
    {
     "name": "stdout",
     "output_type": "stream",
     "text": [
      "___________________\n",
      "Turn  37 Player  1\n"
     ]
    },
    {
     "data": {
      "text/plain": [
       "array([[ 0,  0,  0,  2,  0,  0],\n",
       "       [-1,  0,  0,  0,  0,  0],\n",
       "       [ 0,  2,  1,  0,  1,  0],\n",
       "       [-1,  1,  0,  0,  0,  0],\n",
       "       [ 0,  0, -1,  0,  2,  0],\n",
       "       [ 0, -1, -1,  1,  0, -1]])"
      ]
     },
     "metadata": {},
     "output_type": "display_data"
    },
    {
     "name": "stdout",
     "output_type": "stream",
     "text": [
      "___________________\n",
      "Turn  38 Player  -1\n"
     ]
    },
    {
     "data": {
      "text/plain": [
       "array([[ 0,  0,  0,  2,  0,  0],\n",
       "       [-1,  0,  0,  0,  0,  0],\n",
       "       [ 0,  0,  0,  0,  0,  1],\n",
       "       [-1,  1,  0,  0,  0,  0],\n",
       "       [ 0,  0, -1,  0,  2,  0],\n",
       "       [ 0, -1, -1,  1,  0, -1]])"
      ]
     },
     "metadata": {},
     "output_type": "display_data"
    },
    {
     "name": "stdout",
     "output_type": "stream",
     "text": [
      "___________________\n",
      "Turn  39 Player  1\n"
     ]
    },
    {
     "data": {
      "text/plain": [
       "array([[ 0,  0,  0,  2,  0,  0],\n",
       "       [-1,  0,  0,  0,  0,  0],\n",
       "       [ 0,  0,  0,  0,  0,  0],\n",
       "       [-1,  1,  0,  0, -1,  0],\n",
       "       [ 0,  0, -1,  0,  2,  0],\n",
       "       [ 0, -1, -1,  1,  0, -1]])"
      ]
     },
     "metadata": {},
     "output_type": "display_data"
    },
    {
     "name": "stdout",
     "output_type": "stream",
     "text": [
      "___________________\n",
      "Turn  40 Player  -1\n"
     ]
    },
    {
     "data": {
      "text/plain": [
       "array([[-1,  0,  0,  2,  0,  0],\n",
       "       [ 0,  0,  0,  0,  0,  0],\n",
       "       [ 2,  0,  0,  0,  0,  0],\n",
       "       [ 0,  1,  0,  0, -1,  0],\n",
       "       [-1,  0, -1,  0,  2,  0],\n",
       "       [ 0, -1, -1,  1,  0, -1]])"
      ]
     },
     "metadata": {},
     "output_type": "display_data"
    },
    {
     "name": "stdout",
     "output_type": "stream",
     "text": [
      "___________________\n",
      "Turn  41 Player  1\n"
     ]
    },
    {
     "data": {
      "text/plain": [
       "array([[-1,  0,  0,  2,  0,  0],\n",
       "       [ 0,  0,  0,  0,  0, -1],\n",
       "       [ 2,  0,  0,  0,  0,  0],\n",
       "       [ 0,  1,  0,  0, -1,  0],\n",
       "       [-1,  0, -1,  0,  2,  0],\n",
       "       [ 0, -1, -1,  1,  0, -1]])"
      ]
     },
     "metadata": {},
     "output_type": "display_data"
    },
    {
     "name": "stdout",
     "output_type": "stream",
     "text": [
      "___________________\n",
      "Turn  42 Player  -1\n"
     ]
    },
    {
     "data": {
      "text/plain": [
       "array([[-1,  0,  0,  2,  0,  0],\n",
       "       [ 0,  0,  0,  0,  0, -1],\n",
       "       [ 2,  0,  0,  0,  0,  0],\n",
       "       [ 0,  1,  0,  1,  0, -1],\n",
       "       [-1,  0, -1,  0,  2,  0],\n",
       "       [ 0, -1, -1,  1,  0, -1]])"
      ]
     },
     "metadata": {},
     "output_type": "display_data"
    },
    {
     "name": "stdout",
     "output_type": "stream",
     "text": [
      "___________________\n",
      "Turn  43 Player  1\n"
     ]
    },
    {
     "data": {
      "text/plain": [
       "array([[-1,  0,  0,  2,  0,  0],\n",
       "       [ 0,  0,  0,  0,  0, -1],\n",
       "       [ 2,  0,  0,  0,  0,  0],\n",
       "       [ 0,  1,  0,  1,  0,  0],\n",
       "       [-1,  0, -1,  0,  2,  0],\n",
       "       [ 0, -1, -1,  1,  0, -1]])"
      ]
     },
     "metadata": {},
     "output_type": "display_data"
    },
    {
     "name": "stdout",
     "output_type": "stream",
     "text": [
      "___________________\n",
      "Turn  44 Player  -1\n"
     ]
    },
    {
     "data": {
      "text/plain": [
       "array([[ 0,  2,  0,  2,  0,  0],\n",
       "       [ 0,  0,  0,  0,  0, -1],\n",
       "       [ 2,  0,  0,  0,  0,  0],\n",
       "       [ 0,  1,  0,  1,  0,  0],\n",
       "       [-1,  0, -1,  0,  2,  0],\n",
       "       [ 0, -1, -1,  1,  0, -1]])"
      ]
     },
     "metadata": {},
     "output_type": "display_data"
    },
    {
     "name": "stdout",
     "output_type": "stream",
     "text": [
      "___________________\n",
      "Turn  45 Player  1\n"
     ]
    },
    {
     "data": {
      "text/plain": [
       "array([[ 0,  2,  0,  2,  0,  0],\n",
       "       [ 0,  0,  0,  0,  0, -1],\n",
       "       [ 2,  0,  0,  0,  0,  0],\n",
       "       [ 0,  1,  0,  1,  0,  0],\n",
       "       [-1,  0, -1,  0,  2, -1],\n",
       "       [ 0, -1, -1,  1,  0,  0]])"
      ]
     },
     "metadata": {},
     "output_type": "display_data"
    },
    {
     "name": "stdout",
     "output_type": "stream",
     "text": [
      "___________________\n",
      "Turn  46 Player  -1\n"
     ]
    },
    {
     "data": {
      "text/plain": [
       "array([[ 0,  2,  0,  2,  0,  0],\n",
       "       [ 2,  0,  0,  0,  0, -1],\n",
       "       [ 0,  0,  0,  0,  0,  0],\n",
       "       [ 2,  0,  1,  1,  0,  0],\n",
       "       [ 0,  0, -1,  0,  2, -1],\n",
       "       [ 0,  0,  0,  1,  0,  0]])"
      ]
     },
     "metadata": {},
     "output_type": "display_data"
    },
    {
     "name": "stdout",
     "output_type": "stream",
     "text": [
      "___________________\n",
      "Turn  47 Player  1\n"
     ]
    },
    {
     "data": {
      "text/plain": [
       "array([[ 0,  2,  0,  2,  0,  0],\n",
       "       [ 2,  0,  0,  0,  0, -1],\n",
       "       [ 0,  0,  0,  0,  0,  0],\n",
       "       [ 2,  0,  1,  1,  0, -1],\n",
       "       [ 0,  0, -1,  0,  2,  0],\n",
       "       [ 0,  0,  0,  1,  0, -1]])"
      ]
     },
     "metadata": {},
     "output_type": "display_data"
    },
    {
     "name": "stdout",
     "output_type": "stream",
     "text": [
      "___________________\n",
      "Turn  48 Player  -1\n"
     ]
    },
    {
     "data": {
      "text/plain": [
       "array([[ 0,  2,  0,  2,  0,  0],\n",
       "       [ 2,  0,  0,  0,  0, -1],\n",
       "       [ 0,  0,  0,  0,  0,  0],\n",
       "       [ 2,  0,  1,  0,  0, -1],\n",
       "       [ 0,  0, -1,  0,  2,  0],\n",
       "       [ 0,  0,  0,  1,  0, -1]])"
      ]
     },
     "metadata": {},
     "output_type": "display_data"
    },
    {
     "name": "stdout",
     "output_type": "stream",
     "text": [
      "___________________\n",
      "Turn  49 Player  1\n"
     ]
    },
    {
     "data": {
      "text/plain": [
       "array([[ 0,  2,  0,  2,  0,  0],\n",
       "       [ 2,  0,  0,  0,  0, -1],\n",
       "       [ 0,  0,  0,  0,  0,  0],\n",
       "       [ 2,  0,  1,  0,  2, -1],\n",
       "       [ 0,  0, -1,  0,  0,  0],\n",
       "       [ 0,  0,  1,  0, -2,  0]])"
      ]
     },
     "metadata": {},
     "output_type": "display_data"
    },
    {
     "name": "stdout",
     "output_type": "stream",
     "text": [
      "___________________\n",
      "Turn  50 Player  -1\n"
     ]
    },
    {
     "data": {
      "text/plain": [
       "array([[ 0,  2,  0,  2,  0, -1],\n",
       "       [ 2,  0,  0,  0,  0,  0],\n",
       "       [ 0,  0,  0,  0,  0,  2],\n",
       "       [ 2,  0,  1,  0,  0,  0],\n",
       "       [ 0,  0, -1,  2,  0, -1],\n",
       "       [ 0,  0,  1,  0, -2,  0]])"
      ]
     },
     "metadata": {},
     "output_type": "display_data"
    },
    {
     "name": "stdout",
     "output_type": "stream",
     "text": [
      "___________________\n",
      "Turn  51 Player  1\n"
     ]
    },
    {
     "data": {
      "text/plain": [
       "array([[ 0,  2,  0,  2,  0, -1],\n",
       "       [ 2,  0,  0,  0,  0,  0],\n",
       "       [ 0,  0,  0,  0,  0,  2],\n",
       "       [ 2,  0,  1,  0,  0, -1],\n",
       "       [ 0,  0, -1,  2,  0,  0],\n",
       "       [ 0,  0,  1,  0, -2, -1]])"
      ]
     },
     "metadata": {},
     "output_type": "display_data"
    },
    {
     "name": "stdout",
     "output_type": "stream",
     "text": [
      "___________________\n",
      "Turn  52 Player  -1\n"
     ]
    },
    {
     "data": {
      "text/plain": [
       "array([[ 0,  2,  0,  2,  0, -1],\n",
       "       [ 2,  0,  0,  0,  0,  0],\n",
       "       [ 0,  0,  0,  0,  0,  2],\n",
       "       [ 2,  0,  0,  0,  0, -1],\n",
       "       [ 0,  0, -1,  2,  0,  0],\n",
       "       [ 0,  0,  1,  0, -2, -1]])"
      ]
     },
     "metadata": {},
     "output_type": "display_data"
    },
    {
     "name": "stdout",
     "output_type": "stream",
     "text": [
      "___________________\n",
      "Turn  53 Player  1\n"
     ]
    },
    {
     "data": {
      "text/plain": [
       "array([[ 0,  2,  0,  2,  0, -1],\n",
       "       [ 2,  0,  0,  0,  0,  0],\n",
       "       [ 0,  0,  0,  0,  0,  2],\n",
       "       [ 2,  0, -2,  0,  0, -1],\n",
       "       [ 0,  0, -1,  2,  0,  0],\n",
       "       [ 0,  0,  1,  0, -2, -1]])"
      ]
     },
     "metadata": {},
     "output_type": "display_data"
    },
    {
     "name": "stdout",
     "output_type": "stream",
     "text": [
      "___________________\n",
      "Turn  54 Player  -1\n"
     ]
    },
    {
     "data": {
      "text/plain": [
       "array([[ 2,  0,  2,  2,  0, -1],\n",
       "       [ 0,  0,  0,  0,  0,  0],\n",
       "       [ 2,  0,  0,  0,  0,  2],\n",
       "       [ 2,  0, -2,  0,  0, -1],\n",
       "       [ 0,  0, -1,  2,  0,  0],\n",
       "       [ 0,  0,  1,  0, -2, -1]])"
      ]
     },
     "metadata": {},
     "output_type": "display_data"
    },
    {
     "name": "stdout",
     "output_type": "stream",
     "text": [
      "___________________\n",
      "Turn  55 Player  1\n"
     ]
    },
    {
     "data": {
      "text/plain": [
       "array([[ 2,  0,  2,  2,  0, -1],\n",
       "       [ 0,  0,  0,  0,  0,  0],\n",
       "       [ 2,  0,  0,  0,  0,  2],\n",
       "       [ 2,  0, -2,  0,  0, -1],\n",
       "       [-2,  0, -1,  2,  0,  0],\n",
       "       [ 0,  0,  1,  0, -2, -1]])"
      ]
     },
     "metadata": {},
     "output_type": "display_data"
    },
    {
     "name": "stdout",
     "output_type": "stream",
     "text": [
      "___________________\n",
      "Turn  56 Player  -1\n"
     ]
    },
    {
     "data": {
      "text/plain": [
       "array([[ 2,  0,  2,  2,  0, -1],\n",
       "       [ 0,  0,  0,  0,  0,  0],\n",
       "       [ 2,  0,  0,  0,  0,  2],\n",
       "       [ 2,  0, -2,  0,  0, -1],\n",
       "       [-2,  0, -1,  2,  0,  0],\n",
       "       [ 0,  0,  0,  0, -2, -1]])"
      ]
     },
     "metadata": {},
     "output_type": "display_data"
    },
    {
     "name": "stdout",
     "output_type": "stream",
     "text": [
      "___________________\n",
      "Turn  57 Player  1\n"
     ]
    },
    {
     "data": {
      "text/plain": [
       "array([[ 2,  0,  2,  2,  0, -1],\n",
       "       [ 0,  0,  0,  0,  0,  0],\n",
       "       [ 0, -2,  0,  0,  0,  2],\n",
       "       [ 0,  0, -2,  0,  0, -1],\n",
       "       [-2,  0, -1,  2,  0,  0],\n",
       "       [ 0,  0,  0,  0, -2, -1]])"
      ]
     },
     "metadata": {},
     "output_type": "display_data"
    },
    {
     "name": "stdout",
     "output_type": "stream",
     "text": [
      "___________________\n",
      "Turn  58 Player  -1\n"
     ]
    },
    {
     "data": {
      "text/plain": [
       "array([[ 2,  0,  2,  2,  0, -1],\n",
       "       [ 0,  0,  0,  0,  0,  0],\n",
       "       [ 0, -2,  0,  0,  0,  2],\n",
       "       [ 0, -2,  0,  2,  0, -1],\n",
       "       [-2,  0,  0,  0,  0,  0],\n",
       "       [ 0, -1,  0,  2, -2, -1]])"
      ]
     },
     "metadata": {},
     "output_type": "display_data"
    },
    {
     "name": "stdout",
     "output_type": "stream",
     "text": [
      "___________________\n",
      "Turn  59 Player  1\n"
     ]
    },
    {
     "data": {
      "text/plain": [
       "array([[ 2,  0,  2,  2,  0,  0],\n",
       "       [ 0,  0,  0,  0,  0,  0],\n",
       "       [ 0, -2,  0,  0,  0,  2],\n",
       "       [ 0, -2,  0,  2,  0, -1],\n",
       "       [-2,  0,  0,  0,  0,  0],\n",
       "       [ 0, -1,  0,  2, -2, -1]])"
      ]
     },
     "metadata": {},
     "output_type": "display_data"
    },
    {
     "name": "stdout",
     "output_type": "stream",
     "text": [
      "___________________\n",
      "Turn  60 Player  -1\n"
     ]
    },
    {
     "data": {
      "text/plain": [
       "array([[ 2,  0,  2,  2,  0,  2],\n",
       "       [ 0,  0,  0,  0,  0,  0],\n",
       "       [ 0, -2,  0,  0,  0,  2],\n",
       "       [ 0, -2,  0,  2,  0, -1],\n",
       "       [-2,  0,  0,  0,  0,  0],\n",
       "       [ 0, -1,  0,  2, -2, -1]])"
      ]
     },
     "metadata": {},
     "output_type": "display_data"
    },
    {
     "name": "stdout",
     "output_type": "stream",
     "text": [
      "___________________\n",
      "Turn  61 Player  1\n"
     ]
    },
    {
     "data": {
      "text/plain": [
       "array([[ 2,  0,  2,  2,  0,  2],\n",
       "       [ 0,  0,  0,  0,  0,  0],\n",
       "       [ 0, -2,  0,  0,  0,  2],\n",
       "       [ 0, -2,  0,  2,  0, -1],\n",
       "       [-2,  0,  0,  0,  0,  0],\n",
       "       [-1,  0, -2,  2, -2, -1]])"
      ]
     },
     "metadata": {},
     "output_type": "display_data"
    },
    {
     "name": "stdout",
     "output_type": "stream",
     "text": [
      "___________________\n",
      "Turn  62 Player  -1\n"
     ]
    },
    {
     "data": {
      "text/plain": [
       "array([[ 2,  0,  2,  2,  0,  0],\n",
       "       [ 0,  0,  0,  0,  0,  2],\n",
       "       [ 0, -2,  0,  0,  0,  2],\n",
       "       [ 0, -2,  0,  2,  0, -1],\n",
       "       [-2,  0,  0,  0,  0,  0],\n",
       "       [-1,  0, -2,  2, -2, -1]])"
      ]
     },
     "metadata": {},
     "output_type": "display_data"
    },
    {
     "name": "stdout",
     "output_type": "stream",
     "text": [
      "___________________\n",
      "Turn  63 Player  1\n"
     ]
    },
    {
     "data": {
      "text/plain": [
       "array([[ 2,  0,  2,  2,  0,  0],\n",
       "       [ 0,  0,  0,  0,  0,  2],\n",
       "       [ 0, -2,  0,  0,  0,  2],\n",
       "       [ 0, -2,  0,  2,  0, -1],\n",
       "       [-2,  0,  0,  0,  0,  0],\n",
       "       [-1,  0, -2,  2, -2,  0]])"
      ]
     },
     "metadata": {},
     "output_type": "display_data"
    },
    {
     "name": "stdout",
     "output_type": "stream",
     "text": [
      "___________________\n",
      "Turn  64 Player  -1\n"
     ]
    },
    {
     "data": {
      "text/plain": [
       "array([[ 2,  0,  2,  2,  0,  0],\n",
       "       [ 0,  0,  0,  0,  0,  2],\n",
       "       [ 0, -2,  0,  2,  0,  2],\n",
       "       [ 0, -2,  0,  0,  0, -1],\n",
       "       [-2,  0,  0,  2,  0,  0],\n",
       "       [-1,  0,  0,  0,  0,  0]])"
      ]
     },
     "metadata": {},
     "output_type": "display_data"
    },
    {
     "name": "stdout",
     "output_type": "stream",
     "text": [
      "___________________\n",
      "Turn  65 Player  1\n"
     ]
    },
    {
     "data": {
      "text/plain": [
       "array([[ 2,  0,  2,  2,  0,  0],\n",
       "       [ 0,  0, -2,  0,  0,  2],\n",
       "       [ 0,  0,  0,  2,  0,  2],\n",
       "       [ 0,  0, -2,  0,  0, -1],\n",
       "       [ 0,  0,  0,  2,  0,  0],\n",
       "       [ 0,  0,  0,  0,  0,  0]])"
      ]
     },
     "metadata": {},
     "output_type": "display_data"
    },
    {
     "name": "stdout",
     "output_type": "stream",
     "text": [
      "___________________\n",
      "Turn  66 Player  -1\n"
     ]
    },
    {
     "data": {
      "text/plain": [
       "array([[ 0,  0,  2,  2,  0,  0],\n",
       "       [ 2,  0, -2,  0,  0,  2],\n",
       "       [ 0,  0,  0,  2,  0,  2],\n",
       "       [ 0,  0, -2,  0,  0, -1],\n",
       "       [ 0,  0,  0,  2,  0,  0],\n",
       "       [ 0,  0,  0,  0,  0,  0]])"
      ]
     },
     "metadata": {},
     "output_type": "display_data"
    },
    {
     "name": "stdout",
     "output_type": "stream",
     "text": [
      "___________________\n",
      "Turn  67 Player  1\n"
     ]
    },
    {
     "data": {
      "text/plain": [
       "array([[ 0,  0,  2,  2,  0,  0],\n",
       "       [ 2,  0, -2,  2,  0,  2],\n",
       "       [ 0,  0,  0,  0,  0,  2],\n",
       "       [ 0, -2,  0, -2,  0, -1],\n",
       "       [ 0,  0,  0,  0,  0,  0],\n",
       "       [ 0,  0,  0,  2,  0,  0]])"
      ]
     },
     "metadata": {},
     "output_type": "display_data"
    },
    {
     "name": "stdout",
     "output_type": "stream",
     "text": [
      "___________________\n",
      "Turn  68 Player  -1\n"
     ]
    },
    {
     "data": {
      "text/plain": [
       "array([[ 0,  0,  2,  0,  0,  0],\n",
       "       [ 2,  0, -2,  2,  2,  0],\n",
       "       [ 0,  0,  0,  0,  0,  0],\n",
       "       [ 0, -2,  0, -2,  0, -1],\n",
       "       [ 0,  0,  0,  0,  0,  0],\n",
       "       [ 0,  0,  0,  2,  0,  0]])"
      ]
     },
     "metadata": {},
     "output_type": "display_data"
    },
    {
     "name": "stdout",
     "output_type": "stream",
     "text": [
      "___________________\n",
      "Turn  69 Player  1\n"
     ]
    },
    {
     "data": {
      "text/plain": [
       "array([[ 0, -2,  2,  2,  0,  2],\n",
       "       [ 2,  0,  0,  0,  0,  0],\n",
       "       [ 0,  0,  0, -2,  0,  0],\n",
       "       [ 0, -2,  0,  0,  0, -1],\n",
       "       [ 0,  0,  0, -2,  0,  0],\n",
       "       [ 0,  0,  0,  2,  0,  0]])"
      ]
     },
     "metadata": {},
     "output_type": "display_data"
    },
    {
     "name": "stdout",
     "output_type": "stream",
     "text": [
      "___________________\n",
      "Turn  70 Player  -1\n"
     ]
    },
    {
     "data": {
      "text/plain": [
       "array([[ 0, -2,  2,  2,  0,  2],\n",
       "       [ 2,  0,  0, -2,  0,  0],\n",
       "       [ 0,  0,  0,  0,  0,  0],\n",
       "       [ 0, -2,  0,  2,  0, -1],\n",
       "       [ 0,  0,  0, -2,  0,  0],\n",
       "       [ 0,  0,  0,  2,  0,  0]])"
      ]
     },
     "metadata": {},
     "output_type": "display_data"
    },
    {
     "name": "stdout",
     "output_type": "stream",
     "text": [
      "___________________\n",
      "Turn  71 Player  1\n"
     ]
    },
    {
     "data": {
      "text/plain": [
       "array([[ 0,  0,  0,  0,  0,  2],\n",
       "       [ 2,  0, -2,  0, -2,  0],\n",
       "       [ 0,  0,  0,  0,  0,  0],\n",
       "       [ 0, -2,  0,  2,  0, -1],\n",
       "       [ 0,  0,  0, -2,  0,  0],\n",
       "       [ 0,  0,  0,  2,  0,  0]])"
      ]
     },
     "metadata": {},
     "output_type": "display_data"
    },
    {
     "name": "stdout",
     "output_type": "stream",
     "text": [
      "___________________\n",
      "Turn  72 Player  -1\n"
     ]
    },
    {
     "data": {
      "text/plain": [
       "array([[ 0,  0, -2,  0,  0,  2],\n",
       "       [ 2,  0,  0,  0, -2,  0],\n",
       "       [ 0,  0,  2,  0,  0,  0],\n",
       "       [ 0,  0,  0,  0,  0, -1],\n",
       "       [-2,  0,  0, -2,  2,  0],\n",
       "       [ 0,  0,  0,  2,  0,  0]])"
      ]
     },
     "metadata": {},
     "output_type": "display_data"
    },
    {
     "name": "stdout",
     "output_type": "stream",
     "text": [
      "___________________\n",
      "Turn  73 Player  1\n"
     ]
    },
    {
     "data": {
      "text/plain": [
       "array([[ 0,  0, -2,  0,  0,  2],\n",
       "       [ 2,  0,  0,  0, -2,  0],\n",
       "       [ 0,  0,  2,  0,  0,  0],\n",
       "       [ 0,  0,  0,  0, -2, -1],\n",
       "       [-2,  0,  0,  0,  2,  0],\n",
       "       [ 0,  0, -2,  0,  2,  0]])"
      ]
     },
     "metadata": {},
     "output_type": "display_data"
    },
    {
     "name": "stdout",
     "output_type": "stream",
     "text": [
      "___________________\n",
      "Turn  74 Player  -1\n"
     ]
    },
    {
     "data": {
      "text/plain": [
       "array([[ 0,  0, -2,  0,  0,  2],\n",
       "       [ 2,  0,  0,  0, -2,  0],\n",
       "       [ 0,  0,  2,  0,  0,  0],\n",
       "       [ 0,  0,  0,  2, -2, -1],\n",
       "       [-2,  0,  0,  0,  0,  0],\n",
       "       [ 0,  0, -2,  2,  0,  2]])"
      ]
     },
     "metadata": {},
     "output_type": "display_data"
    },
    {
     "name": "stdout",
     "output_type": "stream",
     "text": [
      "___________________\n",
      "Turn  75 Player  1\n"
     ]
    },
    {
     "data": {
      "text/plain": [
       "array([[ 2,  0, -2,  0,  0,  2],\n",
       "       [ 0,  0,  0,  0, -2,  0],\n",
       "       [-2,  0,  2,  0,  0,  0],\n",
       "       [ 0,  0,  0,  2, -2, -1],\n",
       "       [-2,  0,  0,  0,  0,  0],\n",
       "       [ 0,  0, -2,  2,  0,  2]])"
      ]
     },
     "metadata": {},
     "output_type": "display_data"
    },
    {
     "name": "stdout",
     "output_type": "stream",
     "text": [
      "___________________\n",
      "Turn  76 Player  -1\n"
     ]
    },
    {
     "data": {
      "text/plain": [
       "array([[ 2,  0, -2,  0,  0,  2],\n",
       "       [ 0,  0,  0,  0, -2,  0],\n",
       "       [-2,  0,  2,  0,  0,  0],\n",
       "       [ 0,  0,  0,  2, -2, -1],\n",
       "       [ 0,  2,  0,  0,  0,  0],\n",
       "       [ 0,  0,  0,  2,  0,  2]])"
      ]
     },
     "metadata": {},
     "output_type": "display_data"
    },
    {
     "name": "stdout",
     "output_type": "stream",
     "text": [
      "___________________\n",
      "Turn  77 Player  1\n"
     ]
    },
    {
     "data": {
      "text/plain": [
       "array([[ 2,  0, -2,  0,  0,  2],\n",
       "       [ 0,  0,  0,  0, -2,  0],\n",
       "       [-2,  0,  2,  0,  0,  0],\n",
       "       [ 0,  2,  0,  2, -2, -1],\n",
       "       [ 0,  0,  0,  0,  0,  0],\n",
       "       [ 0, -2,  0,  2,  0,  2]])"
      ]
     },
     "metadata": {},
     "output_type": "display_data"
    },
    {
     "name": "stdout",
     "output_type": "stream",
     "text": [
      "___________________\n",
      "Turn  78 Player  -1\n"
     ]
    },
    {
     "data": {
      "text/plain": [
       "array([[ 2,  0, -2,  0,  0,  2],\n",
       "       [ 0,  0,  0,  0, -2,  0],\n",
       "       [-2,  0,  2,  0,  2,  0],\n",
       "       [ 0,  2,  0,  0, -2, -1],\n",
       "       [ 0,  0,  2,  0,  0,  0],\n",
       "       [ 0,  0,  0,  0,  0,  2]])"
      ]
     },
     "metadata": {},
     "output_type": "display_data"
    },
    {
     "name": "stdout",
     "output_type": "stream",
     "text": [
      "___________________\n",
      "Turn  79 Player  1\n"
     ]
    },
    {
     "data": {
      "text/plain": [
       "array([[ 2,  0,  0,  0,  0,  2],\n",
       "       [ 0,  0,  0, -2,  0, -2],\n",
       "       [-2,  0,  2,  0,  2,  0],\n",
       "       [ 0,  2,  0,  0, -2, -1],\n",
       "       [ 0,  0,  2,  0,  0,  0],\n",
       "       [ 0,  0,  0,  0,  0,  2]])"
      ]
     },
     "metadata": {},
     "output_type": "display_data"
    },
    {
     "name": "stdout",
     "output_type": "stream",
     "text": [
      "___________________\n",
      "Game over: Turn  79 Result  -1\n"
     ]
    },
    {
     "data": {
      "text/plain": [
       "array([[ 2,  0,  0,  0,  0,  2],\n",
       "       [ 0,  0,  0, -2,  0, -2],\n",
       "       [-2,  0,  2,  0,  2,  0],\n",
       "       [ 0,  2,  0,  0, -2, -1],\n",
       "       [ 0,  0,  2,  0,  0,  0],\n",
       "       [ 0,  0,  0,  2,  0,  2]])"
      ]
     },
     "metadata": {},
     "output_type": "display_data"
    },
    {
     "name": "stderr",
     "output_type": "stream",
     "text": [
      "Arena.playGames (2): 100%|███████████████████████████████████████████████████████████████| 5/5 [00:01<00:00,  2.84it/s]"
     ]
    },
    {
     "name": "stdout",
     "output_type": "stream",
     "text": [
      "Player 1's Wins:  3\n",
      "Player 2's Wins:  7\n",
      "Average Number of Turns in a Game:  63.0\n"
     ]
    },
    {
     "name": "stderr",
     "output_type": "stream",
     "text": [
      "\n"
     ]
    }
   ],
   "source": [
    "from Arena import Arena\n",
    "from BoopPlayers import *\n",
    "from BoopGame import BoopGame\n",
    "from BoopLogic import Board\n",
    "\n",
    "g = BoopGame(6)\n",
    "\n",
    "agentRandom = RandomPlayer(g).play\n",
    "agentRandomWithCenterBias = RandomPlayerWithCenterBias(g).play\n",
    "\n",
    "arena = Arena(agentRandom, agentRandomWithCenterBias, g, display=BoopGame.display)\n",
    "\n",
    "numOfGames = 10\n",
    "oneWon, twoWon, iterations = arena.playGames(numOfGames, verbose=True)\n",
    "\n",
    "print(\"Player 1's Wins: \", oneWon)\n",
    "print(\"Player 2's Wins: \", twoWon)\n",
    "print(\"Average Number of Turns in a Game: \", iterations/numOfGames)"
   ]
  },
  {
   "cell_type": "code",
   "execution_count": null,
   "metadata": {},
   "outputs": [],
   "source": []
  }
 ],
 "metadata": {
  "kernelspec": {
   "display_name": "Python 3",
   "language": "python",
   "name": "python3"
  },
  "language_info": {
   "codemirror_mode": {
    "name": "ipython",
    "version": 3
   },
   "file_extension": ".py",
   "mimetype": "text/x-python",
   "name": "python",
   "nbconvert_exporter": "python",
   "pygments_lexer": "ipython3",
   "version": "3.6.5"
  }
 },
 "nbformat": 4,
 "nbformat_minor": 2
}
